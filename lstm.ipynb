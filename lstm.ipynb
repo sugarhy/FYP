{
 "cells": [
  {
   "cell_type": "markdown",
   "id": "7cae43a7",
   "metadata": {},
   "source": [
    "# Import necessary libraries and modules"
   ]
  },
  {
   "cell_type": "code",
   "execution_count": 1,
   "id": "e50d85be",
   "metadata": {},
   "outputs": [
    {
     "name": "stdout",
     "output_type": "stream",
     "text": [
      "Requirement already satisfied: xgboost in /Users/suhyun/opt/anaconda3/lib/python3.9/site-packages (1.7.6)\r\n",
      "Requirement already satisfied: numpy in /Users/suhyun/opt/anaconda3/lib/python3.9/site-packages (from xgboost) (1.20.3)\r\n",
      "Requirement already satisfied: scipy in /Users/suhyun/opt/anaconda3/lib/python3.9/site-packages (from xgboost) (1.7.1)\r\n"
     ]
    }
   ],
   "source": [
    "!pip install xgboost"
   ]
  },
  {
   "cell_type": "code",
   "execution_count": 2,
   "id": "c1505cc3",
   "metadata": {},
   "outputs": [
    {
     "name": "stdout",
     "output_type": "stream",
     "text": [
      "Requirement already satisfied: squarify in /Users/suhyun/opt/anaconda3/lib/python3.9/site-packages (0.4.3)\r\n"
     ]
    }
   ],
   "source": [
    "!pip install squarify"
   ]
  },
  {
   "cell_type": "code",
   "execution_count": 3,
   "id": "eabc3589",
   "metadata": {},
   "outputs": [],
   "source": [
    "#!pip install imbalanced-learn"
   ]
  },
  {
   "cell_type": "code",
   "execution_count": 4,
   "id": "d8b66b4b",
   "metadata": {},
   "outputs": [
    {
     "name": "stdout",
     "output_type": "stream",
     "text": [
      "Found existing installation: imbalanced-learn 0.11.0\n",
      "Uninstalling imbalanced-learn-0.11.0:\n",
      "  Successfully uninstalled imbalanced-learn-0.11.0\n"
     ]
    }
   ],
   "source": [
    "#!pip uninstall imbalanced-learn \n",
    "!python -m pip uninstall -y imbalanced-learn\n"
   ]
  },
  {
   "cell_type": "code",
   "execution_count": 5,
   "id": "167c13d8",
   "metadata": {},
   "outputs": [
    {
     "name": "stdout",
     "output_type": "stream",
     "text": [
      "Collecting scikit-learn==0.24.2\n",
      "  Using cached scikit_learn-0.24.2-cp39-cp39-macosx_10_13_x86_64.whl (7.3 MB)\n",
      "Requirement already satisfied: numpy>=1.13.3 in /Users/suhyun/opt/anaconda3/lib/python3.9/site-packages (from scikit-learn==0.24.2) (1.20.3)\n",
      "Requirement already satisfied: scipy>=0.19.1 in /Users/suhyun/opt/anaconda3/lib/python3.9/site-packages (from scikit-learn==0.24.2) (1.7.1)\n",
      "Requirement already satisfied: joblib>=0.11 in /Users/suhyun/opt/anaconda3/lib/python3.9/site-packages (from scikit-learn==0.24.2) (1.3.2)\n",
      "Requirement already satisfied: threadpoolctl>=2.0.0 in /Users/suhyun/opt/anaconda3/lib/python3.9/site-packages (from scikit-learn==0.24.2) (2.2.0)\n",
      "Installing collected packages: scikit-learn\n",
      "  Attempting uninstall: scikit-learn\n",
      "    Found existing installation: scikit-learn 1.3.0\n",
      "    Uninstalling scikit-learn-1.3.0:\n",
      "      Successfully uninstalled scikit-learn-1.3.0\n",
      "Successfully installed scikit-learn-0.24.2\n"
     ]
    }
   ],
   "source": [
    "!pip install scikit-learn==0.24.2"
   ]
  },
  {
   "cell_type": "code",
   "execution_count": 6,
   "id": "3b8ee243",
   "metadata": {},
   "outputs": [
    {
     "name": "stdout",
     "output_type": "stream",
     "text": [
      "Requirement already satisfied: imblearn in /Users/suhyun/opt/anaconda3/lib/python3.9/site-packages (0.0)\n",
      "Collecting imbalanced-learn\n",
      "  Using cached imbalanced_learn-0.11.0-py3-none-any.whl (235 kB)\n",
      "Collecting scikit-learn>=1.0.2\n",
      "  Using cached scikit_learn-1.3.0-cp39-cp39-macosx_10_9_x86_64.whl (10.2 MB)\n",
      "Requirement already satisfied: scipy>=1.5.0 in /Users/suhyun/opt/anaconda3/lib/python3.9/site-packages (from imbalanced-learn->imblearn) (1.7.1)\n",
      "Requirement already satisfied: numpy>=1.17.3 in /Users/suhyun/opt/anaconda3/lib/python3.9/site-packages (from imbalanced-learn->imblearn) (1.20.3)\n",
      "Requirement already satisfied: threadpoolctl>=2.0.0 in /Users/suhyun/opt/anaconda3/lib/python3.9/site-packages (from imbalanced-learn->imblearn) (2.2.0)\n",
      "Requirement already satisfied: joblib>=1.1.1 in /Users/suhyun/opt/anaconda3/lib/python3.9/site-packages (from imbalanced-learn->imblearn) (1.3.2)\n",
      "Installing collected packages: scikit-learn, imbalanced-learn\n",
      "  Attempting uninstall: scikit-learn\n",
      "    Found existing installation: scikit-learn 0.24.2\n",
      "    Uninstalling scikit-learn-0.24.2:\n",
      "      Successfully uninstalled scikit-learn-0.24.2\n",
      "Successfully installed imbalanced-learn-0.11.0 scikit-learn-1.3.0\n"
     ]
    }
   ],
   "source": [
    "!pip install imblearn"
   ]
  },
  {
   "cell_type": "code",
   "execution_count": 7,
   "id": "ae573fa0",
   "metadata": {},
   "outputs": [
    {
     "name": "stderr",
     "output_type": "stream",
     "text": [
      "/Users/suhyun/opt/anaconda3/lib/python3.9/site-packages/sklearn/experimental/enable_hist_gradient_boosting.py:15: UserWarning: Since version 1.0, it is not needed to import enable_hist_gradient_boosting anymore. HistGradientBoostingClassifier and HistGradientBoostingRegressor are now stable and can be normally imported from sklearn.ensemble.\n",
      "  warnings.warn(\n",
      "2023-08-31 15:54:14.519475: I tensorflow/core/platform/cpu_feature_guard.cc:193] This TensorFlow binary is optimized with oneAPI Deep Neural Network Library (oneDNN) to use the following CPU instructions in performance-critical operations:  AVX2 FMA\n",
      "To enable them in other operations, rebuild TensorFlow with the appropriate compiler flags.\n"
     ]
    }
   ],
   "source": [
    "import pandas as pd\n",
    "import numpy as np\n",
    "import seaborn as sns\n",
    "from PIL import Image\n",
    "#from pywaffle import Waffle\n",
    "#from catboost import CatBoostClassifier\n",
    "from sklearn.tree import DecisionTreeClassifier\n",
    "from sklearn.metrics import classification_report\n",
    "from sklearn.linear_model import LogisticRegression\n",
    "from sklearn.preprocessing import LabelEncoder\n",
    "from sklearn.feature_extraction.text import TfidfVectorizer\n",
    "from wordcloud import WordCloud\n",
    "from tqdm import tqdm\n",
    "from nltk.stem import WordNetLemmatizer\n",
    "    \n",
    "from nltk.corpus import stopwords\n",
    "\n",
    "import re\n",
    "from sklearn.model_selection import train_test_split\n",
    "from sklearn.svm import SVC,LinearSVC\n",
    "from sklearn.ensemble import RandomForestClassifier,GradientBoostingClassifier\n",
    "from xgboost import XGBClassifier\n",
    "import matplotlib.pyplot as plt\n",
    "import seaborn as sns\n",
    "from sklearn.metrics import accuracy_score,roc_auc_score,roc_curve\n",
    "from sklearn.naive_bayes import MultinomialNB\n",
    "\n",
    "from sklearn.experimental import enable_hist_gradient_boosting\n",
    "from sklearn.ensemble import HistGradientBoostingClassifier\n",
    "\n",
    "import plotly.express as px\n",
    "import warnings\n",
    "\n",
    "\n",
    "from sklearn.neighbors import KNeighborsClassifier\n",
    "import imblearn\n",
    "from imblearn.over_sampling import SMOTE\n",
    "\n",
    "from keras.wrappers.scikit_learn import KerasClassifier\n",
    "from keras.models import Sequential\n",
    "from keras.models import load_model\n",
    "from keras.layers import Dense\n",
    "from keras.layers import LSTM\n",
    "from keras.layers import Bidirectional\n",
    "from keras.layers import GRU\n",
    "from keras.layers import SimpleRNN\n",
    "from keras.layers import Embedding\n",
    "from keras.preprocessing import sequence\n",
    "from keras.preprocessing import text\n",
    "from keras.optimizers import Adam\n",
    "# outdated: from keras.preprocessing import sequence \n",
    "from keras.utils.data_utils import pad_sequences\n",
    "from tensorflow.keras.preprocessing.sequence import pad_sequences\n",
    "\n",
    "import squarify\n",
    "from sklearn.metrics import f1_score\n",
    "\n",
    "import nltk\n",
    "from nltk.stem import WordNetLemmatizer"
   ]
  },
  {
   "cell_type": "markdown",
   "id": "d58c25f1",
   "metadata": {},
   "source": [
    "# Assembling the Dataset "
   ]
  },
  {
   "cell_type": "code",
   "execution_count": 8,
   "id": "56daded9",
   "metadata": {},
   "outputs": [
    {
     "data": {
      "text/html": [
       "<div>\n",
       "<style scoped>\n",
       "    .dataframe tbody tr th:only-of-type {\n",
       "        vertical-align: middle;\n",
       "    }\n",
       "\n",
       "    .dataframe tbody tr th {\n",
       "        vertical-align: top;\n",
       "    }\n",
       "\n",
       "    .dataframe thead th {\n",
       "        text-align: right;\n",
       "    }\n",
       "</style>\n",
       "<table border=\"1\" class=\"dataframe\">\n",
       "  <thead>\n",
       "    <tr style=\"text-align: right;\">\n",
       "      <th></th>\n",
       "      <th>type</th>\n",
       "      <th>posts</th>\n",
       "    </tr>\n",
       "  </thead>\n",
       "  <tbody>\n",
       "    <tr>\n",
       "      <th>0</th>\n",
       "      <td>INFJ</td>\n",
       "      <td>'http://www.youtube.com/watch?v=qsXHcwe3krw|||...</td>\n",
       "    </tr>\n",
       "    <tr>\n",
       "      <th>1</th>\n",
       "      <td>ENTP</td>\n",
       "      <td>'I'm finding the lack of me in these posts ver...</td>\n",
       "    </tr>\n",
       "    <tr>\n",
       "      <th>2</th>\n",
       "      <td>INTP</td>\n",
       "      <td>'Good one  _____   https://www.youtube.com/wat...</td>\n",
       "    </tr>\n",
       "    <tr>\n",
       "      <th>3</th>\n",
       "      <td>INTJ</td>\n",
       "      <td>'Dear INTP,   I enjoyed our conversation the o...</td>\n",
       "    </tr>\n",
       "    <tr>\n",
       "      <th>4</th>\n",
       "      <td>ENTJ</td>\n",
       "      <td>'You're fired.|||That's another silly misconce...</td>\n",
       "    </tr>\n",
       "  </tbody>\n",
       "</table>\n",
       "</div>"
      ],
      "text/plain": [
       "   type                                              posts\n",
       "0  INFJ  'http://www.youtube.com/watch?v=qsXHcwe3krw|||...\n",
       "1  ENTP  'I'm finding the lack of me in these posts ver...\n",
       "2  INTP  'Good one  _____   https://www.youtube.com/wat...\n",
       "3  INTJ  'Dear INTP,   I enjoyed our conversation the o...\n",
       "4  ENTJ  'You're fired.|||That's another silly misconce..."
      ]
     },
     "execution_count": 8,
     "metadata": {},
     "output_type": "execute_result"
    }
   ],
   "source": [
    "df = pd.read_csv('mbti_1.csv')\n",
    "#df = pd.read_csv('mbti_1.csv', index_col=False)\n",
    "df.head()"
   ]
  },
  {
   "cell_type": "code",
   "execution_count": 9,
   "id": "7ef99bfd",
   "metadata": {},
   "outputs": [
    {
     "data": {
      "text/plain": [
       "INFP    1832\n",
       "INFJ    1470\n",
       "INTP    1304\n",
       "INTJ    1091\n",
       "ENTP     685\n",
       "ENFP     675\n",
       "ISTP     337\n",
       "ISFP     271\n",
       "ENTJ     231\n",
       "ISTJ     205\n",
       "ENFJ     190\n",
       "ISFJ     166\n",
       "ESTP      89\n",
       "ESFP      48\n",
       "ESFJ      42\n",
       "ESTJ      39\n",
       "Name: type, dtype: int64"
      ]
     },
     "execution_count": 9,
     "metadata": {},
     "output_type": "execute_result"
    }
   ],
   "source": [
    "# count data for each personality type \n",
    "df['type'].value_counts()"
   ]
  },
  {
   "cell_type": "code",
   "execution_count": 10,
   "id": "831bf577",
   "metadata": {},
   "outputs": [],
   "source": [
    "def clean_data(x):\n",
    "    data_length=[]\n",
    "    wnl=WordNetLemmatizer()\n",
    "    cleaned_text=[]\n",
    "    stop_words = set(stopwords.words('english')) # Load stop words\n",
    "    mbti_types = [ \"ISTJ\", \"ESFJ\", \"ISTJ\",\"ISFP\",\n",
    "                  \"ESTJ\", \"ESFP\", \"ENFP\",\"ISTP\",\n",
    "                  \"INFP\", \"ESTP\", \"INTP\", \"ENTP\", \n",
    "                  \"ENFJ\", \"INTJ\", \"ENTJ\", \"INFJ\" ]\n",
    "    mbti_types = [t.lower() for t in mbti_types]\n",
    "    \n",
    "    for sent in df.posts:\n",
    "        \n",
    "        # Case Standardisation\n",
    "        sent=sent.lower()\n",
    "        \n",
    "        # Remove URLs\n",
    "        # source: Gabriel Giraldo-Wingler https://stackoverflow.com/questions/11331982/how-to-remove-any-url-within-a-string-in-python\n",
    "        sent=re.sub('(https?:\\/\\/)(\\s)*(www\\.)?(\\s)*((\\w|\\s)+\\.)*([\\w\\-\\s]+\\/)*([\\w\\-]+)((\\?)?[\\w\\s]*=\\s*[\\w\\%&]*)*',' ',sent)\n",
    "        \n",
    "        # Remove punctuations\n",
    "        sent=re.sub('[^0-9a-z]',' ',sent)\n",
    "        \n",
    "        # Remove stop words\n",
    "        sent = \" \".join([word for word in sent.split() if word not in stop_words]) \n",
    "        \n",
    "        for t in mbti_types:\n",
    "            sent = re.sub(t, '', sent)\n",
    "            \n",
    "        # Lemmatize\n",
    "        sent = wnl.lemmatize(sent) \n",
    "        \n",
    "        data_length.append(len(sent.split())) #Split data, measure length of new filtered data\n",
    "        \n",
    "        cleaned_text.append(sent)\n",
    "        \n",
    "    return cleaned_text,data_length"
   ]
  },
  {
   "cell_type": "code",
   "execution_count": 11,
   "id": "da1ac00f",
   "metadata": {},
   "outputs": [],
   "source": [
    "class Lemmatizer(object):\n",
    "    def __init__(self):\n",
    "        self.lemmatizer = WordNetLemmatizer()\n",
    "\n",
    "    def __call__(self, sentence):\n",
    "        return [self.lemmatizer.lemmatize(word) for word in sentence.split() if len(word)>2]"
   ]
  },
  {
   "cell_type": "code",
   "execution_count": 12,
   "id": "1ae0cdb6",
   "metadata": {},
   "outputs": [
    {
     "data": {
      "text/html": [
       "<div>\n",
       "<style scoped>\n",
       "    .dataframe tbody tr th:only-of-type {\n",
       "        vertical-align: middle;\n",
       "    }\n",
       "\n",
       "    .dataframe tbody tr th {\n",
       "        vertical-align: top;\n",
       "    }\n",
       "\n",
       "    .dataframe thead th {\n",
       "        text-align: right;\n",
       "    }\n",
       "</style>\n",
       "<table border=\"1\" class=\"dataframe\">\n",
       "  <thead>\n",
       "    <tr style=\"text-align: right;\">\n",
       "      <th></th>\n",
       "      <th>type</th>\n",
       "      <th>posts</th>\n",
       "    </tr>\n",
       "  </thead>\n",
       "  <tbody>\n",
       "    <tr>\n",
       "      <th>0</th>\n",
       "      <td>INFJ</td>\n",
       "      <td>jpg   moments sportscenter top ten plays prank...</td>\n",
       "    </tr>\n",
       "    <tr>\n",
       "      <th>1</th>\n",
       "      <td>ENTP</td>\n",
       "      <td>finding lack posts alarming sex boring positio...</td>\n",
       "    </tr>\n",
       "    <tr>\n",
       "      <th>2</th>\n",
       "      <td>INTP</td>\n",
       "      <td>good one course say know blessing curse absolu...</td>\n",
       "    </tr>\n",
       "    <tr>\n",
       "      <th>3</th>\n",
       "      <td>INTJ</td>\n",
       "      <td>dear  enjoyed conversation day esoteric gabbin...</td>\n",
       "    </tr>\n",
       "    <tr>\n",
       "      <th>4</th>\n",
       "      <td>ENTJ</td>\n",
       "      <td>fired another silly misconception approaching ...</td>\n",
       "    </tr>\n",
       "    <tr>\n",
       "      <th>...</th>\n",
       "      <td>...</td>\n",
       "      <td>...</td>\n",
       "    </tr>\n",
       "    <tr>\n",
       "      <th>8670</th>\n",
       "      <td>ISFP</td>\n",
       "      <td>ixfp always think cats fi doms reason especial...</td>\n",
       "    </tr>\n",
       "    <tr>\n",
       "      <th>8671</th>\n",
       "      <td>ENFP</td>\n",
       "      <td>thread already exists someplace else html post...</td>\n",
       "    </tr>\n",
       "    <tr>\n",
       "      <th>8672</th>\n",
       "      <td>INTP</td>\n",
       "      <td>many questions things would take purple pill p...</td>\n",
       "    </tr>\n",
       "    <tr>\n",
       "      <th>8673</th>\n",
       "      <td>INFP</td>\n",
       "      <td>conflicted right comes wanting children honest...</td>\n",
       "    </tr>\n",
       "    <tr>\n",
       "      <th>8674</th>\n",
       "      <td>INFP</td>\n",
       "      <td>long since personalitycafe although seem chang...</td>\n",
       "    </tr>\n",
       "  </tbody>\n",
       "</table>\n",
       "<p>8675 rows × 2 columns</p>\n",
       "</div>"
      ],
      "text/plain": [
       "      type                                              posts\n",
       "0     INFJ  jpg   moments sportscenter top ten plays prank...\n",
       "1     ENTP  finding lack posts alarming sex boring positio...\n",
       "2     INTP  good one course say know blessing curse absolu...\n",
       "3     INTJ  dear  enjoyed conversation day esoteric gabbin...\n",
       "4     ENTJ  fired another silly misconception approaching ...\n",
       "...    ...                                                ...\n",
       "8670  ISFP  ixfp always think cats fi doms reason especial...\n",
       "8671  ENFP  thread already exists someplace else html post...\n",
       "8672  INTP  many questions things would take purple pill p...\n",
       "8673  INFP  conflicted right comes wanting children honest...\n",
       "8674  INFP  long since personalitycafe although seem chang...\n",
       "\n",
       "[8675 rows x 2 columns]"
      ]
     },
     "execution_count": 12,
     "metadata": {},
     "output_type": "execute_result"
    }
   ],
   "source": [
    "df_clean = df\n",
    "df_clean.posts,df_clean_length=clean_data(df)\n",
    "df_clean"
   ]
  },
  {
   "cell_type": "markdown",
   "id": "cb71d0cd",
   "metadata": {},
   "source": [
    "#### After cleaning data"
   ]
  },
  {
   "cell_type": "code",
   "execution_count": 13,
   "id": "6f45d790",
   "metadata": {},
   "outputs": [
    {
     "data": {
      "text/plain": [
       "'jpg   moments sportscenter top ten plays pranks life changing experience life repeat today may perc experience immerse last thing  friend posted facebook committing suicide next day rest peace hello 7 sorry hear distress natural relationship perfection time every moment existence try figure hard times times growth 84389 84390 jpg jpg welcome stuff jpg game set match prozac wellbrutin least thirty minutes moving legs mean moving sitting desk chair weed moderation maybe try edibles healthier alternative basically come three items determined type whichever types want would likely use given types cognitive functions whatnot left things moderation sims indeed video game good one note good one somewhat subjective completely promoting death given sim dear  favorite video games growing current favorite video games cool appears late sad someone everyone wait thought confidence good thing cherish time solitude b c revel within inner world whereas time workin enjoy time worry people always around yo  ladies complimentary personality well hey main social outlet xbox live conversations even verbally fatigue quickly really dig part 1 46 2 50 banned thread requires get high backyard roast eat marshmellows backyard conversing something intellectual followed massages kisses banned many b sentence could think b banned watching movies corner dunces banned health class clearly taught nothing peer pressure banned whole host reasons 1 two baby deer left right munching beetle middle 2 using blood two cavemen diary today latest happenings designated cave diary wall 3 see pokemon world  society everyone becomes optimist 49142 jpg ign com pokemon silver version dd ditto gif jpg artists artists draw idea counts forming something like signature welcome robot ranks person downed self esteem cuz avid signature artist like proud banned taking room bed ya gotta learn share roaches banned much thundering grumbling kind storm yep ahh old high school music heard ages failed public speaking class years ago sort learned could better position big part failure overloading like person mentality confirmed  way gec6m move denver area start new life'"
      ]
     },
     "execution_count": 13,
     "metadata": {},
     "output_type": "execute_result"
    }
   ],
   "source": [
    "df_clean.posts[0]"
   ]
  },
  {
   "cell_type": "markdown",
   "id": "bc7f93be",
   "metadata": {},
   "source": [
    "# Choosing a measure of success\n",
    "\n",
    "### Baseline\n",
    "\n",
    "A baseline model serves as a starting point for comparison in machine learning tasks, representing a simple or default approach to establish a performance benchmark.\n",
    "\n",
    "As there are a total of 16 distinct labels in our dataset, the percentage of accuracy is 1/16 = 0.0625 or 6.25%.\n",
    "We will use this value as our baseline to aim to develop a model that produces an accuracy of greater than 0.0625 in order to achieve statistical power.\n",
    "\n"
   ]
  },
  {
   "cell_type": "markdown",
   "id": "ef90d71b",
   "metadata": {},
   "source": [
    "# Deciding on an evaluation protocol\n",
    "\n",
    "I will be using iterated k-fold cross validation as my evalutaion protocol as the dataset i am using only contains 8675 data and i am focusing on  developing a highly accurate model. \n",
    "\n",
    "\n",
    "<b>Iterated K-Fold Cross-Validation </b> is an extension of k-fold cross-validation. Instead of performing k-fold cross-validation just once, you repeat the process multiple times (iterations).\n",
    "This approach provides a more robust estimate of your model's performance by averaging the results over multiple iterations.\n",
    "It's suitable when you want to reduce the variability in your evaluation due to the randomness introduced by the data splitting.\n",
    "\n",
    "\n",
    "Using iterated k-fold cross-validation sounds like a reasonable choice for your scenario. With a relatively smaller dataset and a focus on developing a highly accurate model, iterated k-fold cross-validation can provide a more robust estimate of your model's performance compared to a single round of k-fold cross-validation or hold-out validation.\n",
    "\n",
    "By repeating the k-fold cross-validation process multiple times, you can reduce the impact of variability introduced by the random splitting of data. This can lead to a more reliable assessment of your model's ability to generalize to new, unseen data. Additionally, since your dataset is not very large, iterated k-fold cross-validation allows you to make the most out of the available data for both training and validation.\n",
    "\n",
    "Overall, given your dataset size and the emphasis on accuracy, iterated k-fold cross-validation is a suitable choice that aligns well with our goals."
   ]
  },
  {
   "cell_type": "markdown",
   "id": "94a96698",
   "metadata": {},
   "source": [
    "### 1. Split data into train and test sets\n",
    "The dataset is divided into training and testing sets in a 80:20 ratio. The training set is used for training the model and the testing set is used as a collection of data points that will help to assess the performance of the model in generalising new, unseen data"
   ]
  },
  {
   "cell_type": "code",
   "execution_count": 14,
   "id": "112940cc",
   "metadata": {},
   "outputs": [],
   "source": [
    "X = df['posts']\n",
    "y = df['type']\n",
    "\n",
    "X_train_base, X_test_base, y_train_base, y_test_base = train_test_split(df_clean['posts'],df_clean['type'], \n",
    "                                         test_size=0.2,\n",
    "                                         random_state=0, \n",
    "                                         stratify= df.type)"
   ]
  },
  {
   "cell_type": "markdown",
   "id": "575afe96",
   "metadata": {},
   "source": [
    "### 2. TF-IDF Vectorization \n",
    "This is needed to convert text data into numerical vectors based on a previously trained vectorization model (such as TF-IDF or CountVectorizer). This transformation allows text data to be used as input for machine learning algorithms that require numerical features."
   ]
  },
  {
   "cell_type": "code",
   "execution_count": 15,
   "id": "446db741",
   "metadata": {},
   "outputs": [
    {
     "name": "stderr",
     "output_type": "stream",
     "text": [
      "/Users/suhyun/opt/anaconda3/lib/python3.9/site-packages/sklearn/feature_extraction/text.py:525: UserWarning: The parameter 'token_pattern' will not be used since 'tokenizer' is not None'\n",
      "  warnings.warn(\n",
      "/Users/suhyun/opt/anaconda3/lib/python3.9/site-packages/sklearn/feature_extraction/text.py:408: UserWarning: Your stop_words may be inconsistent with your preprocessing. Tokenizing the stop words generated tokens ['ha', 'le', 'wa'] not in stop_words.\n",
      "  warnings.warn(\n"
     ]
    }
   ],
   "source": [
    "# calculates the term frequency-inverse document frequency weights for each word in the data \n",
    "\n",
    "#top 5000 most frequent words as features\n",
    "tfidf = TfidfVectorizer(max_features=5000, \n",
    "                        tokenizer = Lemmatizer(), #class \n",
    "                        stop_words='english')\n",
    "\n",
    "tfidf.fit(X_train_base)\n",
    "# fit TfidfVectorizer on X_train to transform into TF-IDF matrix  \n",
    "# contains the TF-IDF transformed training data.\n",
    "X_train_vec= tfidf.fit_transform(X_train_base).toarray() # convert it to dense array using .toarray(). \n",
    "\n",
    "# fit TfidfVectorizer on X_test to transform into TF-IDF matrix\n",
    "X_test_vec= tfidf.transform(X_test_base).toarray()"
   ]
  },
  {
   "cell_type": "code",
   "execution_count": 16,
   "id": "b2d110c9",
   "metadata": {},
   "outputs": [
    {
     "data": {
      "text/plain": [
       "array([[0.        , 0.        , 0.        , ..., 0.        , 0.        ,\n",
       "        0.        ],\n",
       "       [0.        , 0.        , 0.        , ..., 0.        , 0.05816291,\n",
       "        0.        ],\n",
       "       [0.        , 0.        , 0.        , ..., 0.        , 0.        ,\n",
       "        0.        ],\n",
       "       ...,\n",
       "       [0.        , 0.        , 0.        , ..., 0.        , 0.        ,\n",
       "        0.        ],\n",
       "       [0.        , 0.        , 0.        , ..., 0.        , 0.        ,\n",
       "        0.        ],\n",
       "       [0.        , 0.        , 0.        , ..., 0.        , 0.        ,\n",
       "        0.        ]])"
      ]
     },
     "execution_count": 16,
     "metadata": {},
     "output_type": "execute_result"
    }
   ],
   "source": [
    "X_train_vec"
   ]
  },
  {
   "cell_type": "markdown",
   "id": "70619f98",
   "metadata": {},
   "source": [
    "### 3. Label Encoding \n",
    "We need to convert categorical data into numerical labels before they can be fitted into our machine learning models. Each category is assigned a unique integer."
   ]
  },
  {
   "cell_type": "code",
   "execution_count": 17,
   "id": "3ec31a44",
   "metadata": {},
   "outputs": [
    {
     "name": "stdout",
     "output_type": "stream",
     "text": [
      "Classes:\n",
      " ['ENFJ' 'ENFP' 'ENTJ' 'ENTP' 'ESFJ' 'ESFP' 'ESTJ' 'ESTP' 'INFJ' 'INFP'\n",
      " 'INTJ' 'INTP' 'ISFJ' 'ISFP' 'ISTJ' 'ISTP']\n"
     ]
    }
   ],
   "source": [
    "# create an instance of label encoder \n",
    "labelencoder= LabelEncoder()\n",
    "\n",
    "# train encoder based on mbti types\n",
    "y_train_enc=labelencoder.fit_transform(y_train_base)\n",
    "y_test_enc=labelencoder.fit_transform(y_test_base)\n",
    "print(\"Classes:\\n\", labelencoder.classes_)"
   ]
  },
  {
   "cell_type": "code",
   "execution_count": 18,
   "id": "f0562e0c",
   "metadata": {},
   "outputs": [
    {
     "data": {
      "text/plain": [
       "array([15,  8,  9, ...,  1,  9,  8])"
      ]
     },
     "execution_count": 18,
     "metadata": {},
     "output_type": "execute_result"
    }
   ],
   "source": [
    "y_train_enc"
   ]
  },
  {
   "cell_type": "code",
   "execution_count": 19,
   "id": "56467312",
   "metadata": {},
   "outputs": [
    {
     "data": {
      "text/plain": [
       "array([11,  3, 11, ...,  1,  9,  8])"
      ]
     },
     "execution_count": 19,
     "metadata": {},
     "output_type": "execute_result"
    }
   ],
   "source": [
    "y_test_enc"
   ]
  },
  {
   "cell_type": "markdown",
   "id": "f57adada",
   "metadata": {},
   "source": [
    "### 4. Train and Evaluate Baseline performance"
   ]
  },
  {
   "cell_type": "code",
   "execution_count": 20,
   "id": "9bb2711d",
   "metadata": {},
   "outputs": [],
   "source": [
    "from sklearn.metrics import classification_report\n",
    "from scikitplot.metrics import plot_confusion_matrix, plot_roc \n",
    "def train_model(model):\n",
    "    model.fit(X_train_vec, y_train_enc)\n",
    "    y_pred_base = model.predict(X_test_vec)\n",
    "    y_prob_base = model.predict_proba(X_test_vec)\n",
    "    \n",
    "    print(classification_report(y_test_enc, y_pred_base))\n",
    "    \n",
    "    sns.set_context('notebook', font_scale=1.3)\n",
    "    fig, ax=plt.subplots(1,2, figsize=(25,8))\n",
    "    \n",
    "    # plot confusion matrix \n",
    "    ax1= plot_confusion_matrix(y_test_enc, y_pred_base, ax=ax[0], cmap='YlGnBu')\n",
    "    \n",
    "    # plot ROC curve\n",
    "    ax2= plot_roc(y_test_enc, y_prob_base, ax=ax[1], \n",
    "                  plot_macro=False, plot_micro=False, cmap='summer')\n",
    "    \n",
    "    "
   ]
  },
  {
   "cell_type": "code",
   "execution_count": 21,
   "id": "7ba2ce96",
   "metadata": {},
   "outputs": [
    {
     "name": "stderr",
     "output_type": "stream",
     "text": [
      "/Users/suhyun/opt/anaconda3/lib/python3.9/site-packages/sklearn/metrics/_classification.py:1469: UndefinedMetricWarning: Precision and F-score are ill-defined and being set to 0.0 in labels with no predicted samples. Use `zero_division` parameter to control this behavior.\n",
      "  _warn_prf(average, modifier, msg_start, len(result))\n",
      "/Users/suhyun/opt/anaconda3/lib/python3.9/site-packages/sklearn/metrics/_classification.py:1469: UndefinedMetricWarning: Precision and F-score are ill-defined and being set to 0.0 in labels with no predicted samples. Use `zero_division` parameter to control this behavior.\n",
      "  _warn_prf(average, modifier, msg_start, len(result))\n",
      "/Users/suhyun/opt/anaconda3/lib/python3.9/site-packages/sklearn/metrics/_classification.py:1469: UndefinedMetricWarning: Precision and F-score are ill-defined and being set to 0.0 in labels with no predicted samples. Use `zero_division` parameter to control this behavior.\n",
      "  _warn_prf(average, modifier, msg_start, len(result))\n",
      "/Users/suhyun/opt/anaconda3/lib/python3.9/site-packages/scikitplot/metrics.py:156: MatplotlibDeprecationWarning: Starting from Matplotlib 3.6, colorbar() will steal space from the mappable's axes, rather than from the current axes, to place the colorbar.  To silence this warning, explicitly pass the 'ax' argument to colorbar().\n",
      "  plt.colorbar(mappable=image)\n"
     ]
    },
    {
     "name": "stdout",
     "output_type": "stream",
     "text": [
      "              precision    recall  f1-score   support\n",
      "\n",
      "           0       0.00      0.00      0.00        38\n",
      "           1       0.00      0.00      0.00       135\n",
      "           2       0.00      0.00      0.00        46\n",
      "           3       0.17      0.01      0.01       137\n",
      "           4       0.00      0.00      0.00         9\n",
      "           5       0.00      0.00      0.00        10\n",
      "           6       0.00      0.00      0.00         8\n",
      "           7       0.00      0.00      0.00        18\n",
      "           8       0.30      0.28      0.29       294\n",
      "           9       0.28      0.87      0.42       366\n",
      "          10       0.46      0.10      0.16       218\n",
      "          11       0.41      0.42      0.41       261\n",
      "          12       0.00      0.00      0.00        33\n",
      "          13       0.00      0.00      0.00        54\n",
      "          14       0.00      0.00      0.00        41\n",
      "          15       0.00      0.00      0.00        67\n",
      "\n",
      "    accuracy                           0.31      1735\n",
      "   macro avg       0.10      0.10      0.08      1735\n",
      "weighted avg       0.24      0.31      0.22      1735\n",
      "\n"
     ]
    },
    {
     "data": {
      "image/png": "[encoded data removed]",
      "text/plain": [
       "<Figure size 1800x576 with 3 Axes>"
      ]
     },
     "metadata": {
      "needs_background": "light"
     },
     "output_type": "display_data"
    }
   ],
   "source": [
    "# Multinomial Naive Bayes classifier\n",
    "nb = MultinomialNB()\n",
    "train_model(nb)"
   ]
  },
  {
   "cell_type": "markdown",
   "id": "25baa6ae",
   "metadata": {},
   "source": [
    "# Baseline\n",
    "\n",
    "A baseline model serves as a starting point for comparison in machine learning tasks, representing a simple or default approach to establish a performance benchmark.\n",
    "\n",
    "As there are a total of 16 distinct labels in our dataset, the percentage of accuracy is 1/16 = 0.0625 or 6.25%. \n",
    "\n",
    "We will use this value as our baseline to aim to develop a model that produces an accuracy of greater than 0.0625 in order to achieve statistical power. "
   ]
  },
  {
   "cell_type": "markdown",
   "id": "43921dae",
   "metadata": {},
   "source": [
    "# Preparing your data (for training)"
   ]
  },
  {
   "cell_type": "markdown",
   "id": "f924e412",
   "metadata": {},
   "source": [
    "Split data into training and testing sets"
   ]
  },
  {
   "cell_type": "code",
   "execution_count": 58,
   "id": "36544b10",
   "metadata": {},
   "outputs": [],
   "source": [
    "X = df['posts']\n",
    "y = df['type']\n",
    "\n",
    "X_train_lstm, X_test_lstm, y_train_lstm, y_test_lstm = train_test_split(df_clean['posts'],df_clean['type'], \n",
    "                                         test_size=0.2,\n",
    "                                         random_state=0, \n",
    "                                         stratify= df.type)  "
   ]
  },
  {
   "cell_type": "markdown",
   "id": "292837d9",
   "metadata": {},
   "source": [
    "<b>Label Encoding</b>\n",
    "\n",
    "The goal here is to classify a binary values of 0 & 1, As Machine Learning don't understand String on our target values, we will encode it"
   ]
  },
  {
   "cell_type": "code",
   "execution_count": 59,
   "id": "e05e7c03",
   "metadata": {},
   "outputs": [],
   "source": [
    "# create an instance of label encoder \n",
    "labelencoder= LabelEncoder()\n",
    "# Fit and transform the labels to numerical format\n",
    "y_train_lstm_enc = labelencoder.fit_transform(y_train_lstm)\n",
    "y_test_lstm_enc = labelencoder.transform(y_test_lstm)"
   ]
  },
  {
   "cell_type": "markdown",
   "id": "beed602f",
   "metadata": {},
   "source": [
    "<b>One hot encoding</b>\n",
    "\n",
    "The model would require categorically encoded labels where each label will be turned into a 10-element vector of zeros except for a single element. This is called one-hot encoding using to_categorical where at the position in the vector that corresponds to the label will be encoded with a one in the (n+1)th position. "
   ]
  },
  {
   "cell_type": "code",
   "execution_count": 60,
   "id": "876b2705",
   "metadata": {},
   "outputs": [],
   "source": [
    "from keras.utils import to_categorical\n",
    "\n",
    "# One-hot encode the target labels\n",
    "y_train_lstm_onehot = to_categorical(y_train_lstm_enc)\n",
    "y_test_lstm_onehot = to_categorical(y_test_lstm_enc)\n",
    "\n",
    "# labelencoder = LabelEncoder()\n",
    "# y_train_lstm_enc = labelencoder.fit_transform(y_train_lstm)\n",
    "# y_train_lstm_onehot = to_categorical(y_train_lstm_enc)"
   ]
  },
  {
   "cell_type": "markdown",
   "id": "e310cf8d",
   "metadata": {},
   "source": [
    "Tokenize and pad texts"
   ]
  },
  {
   "cell_type": "code",
   "execution_count": 61,
   "id": "b1f4447e",
   "metadata": {},
   "outputs": [],
   "source": [
    "from keras.preprocessing.text import Tokenizer\n",
    "max_words = 2500\n",
    "max_len = 40\n",
    "\n",
    "# ensure all sequences in a list have the same length\n",
    "def tokenize_pad_sequences(text):\n",
    "    # initialise text tokenizer\n",
    "    tokenizer = Tokenizer(num_words=max_words, filters=\"\")\n",
    "    \n",
    "    # generate word indexes\n",
    "    tokenizer.fit_on_texts(text)\n",
    "    \n",
    "    # transforms text to a sequence of integers and apply padding \n",
    "    X = tokenizer.texts_to_sequences(text)\n",
    "    X = pad_sequences(X, padding='post', maxlen=max_len) #post padding  \n",
    "    \n",
    "    # return sequences \n",
    "    return X, tokenizer\n",
    "\n",
    "# print(\"Before tokenisation and padding: \\n\", df_clean['posts'][0], '\\n')\n",
    "# X, tokenizer = tokenize_pad_sequences(df_clean['posts'])\n",
    "# print('After tokenization and padding: \\n', X[0]) "
   ]
  },
  {
   "cell_type": "code",
   "execution_count": 62,
   "id": "25e61a2a",
   "metadata": {},
   "outputs": [],
   "source": [
    "from keras.preprocessing.text import Tokenizer\n",
    "max_words = 2500\n",
    "max_len = 40\n",
    "\n",
    "X_train_lstm_pad, tokenizer = tokenize_pad_sequences(X_train_lstm)\n",
    "X_test_lstm_pad = tokenizer.texts_to_sequences(X_test_lstm)\n",
    "X_test_lstm_pad = pad_sequences(X_test_lstm_pad, padding='post', maxlen=max_len)"
   ]
  },
  {
   "cell_type": "markdown",
   "id": "423424fb",
   "metadata": {},
   "source": [
    "<b> Word Embedding </b>\n",
    "\n",
    "A word embedding is a learned representation for text where words that have the same meaning have a similar representation. It is this approach to representing words and documents that may be considered one of the key breakthroughs of deep learning on challenging natural language processing problems. \n",
    "\n",
    "We are using GloVe for this project"
   ]
  },
  {
   "cell_type": "code",
   "execution_count": 63,
   "id": "dfdb0241",
   "metadata": {},
   "outputs": [],
   "source": [
    "import os\n",
    "DATA_DIR = \"data\"\n",
    "GLOVE_PATH = os.path.join(DATA_DIR, \"glove.6B.50d.txt\")\n",
    "\n",
    "\n",
    "# load GloVe embedding \n",
    "embeddings_index = dict()\n",
    "with open(GLOVE_PATH) as f:\n",
    "    for line in f:\n",
    "        values = line.split()\n",
    "        word = values[0]\n",
    "        coefficients = np.asarray(values[1:], dtype='float32')\n",
    "        embeddings_index[word] = coefficients"
   ]
  },
  {
   "cell_type": "code",
   "execution_count": 64,
   "id": "b1a9fbfd",
   "metadata": {},
   "outputs": [],
   "source": [
    "max_words = 2500 \n",
    "EMBEDDING_VECTOR_LENGTH = 50 \n",
    "# create an embedding matrix \n",
    "embedding_matrix = np.zeros((max_words, EMBEDDING_VECTOR_LENGTH))\n",
    "for word, index in tokenizer.word_index.items():\n",
    "    if index < max_words:\n",
    "        embedding_vector = embeddings_index.get(word)\n",
    "        if embedding_vector is not None:\n",
    "            embedding_matrix[index] = embedding_vector"
   ]
  },
  {
   "cell_type": "markdown",
   "id": "2dba746b",
   "metadata": {},
   "source": [
    "<b>Imbalanced Data</b>\n",
    "\n",
    "To handle the imbalanced data, we will be using SMOTE to balance the class distribution."
   ]
  },
  {
   "cell_type": "code",
   "execution_count": 65,
   "id": "282a496a",
   "metadata": {},
   "outputs": [],
   "source": [
    "# Instantiate the SMOTE class\n",
    "smote = SMOTE(sampling_strategy='auto', random_state=0)\n",
    "\n",
    "# Apply SMOTE to your training data\n",
    "X_train_resampled, y_train_resampled = smote.fit_resample(X_train_lstm_pad, y_train_lstm_enc)"
   ]
  },
  {
   "cell_type": "code",
   "execution_count": 66,
   "id": "24e95a2f",
   "metadata": {},
   "outputs": [
    {
     "name": "stdout",
     "output_type": "stream",
     "text": [
      "X_train_resampled (23456, 40)\n",
      "y_train_resampled (23456,)\n"
     ]
    }
   ],
   "source": [
    "print('X_train_resampled', X_train_resampled.shape)\n",
    "#print('X_test_lstm', X_test_lstm.shape)\n",
    "print('y_train_resampled', y_train_resampled.shape)\n",
    "#print('y_test_lstm', y_test_lstm.shape)"
   ]
  },
  {
   "cell_type": "markdown",
   "id": "8e26e043",
   "metadata": {},
   "source": [
    "<b> Helper functions to plot accuracy and loss graphs </b>"
   ]
  },
  {
   "cell_type": "code",
   "execution_count": 31,
   "id": "d51da97d",
   "metadata": {},
   "outputs": [],
   "source": [
    "def smooth_curve(points, factor=0.9):\n",
    "    smoothed_points = []\n",
    "    for point in points:\n",
    "        if smoothed_points:\n",
    "            previous = smoothed_points[-1]\n",
    "            smoothed_points.append(previous*factor+point*(1-factor))\n",
    "        else:\n",
    "            smoothed_points.append(point)\n",
    "    return smoothed_points"
   ]
  },
  {
   "cell_type": "code",
   "execution_count": 32,
   "id": "7248c85e",
   "metadata": {},
   "outputs": [],
   "source": [
    "def plot_mae(val_mae, num_epochs):\n",
    "    average = [np.mean([x[i] for x in val_mae]) for i in range(num_epochs)]\n",
    "    smooth_mae=smooth_curve(average)\n",
    "    \n",
    "    plt.plot(range(1, len(average)+1), average)\n",
    "    plt.xlabel('Epochs')\n",
    "    plt.ylabel('Smooth Validation MAE')\n",
    "    plt.show()\n",
    "    print('Lowest MAE occurs at epoch', np.argmin(smooth_mae))"
   ]
  },
  {
   "cell_type": "code",
   "execution_count": 33,
   "id": "1b441bd9",
   "metadata": {},
   "outputs": [],
   "source": [
    "def plot_loss(loss, val_loss):\n",
    "    plt.clf() #clear any existing figure\n",
    "    epochs = range(1, len(loss)+1) #get number of epochs\n",
    "    # Calculate the average loss over epochs\n",
    "    avg_loss = [np.mean(loss[:i]) for i in range(1, len(loss) + 1)]\n",
    "    avg_val_loss = [np.mean(val_loss[:i]) for i in range(1, len(val_loss) + 1)]\n",
    "    # assign values for each axis\n",
    "    plt.plot(epochs, avg_loss, 'bo', label=\"Loss\")\n",
    "    plt.plot(epochs, avg_val_loss, 'b', label=\"Average Validation Loss\")\n",
    "    #set a title of graph and labels of each axis\n",
    "    plt.title(\"Average Training Loss & Validation Loss\")\n",
    "    plt.xlabel('Epochs')\n",
    "    plt.ylabel('Average Loss')\n",
    "    plt.legend()\n",
    "    plt.show()    "
   ]
  },
  {
   "cell_type": "code",
   "execution_count": 34,
   "id": "8e2f16ba",
   "metadata": {},
   "outputs": [],
   "source": [
    "def plot_acc(acc, val_acc):\n",
    "    plt.clf()\n",
    "    epochs = range(1, len(acc)+1) #gets a number of epochs\n",
    "    # Calculate the average loss over epochs\n",
    "    avg_acc = [np.mean(acc[:i]) for i in range(1, len(acc) + 1)]\n",
    "    avg_val_acc = [np.mean(val_acc[:i]) for i in range(1, len(val_acc) + 1)]\n",
    "    \n",
    "    # assign values for each axis\n",
    "    plt.plot(epochs, avg_acc, 'bo', label=\"Accuracy\")\n",
    "    plt.plot(epochs, avg_val_acc, 'b', label=\"Average Validation Accuracy\")\n",
    "    #set a title of graph and labels of each axis\n",
    "    plt.title(\"Average Training Accuracy & Validation Accuracy\")\n",
    "    plt.xlabel('Epochs')\n",
    "    plt.ylabel('Average Accuracy')\n",
    "    plt.legend()\n",
    "    plt.show()     "
   ]
  },
  {
   "cell_type": "markdown",
   "id": "89cbd8a3",
   "metadata": {},
   "source": [
    "just testing: Iterated K-fold "
   ]
  },
  {
   "cell_type": "code",
   "execution_count": 35,
   "id": "94f5e7f0",
   "metadata": {},
   "outputs": [],
   "source": [
    "# NUM_CLASSES = 16\n",
    "\n",
    "# underfit_lstm_model = models.Sequential()\n",
    "# underfit_lstm_model.add(layers.Dense(NUM_CLASSES, activation='softmax')) \n",
    "# underfit_lstm_model.compile(loss=\"categorical_crossentropy\", optimizer=\"adam\", metrics=[\"accuracy\"])"
   ]
  },
  {
   "cell_type": "code",
   "execution_count": 36,
   "id": "566d254b",
   "metadata": {},
   "outputs": [],
   "source": [
    "# import numpy as np \n",
    "# from sklearn.model_selection import StratifiedKFold\n",
    "# from sklearn.metrics import mean_absolute_error\n",
    "\n",
    "# K=4\n",
    "# num_val_samples = len(X_train_resampled)//K\n",
    "# num_epochs = 80\n",
    "# all_val_mae_1 = []\n",
    "# all_val_mse_1 = []\n",
    "\n",
    "# all_mae_1 = []\n",
    "# all_loss_1 = []\n",
    "# all_mae_history_1 = []\n",
    "# all_loss_history_1 = []\n",
    "\n",
    "# N_iterations=4\n",
    "# N_folds=5\n",
    "\n",
    "# # for i in range(N_iterations):\n",
    "# #     skf = StratifiedKFold(n_splits=N_folds, shuffle=True)\n",
    "    \n",
    "# #     for j, (train_index, val_index) in enumerate(skf.split(X_train_resampled, y_train_resamp...)):\n",
    "# #         print('processing fold',j)\n",
    "        \n",
    "# #         partial_train_data = X_train_resampled[train_index]\n",
    "# #         val_data = X_train[val_index]\n",
    "        \n",
    "# #         partial_train_targets = y_train_resampled[train_index]\n",
    "# #         val_targets = y_train_resampled[val_index]\n",
    "        \n",
    "# #         #train the model (in silent mode, verbose=0)\n",
    "# #         results_1 = underfit_lstm_model.fit(partial_train_data, ...)\n",
    "        \n",
    "# #         #evaluate the model on the validation data \n",
    "# #         val_mse, val_mae = udnerfit_lstm_model.evaluate(val_data, val_targets, ver...)\n",
    "# #         all_val_mae_1.append(mae)\n",
    "# #         all_val_mse_1.append(mse)\n",
    "        \n",
    "# #         mae = results_1.history['mae']\n",
    "# #         all_mae_1.append(mae)\n",
    "# #         mae_history = results_1.history['val_mae']\n",
    "# #         all_mae_history_1.append(mae_history)\n",
    "        \n",
    "# #         loss=results.history['loss']\n",
    "# #         all_loss_1.append(loss)\n",
    "# #         loss_history = results_1.history['val_loss']\n",
    "# #         all_loss_history_1.append(loss_history)\n",
    "        \n",
    "# for i in range(N_iterations):\n",
    "#     skf = StratifiedKFold(n_splits=N_folds, shuffle=True)\n",
    "    \n",
    "#     for j, (train_index, val_index) in enumerate(skf.split(X_train_resampled, y_train_resampled)):\n",
    "#         print('processing fold', j)\n",
    "        \n",
    "#         partial_train_data = X_train_resampled[train_index]\n",
    "#         val_data = X_train_resampled[val_index]\n",
    "        \n",
    "#         partial_train_targets = y_train_resampled[train_index]\n",
    "#         val_targets = y_train_resampled[val_index]\n",
    "        \n",
    "#         # One-hot encode the target labels\n",
    "#         partial_train_targets = to_categorical(partial_train_targets, num_classes=NUM_CLASSES)\n",
    "#         val_targets = to_categorical(val_targets, num_classes=NUM_CLASSES)\n",
    "        \n",
    "#         # Train the model (in silent mode, verbose=0)\n",
    "#         underfit_lstm_model.compile(loss=\"categorical_crossentropy\", optimizer=\"adam\", metrics=[\"mean_absolute_error\"])\n",
    "#         results_1 = underfit_lstm_model.fit(partial_train_data, partial_train_targets, epochs=num_epochs, batch_size=128, verbose=0, validation_data = (val_data, val_targets))\n",
    "        \n",
    "#         # Evaluate the model on the validation data \n",
    "#         val_mse, val_mae = underfit_lstm_model.evaluate(val_data, val_targets, verbose=0)\n",
    "#         all_val_mae_1.append(val_mae)\n",
    "#         all_val_mse_1.append(val_mse)\n",
    "        \n",
    "#         mae = results_1.history['mean_absolute_error']\n",
    "#         all_mae_1.append(mae)\n",
    "#         mae_history = results_1.history['val_mean_absolute_error']\n",
    "#         all_mae_history_1.append(mae_history)\n",
    "        \n",
    "#         loss = results_1.history['loss']\n",
    "#         all_loss_1.append(loss)\n",
    "#         loss_history = results_1.history['val_loss']\n",
    "#         all_loss_history_1.append(loss_history)\n",
    "        \n",
    "# print(\"Available metrics:\", results_1.history.keys())"
   ]
  },
  {
   "cell_type": "code",
   "execution_count": 37,
   "id": "b11ab1d8",
   "metadata": {},
   "outputs": [],
   "source": [
    "# plot_mae(all_mae_history_1, num_epochs)"
   ]
  },
  {
   "cell_type": "markdown",
   "id": "34dbb92a",
   "metadata": {},
   "source": [
    "MAE stands for Mean Absolute Error. It's a metric used to measure the average absolute difference between the predicted values and the actual values in a regression problem. In the context of machine learning models, like the one you're working with, MAE quantifies how close the model's predictions are to the actual values.\n",
    "\n",
    "In terms of the MAE value itself, lower is better. A lower MAE indicates that the model's predictions are closer to the actual values. Higher MAE values mean that the model's predictions are farther away from the actual values.\n",
    "\n",
    "If the lowest MAE value cannot occur at epoch 0, it means that the model's initial predictions (at epoch 0) are not the best predictions. This is usually the case because the model starts with randomly initialized weights and biases, and it takes a few epochs of training for the model to adjust its parameters to make better predictions. As training progresses, the model learns and refines its predictions, which is why the MAE tends to improve over epochs.v"
   ]
  },
  {
   "cell_type": "markdown",
   "id": "c2d157d3",
   "metadata": {},
   "source": [
    "# LSTM: Developing a model that does better than the baseline"
   ]
  },
  {
   "cell_type": "markdown",
   "id": "82e2b576",
   "metadata": {},
   "source": [
    "### LSTM \n",
    "\n",
    "(insert short explanation of LSTM)\n",
    "\n",
    "We will be applying our chosen evaluation protocol (iterated k fold validation) when training the model.\n",
    "\n",
    "Constants:  LSTM layer=128 "
   ]
  },
  {
   "cell_type": "markdown",
   "id": "88e2e6ae",
   "metadata": {},
   "source": [
    "#### Building the model\n",
    "- initialise model \n",
    "- add layers to model\n",
    "- compile model "
   ]
  },
  {
   "cell_type": "code",
   "execution_count": 67,
   "id": "7f5dd21a",
   "metadata": {},
   "outputs": [
    {
     "name": "stdout",
     "output_type": "stream",
     "text": [
      "Model: \"sequential_6\"\n",
      "_________________________________________________________________\n",
      " Layer (type)                Output Shape              Param #   \n",
      "=================================================================\n",
      " embedding_6 (Embedding)     (None, 40, 50)            125000    \n",
      "                                                                 \n",
      " lstm_6 (LSTM)               (None, 64)                29440     \n",
      "                                                                 \n",
      " dense_8 (Dense)             (None, 16)                1040      \n",
      "                                                                 \n",
      "=================================================================\n",
      "Total params: 155,480\n",
      "Trainable params: 155,480\n",
      "Non-trainable params: 0\n",
      "_________________________________________________________________\n",
      "None\n"
     ]
    }
   ],
   "source": [
    "# Initialising the model \n",
    "underfit_lstm_model = Sequential()\n",
    "\n",
    "# Defining model: add layers \n",
    "underfit_lstm_model.add(Embedding(\n",
    "    max_words,\n",
    "    EMBEDDING_VECTOR_LENGTH,\n",
    "    input_length=max_len,\n",
    "    weights=[embedding_matrix],\n",
    "    trainable=True,\n",
    ")) #glove embedding\n",
    "underfit_lstm_model.add(LSTM(64, input_shape=(max_len, EMBEDDING_VECTOR_LENGTH))) #LSTM layer \n",
    "underfit_lstm_model.add(Dense(16, activation='softmax')) #dense layer - the last one\n",
    "\n",
    "# Compile model\n",
    "underfit_lstm_model.compile(loss=\"categorical_crossentropy\", optimizer=\"adam\", metrics=[\"accuracy\"])\n",
    "\n",
    "print(underfit_lstm_model.summary())"
   ]
  },
  {
   "cell_type": "markdown",
   "id": "f2d2b8d5",
   "metadata": {},
   "source": [
    "#### Train model with Iterated K-fold Validation"
   ]
  },
  {
   "cell_type": "code",
   "execution_count": 75,
   "id": "a826ec02",
   "metadata": {},
   "outputs": [
    {
     "name": "stdout",
     "output_type": "stream",
     "text": [
      "processing fold 0\n",
      "processing fold 1\n",
      "processing fold 2\n",
      "processing fold 3\n",
      "processing fold 4\n",
      "processing fold 0\n",
      "processing fold 1\n",
      "processing fold 2\n",
      "processing fold 3\n",
      "processing fold 4\n",
      "processing fold 0\n",
      "processing fold 1\n",
      "processing fold 2\n",
      "processing fold 3\n",
      "processing fold 4\n",
      "processing fold 0\n",
      "processing fold 1\n",
      "processing fold 2\n",
      "processing fold 3\n",
      "processing fold 4\n"
     ]
    }
   ],
   "source": [
    "import numpy as np \n",
    "from sklearn.model_selection import StratifiedKFold\n",
    "from sklearn.metrics import mean_absolute_error\n",
    "\n",
    "K=4\n",
    "num_val_samples = len(X_train_resampled)//K\n",
    "num_epochs = 1\n",
    "all_val_mae_1 = []\n",
    "all_val_mse_1 = []\n",
    "\n",
    "all_mae_1 = []\n",
    "all_loss_1 = []\n",
    "all_mae_history_1 = []\n",
    "all_loss_history_1 = []\n",
    "\n",
    "#new!\n",
    "all_val_acc_1 = []\n",
    "all_val_loss_1 = []\n",
    "\n",
    "all_acc_1 = []\n",
    "all_loss_1 = []\n",
    "all_acc_history_1 = []\n",
    "all_loss_history_1 = []\n",
    "\n",
    "N_iterations=4\n",
    "N_folds=5\n",
    "        \n",
    "for i in range(N_iterations):\n",
    "    skf = StratifiedKFold(n_splits=N_folds, shuffle=True)\n",
    "    \n",
    "    for j, (train_index, val_index) in enumerate(skf.split(X_train_resampled, y_train_resampled)):\n",
    "        print('processing fold', j)\n",
    "        \n",
    "        partial_train_data = X_train_resampled[train_index]\n",
    "        val_data = X_train_resampled[val_index]\n",
    "        \n",
    "        partial_train_targets = y_train_resampled[train_index]\n",
    "        val_targets = y_train_resampled[val_index]\n",
    "        \n",
    "        # One-hot encode the target labels\n",
    "        partial_train_targets = to_categorical(partial_train_targets, num_classes=16)\n",
    "        val_targets = to_categorical(val_targets, num_classes=16)\n",
    "        \n",
    "        # Train the model (in silent mode, verbose=0)\n",
    "        #underfit_lstm_model.compile(loss=\"categorical_crossentropy\", optimizer=\"adam\", metrics=[\"mean_absolute_error\"])\n",
    "        underfit_lstm_model.compile(loss=\"categorical_crossentropy\", optimizer=\"adam\", metrics=[\"accuracy\"])\n",
    "        results_1 = underfit_lstm_model.fit(partial_train_data, partial_train_targets, epochs=num_epochs, batch_size=128, verbose=0, validation_data = (val_data, val_targets))\n",
    "        \n",
    "#         # Evaluate the model on the validation data: MAE, MSE \n",
    "#         val_mse, val_mae = underfit_lstm_model.evaluate(val_data, val_targets, verbose=0)\n",
    "#         all_val_mae_1.append(val_mae)\n",
    "#         all_val_mse_1.append(val_mse)\n",
    "        \n",
    "#         mae = results_1.history['mean_absolute_error']\n",
    "#         all_mae_1.append(mae)\n",
    "#         mae_history = results_1.history['val_mean_absolute_error']\n",
    "#         all_mae_history_1.append(mae_history)\n",
    "        \n",
    "#         loss = results_1.history['loss']\n",
    "#         all_loss_1.append(loss)\n",
    "#         loss_history = results_1.history['val_loss']\n",
    "#         all_loss_history_1.append(loss_history)\n",
    "        \n",
    "        # Evaluate the model on the validation data: loss and accuracy \n",
    "        val_loss, val_acc = underfit_lstm_model.evaluate(val_data, val_targets, verbose=0)\n",
    "        all_val_acc_1.append(val_acc)\n",
    "        all_val_loss_1.append(val_loss)\n",
    "        \n",
    "        acc = results_1.history['accuracy']\n",
    "        all_acc_1.append(acc)\n",
    "        acc_history = results_1.history['val_accuracy']\n",
    "        all_acc_history_1.append(acc_history)\n",
    "        \n",
    "        loss = results_1.history['loss']\n",
    "        all_loss_1.append(loss)\n",
    "        loss_history = results_1.history['val_loss']\n",
    "        all_loss_history_1.append(loss_history)"
   ]
  },
  {
   "cell_type": "code",
   "execution_count": 76,
   "id": "cb637d40",
   "metadata": {},
   "outputs": [
    {
     "data": {
      "image/png": "[encoded data removed]",
      "text/plain": [
       "<Figure size 432x288 with 1 Axes>"
      ]
     },
     "metadata": {
      "needs_background": "light"
     },
     "output_type": "display_data"
    }
   ],
   "source": [
    "plot_loss(all_loss_1, all_loss_history_1)"
   ]
  },
  {
   "cell_type": "code",
   "execution_count": 77,
   "id": "abf44ee0",
   "metadata": {},
   "outputs": [
    {
     "data": {
      "image/png": "[encoded data removed]",
      "text/plain": [
       "<Figure size 432x288 with 1 Axes>"
      ]
     },
     "metadata": {
      "needs_background": "light"
     },
     "output_type": "display_data"
    }
   ],
   "source": [
    "plot_acc(all_acc_1, all_acc_history_1)"
   ]
  },
  {
   "cell_type": "code",
   "execution_count": 78,
   "id": "5327ec28",
   "metadata": {},
   "outputs": [
    {
     "name": "stdout",
     "output_type": "stream",
     "text": [
      "Average Loss: 0.12134766019880772\n",
      "Average Accuracy: 0.9717450588941574\n"
     ]
    }
   ],
   "source": [
    "print(\"Average Loss:\", np.mean(all_val_loss_1))\n",
    "print(\"Average Accuracy:\", np.mean(all_val_acc_1))"
   ]
  },
  {
   "cell_type": "code",
   "execution_count": 71,
   "id": "c3b7e466",
   "metadata": {},
   "outputs": [
    {
     "name": "stdout",
     "output_type": "stream",
     "text": [
      "processing fold 0\n",
      "processing fold 1\n",
      "processing fold 2\n",
      "processing fold 3\n",
      "processing fold 4\n",
      "processing fold 0\n",
      "processing fold 1\n",
      "processing fold 2\n",
      "processing fold 3\n",
      "processing fold 4\n",
      "processing fold 0\n",
      "processing fold 1\n",
      "processing fold 2\n",
      "processing fold 3\n",
      "processing fold 4\n",
      "processing fold 0\n",
      "processing fold 1\n",
      "processing fold 2\n",
      "processing fold 3\n",
      "processing fold 4\n"
     ]
    }
   ],
   "source": [
    "import numpy as np \n",
    "from sklearn.model_selection import StratifiedKFold\n",
    "from sklearn.metrics import mean_absolute_error\n",
    "\n",
    "K=4\n",
    "num_val_samples = len(X_train_resampled)//K\n",
    "num_epochs = 5\n",
    "all_val_mae_1 = []\n",
    "all_val_mse_1 = []\n",
    "\n",
    "all_mae_1 = []\n",
    "all_loss_1 = []\n",
    "all_mae_history_1 = []\n",
    "all_loss_history_1 = []\n",
    "\n",
    "#new!\n",
    "all_val_acc_1 = []\n",
    "all_val_loss_1 = []\n",
    "\n",
    "all_acc_1 = []\n",
    "all_loss_1 = []\n",
    "all_acc_history_1 = []\n",
    "all_loss_history_1 = []\n",
    "\n",
    "N_iterations=4\n",
    "N_folds=5\n",
    "        \n",
    "for i in range(N_iterations):\n",
    "    skf = StratifiedKFold(n_splits=N_folds, shuffle=True)\n",
    "    \n",
    "    for j, (train_index, val_index) in enumerate(skf.split(X_train_resampled, y_train_resampled)):\n",
    "        print('processing fold', j)\n",
    "        \n",
    "        partial_train_data = X_train_resampled[train_index]\n",
    "        val_data = X_train_resampled[val_index]\n",
    "        \n",
    "        partial_train_targets = y_train_resampled[train_index]\n",
    "        val_targets = y_train_resampled[val_index]\n",
    "        \n",
    "        # One-hot encode the target labels\n",
    "        partial_train_targets = to_categorical(partial_train_targets, num_classes=16)\n",
    "        val_targets = to_categorical(val_targets, num_classes=16)\n",
    "        \n",
    "        # Train the model (in silent mode, verbose=0)\n",
    "        #underfit_lstm_model.compile(loss=\"categorical_crossentropy\", optimizer=\"adam\", metrics=[\"mean_absolute_error\"])\n",
    "        underfit_lstm_model.compile(loss=\"categorical_crossentropy\", optimizer=\"adam\", metrics=[\"accuracy\"])\n",
    "        results_1 = underfit_lstm_model.fit(partial_train_data, partial_train_targets, epochs=num_epochs, batch_size=128, verbose=0, validation_data = (val_data, val_targets))\n",
    "        \n",
    "#         # Evaluate the model on the validation data: MAE, MSE \n",
    "#         val_mse, val_mae = underfit_lstm_model.evaluate(val_data, val_targets, verbose=0)\n",
    "#         all_val_mae_1.append(val_mae)\n",
    "#         all_val_mse_1.append(val_mse)\n",
    "        \n",
    "#         mae = results_1.history['mean_absolute_error']\n",
    "#         all_mae_1.append(mae)\n",
    "#         mae_history = results_1.history['val_mean_absolute_error']\n",
    "#         all_mae_history_1.append(mae_history)\n",
    "        \n",
    "#         loss = results_1.history['loss']\n",
    "#         all_loss_1.append(loss)\n",
    "#         loss_history = results_1.history['val_loss']\n",
    "#         all_loss_history_1.append(loss_history)\n",
    "        \n",
    "        # Evaluate the model on the validation data: loss and accuracy \n",
    "        val_loss, val_acc = underfit_lstm_model.evaluate(val_data, val_targets, verbose=0)\n",
    "        all_val_acc_1.append(val_acc)\n",
    "        all_val_loss_1.append(val_loss)\n",
    "        \n",
    "        acc = results_1.history['accuracy']\n",
    "        all_acc_1.append(acc)\n",
    "        acc_history = results_1.history['val_accuracy']\n",
    "        all_acc_history_1.append(acc_history)\n",
    "        \n",
    "        loss = results_1.history['loss']\n",
    "        all_loss_1.append(loss)\n",
    "        loss_history = results_1.history['val_loss']\n",
    "        all_loss_history_1.append(loss_history)"
   ]
  },
  {
   "cell_type": "code",
   "execution_count": 72,
   "id": "7307acbe",
   "metadata": {},
   "outputs": [
    {
     "data": {
      "image/png": "[encoded data removed]",
      "text/plain": [
       "<Figure size 432x288 with 1 Axes>"
      ]
     },
     "metadata": {
      "needs_background": "light"
     },
     "output_type": "display_data"
    }
   ],
   "source": [
    "plot_loss(all_loss_1, all_loss_history_1)"
   ]
  },
  {
   "cell_type": "code",
   "execution_count": 73,
   "id": "fe62eb6e",
   "metadata": {},
   "outputs": [
    {
     "data": {
      "image/png": "[encoded data removed]",
      "text/plain": [
       "<Figure size 432x288 with 1 Axes>"
      ]
     },
     "metadata": {
      "needs_background": "light"
     },
     "output_type": "display_data"
    }
   ],
   "source": [
    "plot_acc(all_acc_1, all_acc_history_1)"
   ]
  },
  {
   "cell_type": "code",
   "execution_count": 74,
   "id": "4dbf5a89",
   "metadata": {},
   "outputs": [
    {
     "name": "stdout",
     "output_type": "stream",
     "text": [
      "Average Loss: 0.8238244190812111\n",
      "Average Accuracy: 0.7379287168383598\n"
     ]
    }
   ],
   "source": [
    "print(\"Average Loss:\", np.mean(all_val_loss_1))\n",
    "print(\"Average Accuracy:\", np.mean(all_val_acc_1))"
   ]
  },
  {
   "cell_type": "code",
   "execution_count": null,
   "id": "af3d28bc",
   "metadata": {},
   "outputs": [],
   "source": [
    "# kfold cross validation (NOT iterated)\n",
    "\n",
    "# from sklearn.model_selection import KFold\n",
    "\n",
    "# K = 5  # Number of folds\n",
    "# num_epochs = 1\n",
    "# all_val_mae = []\n",
    "# all_mae = []\n",
    "# all_loss = []\n",
    "# all_mae_history = []\n",
    "# all_loss_history = []\n",
    "\n",
    "# kf = KFold(n_splits=K, shuffle=True)\n",
    "\n",
    "# for i, (train_index, val_index) in enumerate(kf.split(X_train_resampled)):\n",
    "#     print('processing fold', i)\n",
    "    \n",
    "#     partial_train_data = X_train_resampled[train_index]\n",
    "#     val_data = X_train_resampled[val_index]\n",
    "    \n",
    "#     partial_train_targets = y_train_resampled[train_index]\n",
    "#     val_targets = y_train_resampled[val_index]\n",
    "    \n",
    "#     # One-hot encode the target labels\n",
    "#     partial_train_targets = to_categorical(partial_train_targets, num_classes=NUM_CLASSES)\n",
    "#     val_targets = to_categorical(val_targets, num_classes=NUM_CLASSES)\n",
    "    \n",
    "#     # Train the model (in silent mode, verbose=0)\n",
    "#     underfit_lstm_model.compile(loss=\"categorical_crossentropy\", optimizer=\"adam\", metrics=[\"mean_absolute_error\"])\n",
    "#     results = underfit_lstm_model.fit(partial_train_data, partial_train_targets, epochs=num_epochs, batch_size=128, verbose=0, validation_data=(val_data, val_targets))\n",
    "    \n",
    "#     # Evaluate the model on the validation data \n",
    "#     val_mae = underfit_lstm_model.evaluate(val_data, val_targets, verbose=0)[1]  # 1 represents mean_absolute_error\n",
    "#     all_val_mae.append(val_mae)\n",
    "    \n",
    "#     mae_history = results.history['mean_absolute_error']\n",
    "#     all_mae_history.append(mae_history)\n",
    "    \n",
    "#     loss_history = results.history['loss']\n",
    "#     all_loss_history.append(loss_history)\n",
    "\n",
    "# print(\"Average MAE:\", np.mean(all_val_mae))"
   ]
  },
  {
   "cell_type": "markdown",
   "id": "38f6eb11",
   "metadata": {},
   "source": [
    "# LSTM: Developing a model that overfits/scaled up\n",
    "After developing a model that is able to do better than the baseline, we need to develop a model that overfits/scaled up. As the aim of this project is to create a model that stands on the line between overfitting and underfitting, we now need to cross the line to develop a model that overfits. \n",
    "\n",
    "We will be developing an overfitting model by <b>increasing the number of dense layers</b> from 1 to 4. "
   ]
  },
  {
   "cell_type": "code",
   "execution_count": 79,
   "id": "95b95b09",
   "metadata": {},
   "outputs": [
    {
     "name": "stdout",
     "output_type": "stream",
     "text": [
      "Model: \"sequential_7\"\n",
      "_________________________________________________________________\n",
      " Layer (type)                Output Shape              Param #   \n",
      "=================================================================\n",
      " embedding_7 (Embedding)     (None, 40, 50)            125000    \n",
      "                                                                 \n",
      " lstm_7 (LSTM)               (None, 64)                29440     \n",
      "                                                                 \n",
      " dense_9 (Dense)             (None, 256)               16640     \n",
      "                                                                 \n",
      " dense_10 (Dense)            (None, 128)               32896     \n",
      "                                                                 \n",
      " dense_11 (Dense)            (None, 64)                8256      \n",
      "                                                                 \n",
      " dense_12 (Dense)            (None, 16)                1040      \n",
      "                                                                 \n",
      "=================================================================\n",
      "Total params: 213,272\n",
      "Trainable params: 213,272\n",
      "Non-trainable params: 0\n",
      "_________________________________________________________________\n",
      "None\n"
     ]
    }
   ],
   "source": [
    "# max_len = 40\n",
    "# EMBEDDING_VECTOR_LENGTH = 50\n",
    "\n",
    "# Initialising the model \n",
    "overfit_lstm_model = Sequential()\n",
    "\n",
    "# Defining model: add layers \n",
    "overfit_lstm_model.add(Embedding(\n",
    "    max_words,\n",
    "    EMBEDDING_VECTOR_LENGTH,\n",
    "    input_length=max_len,\n",
    "    weights=[embedding_matrix],\n",
    "    trainable=True,\n",
    ")) #glove embedding\n",
    "overfit_lstm_model.add(LSTM(64, input_shape=(max_len, EMBEDDING_VECTOR_LENGTH))) #LSTM layer\n",
    "overfit_lstm_model.add(Dense(256, activation='relu')) # Additional dense layer\n",
    "overfit_lstm_model.add(Dense(128, activation='relu')) # Additional dense layer\n",
    "overfit_lstm_model.add(Dense(64, activation='relu')) # Additional dense layer\n",
    "overfit_lstm_model.add(Dense(16, activation='softmax')) #dense layer - the last one\n",
    "\n",
    "\n",
    "# Compile model\n",
    "overfit_lstm_model.compile(loss=\"categorical_crossentropy\", optimizer=\"adam\", metrics=[\"accuracy\"])\n",
    "\n",
    "print(overfit_lstm_model.summary())"
   ]
  },
  {
   "cell_type": "markdown",
   "id": "cbde2a80",
   "metadata": {},
   "source": [
    "#### Train model with Iterated K-fold Validation "
   ]
  },
  {
   "cell_type": "code",
   "execution_count": 81,
   "id": "8e829183",
   "metadata": {},
   "outputs": [
    {
     "name": "stdout",
     "output_type": "stream",
     "text": [
      "processing fold 0\n",
      "processing fold 1\n",
      "processing fold 2\n",
      "processing fold 3\n",
      "processing fold 4\n",
      "processing fold 0\n",
      "processing fold 1\n",
      "processing fold 2\n",
      "processing fold 3\n",
      "processing fold 4\n",
      "processing fold 0\n",
      "processing fold 1\n",
      "processing fold 2\n",
      "processing fold 3\n",
      "processing fold 4\n",
      "processing fold 0\n",
      "processing fold 1\n",
      "processing fold 2\n",
      "processing fold 3\n",
      "processing fold 4\n"
     ]
    }
   ],
   "source": [
    "import numpy as np \n",
    "from sklearn.model_selection import StratifiedKFold\n",
    "from sklearn.metrics import mean_absolute_error\n",
    "\n",
    "K=4\n",
    "num_val_samples = len(X_train_resampled)//K\n",
    "num_epochs = 5\n",
    "\n",
    "#new!\n",
    "all_val_acc_2 = []\n",
    "all_val_loss_2 = []\n",
    "\n",
    "all_acc_2 = []\n",
    "all_loss_2 = []\n",
    "all_acc_history_2 = []\n",
    "all_loss_history_2 = []\n",
    "\n",
    "N_iterations=4\n",
    "N_folds=5\n",
    "        \n",
    "for i in range(N_iterations):\n",
    "    skf = StratifiedKFold(n_splits=N_folds, shuffle=True)\n",
    "    \n",
    "    for j, (train_index, val_index) in enumerate(skf.split(X_train_resampled, y_train_resampled)):\n",
    "        print('processing fold', j)\n",
    "        \n",
    "        partial_train_data = X_train_resampled[train_index]\n",
    "        val_data = X_train_resampled[val_index]\n",
    "        \n",
    "        partial_train_targets = y_train_resampled[train_index]\n",
    "        val_targets = y_train_resampled[val_index]\n",
    "        \n",
    "        # One-hot encode the target labels\n",
    "        partial_train_targets = to_categorical(partial_train_targets, num_classes=16)\n",
    "        val_targets = to_categorical(val_targets, num_classes=16)\n",
    "        \n",
    "        # Train the model (in silent mode, verbose=0)\n",
    "        overfit_lstm_model.compile(loss=\"categorical_crossentropy\", optimizer=\"adam\", metrics=[\"accuracy\"])\n",
    "        results_2 = overfit_lstm_model.fit(partial_train_data, partial_train_targets, epochs=num_epochs, batch_size=128, verbose=0, validation_data = (val_data, val_targets))\n",
    "        \n",
    "        # Evaluate the model on the validation data: loss and accuracy \n",
    "        val_loss, val_acc = overfit_lstm_model.evaluate(val_data, val_targets, verbose=0)\n",
    "        all_val_acc_2.append(val_acc)\n",
    "        all_val_loss_2.append(val_loss)\n",
    "        \n",
    "        acc = results_2.history['accuracy']\n",
    "        all_acc_2.append(acc)\n",
    "        acc_history = results_2.history['val_accuracy']\n",
    "        all_acc_history_2.append(acc_history)\n",
    "        \n",
    "        loss = results_2.history['loss']\n",
    "        all_loss_2.append(loss)\n",
    "        loss_history = results_2.history['val_loss']\n",
    "        all_loss_history_2.append(loss_history)"
   ]
  },
  {
   "cell_type": "code",
   "execution_count": null,
   "id": "54ca2b90",
   "metadata": {},
   "outputs": [],
   "source": [
    "#print(\"Average MAE:\", np.mean(all_val_mae_1))"
   ]
  },
  {
   "cell_type": "code",
   "execution_count": 82,
   "id": "d3a66ad8",
   "metadata": {},
   "outputs": [
    {
     "data": {
      "image/png": "[encoded data removed]",
      "text/plain": [
       "<Figure size 432x288 with 1 Axes>"
      ]
     },
     "metadata": {
      "needs_background": "light"
     },
     "output_type": "display_data"
    }
   ],
   "source": [
    "plot_loss(all_loss_2, all_loss_history_2)"
   ]
  },
  {
   "cell_type": "code",
   "execution_count": 86,
   "id": "ff12c0af",
   "metadata": {},
   "outputs": [
    {
     "data": {
      "image/png": "[encoded data removed]",
      "text/plain": [
       "<Figure size 432x288 with 1 Axes>"
      ]
     },
     "metadata": {
      "needs_background": "light"
     },
     "output_type": "display_data"
    }
   ],
   "source": [
    "plot_acc(all_acc_2, all_acc_history_2)"
   ]
  },
  {
   "cell_type": "code",
   "execution_count": 84,
   "id": "8023b01e",
   "metadata": {},
   "outputs": [
    {
     "name": "stdout",
     "output_type": "stream",
     "text": [
      "Average Loss: 1.05213613063097\n",
      "Average Accuracy: 0.6571281850337982\n"
     ]
    }
   ],
   "source": [
    "print(\"Average Loss:\", np.mean(all_val_loss_2))\n",
    "print(\"Average Accuracy:\", np.mean(all_val_acc_2))"
   ]
  },
  {
   "cell_type": "markdown",
   "id": "1b870404",
   "metadata": {},
   "source": [
    "From the results above, we can see that the average accuracy for the underfitting model (0.738) was higher than the overfititing model (0.657). The average loss for the underfitting model (0.824) was also lower than the overfitting model(1.05). \n",
    "\n",
    "The accuracy decreased and loss increased when number of epochs was increased from 1 to 5 and more dense layers were added to the LSTM model. \n",
    "\n",
    "However, we will continue to work with our overfitting model for hyperparameter optimisation. The number of epochs we have used in training the neural network is very small as it takes extremely long to run the training if the number of epochs exceeds 5. Hence, we will take the larger number of epochs we have tested above. In reality, the epoch number should be much higher to ensure better training. "
   ]
  },
  {
   "cell_type": "markdown",
   "id": "da86df45",
   "metadata": {},
   "source": [
    "# LSTM: Regularising your model and tuning your hyperparameters\n",
    "After creating a model that overfits, we need to modify the model to increase the peformance of the model. We can do this by regularising the model and iteratively fine tune our hyperparameters until we determine the optimal hyperparameter settings that results in the best performing machine learning model.\n",
    "\n",
    "There are many ways to regularise the model. For our project, we will be tuning:\n",
    "1. Dropout \n",
    "2. L1/L2 regularizers. \n",
    "\n",
    "We will be testing 2 different values for each hyperparameter and compare the performance between them to determine the optimal setting for both dropout and L1/L2 regularizers.\n",
    "\n",
    "Finally, we will apply both dropout and L1/L2 regularizer with the hyperparameter values we found earlier to our LSTM model to develop the final LSTM model."
   ]
  },
  {
   "cell_type": "markdown",
   "id": "1d3f66ab",
   "metadata": {},
   "source": [
    "### 1. Dropout\n",
    "\n",
    "By adding dropout layers, you introduce some randomness during training, which can help prevent the model from relying too heavily on any single feature and reduce overfitting. "
   ]
  },
  {
   "cell_type": "markdown",
   "id": "787f08a8",
   "metadata": {},
   "source": [
    "#### Build model with Dropout = 0.1"
   ]
  },
  {
   "cell_type": "code",
   "execution_count": 89,
   "id": "97c2fe72",
   "metadata": {},
   "outputs": [
    {
     "name": "stdout",
     "output_type": "stream",
     "text": [
      "Model: \"sequential_9\"\n",
      "_________________________________________________________________\n",
      " Layer (type)                Output Shape              Param #   \n",
      "=================================================================\n",
      " embedding_9 (Embedding)     (None, 40, 50)            125000    \n",
      "                                                                 \n",
      " lstm_9 (LSTM)               (None, 64)                29440     \n",
      "                                                                 \n",
      " dropout (Dropout)           (None, 64)                0         \n",
      "                                                                 \n",
      " dense_13 (Dense)            (None, 256)               16640     \n",
      "                                                                 \n",
      " dense_14 (Dense)            (None, 128)               32896     \n",
      "                                                                 \n",
      " dropout_1 (Dropout)         (None, 128)               0         \n",
      "                                                                 \n",
      " dense_15 (Dense)            (None, 64)                8256      \n",
      "                                                                 \n",
      " dense_16 (Dense)            (None, 16)                1040      \n",
      "                                                                 \n",
      "=================================================================\n",
      "Total params: 213,272\n",
      "Trainable params: 213,272\n",
      "Non-trainable params: 0\n",
      "_________________________________________________________________\n",
      "None\n"
     ]
    }
   ],
   "source": [
    "### DROP OUT = 0.1 ###\n",
    "\n",
    "from tensorflow.keras.layers import Dropout\n",
    "\n",
    "# Initialising the model \n",
    "lstm_model_1 = Sequential()\n",
    "\n",
    "# Defining model: add layers \n",
    "lstm_model_1.add(Embedding(\n",
    "    max_words,\n",
    "    EMBEDDING_VECTOR_LENGTH,\n",
    "    input_length=max_len,\n",
    "    weights=[embedding_matrix],\n",
    "    trainable=True,\n",
    ")) #glove embedding\n",
    "lstm_model_1.add(LSTM(64, input_shape=(max_len, EMBEDDING_VECTOR_LENGTH))) #LSTM layer\n",
    "lstm_model_1.add(Dropout(0.1))\n",
    "lstm_model_1.add(Dense(256, activation='relu')) # Additional dense layer\n",
    "lstm_model_1.add(Dense(128, activation='relu')) # Additional dense layer\n",
    "lstm_model_1.add(Dropout(0.1))\n",
    "lstm_model_1.add(Dense(64, activation='relu')) # Additional dense layer\n",
    "lstm_model_1.add(Dense(16, activation='softmax')) #dense layer - the last one\n",
    "\n",
    "\n",
    "# Compile model\n",
    "lstm_model_1.compile(loss=\"categorical_crossentropy\", optimizer=\"adam\", metrics=[\"accuracy\"])\n",
    "\n",
    "print(lstm_model_1.summary())\n"
   ]
  },
  {
   "cell_type": "markdown",
   "id": "2932d794",
   "metadata": {},
   "source": [
    "#### Train model with Dropout = 0.1"
   ]
  },
  {
   "cell_type": "code",
   "execution_count": 91,
   "id": "dd2f2edb",
   "metadata": {},
   "outputs": [
    {
     "name": "stdout",
     "output_type": "stream",
     "text": [
      "processing fold 0\n",
      "Epoch 1/5\n",
      "147/147 - 12s - loss: 2.1887 - accuracy: 0.2697 - val_loss: 2.0934 - val_accuracy: 0.3027 - 12s/epoch - 79ms/step\n",
      "Epoch 2/5\n",
      "147/147 - 9s - loss: 2.1407 - accuracy: 0.2836 - val_loss: 2.0436 - val_accuracy: 0.3193 - 9s/epoch - 60ms/step\n",
      "Epoch 3/5\n",
      "147/147 - 6s - loss: 2.0864 - accuracy: 0.3008 - val_loss: 1.9962 - val_accuracy: 0.3396 - 6s/epoch - 44ms/step\n",
      "Epoch 4/5\n",
      "147/147 - 8s - loss: 2.0424 - accuracy: 0.3173 - val_loss: 1.9379 - val_accuracy: 0.3564 - 8s/epoch - 53ms/step\n",
      "Epoch 5/5\n",
      "147/147 - 7s - loss: 1.9883 - accuracy: 0.3314 - val_loss: 1.9048 - val_accuracy: 0.3801 - 7s/epoch - 49ms/step\n",
      "processing fold 1\n",
      "Epoch 1/5\n",
      "147/147 - 10s - loss: 2.0424 - accuracy: 0.3211 - val_loss: 1.9060 - val_accuracy: 0.3737 - 10s/epoch - 68ms/step\n",
      "Epoch 2/5\n",
      "147/147 - 5s - loss: 1.9714 - accuracy: 0.3415 - val_loss: 1.9135 - val_accuracy: 0.3592 - 5s/epoch - 36ms/step\n",
      "Epoch 3/5\n",
      "147/147 - 5s - loss: 1.9181 - accuracy: 0.3577 - val_loss: 1.9565 - val_accuracy: 0.3407 - 5s/epoch - 36ms/step\n",
      "Epoch 4/5\n",
      "147/147 - 6s - loss: 1.8710 - accuracy: 0.3719 - val_loss: 2.0048 - val_accuracy: 0.3270 - 6s/epoch - 39ms/step\n",
      "Epoch 5/5\n",
      "147/147 - 6s - loss: 1.8112 - accuracy: 0.3873 - val_loss: 2.0176 - val_accuracy: 0.3159 - 6s/epoch - 39ms/step\n",
      "processing fold 2\n",
      "Epoch 1/5\n",
      "147/147 - 10s - loss: 1.8791 - accuracy: 0.3719 - val_loss: 1.6367 - val_accuracy: 0.4641 - 10s/epoch - 67ms/step\n",
      "Epoch 2/5\n",
      "147/147 - 6s - loss: 1.8099 - accuracy: 0.3941 - val_loss: 1.6668 - val_accuracy: 0.4406 - 6s/epoch - 40ms/step\n",
      "Epoch 3/5\n",
      "147/147 - 7s - loss: 1.7514 - accuracy: 0.4096 - val_loss: 1.7069 - val_accuracy: 0.4287 - 7s/epoch - 47ms/step\n",
      "Epoch 4/5\n",
      "147/147 - 6s - loss: 1.6937 - accuracy: 0.4339 - val_loss: 1.7319 - val_accuracy: 0.4140 - 6s/epoch - 42ms/step\n",
      "Epoch 5/5\n",
      "147/147 - 9s - loss: 1.6579 - accuracy: 0.4443 - val_loss: 1.7803 - val_accuracy: 0.4063 - 9s/epoch - 59ms/step\n",
      "processing fold 3\n",
      "Epoch 1/5\n",
      "147/147 - 14s - loss: 1.7084 - accuracy: 0.4268 - val_loss: 1.4108 - val_accuracy: 0.5425 - 14s/epoch - 93ms/step\n",
      "Epoch 2/5\n",
      "147/147 - 9s - loss: 1.6225 - accuracy: 0.4541 - val_loss: 1.4488 - val_accuracy: 0.5244 - 9s/epoch - 58ms/step\n",
      "Epoch 3/5\n",
      "147/147 - 7s - loss: 1.5755 - accuracy: 0.4666 - val_loss: 1.4770 - val_accuracy: 0.5074 - 7s/epoch - 48ms/step\n",
      "Epoch 4/5\n",
      "147/147 - 5s - loss: 1.5339 - accuracy: 0.4842 - val_loss: 1.5163 - val_accuracy: 0.4933 - 5s/epoch - 37ms/step\n",
      "Epoch 5/5\n",
      "147/147 - 5s - loss: 1.4806 - accuracy: 0.5017 - val_loss: 1.5325 - val_accuracy: 0.4824 - 5s/epoch - 36ms/step\n",
      "processing fold 4\n",
      "Epoch 1/5\n",
      "147/147 - 10s - loss: 1.5534 - accuracy: 0.4778 - val_loss: 1.1867 - val_accuracy: 0.6389 - 10s/epoch - 65ms/step\n",
      "Epoch 2/5\n",
      "147/147 - 6s - loss: 1.4737 - accuracy: 0.5060 - val_loss: 1.2175 - val_accuracy: 0.6026 - 6s/epoch - 43ms/step\n",
      "Epoch 3/5\n",
      "147/147 - 5s - loss: 1.4443 - accuracy: 0.5115 - val_loss: 1.2539 - val_accuracy: 0.5931 - 5s/epoch - 35ms/step\n",
      "Epoch 4/5\n",
      "147/147 - 5s - loss: 1.3690 - accuracy: 0.5362 - val_loss: 1.2844 - val_accuracy: 0.5685 - 5s/epoch - 34ms/step\n",
      "Epoch 5/5\n",
      "147/147 - 5s - loss: 1.3365 - accuracy: 0.5465 - val_loss: 1.3454 - val_accuracy: 0.5476 - 5s/epoch - 35ms/step\n",
      "processing fold 0\n",
      "Epoch 1/5\n",
      "147/147 - 8s - loss: 1.3645 - accuracy: 0.5382 - val_loss: 1.1807 - val_accuracy: 0.6215 - 8s/epoch - 53ms/step\n",
      "Epoch 2/5\n",
      "147/147 - 5s - loss: 1.2890 - accuracy: 0.5644 - val_loss: 1.2005 - val_accuracy: 0.6008 - 5s/epoch - 35ms/step\n",
      "Epoch 3/5\n",
      "147/147 - 5s - loss: 1.2400 - accuracy: 0.5814 - val_loss: 1.2840 - val_accuracy: 0.5716 - 5s/epoch - 34ms/step\n",
      "Epoch 4/5\n",
      "147/147 - 5s - loss: 1.1986 - accuracy: 0.5912 - val_loss: 1.3037 - val_accuracy: 0.5616 - 5s/epoch - 35ms/step\n",
      "Epoch 5/5\n",
      "147/147 - 6s - loss: 1.1618 - accuracy: 0.6046 - val_loss: 1.3833 - val_accuracy: 0.5286 - 6s/epoch - 39ms/step\n",
      "processing fold 1\n",
      "Epoch 1/5\n",
      "147/147 - 10s - loss: 1.2605 - accuracy: 0.5769 - val_loss: 0.9577 - val_accuracy: 0.6958 - 10s/epoch - 69ms/step\n",
      "Epoch 2/5\n",
      "147/147 - 7s - loss: 1.1822 - accuracy: 0.6026 - val_loss: 1.0117 - val_accuracy: 0.6698 - 7s/epoch - 47ms/step\n",
      "Epoch 3/5\n",
      "147/147 - 8s - loss: 1.1324 - accuracy: 0.6173 - val_loss: 1.0211 - val_accuracy: 0.6587 - 8s/epoch - 54ms/step\n",
      "Epoch 4/5\n",
      "147/147 - 7s - loss: 1.1079 - accuracy: 0.6245 - val_loss: 1.0909 - val_accuracy: 0.6310 - 7s/epoch - 50ms/step\n",
      "Epoch 5/5\n",
      "147/147 - 6s - loss: 1.0679 - accuracy: 0.6398 - val_loss: 1.1351 - val_accuracy: 0.6163 - 6s/epoch - 40ms/step\n",
      "processing fold 2\n",
      "Epoch 1/5\n",
      "147/147 - 8s - loss: 1.1508 - accuracy: 0.6158 - val_loss: 0.7826 - val_accuracy: 0.7691 - 8s/epoch - 52ms/step\n",
      "Epoch 2/5\n",
      "147/147 - 5s - loss: 1.0789 - accuracy: 0.6397 - val_loss: 0.8573 - val_accuracy: 0.7274 - 5s/epoch - 34ms/step\n",
      "Epoch 3/5\n",
      "147/147 - 5s - loss: 1.0556 - accuracy: 0.6442 - val_loss: 0.8719 - val_accuracy: 0.7158 - 5s/epoch - 33ms/step\n",
      "Epoch 4/5\n",
      "147/147 - 5s - loss: 1.0027 - accuracy: 0.6588 - val_loss: 0.9035 - val_accuracy: 0.7067 - 5s/epoch - 34ms/step\n",
      "Epoch 5/5\n",
      "147/147 - 6s - loss: 0.9655 - accuracy: 0.6739 - val_loss: 0.9304 - val_accuracy: 0.6871 - 6s/epoch - 39ms/step\n",
      "processing fold 3\n",
      "Epoch 1/5\n",
      "147/147 - 8s - loss: 1.0461 - accuracy: 0.6469 - val_loss: 0.6842 - val_accuracy: 0.8041 - 8s/epoch - 54ms/step\n",
      "Epoch 2/5\n",
      "147/147 - 7s - loss: 0.9722 - accuracy: 0.6694 - val_loss: 0.6750 - val_accuracy: 0.7928 - 7s/epoch - 47ms/step\n",
      "Epoch 3/5\n",
      "147/147 - 5s - loss: 0.9295 - accuracy: 0.6853 - val_loss: 0.7379 - val_accuracy: 0.7640 - 5s/epoch - 35ms/step\n",
      "Epoch 4/5\n",
      "147/147 - 6s - loss: 0.9224 - accuracy: 0.6875 - val_loss: 0.7667 - val_accuracy: 0.7493 - 6s/epoch - 42ms/step\n",
      "Epoch 5/5\n",
      "147/147 - 8s - loss: 0.8785 - accuracy: 0.7013 - val_loss: 0.8534 - val_accuracy: 0.7143 - 8s/epoch - 53ms/step\n",
      "processing fold 4\n",
      "Epoch 1/5\n",
      "147/147 - 9s - loss: 0.9501 - accuracy: 0.6760 - val_loss: 0.5365 - val_accuracy: 0.8512 - 9s/epoch - 62ms/step\n",
      "Epoch 2/5\n",
      "147/147 - 5s - loss: 0.9044 - accuracy: 0.6952 - val_loss: 0.5981 - val_accuracy: 0.8177 - 5s/epoch - 34ms/step\n",
      "Epoch 3/5\n",
      "147/147 - 6s - loss: 0.8560 - accuracy: 0.7093 - val_loss: 0.6115 - val_accuracy: 0.8090 - 6s/epoch - 41ms/step\n",
      "Epoch 4/5\n",
      "147/147 - 5s - loss: 0.8210 - accuracy: 0.7213 - val_loss: 0.6444 - val_accuracy: 0.7915 - 5s/epoch - 35ms/step\n",
      "Epoch 5/5\n",
      "147/147 - 5s - loss: 0.7795 - accuracy: 0.7398 - val_loss: 0.6700 - val_accuracy: 0.7757 - 5s/epoch - 34ms/step\n",
      "processing fold 0\n",
      "Epoch 1/5\n",
      "147/147 - 8s - loss: 0.8531 - accuracy: 0.7105 - val_loss: 0.5503 - val_accuracy: 0.8399 - 8s/epoch - 52ms/step\n",
      "Epoch 2/5\n",
      "147/147 - 6s - loss: 0.7910 - accuracy: 0.7319 - val_loss: 0.5688 - val_accuracy: 0.8261 - 6s/epoch - 42ms/step\n",
      "Epoch 3/5\n",
      "147/147 - 6s - loss: 0.7642 - accuracy: 0.7447 - val_loss: 0.6061 - val_accuracy: 0.8022 - 6s/epoch - 39ms/step\n",
      "Epoch 4/5\n",
      "147/147 - 5s - loss: 0.7343 - accuracy: 0.7519 - val_loss: 0.6335 - val_accuracy: 0.7941 - 5s/epoch - 35ms/step\n",
      "Epoch 5/5\n",
      "147/147 - 5s - loss: 0.7140 - accuracy: 0.7569 - val_loss: 0.6902 - val_accuracy: 0.7734 - 5s/epoch - 37ms/step\n",
      "processing fold 1\n",
      "Epoch 1/5\n",
      "147/147 - 8s - loss: 0.7884 - accuracy: 0.7315 - val_loss: 0.4226 - val_accuracy: 0.8825 - 8s/epoch - 57ms/step\n",
      "Epoch 2/5\n",
      "147/147 - 6s - loss: 0.7333 - accuracy: 0.7562 - val_loss: 0.4468 - val_accuracy: 0.8672 - 6s/epoch - 38ms/step\n",
      "Epoch 3/5\n",
      "147/147 - 5s - loss: 0.7066 - accuracy: 0.7630 - val_loss: 0.4948 - val_accuracy: 0.8465 - 5s/epoch - 36ms/step\n",
      "Epoch 4/5\n",
      "147/147 - 6s - loss: 0.6730 - accuracy: 0.7726 - val_loss: 0.5509 - val_accuracy: 0.8216 - 6s/epoch - 39ms/step\n",
      "Epoch 5/5\n",
      "147/147 - 5s - loss: 0.6678 - accuracy: 0.7756 - val_loss: 0.5754 - val_accuracy: 0.8109 - 5s/epoch - 37ms/step\n",
      "processing fold 2\n",
      "Epoch 1/5\n",
      "147/147 - 8s - loss: 0.7467 - accuracy: 0.7458 - val_loss: 0.3478 - val_accuracy: 0.9096 - 8s/epoch - 54ms/step\n",
      "Epoch 2/5\n",
      "147/147 - 5s - loss: 0.6754 - accuracy: 0.7711 - val_loss: 0.3673 - val_accuracy: 0.8987 - 5s/epoch - 35ms/step\n",
      "Epoch 3/5\n",
      "147/147 - 5s - loss: 0.6540 - accuracy: 0.7740 - val_loss: 0.4408 - val_accuracy: 0.8698 - 5s/epoch - 35ms/step\n",
      "Epoch 4/5\n",
      "147/147 - 5s - loss: 0.6424 - accuracy: 0.7821 - val_loss: 0.4336 - val_accuracy: 0.8672 - 5s/epoch - 37ms/step\n",
      "Epoch 5/5\n",
      "147/147 - 6s - loss: 0.6143 - accuracy: 0.7936 - val_loss: 0.4679 - val_accuracy: 0.8542 - 6s/epoch - 39ms/step\n",
      "processing fold 3\n",
      "Epoch 1/5\n"
     ]
    },
    {
     "name": "stdout",
     "output_type": "stream",
     "text": [
      "147/147 - 8s - loss: 0.6937 - accuracy: 0.7662 - val_loss: 0.2888 - val_accuracy: 0.9265 - 8s/epoch - 55ms/step\n",
      "Epoch 2/5\n",
      "147/147 - 6s - loss: 0.6270 - accuracy: 0.7902 - val_loss: 0.3379 - val_accuracy: 0.9090 - 6s/epoch - 40ms/step\n",
      "Epoch 3/5\n",
      "147/147 - 6s - loss: 0.6101 - accuracy: 0.7932 - val_loss: 0.3456 - val_accuracy: 0.8962 - 6s/epoch - 39ms/step\n",
      "Epoch 4/5\n",
      "147/147 - 5s - loss: 0.5948 - accuracy: 0.7994 - val_loss: 0.3708 - val_accuracy: 0.8872 - 5s/epoch - 35ms/step\n",
      "Epoch 5/5\n",
      "147/147 - 6s - loss: 0.5569 - accuracy: 0.8123 - val_loss: 0.3977 - val_accuracy: 0.8734 - 6s/epoch - 42ms/step\n",
      "processing fold 4\n",
      "Epoch 1/5\n",
      "147/147 - 8s - loss: 0.6308 - accuracy: 0.7864 - val_loss: 0.2494 - val_accuracy: 0.9446 - 8s/epoch - 57ms/step\n",
      "Epoch 2/5\n",
      "147/147 - 5s - loss: 0.5774 - accuracy: 0.8056 - val_loss: 0.2613 - val_accuracy: 0.9343 - 5s/epoch - 37ms/step\n",
      "Epoch 3/5\n",
      "147/147 - 5s - loss: 0.5643 - accuracy: 0.8096 - val_loss: 0.3076 - val_accuracy: 0.9124 - 5s/epoch - 36ms/step\n",
      "Epoch 4/5\n",
      "147/147 - 6s - loss: 0.5449 - accuracy: 0.8150 - val_loss: 0.3306 - val_accuracy: 0.9081 - 6s/epoch - 39ms/step\n",
      "Epoch 5/5\n",
      "147/147 - 6s - loss: 0.5300 - accuracy: 0.8216 - val_loss: 0.3335 - val_accuracy: 0.9034 - 6s/epoch - 40ms/step\n",
      "processing fold 0\n",
      "Epoch 1/5\n",
      "147/147 - 8s - loss: 0.5546 - accuracy: 0.8128 - val_loss: 0.2732 - val_accuracy: 0.9282 - 8s/epoch - 53ms/step\n",
      "Epoch 2/5\n",
      "147/147 - 5s - loss: 0.5314 - accuracy: 0.8239 - val_loss: 0.2943 - val_accuracy: 0.9186 - 5s/epoch - 36ms/step\n",
      "Epoch 3/5\n",
      "147/147 - 6s - loss: 0.5043 - accuracy: 0.8302 - val_loss: 0.3264 - val_accuracy: 0.9013 - 6s/epoch - 42ms/step\n",
      "Epoch 4/5\n",
      "147/147 - 6s - loss: 0.4830 - accuracy: 0.8373 - val_loss: 0.3671 - val_accuracy: 0.8849 - 6s/epoch - 43ms/step\n",
      "Epoch 5/5\n",
      "147/147 - 6s - loss: 0.4779 - accuracy: 0.8406 - val_loss: 0.3686 - val_accuracy: 0.8809 - 6s/epoch - 41ms/step\n",
      "processing fold 1\n",
      "Epoch 1/5\n",
      "147/147 - 10s - loss: 0.5626 - accuracy: 0.8105 - val_loss: 0.2057 - val_accuracy: 0.9512 - 10s/epoch - 69ms/step\n",
      "Epoch 2/5\n",
      "147/147 - 7s - loss: 0.5041 - accuracy: 0.8269 - val_loss: 0.2279 - val_accuracy: 0.9418 - 7s/epoch - 50ms/step\n",
      "Epoch 3/5\n",
      "147/147 - 6s - loss: 0.4786 - accuracy: 0.8373 - val_loss: 0.2698 - val_accuracy: 0.9269 - 6s/epoch - 41ms/step\n",
      "Epoch 4/5\n",
      "147/147 - 6s - loss: 0.4688 - accuracy: 0.8422 - val_loss: 0.2680 - val_accuracy: 0.9216 - 6s/epoch - 38ms/step\n",
      "Epoch 5/5\n",
      "147/147 - 6s - loss: 0.4566 - accuracy: 0.8464 - val_loss: 0.3015 - val_accuracy: 0.9105 - 6s/epoch - 39ms/step\n",
      "processing fold 2\n",
      "Epoch 1/5\n",
      "147/147 - 18s - loss: 0.5304 - accuracy: 0.8201 - val_loss: 0.1614 - val_accuracy: 0.9665 - 18s/epoch - 125ms/step\n",
      "Epoch 2/5\n",
      "147/147 - 6s - loss: 0.4720 - accuracy: 0.8403 - val_loss: 0.1745 - val_accuracy: 0.9554 - 6s/epoch - 40ms/step\n",
      "Epoch 3/5\n",
      "147/147 - 6s - loss: 0.4548 - accuracy: 0.8467 - val_loss: 0.1937 - val_accuracy: 0.9493 - 6s/epoch - 41ms/step\n",
      "Epoch 4/5\n",
      "147/147 - 6s - loss: 0.4384 - accuracy: 0.8543 - val_loss: 0.2266 - val_accuracy: 0.9356 - 6s/epoch - 43ms/step\n",
      "Epoch 5/5\n",
      "147/147 - 7s - loss: 0.4470 - accuracy: 0.8493 - val_loss: 0.2555 - val_accuracy: 0.9226 - 7s/epoch - 46ms/step\n",
      "processing fold 3\n",
      "Epoch 1/5\n",
      "147/147 - 10s - loss: 0.5015 - accuracy: 0.8323 - val_loss: 0.1633 - val_accuracy: 0.9670 - 10s/epoch - 67ms/step\n",
      "Epoch 2/5\n",
      "147/147 - 8s - loss: 0.4501 - accuracy: 0.8473 - val_loss: 0.1540 - val_accuracy: 0.9621 - 8s/epoch - 57ms/step\n",
      "Epoch 3/5\n",
      "147/147 - 10s - loss: 0.4374 - accuracy: 0.8522 - val_loss: 0.1780 - val_accuracy: 0.9563 - 10s/epoch - 70ms/step\n",
      "Epoch 4/5\n",
      "147/147 - 7s - loss: 0.4202 - accuracy: 0.8612 - val_loss: 0.1985 - val_accuracy: 0.9463 - 7s/epoch - 49ms/step\n",
      "Epoch 5/5\n",
      "147/147 - 6s - loss: 0.4217 - accuracy: 0.8574 - val_loss: 0.2452 - val_accuracy: 0.9239 - 6s/epoch - 44ms/step\n",
      "processing fold 4\n",
      "Epoch 1/5\n",
      "147/147 - 10s - loss: 0.4595 - accuracy: 0.8439 - val_loss: 0.1324 - val_accuracy: 0.9706 - 10s/epoch - 68ms/step\n",
      "Epoch 2/5\n",
      "147/147 - 6s - loss: 0.4202 - accuracy: 0.8576 - val_loss: 0.1435 - val_accuracy: 0.9667 - 6s/epoch - 41ms/step\n",
      "Epoch 3/5\n",
      "147/147 - 6s - loss: 0.4088 - accuracy: 0.8622 - val_loss: 0.1567 - val_accuracy: 0.9599 - 6s/epoch - 40ms/step\n",
      "Epoch 4/5\n",
      "147/147 - 6s - loss: 0.4026 - accuracy: 0.8675 - val_loss: 0.1695 - val_accuracy: 0.9591 - 6s/epoch - 38ms/step\n",
      "Epoch 5/5\n",
      "147/147 - 6s - loss: 0.3981 - accuracy: 0.8670 - val_loss: 0.1989 - val_accuracy: 0.9484 - 6s/epoch - 39ms/step\n"
     ]
    }
   ],
   "source": [
    "import numpy as np \n",
    "from sklearn.model_selection import StratifiedKFold\n",
    "from sklearn.metrics import mean_absolute_error\n",
    "\n",
    "K=4\n",
    "num_val_samples = len(X_train_resampled)//K\n",
    "num_epochs = 5\n",
    "\n",
    "#new!\n",
    "all_val_acc_3 = []\n",
    "all_val_loss_3 = []\n",
    "\n",
    "all_acc_3 = []\n",
    "all_loss_3 = []\n",
    "all_acc_history_3 = []\n",
    "all_loss_history_3 = []\n",
    "\n",
    "N_iterations=4\n",
    "N_folds=5\n",
    "        \n",
    "for i in range(N_iterations):\n",
    "    skf = StratifiedKFold(n_splits=N_folds, shuffle=True)\n",
    "    \n",
    "    for j, (train_index, val_index) in enumerate(skf.split(X_train_resampled, y_train_resampled)):\n",
    "        print('processing fold', j)\n",
    "        \n",
    "        partial_train_data = X_train_resampled[train_index]\n",
    "        val_data = X_train_resampled[val_index]\n",
    "        \n",
    "        partial_train_targets = y_train_resampled[train_index]\n",
    "        val_targets = y_train_resampled[val_index]\n",
    "        \n",
    "        # One-hot encode the target labels\n",
    "        partial_train_targets = to_categorical(partial_train_targets, num_classes=16)\n",
    "        val_targets = to_categorical(val_targets, num_classes=16)\n",
    "        \n",
    "        # Train the model \n",
    "        lstm_model_1.compile(loss=\"categorical_crossentropy\", optimizer=\"adam\", metrics=[\"accuracy\"])\n",
    "        results_3 = lstm_model_1.fit(partial_train_data, partial_train_targets, epochs=num_epochs, batch_size=128, verbose=2, validation_data = (val_data, val_targets))\n",
    "        \n",
    "        # Evaluate the model on the validation data: loss and accuracy \n",
    "        val_loss, val_acc = lstm_model_1.evaluate(val_data, val_targets, verbose=0)\n",
    "        all_val_acc_3.append(val_acc)\n",
    "        all_val_loss_3.append(val_loss)\n",
    "        \n",
    "        acc = results_3.history['accuracy']\n",
    "        all_acc_3.append(acc)\n",
    "        acc_history = results_3.history['val_accuracy']\n",
    "        all_acc_history_3.append(acc_history)\n",
    "        \n",
    "        loss = results_3.history['loss']\n",
    "        all_loss_3.append(loss)\n",
    "        loss_history = results_3.history['val_loss']\n",
    "        all_loss_history_3.append(loss_history)"
   ]
  },
  {
   "cell_type": "code",
   "execution_count": 92,
   "id": "0166e7a1",
   "metadata": {},
   "outputs": [
    {
     "data": {
      "image/png": "[encoded data removed]",
      "text/plain": [
       "<Figure size 432x288 with 1 Axes>"
      ]
     },
     "metadata": {
      "needs_background": "light"
     },
     "output_type": "display_data"
    }
   ],
   "source": [
    "plot_loss(all_loss_3, all_loss_history_3)"
   ]
  },
  {
   "cell_type": "code",
   "execution_count": 94,
   "id": "1fc8ae3c",
   "metadata": {},
   "outputs": [
    {
     "data": {
      "image/png": "[encoded data removed]",
      "text/plain": [
       "<Figure size 432x288 with 1 Axes>"
      ]
     },
     "metadata": {
      "needs_background": "light"
     },
     "output_type": "display_data"
    }
   ],
   "source": [
    "plot_acc(all_acc_3, all_acc_history_3)"
   ]
  },
  {
   "cell_type": "code",
   "execution_count": 93,
   "id": "6850b076",
   "metadata": {},
   "outputs": [
    {
     "name": "stdout",
     "output_type": "stream",
     "text": [
      "Average Loss: 0.8885290160775184\n",
      "Average Accuracy: 0.7059536874294281\n"
     ]
    }
   ],
   "source": [
    "print(\"Average Loss:\", np.mean(all_val_loss_3))\n",
    "print(\"Average Accuracy:\", np.mean(all_val_acc_3))"
   ]
  },
  {
   "cell_type": "markdown",
   "id": "f7c6686b",
   "metadata": {},
   "source": [
    "#### Build Model with Dropout=0.5"
   ]
  },
  {
   "cell_type": "code",
   "execution_count": 95,
   "id": "f2dd1c6c",
   "metadata": {},
   "outputs": [
    {
     "name": "stdout",
     "output_type": "stream",
     "text": [
      "Model: \"sequential_10\"\n",
      "_________________________________________________________________\n",
      " Layer (type)                Output Shape              Param #   \n",
      "=================================================================\n",
      " embedding_10 (Embedding)    (None, 40, 50)            125000    \n",
      "                                                                 \n",
      " lstm_10 (LSTM)              (None, 64)                29440     \n",
      "                                                                 \n",
      " dropout_2 (Dropout)         (None, 64)                0         \n",
      "                                                                 \n",
      " dense_17 (Dense)            (None, 256)               16640     \n",
      "                                                                 \n",
      " dense_18 (Dense)            (None, 128)               32896     \n",
      "                                                                 \n",
      " dropout_3 (Dropout)         (None, 128)               0         \n",
      "                                                                 \n",
      " dense_19 (Dense)            (None, 64)                8256      \n",
      "                                                                 \n",
      " dense_20 (Dense)            (None, 16)                1040      \n",
      "                                                                 \n",
      "=================================================================\n",
      "Total params: 213,272\n",
      "Trainable params: 213,272\n",
      "Non-trainable params: 0\n",
      "_________________________________________________________________\n",
      "None\n"
     ]
    }
   ],
   "source": [
    "### DROP OUT = 0.5 ###\n",
    "\n",
    "from tensorflow.keras.layers import Dropout\n",
    "\n",
    "# Initialising the model \n",
    "lstm_model_2 = Sequential()\n",
    "\n",
    "# Defining model: add layers \n",
    "lstm_model_2.add(Embedding(\n",
    "    max_words,\n",
    "    EMBEDDING_VECTOR_LENGTH,\n",
    "    input_length=max_len,\n",
    "    weights=[embedding_matrix],\n",
    "    trainable=True,\n",
    ")) #glove embedding\n",
    "lstm_model_2.add(LSTM(64, input_shape=(max_len, EMBEDDING_VECTOR_LENGTH))) #LSTM layer\n",
    "lstm_model_2.add(Dropout(0.5))\n",
    "lstm_model_2.add(Dense(256, activation='relu')) # Additional dense layer\n",
    "lstm_model_2.add(Dense(128, activation='relu')) # Additional dense layer\n",
    "lstm_model_2.add(Dropout(0.5))\n",
    "lstm_model_2.add(Dense(64, activation='relu')) # Additional dense layer\n",
    "lstm_model_2.add(Dense(16, activation='softmax')) #dense layer - the last one\n",
    "\n",
    "\n",
    "# Compile model\n",
    "lstm_model_2.compile(loss=\"categorical_crossentropy\", optimizer=\"adam\", metrics=[\"accuracy\"])\n",
    "\n",
    "print(lstm_model_2.summary())"
   ]
  },
  {
   "cell_type": "code",
   "execution_count": 96,
   "id": "d33a17f5",
   "metadata": {},
   "outputs": [
    {
     "name": "stdout",
     "output_type": "stream",
     "text": [
      "processing fold 0\n",
      "Epoch 1/5\n",
      "147/147 - 12s - loss: 2.7751 - accuracy: 0.0649 - val_loss: 2.7721 - val_accuracy: 0.0627 - 12s/epoch - 78ms/step\n",
      "Epoch 2/5\n",
      "147/147 - 6s - loss: 2.7727 - accuracy: 0.0624 - val_loss: 2.7683 - val_accuracy: 0.0744 - 6s/epoch - 43ms/step\n",
      "Epoch 3/5\n",
      "147/147 - 9s - loss: 2.7489 - accuracy: 0.0823 - val_loss: 2.7128 - val_accuracy: 0.0934 - 9s/epoch - 60ms/step\n",
      "Epoch 4/5\n",
      "147/147 - 9s - loss: 2.6824 - accuracy: 0.1041 - val_loss: 2.6456 - val_accuracy: 0.1093 - 9s/epoch - 59ms/step\n",
      "Epoch 5/5\n",
      "147/147 - 6s - loss: 2.6203 - accuracy: 0.1137 - val_loss: 2.6169 - val_accuracy: 0.1123 - 6s/epoch - 43ms/step\n",
      "processing fold 1\n",
      "Epoch 1/5\n",
      "147/147 - 11s - loss: 2.6016 - accuracy: 0.1178 - val_loss: 2.5721 - val_accuracy: 0.1249 - 11s/epoch - 73ms/step\n",
      "Epoch 2/5\n",
      "147/147 - 8s - loss: 2.5788 - accuracy: 0.1237 - val_loss: 2.5627 - val_accuracy: 0.1288 - 8s/epoch - 56ms/step\n",
      "Epoch 3/5\n",
      "147/147 - 6s - loss: 2.5644 - accuracy: 0.1254 - val_loss: 2.5760 - val_accuracy: 0.1247 - 6s/epoch - 39ms/step\n",
      "Epoch 4/5\n",
      "147/147 - 7s - loss: 2.5402 - accuracy: 0.1273 - val_loss: 2.5725 - val_accuracy: 0.1356 - 7s/epoch - 50ms/step\n",
      "Epoch 5/5\n",
      "147/147 - 6s - loss: 2.5279 - accuracy: 0.1370 - val_loss: 2.5796 - val_accuracy: 0.1285 - 6s/epoch - 40ms/step\n",
      "processing fold 2\n",
      "Epoch 1/5\n",
      "147/147 - 9s - loss: 2.5334 - accuracy: 0.1380 - val_loss: 2.4944 - val_accuracy: 0.1475 - 9s/epoch - 61ms/step\n",
      "Epoch 2/5\n",
      "147/147 - 6s - loss: 2.5168 - accuracy: 0.1394 - val_loss: 2.5008 - val_accuracy: 0.1456 - 6s/epoch - 41ms/step\n",
      "Epoch 3/5\n",
      "147/147 - 6s - loss: 2.5009 - accuracy: 0.1443 - val_loss: 2.5054 - val_accuracy: 0.1507 - 6s/epoch - 43ms/step\n",
      "Epoch 4/5\n",
      "147/147 - 6s - loss: 2.4852 - accuracy: 0.1534 - val_loss: 2.5043 - val_accuracy: 0.1458 - 6s/epoch - 40ms/step\n",
      "Epoch 5/5\n",
      "147/147 - 7s - loss: 2.4701 - accuracy: 0.1562 - val_loss: 2.5184 - val_accuracy: 0.1460 - 7s/epoch - 46ms/step\n",
      "processing fold 3\n",
      "Epoch 1/5\n",
      "147/147 - 11s - loss: 2.4768 - accuracy: 0.1573 - val_loss: 2.4383 - val_accuracy: 0.1673 - 11s/epoch - 73ms/step\n",
      "Epoch 2/5\n",
      "147/147 - 7s - loss: 2.4584 - accuracy: 0.1577 - val_loss: 2.4511 - val_accuracy: 0.1733 - 7s/epoch - 49ms/step\n",
      "Epoch 3/5\n",
      "147/147 - 8s - loss: 2.4421 - accuracy: 0.1622 - val_loss: 2.4475 - val_accuracy: 0.1731 - 8s/epoch - 56ms/step\n",
      "Epoch 4/5\n",
      "147/147 - 7s - loss: 2.4263 - accuracy: 0.1664 - val_loss: 2.4636 - val_accuracy: 0.1727 - 7s/epoch - 45ms/step\n",
      "Epoch 5/5\n",
      "147/147 - 7s - loss: 2.4079 - accuracy: 0.1701 - val_loss: 2.4696 - val_accuracy: 0.1671 - 7s/epoch - 49ms/step\n",
      "processing fold 4\n",
      "Epoch 1/5\n",
      "147/147 - 13s - loss: 2.4376 - accuracy: 0.1651 - val_loss: 2.3446 - val_accuracy: 0.1899 - 13s/epoch - 87ms/step\n",
      "Epoch 2/5\n",
      "147/147 - 8s - loss: 2.4092 - accuracy: 0.1747 - val_loss: 2.3475 - val_accuracy: 0.1844 - 8s/epoch - 57ms/step\n",
      "Epoch 3/5\n",
      "147/147 - 8s - loss: 2.3904 - accuracy: 0.1795 - val_loss: 2.3525 - val_accuracy: 0.1833 - 8s/epoch - 55ms/step\n",
      "Epoch 4/5\n",
      "147/147 - 6s - loss: 2.3754 - accuracy: 0.1815 - val_loss: 2.3809 - val_accuracy: 0.1765 - 6s/epoch - 43ms/step\n",
      "Epoch 5/5\n",
      "147/147 - 7s - loss: 2.3589 - accuracy: 0.1852 - val_loss: 2.3698 - val_accuracy: 0.1735 - 7s/epoch - 51ms/step\n",
      "processing fold 0\n",
      "Epoch 1/5\n",
      "147/147 - 10s - loss: 2.3619 - accuracy: 0.1815 - val_loss: 2.3254 - val_accuracy: 0.1957 - 10s/epoch - 67ms/step\n",
      "Epoch 2/5\n",
      "147/147 - 7s - loss: 2.3374 - accuracy: 0.1898 - val_loss: 2.3333 - val_accuracy: 0.1910 - 7s/epoch - 49ms/step\n",
      "Epoch 3/5\n",
      "147/147 - 7s - loss: 2.3183 - accuracy: 0.1975 - val_loss: 2.3525 - val_accuracy: 0.1831 - 7s/epoch - 45ms/step\n",
      "Epoch 4/5\n",
      "147/147 - 7s - loss: 2.3067 - accuracy: 0.1990 - val_loss: 2.3838 - val_accuracy: 0.1837 - 7s/epoch - 47ms/step\n",
      "Epoch 5/5\n",
      "147/147 - 6s - loss: 2.2850 - accuracy: 0.2022 - val_loss: 2.3810 - val_accuracy: 0.1775 - 6s/epoch - 42ms/step\n",
      "processing fold 1\n",
      "Epoch 1/5\n",
      "147/147 - 9s - loss: 2.3112 - accuracy: 0.1960 - val_loss: 2.2534 - val_accuracy: 0.2168 - 9s/epoch - 59ms/step\n",
      "Epoch 2/5\n",
      "147/147 - 5s - loss: 2.2820 - accuracy: 0.2050 - val_loss: 2.2524 - val_accuracy: 0.2136 - 5s/epoch - 35ms/step\n",
      "Epoch 3/5\n",
      "147/147 - 5s - loss: 2.2673 - accuracy: 0.2094 - val_loss: 2.3165 - val_accuracy: 0.1912 - 5s/epoch - 36ms/step\n",
      "Epoch 4/5\n",
      "147/147 - 5s - loss: 2.2460 - accuracy: 0.2153 - val_loss: 2.2711 - val_accuracy: 0.2057 - 5s/epoch - 35ms/step\n",
      "Epoch 5/5\n",
      "147/147 - 5s - loss: 2.2315 - accuracy: 0.2154 - val_loss: 2.2966 - val_accuracy: 0.2012 - 5s/epoch - 37ms/step\n",
      "processing fold 2\n",
      "Epoch 1/5\n",
      "147/147 - 10s - loss: 2.2600 - accuracy: 0.2117 - val_loss: 2.1657 - val_accuracy: 0.2366 - 10s/epoch - 69ms/step\n",
      "Epoch 2/5\n",
      "147/147 - 7s - loss: 2.2229 - accuracy: 0.2198 - val_loss: 2.2238 - val_accuracy: 0.2296 - 7s/epoch - 45ms/step\n",
      "Epoch 3/5\n",
      "147/147 - 5s - loss: 2.2097 - accuracy: 0.2229 - val_loss: 2.2085 - val_accuracy: 0.2328 - 5s/epoch - 37ms/step\n",
      "Epoch 4/5\n",
      "147/147 - 6s - loss: 2.1870 - accuracy: 0.2289 - val_loss: 2.2309 - val_accuracy: 0.2281 - 6s/epoch - 44ms/step\n",
      "Epoch 5/5\n",
      "147/147 - 7s - loss: 2.1758 - accuracy: 0.2300 - val_loss: 2.2381 - val_accuracy: 0.2283 - 7s/epoch - 44ms/step\n",
      "processing fold 3\n",
      "Epoch 1/5\n",
      "147/147 - 10s - loss: 2.2078 - accuracy: 0.2294 - val_loss: 2.1277 - val_accuracy: 0.2422 - 10s/epoch - 65ms/step\n",
      "Epoch 2/5\n",
      "147/147 - 7s - loss: 2.1741 - accuracy: 0.2304 - val_loss: 2.1150 - val_accuracy: 0.2535 - 7s/epoch - 49ms/step\n",
      "Epoch 3/5\n",
      "147/147 - 5s - loss: 2.1519 - accuracy: 0.2414 - val_loss: 2.1281 - val_accuracy: 0.2492 - 5s/epoch - 35ms/step\n",
      "Epoch 4/5\n",
      "147/147 - 5s - loss: 2.1379 - accuracy: 0.2398 - val_loss: 2.1308 - val_accuracy: 0.2462 - 5s/epoch - 33ms/step\n",
      "Epoch 5/5\n",
      "147/147 - 5s - loss: 2.1137 - accuracy: 0.2492 - val_loss: 2.1502 - val_accuracy: 0.2345 - 5s/epoch - 34ms/step\n",
      "processing fold 4\n",
      "Epoch 1/5\n",
      "147/147 - 8s - loss: 2.1479 - accuracy: 0.2402 - val_loss: 2.0097 - val_accuracy: 0.2910 - 8s/epoch - 53ms/step\n",
      "Epoch 2/5\n",
      "147/147 - 5s - loss: 2.1032 - accuracy: 0.2555 - val_loss: 2.0315 - val_accuracy: 0.2812 - 5s/epoch - 36ms/step\n",
      "Epoch 3/5\n",
      "147/147 - 5s - loss: 2.0952 - accuracy: 0.2527 - val_loss: 2.0409 - val_accuracy: 0.2752 - 5s/epoch - 34ms/step\n",
      "Epoch 4/5\n",
      "147/147 - 5s - loss: 2.0879 - accuracy: 0.2587 - val_loss: 2.0528 - val_accuracy: 0.2601 - 5s/epoch - 36ms/step\n",
      "Epoch 5/5\n",
      "147/147 - 6s - loss: 2.0615 - accuracy: 0.2622 - val_loss: 2.0566 - val_accuracy: 0.2631 - 6s/epoch - 39ms/step\n",
      "processing fold 0\n",
      "Epoch 1/5\n",
      "147/147 - 9s - loss: 2.0725 - accuracy: 0.2612 - val_loss: 1.9985 - val_accuracy: 0.2790 - 9s/epoch - 61ms/step\n",
      "Epoch 2/5\n",
      "147/147 - 6s - loss: 2.0418 - accuracy: 0.2689 - val_loss: 2.0180 - val_accuracy: 0.2645 - 6s/epoch - 38ms/step\n",
      "Epoch 3/5\n",
      "147/147 - 5s - loss: 2.0131 - accuracy: 0.2790 - val_loss: 2.0494 - val_accuracy: 0.2685 - 5s/epoch - 35ms/step\n",
      "Epoch 4/5\n",
      "147/147 - 6s - loss: 2.0166 - accuracy: 0.2724 - val_loss: 2.0486 - val_accuracy: 0.2626 - 6s/epoch - 38ms/step\n",
      "Epoch 5/5\n",
      "147/147 - 6s - loss: 1.9892 - accuracy: 0.2819 - val_loss: 2.0508 - val_accuracy: 0.2658 - 6s/epoch - 44ms/step\n",
      "processing fold 1\n",
      "Epoch 1/5\n",
      "147/147 - 9s - loss: 2.0231 - accuracy: 0.2723 - val_loss: 1.9677 - val_accuracy: 0.2859 - 9s/epoch - 58ms/step\n",
      "Epoch 2/5\n",
      "147/147 - 5s - loss: 1.9845 - accuracy: 0.2824 - val_loss: 1.9560 - val_accuracy: 0.2938 - 5s/epoch - 34ms/step\n",
      "Epoch 3/5\n",
      "147/147 - 5s - loss: 1.9703 - accuracy: 0.2875 - val_loss: 1.9455 - val_accuracy: 0.2859 - 5s/epoch - 33ms/step\n",
      "Epoch 4/5\n",
      "147/147 - 6s - loss: 1.9700 - accuracy: 0.2894 - val_loss: 1.9730 - val_accuracy: 0.2982 - 6s/epoch - 39ms/step\n",
      "Epoch 5/5\n",
      "147/147 - 5s - loss: 1.9433 - accuracy: 0.2959 - val_loss: 2.0145 - val_accuracy: 0.2837 - 5s/epoch - 36ms/step\n",
      "processing fold 2\n",
      "Epoch 1/5\n",
      "147/147 - 8s - loss: 1.9785 - accuracy: 0.2890 - val_loss: 1.8628 - val_accuracy: 0.3251 - 8s/epoch - 57ms/step\n",
      "Epoch 2/5\n",
      "147/147 - 5s - loss: 1.9477 - accuracy: 0.2942 - val_loss: 1.8678 - val_accuracy: 0.3089 - 5s/epoch - 35ms/step\n",
      "Epoch 3/5\n",
      "147/147 - 5s - loss: 1.9208 - accuracy: 0.3027 - val_loss: 1.9175 - val_accuracy: 0.2963 - 5s/epoch - 36ms/step\n",
      "Epoch 4/5\n",
      "147/147 - 5s - loss: 1.9107 - accuracy: 0.3095 - val_loss: 1.9657 - val_accuracy: 0.2859 - 5s/epoch - 37ms/step\n",
      "Epoch 5/5\n",
      "147/147 - 5s - loss: 1.8909 - accuracy: 0.3124 - val_loss: 1.9090 - val_accuracy: 0.3014 - 5s/epoch - 36ms/step\n",
      "processing fold 3\n",
      "Epoch 1/5\n"
     ]
    },
    {
     "name": "stdout",
     "output_type": "stream",
     "text": [
      "147/147 - 9s - loss: 1.9167 - accuracy: 0.3025 - val_loss: 1.8368 - val_accuracy: 0.3453 - 9s/epoch - 59ms/step\n",
      "Epoch 2/5\n",
      "147/147 - 5s - loss: 1.8936 - accuracy: 0.3106 - val_loss: 1.8427 - val_accuracy: 0.3485 - 5s/epoch - 34ms/step\n",
      "Epoch 3/5\n",
      "147/147 - 5s - loss: 1.8681 - accuracy: 0.3181 - val_loss: 1.8705 - val_accuracy: 0.3283 - 5s/epoch - 34ms/step\n",
      "Epoch 4/5\n",
      "147/147 - 5s - loss: 1.8572 - accuracy: 0.3205 - val_loss: 1.8566 - val_accuracy: 0.3302 - 5s/epoch - 35ms/step\n",
      "Epoch 5/5\n",
      "147/147 - 5s - loss: 1.8377 - accuracy: 0.3229 - val_loss: 1.8963 - val_accuracy: 0.3157 - 5s/epoch - 34ms/step\n",
      "processing fold 4\n",
      "Epoch 1/5\n",
      "147/147 - 9s - loss: 1.8870 - accuracy: 0.3127 - val_loss: 1.7242 - val_accuracy: 0.3829 - 9s/epoch - 61ms/step\n",
      "Epoch 2/5\n",
      "147/147 - 7s - loss: 1.8502 - accuracy: 0.3277 - val_loss: 1.8171 - val_accuracy: 0.3306 - 7s/epoch - 51ms/step\n",
      "Epoch 3/5\n",
      "147/147 - 7s - loss: 1.8303 - accuracy: 0.3316 - val_loss: 1.7476 - val_accuracy: 0.3743 - 7s/epoch - 48ms/step\n",
      "Epoch 4/5\n",
      "147/147 - 6s - loss: 1.8122 - accuracy: 0.3316 - val_loss: 1.7864 - val_accuracy: 0.3436 - 6s/epoch - 40ms/step\n",
      "Epoch 5/5\n",
      "147/147 - 5s - loss: 1.8002 - accuracy: 0.3390 - val_loss: 1.7787 - val_accuracy: 0.3571 - 5s/epoch - 37ms/step\n",
      "processing fold 0\n",
      "Epoch 1/5\n",
      "147/147 - 15s - loss: 1.8038 - accuracy: 0.3404 - val_loss: 1.7540 - val_accuracy: 0.3621 - 15s/epoch - 102ms/step\n",
      "Epoch 2/5\n",
      "147/147 - 10s - loss: 1.7902 - accuracy: 0.3420 - val_loss: 1.7729 - val_accuracy: 0.3472 - 10s/epoch - 68ms/step\n",
      "Epoch 3/5\n",
      "147/147 - 8s - loss: 1.7568 - accuracy: 0.3561 - val_loss: 1.8478 - val_accuracy: 0.3099 - 8s/epoch - 53ms/step\n",
      "Epoch 4/5\n",
      "147/147 - 6s - loss: 1.7514 - accuracy: 0.3566 - val_loss: 1.8134 - val_accuracy: 0.3278 - 6s/epoch - 40ms/step\n",
      "Epoch 5/5\n",
      "147/147 - 8s - loss: 1.7447 - accuracy: 0.3614 - val_loss: 1.8301 - val_accuracy: 0.3237 - 8s/epoch - 55ms/step\n",
      "processing fold 1\n",
      "Epoch 1/5\n",
      "147/147 - 11s - loss: 1.7803 - accuracy: 0.3496 - val_loss: 1.7123 - val_accuracy: 0.3756 - 11s/epoch - 75ms/step\n",
      "Epoch 2/5\n",
      "147/147 - 7s - loss: 1.7440 - accuracy: 0.3620 - val_loss: 1.7116 - val_accuracy: 0.3850 - 7s/epoch - 47ms/step\n",
      "Epoch 3/5\n",
      "147/147 - 7s - loss: 1.7253 - accuracy: 0.3676 - val_loss: 1.6820 - val_accuracy: 0.3931 - 7s/epoch - 50ms/step\n",
      "Epoch 4/5\n",
      "147/147 - 6s - loss: 1.7018 - accuracy: 0.3719 - val_loss: 1.7262 - val_accuracy: 0.3673 - 6s/epoch - 43ms/step\n",
      "Epoch 5/5\n",
      "147/147 - 6s - loss: 1.7080 - accuracy: 0.3719 - val_loss: 1.8291 - val_accuracy: 0.3276 - 6s/epoch - 41ms/step\n",
      "processing fold 2\n",
      "Epoch 1/5\n",
      "147/147 - 9s - loss: 1.7341 - accuracy: 0.3639 - val_loss: 1.6463 - val_accuracy: 0.4129 - 9s/epoch - 59ms/step\n",
      "Epoch 2/5\n",
      "147/147 - 6s - loss: 1.6947 - accuracy: 0.3803 - val_loss: 1.6718 - val_accuracy: 0.3978 - 6s/epoch - 39ms/step\n",
      "Epoch 3/5\n",
      "147/147 - 5s - loss: 1.6847 - accuracy: 0.3802 - val_loss: 1.7128 - val_accuracy: 0.3626 - 5s/epoch - 36ms/step\n",
      "Epoch 4/5\n",
      "147/147 - 6s - loss: 1.6655 - accuracy: 0.3890 - val_loss: 1.6808 - val_accuracy: 0.3841 - 6s/epoch - 39ms/step\n",
      "Epoch 5/5\n",
      "147/147 - 5s - loss: 1.6621 - accuracy: 0.3872 - val_loss: 1.6830 - val_accuracy: 0.3884 - 5s/epoch - 35ms/step\n",
      "processing fold 3\n",
      "Epoch 1/5\n",
      "147/147 - 11s - loss: 1.6924 - accuracy: 0.3791 - val_loss: 1.6264 - val_accuracy: 0.3986 - 11s/epoch - 74ms/step\n",
      "Epoch 2/5\n",
      "147/147 - 6s - loss: 1.6600 - accuracy: 0.3908 - val_loss: 1.5820 - val_accuracy: 0.4219 - 6s/epoch - 40ms/step\n",
      "Epoch 3/5\n",
      "147/147 - 6s - loss: 1.6226 - accuracy: 0.4026 - val_loss: 1.6144 - val_accuracy: 0.4020 - 6s/epoch - 44ms/step\n",
      "Epoch 4/5\n",
      "147/147 - 7s - loss: 1.6253 - accuracy: 0.4010 - val_loss: 1.6677 - val_accuracy: 0.3829 - 7s/epoch - 45ms/step\n",
      "Epoch 5/5\n",
      "147/147 - 6s - loss: 1.6044 - accuracy: 0.4103 - val_loss: 1.7252 - val_accuracy: 0.3594 - 6s/epoch - 40ms/step\n",
      "processing fold 4\n",
      "Epoch 1/5\n",
      "147/147 - 9s - loss: 1.6411 - accuracy: 0.3926 - val_loss: 1.7019 - val_accuracy: 0.3754 - 9s/epoch - 59ms/step\n",
      "Epoch 2/5\n",
      "147/147 - 6s - loss: 1.6232 - accuracy: 0.3986 - val_loss: 1.6680 - val_accuracy: 0.3716 - 6s/epoch - 38ms/step\n",
      "Epoch 3/5\n",
      "147/147 - 5s - loss: 1.6082 - accuracy: 0.4092 - val_loss: 1.6554 - val_accuracy: 0.3916 - 5s/epoch - 37ms/step\n",
      "Epoch 4/5\n",
      "147/147 - 6s - loss: 1.5815 - accuracy: 0.4143 - val_loss: 1.6585 - val_accuracy: 0.3782 - 6s/epoch - 38ms/step\n",
      "Epoch 5/5\n",
      "147/147 - 5s - loss: 1.5597 - accuracy: 0.4190 - val_loss: 1.6742 - val_accuracy: 0.3756 - 5s/epoch - 36ms/step\n"
     ]
    }
   ],
   "source": [
    "import numpy as np \n",
    "from sklearn.model_selection import StratifiedKFold\n",
    "from sklearn.metrics import mean_absolute_error\n",
    "\n",
    "K=4\n",
    "num_val_samples = len(X_train_resampled)//K\n",
    "num_epochs = 5\n",
    "\n",
    "#new!\n",
    "all_val_acc_4 = []\n",
    "all_val_loss_4 = []\n",
    "\n",
    "all_acc_4 = []\n",
    "all_loss_4 = []\n",
    "all_acc_history_4 = []\n",
    "all_loss_history_4 = []\n",
    "\n",
    "N_iterations=4\n",
    "N_folds=5\n",
    "        \n",
    "for i in range(N_iterations):\n",
    "    skf = StratifiedKFold(n_splits=N_folds, shuffle=True)\n",
    "    \n",
    "    for j, (train_index, val_index) in enumerate(skf.split(X_train_resampled, y_train_resampled)):\n",
    "        print('processing fold', j)\n",
    "        \n",
    "        partial_train_data = X_train_resampled[train_index]\n",
    "        val_data = X_train_resampled[val_index]\n",
    "        \n",
    "        partial_train_targets = y_train_resampled[train_index]\n",
    "        val_targets = y_train_resampled[val_index]\n",
    "        \n",
    "        # One-hot encode the target labels\n",
    "        partial_train_targets = to_categorical(partial_train_targets, num_classes=16)\n",
    "        val_targets = to_categorical(val_targets, num_classes=16)\n",
    "        \n",
    "        # Train the model \n",
    "        lstm_model_2.compile(loss=\"categorical_crossentropy\", optimizer=\"adam\", metrics=[\"accuracy\"])\n",
    "        results_4 = lstm_model_2.fit(partial_train_data, partial_train_targets, epochs=num_epochs, batch_size=128, verbose=2, validation_data = (val_data, val_targets))\n",
    "        \n",
    "        # Evaluate the model on the validation data: loss and accuracy \n",
    "        val_loss, val_acc = lstm_model_2.evaluate(val_data, val_targets, verbose=0)\n",
    "        all_val_acc_4.append(val_acc)\n",
    "        all_val_loss_4.append(val_loss)\n",
    "        \n",
    "        acc = results_4.history['accuracy']\n",
    "        all_acc_4.append(acc)\n",
    "        acc_history = results_4.history['val_accuracy']\n",
    "        all_acc_history_4.append(acc_history)\n",
    "        \n",
    "        loss = results_4.history['loss']\n",
    "        all_loss_4.append(loss)\n",
    "        loss_history = results_4.history['val_loss']\n",
    "        all_loss_history_4.append(loss_history)"
   ]
  },
  {
   "cell_type": "code",
   "execution_count": 97,
   "id": "b4cbc4c7",
   "metadata": {},
   "outputs": [
    {
     "data": {
      "image/png": "[encoded data removed]",
      "text/plain": [
       "<Figure size 432x288 with 1 Axes>"
      ]
     },
     "metadata": {
      "needs_background": "light"
     },
     "output_type": "display_data"
    }
   ],
   "source": [
    "plot_loss(all_loss_4, all_loss_history_4)"
   ]
  },
  {
   "cell_type": "code",
   "execution_count": 98,
   "id": "22cde37d",
   "metadata": {},
   "outputs": [
    {
     "data": {
      "image/png": "[encoded data removed]",
      "text/plain": [
       "<Figure size 432x288 with 1 Axes>"
      ]
     },
     "metadata": {
      "needs_background": "light"
     },
     "output_type": "display_data"
    }
   ],
   "source": [
    "plot_acc(all_acc_4, all_acc_history_4)"
   ]
  },
  {
   "cell_type": "code",
   "execution_count": 99,
   "id": "7a63c8f7",
   "metadata": {},
   "outputs": [
    {
     "name": "stdout",
     "output_type": "stream",
     "text": [
      "Average Loss: 2.1033923029899597\n",
      "Average Accuracy: 0.25653507336974146\n"
     ]
    }
   ],
   "source": [
    "print(\"Average Loss:\", np.mean(all_val_loss_4))\n",
    "print(\"Average Accuracy:\", np.mean(all_val_acc_4))"
   ]
  },
  {
   "cell_type": "markdown",
   "id": "32406334",
   "metadata": {},
   "source": [
    "The average accuracy for Dropout=0.1 (0.706) is almost three times higher than that of Dropout=0.5(0.257). The average loss of the former (0.889) is also close to just a third of the latter (2.10).\n",
    "\n",
    "Based on the results on our LSTM models with Dropout=0.1 and Dropout=0.5, we can see clearly see that a smaller dropout value of 0.1 is much better than dropout=0.5."
   ]
  },
  {
   "cell_type": "markdown",
   "id": "62291dc2",
   "metadata": {},
   "source": [
    "### 2. L1/L2 Regularizers"
   ]
  },
  {
   "cell_type": "markdown",
   "id": "4eed94d8",
   "metadata": {},
   "source": [
    "#### Build the Model with L1/L2 Regularizers = 0.1"
   ]
  },
  {
   "cell_type": "code",
   "execution_count": 111,
   "id": "c9428ff8",
   "metadata": {},
   "outputs": [
    {
     "name": "stdout",
     "output_type": "stream",
     "text": [
      "Model: \"sequential_16\"\n",
      "_________________________________________________________________\n",
      " Layer (type)                Output Shape              Param #   \n",
      "=================================================================\n",
      " embedding_16 (Embedding)    (None, 40, 50)            125000    \n",
      "                                                                 \n",
      " lstm_16 (LSTM)              (None, 64)                29440     \n",
      "                                                                 \n",
      " dense_41 (Dense)            (None, 256)               16640     \n",
      "                                                                 \n",
      " dense_42 (Dense)            (None, 128)               32896     \n",
      "                                                                 \n",
      " dense_43 (Dense)            (None, 64)                8256      \n",
      "                                                                 \n",
      " dense_44 (Dense)            (None, 16)                1040      \n",
      "                                                                 \n",
      "=================================================================\n",
      "Total params: 213,272\n",
      "Trainable params: 213,272\n",
      "Non-trainable params: 0\n",
      "_________________________________________________________________\n",
      "None\n"
     ]
    }
   ],
   "source": [
    "### L1/L2 Regularizer = 0.1 ###\n",
    "\n",
    "from keras import regularizers\n",
    "\n",
    "# Initialising the model \n",
    "lstm_model_3 = Sequential()\n",
    "\n",
    "# Defining model: add layers \n",
    "lstm_model_3.add(Embedding(\n",
    "    max_words,\n",
    "    EMBEDDING_VECTOR_LENGTH,\n",
    "    input_length=max_len,\n",
    "    weights=[embedding_matrix],\n",
    "    trainable=True,\n",
    ")) #glove embedding\n",
    "lstm_model_3.add(LSTM(64, input_shape=(max_len, EMBEDDING_VECTOR_LENGTH))) #LSTM layer\n",
    "lstm_model_3.add(Dense(256, activation='relu', kernel_regularizer=regularizers.l1_l2(l1=0.1, l2=0.1))) \n",
    "lstm_model_3.add(Dense(128, activation='relu', kernel_regularizer=regularizers.l1_l2(l1=0.1, l2=0.1))) \n",
    "lstm_model_3.add(Dense(64, activation='relu', kernel_regularizer=regularizers.l1_l2(l1=0.1, l2=0.1))) \n",
    "lstm_model_3.add(Dense(16, activation='softmax')) #dense layer - the last one\n",
    "\n",
    "\n",
    "# Compile model\n",
    "lstm_model_3.compile(loss=\"categorical_crossentropy\", optimizer=\"adam\", metrics=[\"accuracy\"])\n",
    "\n",
    "print(lstm_model_3.summary())"
   ]
  },
  {
   "cell_type": "markdown",
   "id": "f1ac91c2",
   "metadata": {},
   "source": [
    "#### Train the Model with L1/L2 Regularizers = 0.1"
   ]
  },
  {
   "cell_type": "code",
   "execution_count": 112,
   "id": "59076452",
   "metadata": {},
   "outputs": [
    {
     "name": "stdout",
     "output_type": "stream",
     "text": [
      "processing fold 0\n",
      "Epoch 1/5\n",
      "147/147 - 10s - loss: 138.9376 - accuracy: 0.0602 - val_loss: 7.4442 - val_accuracy: 0.0624 - 10s/epoch - 67ms/step\n",
      "Epoch 2/5\n",
      "147/147 - 7s - loss: 3.9177 - accuracy: 0.0609 - val_loss: 3.5063 - val_accuracy: 0.0624 - 7s/epoch - 47ms/step\n",
      "Epoch 3/5\n",
      "147/147 - 6s - loss: 3.5041 - accuracy: 0.0601 - val_loss: 3.4983 - val_accuracy: 0.0627 - 6s/epoch - 40ms/step\n",
      "Epoch 4/5\n",
      "147/147 - 5s - loss: 3.4987 - accuracy: 0.0607 - val_loss: 3.4962 - val_accuracy: 0.0627 - 5s/epoch - 35ms/step\n",
      "Epoch 5/5\n",
      "147/147 - 5s - loss: 3.4937 - accuracy: 0.0599 - val_loss: 3.4928 - val_accuracy: 0.0624 - 5s/epoch - 33ms/step\n",
      "processing fold 1\n",
      "Epoch 1/5\n",
      "147/147 - 8s - loss: 3.5478 - accuracy: 0.0588 - val_loss: 3.4472 - val_accuracy: 0.0625 - 8s/epoch - 53ms/step\n",
      "Epoch 2/5\n",
      "147/147 - 5s - loss: 3.3852 - accuracy: 0.0592 - val_loss: 3.2948 - val_accuracy: 0.0625 - 5s/epoch - 35ms/step\n",
      "Epoch 3/5\n",
      "147/147 - 5s - loss: 3.3840 - accuracy: 0.0601 - val_loss: 3.3353 - val_accuracy: 0.0625 - 5s/epoch - 37ms/step\n",
      "Epoch 4/5\n",
      "147/147 - 6s - loss: 3.3922 - accuracy: 0.0576 - val_loss: 3.3915 - val_accuracy: 0.0625 - 6s/epoch - 40ms/step\n",
      "Epoch 5/5\n",
      "147/147 - 5s - loss: 3.3950 - accuracy: 0.0586 - val_loss: 3.3595 - val_accuracy: 0.0625 - 5s/epoch - 33ms/step\n",
      "processing fold 2\n",
      "Epoch 1/5\n",
      "147/147 - 8s - loss: 3.5127 - accuracy: 0.0596 - val_loss: 3.3681 - val_accuracy: 0.0625 - 8s/epoch - 56ms/step\n",
      "Epoch 2/5\n",
      "147/147 - 5s - loss: 3.3218 - accuracy: 0.0566 - val_loss: 3.1301 - val_accuracy: 0.0625 - 5s/epoch - 34ms/step\n",
      "Epoch 3/5\n",
      "147/147 - 5s - loss: 3.3302 - accuracy: 0.0606 - val_loss: 3.2382 - val_accuracy: 0.0625 - 5s/epoch - 33ms/step\n",
      "Epoch 4/5\n",
      "147/147 - 5s - loss: 3.4367 - accuracy: 0.0564 - val_loss: 3.4779 - val_accuracy: 0.0625 - 5s/epoch - 33ms/step\n",
      "Epoch 5/5\n",
      "147/147 - 5s - loss: 3.4586 - accuracy: 0.0567 - val_loss: 3.5140 - val_accuracy: 0.0625 - 5s/epoch - 33ms/step\n",
      "processing fold 3\n",
      "Epoch 1/5\n",
      "147/147 - 8s - loss: 3.5356 - accuracy: 0.0589 - val_loss: 3.4953 - val_accuracy: 0.0625 - 8s/epoch - 56ms/step\n",
      "Epoch 2/5\n",
      "147/147 - 5s - loss: 3.3216 - accuracy: 0.0579 - val_loss: 3.1764 - val_accuracy: 0.0625 - 5s/epoch - 33ms/step\n",
      "Epoch 3/5\n",
      "147/147 - 5s - loss: 3.3314 - accuracy: 0.0605 - val_loss: 3.3208 - val_accuracy: 0.0625 - 5s/epoch - 36ms/step\n",
      "Epoch 4/5\n",
      "147/147 - 5s - loss: 3.4740 - accuracy: 0.0598 - val_loss: 3.5281 - val_accuracy: 0.0625 - 5s/epoch - 34ms/step\n",
      "Epoch 5/5\n",
      "147/147 - 5s - loss: 3.5112 - accuracy: 0.0612 - val_loss: 3.6529 - val_accuracy: 0.0625 - 5s/epoch - 36ms/step\n",
      "processing fold 4\n",
      "Epoch 1/5\n",
      "147/147 - 9s - loss: 3.5161 - accuracy: 0.0601 - val_loss: 3.5027 - val_accuracy: 0.0625 - 9s/epoch - 62ms/step\n",
      "Epoch 2/5\n",
      "147/147 - 5s - loss: 3.2872 - accuracy: 0.0601 - val_loss: 3.1713 - val_accuracy: 0.0625 - 5s/epoch - 35ms/step\n",
      "Epoch 3/5\n",
      "147/147 - 5s - loss: 3.3067 - accuracy: 0.0597 - val_loss: 3.3735 - val_accuracy: 0.0625 - 5s/epoch - 36ms/step\n",
      "Epoch 4/5\n",
      "147/147 - 5s - loss: 3.4697 - accuracy: 0.0601 - val_loss: 3.5928 - val_accuracy: 0.0625 - 5s/epoch - 34ms/step\n",
      "Epoch 5/5\n",
      "147/147 - 5s - loss: 3.4970 - accuracy: 0.0590 - val_loss: 3.4737 - val_accuracy: 0.0625 - 5s/epoch - 34ms/step\n",
      "processing fold 0\n",
      "Epoch 1/5\n",
      "147/147 - 8s - loss: 3.5357 - accuracy: 0.0590 - val_loss: 3.5804 - val_accuracy: 0.0624 - 8s/epoch - 55ms/step\n",
      "Epoch 2/5\n",
      "147/147 - 5s - loss: 3.3430 - accuracy: 0.0600 - val_loss: 3.1694 - val_accuracy: 0.0627 - 5s/epoch - 33ms/step\n",
      "Epoch 3/5\n",
      "147/147 - 5s - loss: 3.3574 - accuracy: 0.0598 - val_loss: 3.3118 - val_accuracy: 0.0624 - 5s/epoch - 34ms/step\n",
      "Epoch 4/5\n",
      "147/147 - 5s - loss: 3.4477 - accuracy: 0.0600 - val_loss: 3.5446 - val_accuracy: 0.0624 - 5s/epoch - 34ms/step\n",
      "Epoch 5/5\n",
      "147/147 - 5s - loss: 3.4439 - accuracy: 0.0569 - val_loss: 3.4540 - val_accuracy: 0.0624 - 5s/epoch - 34ms/step\n",
      "processing fold 1\n",
      "Epoch 1/5\n",
      "147/147 - 8s - loss: 3.5484 - accuracy: 0.0602 - val_loss: 3.5696 - val_accuracy: 0.0627 - 8s/epoch - 55ms/step\n",
      "Epoch 2/5\n",
      "147/147 - 5s - loss: 3.3121 - accuracy: 0.0556 - val_loss: 3.1103 - val_accuracy: 0.0625 - 5s/epoch - 34ms/step\n",
      "Epoch 3/5\n",
      "147/147 - 5s - loss: 3.3280 - accuracy: 0.0606 - val_loss: 3.1770 - val_accuracy: 0.0625 - 5s/epoch - 34ms/step\n",
      "Epoch 4/5\n",
      "147/147 - 5s - loss: 3.4553 - accuracy: 0.0581 - val_loss: 3.5410 - val_accuracy: 0.0625 - 5s/epoch - 34ms/step\n",
      "Epoch 5/5\n",
      "147/147 - 5s - loss: 3.4854 - accuracy: 0.0612 - val_loss: 3.6762 - val_accuracy: 0.0625 - 5s/epoch - 35ms/step\n",
      "processing fold 2\n",
      "Epoch 1/5\n",
      "147/147 - 8s - loss: 3.5503 - accuracy: 0.0592 - val_loss: 3.6064 - val_accuracy: 0.0625 - 8s/epoch - 56ms/step\n",
      "Epoch 2/5\n",
      "147/147 - 5s - loss: 3.2892 - accuracy: 0.0597 - val_loss: 3.1155 - val_accuracy: 0.0625 - 5s/epoch - 33ms/step\n",
      "Epoch 3/5\n",
      "147/147 - 5s - loss: 3.3013 - accuracy: 0.0583 - val_loss: 3.2491 - val_accuracy: 0.0625 - 5s/epoch - 34ms/step\n",
      "Epoch 4/5\n",
      "147/147 - 5s - loss: 3.4675 - accuracy: 0.0600 - val_loss: 3.6547 - val_accuracy: 0.0625 - 5s/epoch - 34ms/step\n",
      "Epoch 5/5\n",
      "147/147 - 6s - loss: 3.5112 - accuracy: 0.0595 - val_loss: 3.7117 - val_accuracy: 0.0625 - 6s/epoch - 39ms/step\n",
      "processing fold 3\n",
      "Epoch 1/5\n",
      "147/147 - 8s - loss: 3.5448 - accuracy: 0.0599 - val_loss: 3.6029 - val_accuracy: 0.0625 - 8s/epoch - 54ms/step\n",
      "Epoch 2/5\n",
      "147/147 - 5s - loss: 3.3255 - accuracy: 0.0598 - val_loss: 3.1753 - val_accuracy: 0.0625 - 5s/epoch - 34ms/step\n",
      "Epoch 3/5\n",
      "147/147 - 5s - loss: 3.3432 - accuracy: 0.0593 - val_loss: 3.3286 - val_accuracy: 0.0627 - 5s/epoch - 35ms/step\n",
      "Epoch 4/5\n",
      "147/147 - 5s - loss: 3.4796 - accuracy: 0.0565 - val_loss: 3.6678 - val_accuracy: 0.0625 - 5s/epoch - 33ms/step\n",
      "Epoch 5/5\n",
      "147/147 - 5s - loss: 3.4821 - accuracy: 0.0590 - val_loss: 3.4746 - val_accuracy: 0.0627 - 5s/epoch - 35ms/step\n",
      "processing fold 4\n",
      "Epoch 1/5\n",
      "147/147 - 8s - loss: 3.5487 - accuracy: 0.0587 - val_loss: 3.6045 - val_accuracy: 0.0625 - 8s/epoch - 58ms/step\n",
      "Epoch 2/5\n",
      "147/147 - 5s - loss: 3.3590 - accuracy: 0.0581 - val_loss: 3.1757 - val_accuracy: 0.0627 - 5s/epoch - 34ms/step\n",
      "Epoch 3/5\n",
      "147/147 - 5s - loss: 3.3685 - accuracy: 0.0599 - val_loss: 3.3006 - val_accuracy: 0.0627 - 5s/epoch - 36ms/step\n",
      "Epoch 4/5\n",
      "147/147 - 5s - loss: 3.4435 - accuracy: 0.0563 - val_loss: 3.4867 - val_accuracy: 0.0625 - 5s/epoch - 35ms/step\n",
      "Epoch 5/5\n",
      "147/147 - 5s - loss: 3.4288 - accuracy: 0.0606 - val_loss: 3.4554 - val_accuracy: 0.0625 - 5s/epoch - 36ms/step\n",
      "processing fold 0\n",
      "Epoch 1/5\n",
      "147/147 - 8s - loss: 3.5684 - accuracy: 0.0592 - val_loss: 3.5813 - val_accuracy: 0.0627 - 8s/epoch - 53ms/step\n",
      "Epoch 2/5\n",
      "147/147 - 5s - loss: 3.3356 - accuracy: 0.0578 - val_loss: 3.1463 - val_accuracy: 0.0627 - 5s/epoch - 33ms/step\n",
      "Epoch 3/5\n",
      "147/147 - 5s - loss: 3.3419 - accuracy: 0.0592 - val_loss: 3.1528 - val_accuracy: 0.0624 - 5s/epoch - 33ms/step\n",
      "Epoch 4/5\n",
      "147/147 - 5s - loss: 3.4356 - accuracy: 0.0579 - val_loss: 3.4667 - val_accuracy: 0.0624 - 5s/epoch - 35ms/step\n",
      "Epoch 5/5\n",
      "147/147 - 5s - loss: 3.4664 - accuracy: 0.0602 - val_loss: 3.5689 - val_accuracy: 0.0627 - 5s/epoch - 33ms/step\n",
      "processing fold 1\n",
      "Epoch 1/5\n",
      "147/147 - 7s - loss: 3.5401 - accuracy: 0.0584 - val_loss: 3.5743 - val_accuracy: 0.0625 - 7s/epoch - 51ms/step\n",
      "Epoch 2/5\n",
      "147/147 - 5s - loss: 3.3259 - accuracy: 0.0603 - val_loss: 3.1641 - val_accuracy: 0.0625 - 5s/epoch - 33ms/step\n",
      "Epoch 3/5\n",
      "147/147 - 5s - loss: 3.3390 - accuracy: 0.0570 - val_loss: 3.2349 - val_accuracy: 0.0625 - 5s/epoch - 33ms/step\n",
      "Epoch 4/5\n",
      "147/147 - 7s - loss: 3.4565 - accuracy: 0.0598 - val_loss: 3.6330 - val_accuracy: 0.0625 - 7s/epoch - 46ms/step\n",
      "Epoch 5/5\n",
      "147/147 - 6s - loss: 3.4798 - accuracy: 0.0583 - val_loss: 3.5181 - val_accuracy: 0.0625 - 6s/epoch - 42ms/step\n",
      "processing fold 2\n",
      "Epoch 1/5\n",
      "147/147 - 9s - loss: 3.5140 - accuracy: 0.0589 - val_loss: 3.6506 - val_accuracy: 0.0625 - 9s/epoch - 63ms/step\n",
      "Epoch 2/5\n",
      "147/147 - 6s - loss: 3.3334 - accuracy: 0.0582 - val_loss: 3.1904 - val_accuracy: 0.0625 - 6s/epoch - 40ms/step\n",
      "Epoch 3/5\n",
      "147/147 - 5s - loss: 3.3542 - accuracy: 0.0585 - val_loss: 3.2716 - val_accuracy: 0.0625 - 5s/epoch - 35ms/step\n",
      "Epoch 4/5\n",
      "147/147 - 5s - loss: 3.4693 - accuracy: 0.0596 - val_loss: 3.5983 - val_accuracy: 0.0625 - 5s/epoch - 34ms/step\n",
      "Epoch 5/5\n",
      "147/147 - 6s - loss: 3.4564 - accuracy: 0.0571 - val_loss: 3.4637 - val_accuracy: 0.0625 - 6s/epoch - 39ms/step\n",
      "processing fold 3\n",
      "Epoch 1/5\n"
     ]
    },
    {
     "name": "stdout",
     "output_type": "stream",
     "text": [
      "147/147 - 8s - loss: 3.5330 - accuracy: 0.0574 - val_loss: 3.6939 - val_accuracy: 0.0625 - 8s/epoch - 52ms/step\n",
      "Epoch 2/5\n",
      "147/147 - 5s - loss: 3.3379 - accuracy: 0.0594 - val_loss: 3.1988 - val_accuracy: 0.0625 - 5s/epoch - 33ms/step\n",
      "Epoch 3/5\n",
      "147/147 - 5s - loss: 3.3511 - accuracy: 0.0602 - val_loss: 3.2598 - val_accuracy: 0.0625 - 5s/epoch - 36ms/step\n",
      "Epoch 4/5\n",
      "147/147 - 5s - loss: 3.4685 - accuracy: 0.0579 - val_loss: 3.4622 - val_accuracy: 0.0625 - 5s/epoch - 35ms/step\n",
      "Epoch 5/5\n",
      "147/147 - 5s - loss: 3.4620 - accuracy: 0.0598 - val_loss: 3.5868 - val_accuracy: 0.0625 - 5s/epoch - 35ms/step\n",
      "processing fold 4\n",
      "Epoch 1/5\n",
      "147/147 - 8s - loss: 3.5609 - accuracy: 0.0605 - val_loss: 3.6507 - val_accuracy: 0.0625 - 8s/epoch - 53ms/step\n",
      "Epoch 2/5\n",
      "147/147 - 7s - loss: 3.3172 - accuracy: 0.0597 - val_loss: 3.1510 - val_accuracy: 0.0625 - 7s/epoch - 45ms/step\n",
      "Epoch 3/5\n",
      "147/147 - 7s - loss: 3.3341 - accuracy: 0.0585 - val_loss: 3.2152 - val_accuracy: 0.0625 - 7s/epoch - 48ms/step\n",
      "Epoch 4/5\n",
      "147/147 - 6s - loss: 3.4728 - accuracy: 0.0573 - val_loss: 3.5345 - val_accuracy: 0.0625 - 6s/epoch - 39ms/step\n",
      "Epoch 5/5\n",
      "147/147 - 7s - loss: 3.5112 - accuracy: 0.0572 - val_loss: 3.6242 - val_accuracy: 0.0627 - 7s/epoch - 48ms/step\n",
      "processing fold 0\n",
      "Epoch 1/5\n",
      "147/147 - 14s - loss: 3.5436 - accuracy: 0.0570 - val_loss: 3.6220 - val_accuracy: 0.0624 - 14s/epoch - 96ms/step\n",
      "Epoch 2/5\n",
      "147/147 - 7s - loss: 3.3277 - accuracy: 0.0625 - val_loss: 3.1901 - val_accuracy: 0.0624 - 7s/epoch - 50ms/step\n",
      "Epoch 3/5\n",
      "147/147 - 8s - loss: 3.3545 - accuracy: 0.0597 - val_loss: 3.2622 - val_accuracy: 0.0624 - 8s/epoch - 56ms/step\n",
      "Epoch 4/5\n",
      "147/147 - 8s - loss: 3.4824 - accuracy: 0.0589 - val_loss: 3.6236 - val_accuracy: 0.0624 - 8s/epoch - 51ms/step\n",
      "Epoch 5/5\n",
      "147/147 - 9s - loss: 3.4862 - accuracy: 0.0590 - val_loss: 3.5723 - val_accuracy: 0.0624 - 9s/epoch - 64ms/step\n",
      "processing fold 1\n",
      "Epoch 1/5\n",
      "147/147 - 13s - loss: 3.5332 - accuracy: 0.0579 - val_loss: 3.6349 - val_accuracy: 0.0625 - 13s/epoch - 86ms/step\n",
      "Epoch 2/5\n",
      "147/147 - 8s - loss: 3.3143 - accuracy: 0.0578 - val_loss: 3.1450 - val_accuracy: 0.0625 - 8s/epoch - 53ms/step\n",
      "Epoch 3/5\n",
      "147/147 - 8s - loss: 3.3335 - accuracy: 0.0572 - val_loss: 3.2328 - val_accuracy: 0.0625 - 8s/epoch - 52ms/step\n",
      "Epoch 4/5\n",
      "147/147 - 8s - loss: 3.4690 - accuracy: 0.0580 - val_loss: 3.5960 - val_accuracy: 0.0625 - 8s/epoch - 53ms/step\n",
      "Epoch 5/5\n",
      "147/147 - 7s - loss: 3.4618 - accuracy: 0.0588 - val_loss: 3.5853 - val_accuracy: 0.0625 - 7s/epoch - 47ms/step\n",
      "processing fold 2\n",
      "Epoch 1/5\n",
      "147/147 - 13s - loss: 3.5664 - accuracy: 0.0594 - val_loss: 3.6804 - val_accuracy: 0.0625 - 13s/epoch - 85ms/step\n",
      "Epoch 2/5\n",
      "147/147 - 8s - loss: 3.3307 - accuracy: 0.0589 - val_loss: 3.1545 - val_accuracy: 0.0625 - 8s/epoch - 52ms/step\n",
      "Epoch 3/5\n",
      "147/147 - 7s - loss: 3.3331 - accuracy: 0.0577 - val_loss: 3.2490 - val_accuracy: 0.0625 - 7s/epoch - 49ms/step\n",
      "Epoch 4/5\n",
      "147/147 - 7s - loss: 3.4581 - accuracy: 0.0605 - val_loss: 3.5492 - val_accuracy: 0.0625 - 7s/epoch - 50ms/step\n",
      "Epoch 5/5\n",
      "147/147 - 6s - loss: 3.4727 - accuracy: 0.0589 - val_loss: 3.6201 - val_accuracy: 0.0625 - 6s/epoch - 38ms/step\n",
      "processing fold 3\n",
      "Epoch 1/5\n",
      "147/147 - 34s - loss: 3.5702 - accuracy: 0.0586 - val_loss: 3.6038 - val_accuracy: 0.0625 - 34s/epoch - 231ms/step\n",
      "Epoch 2/5\n",
      "147/147 - 6s - loss: 3.3371 - accuracy: 0.0607 - val_loss: 3.1548 - val_accuracy: 0.0625 - 6s/epoch - 40ms/step\n",
      "Epoch 3/5\n",
      "147/147 - 7s - loss: 3.3487 - accuracy: 0.0601 - val_loss: 3.2942 - val_accuracy: 0.0627 - 7s/epoch - 45ms/step\n",
      "Epoch 4/5\n",
      "147/147 - 6s - loss: 3.4553 - accuracy: 0.0593 - val_loss: 3.5708 - val_accuracy: 0.0627 - 6s/epoch - 40ms/step\n",
      "Epoch 5/5\n",
      "147/147 - 6s - loss: 3.4899 - accuracy: 0.0562 - val_loss: 3.4517 - val_accuracy: 0.0625 - 6s/epoch - 42ms/step\n",
      "processing fold 4\n",
      "Epoch 1/5\n",
      "147/147 - 10s - loss: 3.5322 - accuracy: 0.0598 - val_loss: 3.5629 - val_accuracy: 0.0625 - 10s/epoch - 68ms/step\n",
      "Epoch 2/5\n",
      "147/147 - 5s - loss: 3.3417 - accuracy: 0.0601 - val_loss: 3.1908 - val_accuracy: 0.0625 - 5s/epoch - 37ms/step\n",
      "Epoch 3/5\n",
      "147/147 - 6s - loss: 3.3582 - accuracy: 0.0579 - val_loss: 3.1921 - val_accuracy: 0.0625 - 6s/epoch - 40ms/step\n",
      "Epoch 4/5\n",
      "147/147 - 6s - loss: 3.4342 - accuracy: 0.0581 - val_loss: 3.5723 - val_accuracy: 0.0625 - 6s/epoch - 41ms/step\n",
      "Epoch 5/5\n",
      "147/147 - 7s - loss: 3.4323 - accuracy: 0.0616 - val_loss: 3.4687 - val_accuracy: 0.0625 - 7s/epoch - 47ms/step\n"
     ]
    }
   ],
   "source": [
    "import numpy as np \n",
    "from sklearn.model_selection import StratifiedKFold\n",
    "from sklearn.metrics import mean_absolute_error\n",
    "\n",
    "K=4\n",
    "num_val_samples = len(X_train_resampled)//K\n",
    "num_epochs = 5\n",
    "\n",
    "#new!\n",
    "all_val_acc_5 = []\n",
    "all_val_loss_5 = []\n",
    "\n",
    "all_acc_5 = []\n",
    "all_loss_5 = []\n",
    "all_acc_history_5 = []\n",
    "all_loss_history_5 = []\n",
    "\n",
    "N_iterations=4\n",
    "N_folds=5\n",
    "        \n",
    "for i in range(N_iterations):\n",
    "    skf = StratifiedKFold(n_splits=N_folds, shuffle=True)\n",
    "    \n",
    "    for j, (train_index, val_index) in enumerate(skf.split(X_train_resampled, y_train_resampled)):\n",
    "        print('processing fold', j)\n",
    "        \n",
    "        partial_train_data = X_train_resampled[train_index]\n",
    "        val_data = X_train_resampled[val_index]\n",
    "        \n",
    "        partial_train_targets = y_train_resampled[train_index]\n",
    "        val_targets = y_train_resampled[val_index]\n",
    "        \n",
    "        # One-hot encode the target labels\n",
    "        partial_train_targets = to_categorical(partial_train_targets, num_classes=16)\n",
    "        val_targets = to_categorical(val_targets, num_classes=16)\n",
    "        \n",
    "        # Train the model \n",
    "        lstm_model_3.compile(loss=\"categorical_crossentropy\", optimizer=\"adam\", metrics=[\"accuracy\"])\n",
    "        results_5 = lstm_model_3.fit(partial_train_data, partial_train_targets, epochs=num_epochs, batch_size=128, verbose=2, validation_data = (val_data, val_targets))\n",
    "        \n",
    "        # Evaluate the model on the validation data: loss and accuracy \n",
    "        val_loss, val_acc = lstm_model_3.evaluate(val_data, val_targets, verbose=0)\n",
    "        all_val_acc_5.append(val_acc)\n",
    "        all_val_loss_5.append(val_loss)\n",
    "        \n",
    "        acc = results_5.history['accuracy']\n",
    "        all_acc_5.append(acc)\n",
    "        acc_history = results_5.history['val_accuracy']\n",
    "        all_acc_history_5.append(acc_history)\n",
    "        \n",
    "        loss = results_5.history['loss']\n",
    "        all_loss_5.append(loss)\n",
    "        loss_history = results_5.history['val_loss']\n",
    "        all_loss_history_5.append(loss_history)"
   ]
  },
  {
   "cell_type": "code",
   "execution_count": 113,
   "id": "f26b055f",
   "metadata": {},
   "outputs": [
    {
     "data": {
      "image/png": "[encoded data removed]",
      "text/plain": [
       "<Figure size 432x288 with 1 Axes>"
      ]
     },
     "metadata": {
      "needs_background": "light"
     },
     "output_type": "display_data"
    }
   ],
   "source": [
    "plot_loss(all_loss_5, all_loss_history_5)"
   ]
  },
  {
   "cell_type": "code",
   "execution_count": 114,
   "id": "54b1653a",
   "metadata": {},
   "outputs": [
    {
     "data": {
      "image/png": "[encoded data removed]",
      "text/plain": [
       "<Figure size 432x288 with 1 Axes>"
      ]
     },
     "metadata": {
      "needs_background": "light"
     },
     "output_type": "display_data"
    }
   ],
   "source": [
    "plot_acc(all_acc_5, all_acc_history_5)"
   ]
  },
  {
   "cell_type": "code",
   "execution_count": 115,
   "id": "4cd05c38",
   "metadata": {},
   "outputs": [
    {
     "name": "stdout",
     "output_type": "stream",
     "text": [
      "Average Loss: 3.5362332105636596\n",
      "Average Accuracy: 0.06248934213072062\n"
     ]
    }
   ],
   "source": [
    "print(\"Average Loss:\", np.mean(all_val_loss_5))\n",
    "print(\"Average Accuracy:\", np.mean(all_val_acc_5))"
   ]
  },
  {
   "cell_type": "markdown",
   "id": "e73da448",
   "metadata": {},
   "source": [
    "#### Build the Model with L1/L2 Regularizers = 0.005"
   ]
  },
  {
   "cell_type": "code",
   "execution_count": 120,
   "id": "0d969ec6",
   "metadata": {},
   "outputs": [
    {
     "name": "stdout",
     "output_type": "stream",
     "text": [
      "Model: \"sequential_19\"\n",
      "_________________________________________________________________\n",
      " Layer (type)                Output Shape              Param #   \n",
      "=================================================================\n",
      " embedding_19 (Embedding)    (None, 40, 50)            125000    \n",
      "                                                                 \n",
      " lstm_19 (LSTM)              (None, 64)                29440     \n",
      "                                                                 \n",
      " dense_53 (Dense)            (None, 256)               16640     \n",
      "                                                                 \n",
      " dense_54 (Dense)            (None, 128)               32896     \n",
      "                                                                 \n",
      " dense_55 (Dense)            (None, 64)                8256      \n",
      "                                                                 \n",
      " dense_56 (Dense)            (None, 16)                1040      \n",
      "                                                                 \n",
      "=================================================================\n",
      "Total params: 213,272\n",
      "Trainable params: 213,272\n",
      "Non-trainable params: 0\n",
      "_________________________________________________________________\n",
      "None\n"
     ]
    }
   ],
   "source": [
    "### L1/L2 Regularizer = 0.001 ###\n",
    "\n",
    "from keras import regularizers\n",
    "\n",
    "# Initialising the model \n",
    "lstm_model_4 = Sequential()\n",
    "\n",
    "# Defining model: add layers \n",
    "lstm_model_4.add(Embedding(\n",
    "    max_words,\n",
    "    EMBEDDING_VECTOR_LENGTH,\n",
    "    input_length=max_len,\n",
    "    weights=[embedding_matrix],\n",
    "    trainable=True,\n",
    ")) #glove embedding\n",
    "lstm_model_4.add(LSTM(64, input_shape=(max_len, EMBEDDING_VECTOR_LENGTH))) #LSTM layer\n",
    "lstm_model_4.add(Dense(256, activation='relu', kernel_regularizer=regularizers.l1_l2(l1=0.001, l2=0.001))) \n",
    "lstm_model_4.add(Dense(128, activation='relu', kernel_regularizer=regularizers.l1_l2(l1=0.001, l2=0.001))) \n",
    "lstm_model_4.add(Dense(64, activation='relu', kernel_regularizer=regularizers.l1_l2(l1=0.001, l2=0.001))) \n",
    "lstm_model_4.add(Dense(16, activation='softmax')) #dense layer - the last one\n",
    "\n",
    "\n",
    "# Compile model\n",
    "lstm_model_4.compile(loss=\"categorical_crossentropy\", optimizer=\"adam\", metrics=[\"accuracy\"])\n",
    "\n",
    "print(lstm_model_4.summary())"
   ]
  },
  {
   "cell_type": "markdown",
   "id": "d094d548",
   "metadata": {},
   "source": [
    "#### Train the Model with L1/L2 Regularizers = 0.001"
   ]
  },
  {
   "cell_type": "code",
   "execution_count": 121,
   "id": "6e9763b1",
   "metadata": {},
   "outputs": [
    {
     "name": "stdout",
     "output_type": "stream",
     "text": [
      "processing fold 0\n",
      "Epoch 1/5\n",
      "147/147 - 12s - loss: 4.2027 - accuracy: 0.0590 - val_loss: 2.8353 - val_accuracy: 0.0624 - 12s/epoch - 79ms/step\n",
      "Epoch 2/5\n",
      "147/147 - 8s - loss: 2.7870 - accuracy: 0.0614 - val_loss: 2.7797 - val_accuracy: 0.0627 - 8s/epoch - 54ms/step\n",
      "Epoch 3/5\n",
      "147/147 - 6s - loss: 2.7798 - accuracy: 0.0600 - val_loss: 2.7796 - val_accuracy: 0.0624 - 6s/epoch - 43ms/step\n",
      "Epoch 4/5\n",
      "147/147 - 6s - loss: 2.7798 - accuracy: 0.0565 - val_loss: 2.7796 - val_accuracy: 0.0624 - 6s/epoch - 43ms/step\n",
      "Epoch 5/5\n",
      "147/147 - 5s - loss: 2.7797 - accuracy: 0.0580 - val_loss: 2.7796 - val_accuracy: 0.0627 - 5s/epoch - 35ms/step\n",
      "processing fold 1\n",
      "Epoch 1/5\n",
      "147/147 - 12s - loss: 2.7805 - accuracy: 0.0603 - val_loss: 2.7793 - val_accuracy: 0.0625 - 12s/epoch - 81ms/step\n",
      "Epoch 2/5\n",
      "147/147 - 6s - loss: 2.7788 - accuracy: 0.0578 - val_loss: 2.7778 - val_accuracy: 0.0625 - 6s/epoch - 43ms/step\n",
      "Epoch 3/5\n",
      "147/147 - 6s - loss: 2.7788 - accuracy: 0.0575 - val_loss: 2.7782 - val_accuracy: 0.0625 - 6s/epoch - 40ms/step\n",
      "Epoch 4/5\n",
      "147/147 - 6s - loss: 2.7789 - accuracy: 0.0564 - val_loss: 2.7787 - val_accuracy: 0.0625 - 6s/epoch - 41ms/step\n",
      "Epoch 5/5\n",
      "147/147 - 6s - loss: 2.7789 - accuracy: 0.0604 - val_loss: 2.7784 - val_accuracy: 0.0625 - 6s/epoch - 38ms/step\n",
      "processing fold 2\n",
      "Epoch 1/5\n",
      "147/147 - 9s - loss: 2.7802 - accuracy: 0.0588 - val_loss: 2.7787 - val_accuracy: 0.0625 - 9s/epoch - 62ms/step\n",
      "Epoch 2/5\n",
      "147/147 - 6s - loss: 2.7783 - accuracy: 0.0594 - val_loss: 2.7761 - val_accuracy: 0.0625 - 6s/epoch - 38ms/step\n",
      "Epoch 3/5\n",
      "147/147 - 6s - loss: 2.7784 - accuracy: 0.0600 - val_loss: 2.7772 - val_accuracy: 0.0625 - 6s/epoch - 38ms/step\n",
      "Epoch 4/5\n",
      "147/147 - 6s - loss: 2.7794 - accuracy: 0.0596 - val_loss: 2.7795 - val_accuracy: 0.0625 - 6s/epoch - 38ms/step\n",
      "Epoch 5/5\n",
      "147/147 - 6s - loss: 2.7796 - accuracy: 0.0603 - val_loss: 2.7800 - val_accuracy: 0.0625 - 6s/epoch - 38ms/step\n",
      "processing fold 3\n",
      "Epoch 1/5\n",
      "147/147 - 8s - loss: 2.7805 - accuracy: 0.0589 - val_loss: 2.7788 - val_accuracy: 0.0625 - 8s/epoch - 56ms/step\n",
      "Epoch 2/5\n",
      "147/147 - 6s - loss: 2.7781 - accuracy: 0.0576 - val_loss: 2.7764 - val_accuracy: 0.0625 - 6s/epoch - 39ms/step\n",
      "Epoch 3/5\n",
      "147/147 - 6s - loss: 2.7782 - accuracy: 0.0592 - val_loss: 2.7771 - val_accuracy: 0.0625 - 6s/epoch - 38ms/step\n",
      "Epoch 4/5\n",
      "147/147 - 5s - loss: 2.7797 - accuracy: 0.0617 - val_loss: 2.7791 - val_accuracy: 0.0625 - 5s/epoch - 36ms/step\n",
      "Epoch 5/5\n",
      "147/147 - 5s - loss: 2.7801 - accuracy: 0.0582 - val_loss: 2.7812 - val_accuracy: 0.0625 - 5s/epoch - 37ms/step\n",
      "processing fold 4\n",
      "Epoch 1/5\n",
      "147/147 - 9s - loss: 2.7806 - accuracy: 0.0588 - val_loss: 2.7784 - val_accuracy: 0.0627 - 9s/epoch - 63ms/step\n",
      "Epoch 2/5\n",
      "147/147 - 6s - loss: 2.7782 - accuracy: 0.0597 - val_loss: 2.7762 - val_accuracy: 0.0627 - 6s/epoch - 38ms/step\n",
      "Epoch 3/5\n",
      "147/147 - 5s - loss: 2.7783 - accuracy: 0.0604 - val_loss: 2.7779 - val_accuracy: 0.0625 - 5s/epoch - 37ms/step\n",
      "Epoch 4/5\n",
      "147/147 - 6s - loss: 2.7798 - accuracy: 0.0601 - val_loss: 2.7785 - val_accuracy: 0.0625 - 6s/epoch - 40ms/step\n",
      "Epoch 5/5\n",
      "147/147 - 6s - loss: 2.7802 - accuracy: 0.0564 - val_loss: 2.7796 - val_accuracy: 0.0625 - 6s/epoch - 39ms/step\n",
      "processing fold 0\n",
      "Epoch 1/5\n",
      "147/147 - 8s - loss: 2.7804 - accuracy: 0.0594 - val_loss: 2.7781 - val_accuracy: 0.0624 - 8s/epoch - 57ms/step\n",
      "Epoch 2/5\n",
      "147/147 - 6s - loss: 2.7783 - accuracy: 0.0587 - val_loss: 2.7762 - val_accuracy: 0.0624 - 6s/epoch - 43ms/step\n",
      "Epoch 3/5\n",
      "147/147 - 7s - loss: 2.7787 - accuracy: 0.0573 - val_loss: 2.7791 - val_accuracy: 0.0624 - 7s/epoch - 49ms/step\n",
      "Epoch 4/5\n",
      "147/147 - 6s - loss: 2.7797 - accuracy: 0.0583 - val_loss: 2.7790 - val_accuracy: 0.0624 - 6s/epoch - 43ms/step\n",
      "Epoch 5/5\n",
      "147/147 - 5s - loss: 2.7799 - accuracy: 0.0586 - val_loss: 2.7794 - val_accuracy: 0.0624 - 5s/epoch - 36ms/step\n",
      "processing fold 1\n",
      "Epoch 1/5\n",
      "147/147 - 12s - loss: 2.7800 - accuracy: 0.0593 - val_loss: 2.7769 - val_accuracy: 0.0625 - 12s/epoch - 82ms/step\n",
      "Epoch 2/5\n",
      "147/147 - 5s - loss: 2.7779 - accuracy: 0.0605 - val_loss: 2.7755 - val_accuracy: 0.0625 - 5s/epoch - 36ms/step\n",
      "Epoch 3/5\n",
      "147/147 - 5s - loss: 2.7783 - accuracy: 0.0596 - val_loss: 2.7791 - val_accuracy: 0.0625 - 5s/epoch - 35ms/step\n",
      "Epoch 4/5\n",
      "147/147 - 6s - loss: 2.7796 - accuracy: 0.0579 - val_loss: 2.7784 - val_accuracy: 0.0625 - 6s/epoch - 38ms/step\n",
      "Epoch 5/5\n",
      "147/147 - 6s - loss: 2.7798 - accuracy: 0.0553 - val_loss: 2.7797 - val_accuracy: 0.0625 - 6s/epoch - 38ms/step\n",
      "processing fold 2\n",
      "Epoch 1/5\n",
      "147/147 - 9s - loss: 2.7801 - accuracy: 0.0602 - val_loss: 2.7767 - val_accuracy: 0.0625 - 9s/epoch - 60ms/step\n",
      "Epoch 2/5\n",
      "147/147 - 5s - loss: 2.7779 - accuracy: 0.0597 - val_loss: 2.7761 - val_accuracy: 0.0625 - 5s/epoch - 35ms/step\n",
      "Epoch 3/5\n",
      "147/147 - 6s - loss: 2.7780 - accuracy: 0.0593 - val_loss: 2.7772 - val_accuracy: 0.0625 - 6s/epoch - 44ms/step\n",
      "Epoch 4/5\n",
      "147/147 - 6s - loss: 2.7792 - accuracy: 0.0576 - val_loss: 2.7774 - val_accuracy: 0.0625 - 6s/epoch - 38ms/step\n",
      "Epoch 5/5\n",
      "147/147 - 9s - loss: 2.7797 - accuracy: 0.0628 - val_loss: 2.7795 - val_accuracy: 0.0625 - 9s/epoch - 60ms/step\n",
      "processing fold 3\n",
      "Epoch 1/5\n",
      "147/147 - 14s - loss: 2.7800 - accuracy: 0.0582 - val_loss: 2.7760 - val_accuracy: 0.0625 - 14s/epoch - 94ms/step\n",
      "Epoch 2/5\n",
      "147/147 - 6s - loss: 2.7780 - accuracy: 0.0585 - val_loss: 2.7766 - val_accuracy: 0.0625 - 6s/epoch - 42ms/step\n",
      "Epoch 3/5\n",
      "147/147 - 6s - loss: 2.7781 - accuracy: 0.0613 - val_loss: 2.7768 - val_accuracy: 0.0627 - 6s/epoch - 39ms/step\n",
      "Epoch 4/5\n",
      "147/147 - 7s - loss: 2.7791 - accuracy: 0.0557 - val_loss: 2.7779 - val_accuracy: 0.0625 - 7s/epoch - 46ms/step\n",
      "Epoch 5/5\n",
      "147/147 - 7s - loss: 2.7794 - accuracy: 0.0580 - val_loss: 2.7780 - val_accuracy: 0.0625 - 7s/epoch - 48ms/step\n",
      "processing fold 4\n",
      "Epoch 1/5\n",
      "147/147 - 12s - loss: 2.7799 - accuracy: 0.0586 - val_loss: 2.7769 - val_accuracy: 0.0625 - 12s/epoch - 84ms/step\n",
      "Epoch 2/5\n",
      "147/147 - 7s - loss: 2.7781 - accuracy: 0.0581 - val_loss: 2.7758 - val_accuracy: 0.0625 - 7s/epoch - 46ms/step\n",
      "Epoch 3/5\n",
      "147/147 - 6s - loss: 2.7784 - accuracy: 0.0594 - val_loss: 2.7779 - val_accuracy: 0.0625 - 6s/epoch - 43ms/step\n",
      "Epoch 4/5\n",
      "147/147 - 7s - loss: 2.7792 - accuracy: 0.0597 - val_loss: 2.7790 - val_accuracy: 0.0625 - 7s/epoch - 48ms/step\n",
      "Epoch 5/5\n",
      "147/147 - 6s - loss: 2.7794 - accuracy: 0.0596 - val_loss: 2.7789 - val_accuracy: 0.0625 - 6s/epoch - 41ms/step\n",
      "processing fold 0\n",
      "Epoch 1/5\n",
      "147/147 - 10s - loss: 2.7800 - accuracy: 0.0596 - val_loss: 2.7769 - val_accuracy: 0.0624 - 10s/epoch - 70ms/step\n",
      "Epoch 2/5\n",
      "147/147 - 9s - loss: 2.7778 - accuracy: 0.0585 - val_loss: 2.7754 - val_accuracy: 0.0624 - 9s/epoch - 58ms/step\n",
      "Epoch 3/5\n",
      "147/147 - 9s - loss: 2.7781 - accuracy: 0.0572 - val_loss: 2.7776 - val_accuracy: 0.0624 - 9s/epoch - 63ms/step\n",
      "Epoch 4/5\n",
      "147/147 - 7s - loss: 2.7795 - accuracy: 0.0589 - val_loss: 2.7784 - val_accuracy: 0.0624 - 7s/epoch - 49ms/step\n",
      "Epoch 5/5\n",
      "147/147 - 7s - loss: 2.7798 - accuracy: 0.0569 - val_loss: 2.7795 - val_accuracy: 0.0624 - 7s/epoch - 47ms/step\n",
      "processing fold 1\n",
      "Epoch 1/5\n",
      "147/147 - 14s - loss: 2.7801 - accuracy: 0.0623 - val_loss: 2.7767 - val_accuracy: 0.0625 - 14s/epoch - 92ms/step\n",
      "Epoch 2/5\n",
      "147/147 - 7s - loss: 2.7777 - accuracy: 0.0580 - val_loss: 2.7760 - val_accuracy: 0.0625 - 7s/epoch - 48ms/step\n",
      "Epoch 3/5\n",
      "147/147 - 9s - loss: 2.7779 - accuracy: 0.0582 - val_loss: 2.7764 - val_accuracy: 0.0625 - 9s/epoch - 64ms/step\n",
      "Epoch 4/5\n",
      "147/147 - 8s - loss: 2.7793 - accuracy: 0.0586 - val_loss: 2.7774 - val_accuracy: 0.0625 - 8s/epoch - 55ms/step\n",
      "Epoch 5/5\n",
      "147/147 - 7s - loss: 2.7798 - accuracy: 0.0567 - val_loss: 2.7794 - val_accuracy: 0.0625 - 7s/epoch - 47ms/step\n",
      "processing fold 2\n",
      "Epoch 1/5\n",
      "147/147 - 15s - loss: 2.7799 - accuracy: 0.0593 - val_loss: 2.7767 - val_accuracy: 0.0627 - 15s/epoch - 101ms/step\n",
      "Epoch 2/5\n",
      "147/147 - 8s - loss: 2.7777 - accuracy: 0.0585 - val_loss: 2.7760 - val_accuracy: 0.0625 - 8s/epoch - 55ms/step\n",
      "Epoch 3/5\n",
      "147/147 - 8s - loss: 2.7782 - accuracy: 0.0594 - val_loss: 2.7778 - val_accuracy: 0.0625 - 8s/epoch - 52ms/step\n",
      "Epoch 4/5\n",
      "147/147 - 9s - loss: 2.7794 - accuracy: 0.0596 - val_loss: 2.7780 - val_accuracy: 0.0625 - 9s/epoch - 64ms/step\n",
      "Epoch 5/5\n",
      "147/147 - 7s - loss: 2.7797 - accuracy: 0.0604 - val_loss: 2.7790 - val_accuracy: 0.0625 - 7s/epoch - 46ms/step\n",
      "processing fold 3\n",
      "Epoch 1/5\n"
     ]
    },
    {
     "name": "stdout",
     "output_type": "stream",
     "text": [
      "147/147 - 8s - loss: 2.7798 - accuracy: 0.0597 - val_loss: 2.7761 - val_accuracy: 0.0625 - 8s/epoch - 57ms/step\n",
      "Epoch 2/5\n",
      "147/147 - 5s - loss: 2.7777 - accuracy: 0.0599 - val_loss: 2.7754 - val_accuracy: 0.0625 - 5s/epoch - 35ms/step\n",
      "Epoch 3/5\n",
      "147/147 - 5s - loss: 2.7783 - accuracy: 0.0579 - val_loss: 2.7798 - val_accuracy: 0.0625 - 5s/epoch - 33ms/step\n",
      "Epoch 4/5\n",
      "147/147 - 5s - loss: 2.7795 - accuracy: 0.0606 - val_loss: 2.7775 - val_accuracy: 0.0625 - 5s/epoch - 35ms/step\n",
      "Epoch 5/5\n",
      "147/147 - 5s - loss: 2.7796 - accuracy: 0.0606 - val_loss: 2.7785 - val_accuracy: 0.0625 - 5s/epoch - 34ms/step\n",
      "processing fold 4\n",
      "Epoch 1/5\n",
      "147/147 - 8s - loss: 2.7797 - accuracy: 0.0593 - val_loss: 2.7757 - val_accuracy: 0.0625 - 8s/epoch - 53ms/step\n",
      "Epoch 2/5\n",
      "147/147 - 5s - loss: 2.7777 - accuracy: 0.0580 - val_loss: 2.7761 - val_accuracy: 0.0625 - 5s/epoch - 34ms/step\n",
      "Epoch 3/5\n",
      "147/147 - 5s - loss: 2.7780 - accuracy: 0.0609 - val_loss: 2.7772 - val_accuracy: 0.0625 - 5s/epoch - 33ms/step\n",
      "Epoch 4/5\n",
      "147/147 - 5s - loss: 2.7790 - accuracy: 0.0589 - val_loss: 2.7763 - val_accuracy: 0.0625 - 5s/epoch - 35ms/step\n",
      "Epoch 5/5\n",
      "147/147 - 5s - loss: 2.7794 - accuracy: 0.0581 - val_loss: 2.7792 - val_accuracy: 0.0625 - 5s/epoch - 34ms/step\n",
      "processing fold 0\n",
      "Epoch 1/5\n",
      "147/147 - 8s - loss: 2.7798 - accuracy: 0.0589 - val_loss: 2.7756 - val_accuracy: 0.0624 - 8s/epoch - 52ms/step\n",
      "Epoch 2/5\n",
      "147/147 - 5s - loss: 2.7777 - accuracy: 0.0597 - val_loss: 2.7766 - val_accuracy: 0.0624 - 5s/epoch - 34ms/step\n",
      "Epoch 3/5\n",
      "147/147 - 5s - loss: 2.7779 - accuracy: 0.0598 - val_loss: 2.7766 - val_accuracy: 0.0624 - 5s/epoch - 34ms/step\n",
      "Epoch 4/5\n",
      "147/147 - 5s - loss: 2.7790 - accuracy: 0.0596 - val_loss: 2.7768 - val_accuracy: 0.0627 - 5s/epoch - 36ms/step\n",
      "Epoch 5/5\n",
      "147/147 - 5s - loss: 2.7793 - accuracy: 0.0614 - val_loss: 2.7783 - val_accuracy: 0.0624 - 5s/epoch - 35ms/step\n",
      "processing fold 1\n",
      "Epoch 1/5\n",
      "147/147 - 12s - loss: 2.7799 - accuracy: 0.0590 - val_loss: 2.7762 - val_accuracy: 0.0625 - 12s/epoch - 79ms/step\n",
      "Epoch 2/5\n",
      "147/147 - 7s - loss: 2.7780 - accuracy: 0.0598 - val_loss: 2.7759 - val_accuracy: 0.0625 - 7s/epoch - 49ms/step\n",
      "Epoch 3/5\n",
      "147/147 - 7s - loss: 2.7783 - accuracy: 0.0607 - val_loss: 2.7780 - val_accuracy: 0.0625 - 7s/epoch - 44ms/step\n",
      "Epoch 4/5\n",
      "147/147 - 6s - loss: 2.7792 - accuracy: 0.0564 - val_loss: 2.7782 - val_accuracy: 0.0627 - 6s/epoch - 43ms/step\n",
      "Epoch 5/5\n",
      "147/147 - 6s - loss: 2.7793 - accuracy: 0.0583 - val_loss: 2.7788 - val_accuracy: 0.0625 - 6s/epoch - 41ms/step\n",
      "processing fold 2\n",
      "Epoch 1/5\n",
      "147/147 - 10s - loss: 2.7800 - accuracy: 0.0625 - val_loss: 2.7768 - val_accuracy: 0.0625 - 10s/epoch - 71ms/step\n",
      "Epoch 2/5\n",
      "147/147 - 7s - loss: 2.7778 - accuracy: 0.0599 - val_loss: 2.7755 - val_accuracy: 0.0625 - 7s/epoch - 49ms/step\n",
      "Epoch 3/5\n",
      "147/147 - 6s - loss: 2.7781 - accuracy: 0.0587 - val_loss: 2.7780 - val_accuracy: 0.0625 - 6s/epoch - 42ms/step\n",
      "Epoch 4/5\n",
      "147/147 - 5s - loss: 2.7794 - accuracy: 0.0575 - val_loss: 2.7776 - val_accuracy: 0.0625 - 5s/epoch - 36ms/step\n",
      "Epoch 5/5\n",
      "147/147 - 5s - loss: 2.7797 - accuracy: 0.0587 - val_loss: 2.7792 - val_accuracy: 0.0627 - 5s/epoch - 35ms/step\n",
      "processing fold 3\n",
      "Epoch 1/5\n",
      "147/147 - 8s - loss: 2.7800 - accuracy: 0.0586 - val_loss: 2.7762 - val_accuracy: 0.0625 - 8s/epoch - 52ms/step\n",
      "Epoch 2/5\n",
      "147/147 - 5s - loss: 2.7776 - accuracy: 0.0589 - val_loss: 2.7762 - val_accuracy: 0.0625 - 5s/epoch - 35ms/step\n",
      "Epoch 3/5\n",
      "147/147 - 5s - loss: 2.7778 - accuracy: 0.0588 - val_loss: 2.7766 - val_accuracy: 0.0625 - 5s/epoch - 35ms/step\n",
      "Epoch 4/5\n",
      "147/147 - 5s - loss: 2.7792 - accuracy: 0.0599 - val_loss: 2.7767 - val_accuracy: 0.0625 - 5s/epoch - 35ms/step\n",
      "Epoch 5/5\n",
      "147/147 - 6s - loss: 2.7797 - accuracy: 0.0597 - val_loss: 2.7790 - val_accuracy: 0.0625 - 6s/epoch - 38ms/step\n",
      "processing fold 4\n",
      "Epoch 1/5\n",
      "147/147 - 9s - loss: 2.7799 - accuracy: 0.0588 - val_loss: 2.7767 - val_accuracy: 0.0625 - 9s/epoch - 60ms/step\n",
      "Epoch 2/5\n",
      "147/147 - 5s - loss: 2.7778 - accuracy: 0.0587 - val_loss: 2.7765 - val_accuracy: 0.0625 - 5s/epoch - 36ms/step\n",
      "Epoch 3/5\n",
      "147/147 - 8s - loss: 2.7782 - accuracy: 0.0584 - val_loss: 2.7779 - val_accuracy: 0.0625 - 8s/epoch - 52ms/step\n",
      "Epoch 4/5\n",
      "147/147 - 5s - loss: 2.7794 - accuracy: 0.0562 - val_loss: 2.7773 - val_accuracy: 0.0625 - 5s/epoch - 35ms/step\n",
      "Epoch 5/5\n",
      "147/147 - 5s - loss: 2.7797 - accuracy: 0.0590 - val_loss: 2.7794 - val_accuracy: 0.0625 - 5s/epoch - 35ms/step\n"
     ]
    }
   ],
   "source": [
    "import numpy as np \n",
    "from sklearn.model_selection import StratifiedKFold\n",
    "from sklearn.metrics import mean_absolute_error\n",
    "\n",
    "K=4\n",
    "num_val_samples = len(X_train_resampled)//K\n",
    "num_epochs = 5\n",
    "\n",
    "#new!\n",
    "all_val_acc_6 = []\n",
    "all_val_loss_6 = []\n",
    "\n",
    "all_acc_6 = []\n",
    "all_loss_6 = []\n",
    "all_acc_history_6 = []\n",
    "all_loss_history_6 = []\n",
    "\n",
    "N_iterations=4\n",
    "N_folds=5\n",
    "        \n",
    "for i in range(N_iterations):\n",
    "    skf = StratifiedKFold(n_splits=N_folds, shuffle=True)\n",
    "    \n",
    "    for j, (train_index, val_index) in enumerate(skf.split(X_train_resampled, y_train_resampled)):\n",
    "        print('processing fold', j)\n",
    "        \n",
    "        partial_train_data = X_train_resampled[train_index]\n",
    "        val_data = X_train_resampled[val_index]\n",
    "        \n",
    "        partial_train_targets = y_train_resampled[train_index]\n",
    "        val_targets = y_train_resampled[val_index]\n",
    "        \n",
    "        # One-hot encode the target labels\n",
    "        partial_train_targets = to_categorical(partial_train_targets, num_classes=16)\n",
    "        val_targets = to_categorical(val_targets, num_classes=16)\n",
    "        \n",
    "        # Train the model \n",
    "        lstm_model_4.compile(loss=\"categorical_crossentropy\", optimizer=\"adam\", metrics=[\"accuracy\"])\n",
    "        results_6 = lstm_model_4.fit(partial_train_data, partial_train_targets, epochs=num_epochs, batch_size=128, verbose=2, validation_data = (val_data, val_targets))\n",
    "        \n",
    "        # Evaluate the model on the validation data: loss and accuracy \n",
    "        val_loss, val_acc = lstm_model_4.evaluate(val_data, val_targets, verbose=0)\n",
    "        all_val_acc_6.append(val_acc)\n",
    "        all_val_loss_6.append(val_loss)\n",
    "        \n",
    "        acc = results_6.history['accuracy']\n",
    "        all_acc_6.append(acc)\n",
    "        acc_history = results_6.history['val_accuracy']\n",
    "        all_acc_history_6.append(acc_history)\n",
    "        \n",
    "        loss = results_6.history['loss']\n",
    "        all_loss_6.append(loss)\n",
    "        loss_history = results_6.history['val_loss']\n",
    "        all_loss_history_6.append(loss_history)"
   ]
  },
  {
   "cell_type": "code",
   "execution_count": 122,
   "id": "2e5ee34a",
   "metadata": {},
   "outputs": [
    {
     "data": {
      "image/png": "[encoded data removed]",
      "text/plain": [
       "<Figure size 432x288 with 1 Axes>"
      ]
     },
     "metadata": {
      "needs_background": "light"
     },
     "output_type": "display_data"
    }
   ],
   "source": [
    "plot_loss(all_loss_6, all_loss_history_6)"
   ]
  },
  {
   "cell_type": "code",
   "execution_count": 123,
   "id": "896dbda2",
   "metadata": {},
   "outputs": [
    {
     "data": {
      "image/png": "[encoded data removed]",
      "text/plain": [
       "<Figure size 432x288 with 1 Axes>"
      ]
     },
     "metadata": {
      "needs_background": "light"
     },
     "output_type": "display_data"
    }
   ],
   "source": [
    "plot_acc(all_acc_6, all_acc_history_6)"
   ]
  },
  {
   "cell_type": "code",
   "execution_count": 124,
   "id": "1a6f90e1",
   "metadata": {},
   "outputs": [
    {
     "name": "stdout",
     "output_type": "stream",
     "text": [
      "Average Loss: 2.7792327284812925\n",
      "Average Accuracy: 0.06247868351638317\n"
     ]
    }
   ],
   "source": [
    "print(\"Average Loss:\", np.mean(all_val_loss_6))\n",
    "print(\"Average Accuracy:\", np.mean(all_val_acc_6))"
   ]
  },
  {
   "cell_type": "markdown",
   "id": "25ad5ad7",
   "metadata": {},
   "source": [
    "The average accuracy for L1/L2=0.1 and L1/L2=0.001 are both 0.062. The average loss of the former slightly lower at 2.78 than the latter which was 3.54\n",
    "\n",
    "Based on the results on our LSTM models with L1/L2 regularizers, both did not yield good results. This is most likely due to the fact that our model is underfitting and trained with a small epoch number. \n",
    "\n",
    "Hence, our final model will not include L1/L2 regularizers."
   ]
  },
  {
   "cell_type": "markdown",
   "id": "5bb66628",
   "metadata": {},
   "source": [
    "# Final LSTM Model"
   ]
  },
  {
   "cell_type": "markdown",
   "id": "3877ac03",
   "metadata": {},
   "source": [
    "no matter how small my l1/l2 regularizer i set, the accuracy is always very low and hovers around the same value  (0.06). but the smaller l1/l2 regularizer value (0.001) gives me a much smaller loss (0.9) than the bigger l1/l2 regularizer (0.1) which gives me a loss of (3) . what does this mean? would it better to  just not apply l1/l2 regularizer to my model ?"
   ]
  },
  {
   "cell_type": "code",
   "execution_count": null,
   "id": "da7f4c05",
   "metadata": {},
   "outputs": [],
   "source": []
  },
  {
   "cell_type": "code",
   "execution_count": null,
   "id": "2f4fca73",
   "metadata": {},
   "outputs": [],
   "source": []
  },
  {
   "cell_type": "code",
   "execution_count": null,
   "id": "a5435681",
   "metadata": {},
   "outputs": [],
   "source": []
  },
  {
   "cell_type": "code",
   "execution_count": null,
   "id": "ad59f99f",
   "metadata": {},
   "outputs": [],
   "source": []
  },
  {
   "cell_type": "code",
   "execution_count": null,
   "id": "164d43f1",
   "metadata": {},
   "outputs": [],
   "source": []
  },
  {
   "cell_type": "code",
   "execution_count": null,
   "id": "33ac74e6",
   "metadata": {},
   "outputs": [],
   "source": []
  },
  {
   "cell_type": "code",
   "execution_count": null,
   "id": "0609568a",
   "metadata": {},
   "outputs": [],
   "source": []
  },
  {
   "cell_type": "code",
   "execution_count": 87,
   "id": "5a34fd41",
   "metadata": {},
   "outputs": [],
   "source": [
    "######################################    IGNORE FROM HERE    #####################################"
   ]
  },
  {
   "cell_type": "markdown",
   "id": "5bc26768",
   "metadata": {},
   "source": [
    "#### Building the model"
   ]
  },
  {
   "cell_type": "code",
   "execution_count": null,
   "id": "5ea5c205",
   "metadata": {},
   "outputs": [],
   "source": [
    "# Initialising the model \n",
    "overfit_lstm_model = Sequential()\n",
    "\n",
    "# Defining model: add layers \n",
    "overfit_lstm_model.add(Embedding(\n",
    "    max_words,\n",
    "    EMBEDDING_VECTOR_LENGTH,\n",
    "    input_length=max_len,\n",
    "    weights=[embedding_matrix],\n",
    "    trainable=True,\n",
    ")) #glove embedding\n",
    "overfit_lstm_model.add(LSTM(64)) #LSTM layer \n",
    "overfit_lstm_model.add(Dense(NUM_CLASSES, activation='softmax')) #dense layer - the last one\n",
    "\n",
    "# Compile model\n",
    "underfit_lstm_model.compile(loss=\"categorical_crossentropy\", optimizer=\"adam\", metrics=[\"accuracy\"])\n",
    "\n",
    "print(underfit_lstm_model.summary())"
   ]
  },
  {
   "cell_type": "code",
   "execution_count": null,
   "id": "a85e2d7a",
   "metadata": {},
   "outputs": [],
   "source": [
    "import numpy as np \n",
    "from sklearn.model_selection import StratifiedKFold\n",
    "from sklearn.metrics import mean_absolute_error\n",
    "\n",
    "K=4\n",
    "num_val_samples = len(X_train_resampled)//K\n",
    "num_epochs = 5\n",
    "\n",
    "#new!\n",
    "all_val_acc_3 = []\n",
    "all_val_loss_3 = []\n",
    "\n",
    "all_acc_3 = []\n",
    "all_loss_3 = []\n",
    "all_acc_history_3 = []\n",
    "all_loss_history_3 = []\n",
    "\n",
    "N_iterations=4\n",
    "N_folds=5\n",
    "        \n",
    "for i in range(N_iterations):\n",
    "    skf = StratifiedKFold(n_splits=N_folds, shuffle=True)\n",
    "    \n",
    "    for j, (train_index, val_index) in enumerate(skf.split(X_train_resampled, y_train_resampled)):\n",
    "        print('processing fold', j)\n",
    "        \n",
    "        partial_train_data = X_train_resampled[train_index]\n",
    "        val_data = X_train_resampled[val_index]\n",
    "        \n",
    "        partial_train_targets = y_train_resampled[train_index]\n",
    "        val_targets = y_train_resampled[val_index]\n",
    "        \n",
    "        # One-hot encode the target labels\n",
    "        partial_train_targets = to_categorical(partial_train_targets, num_classes=16)\n",
    "        val_targets = to_categorical(val_targets, num_classes=16)\n",
    "        \n",
    "        # Train the model (in silent mode, verbose=0)\n",
    "        overfit_lstm_model.compile(loss=\"categorical_crossentropy\", optimizer=\"adam\", metrics=[\"accuracy\"])\n",
    "        results_2 = overfit_lstm_model.fit(partial_train_data, partial_train_targets, epochs=num_epochs, batch_size=128, verbose=0, validation_data = (val_data, val_targets))\n",
    "        \n",
    "        # Evaluate the model on the validation data: loss and accuracy \n",
    "        val_loss, val_acc = overfit_lstm_model.evaluate(val_data, val_targets, verbose=0)\n",
    "        all_val_acc_2.append(val_acc)\n",
    "        all_val_loss_2.append(val_loss)\n",
    "        \n",
    "        acc = results_2.history['accuracy']\n",
    "        all_acc_2.append(acc)\n",
    "        acc_history = results_2.history['val_accuracy']\n",
    "        all_acc_history_2.append(acc_history)\n",
    "        \n",
    "        loss = results_2.history['loss']\n",
    "        all_loss_2.append(loss)\n",
    "        loss_history = results_2.history['val_loss']\n",
    "        all_loss_history_2.append(loss_history)"
   ]
  },
  {
   "cell_type": "code",
   "execution_count": null,
   "id": "2e28e277",
   "metadata": {},
   "outputs": [],
   "source": []
  },
  {
   "cell_type": "code",
   "execution_count": null,
   "id": "9e80f4ab",
   "metadata": {},
   "outputs": [],
   "source": []
  },
  {
   "cell_type": "code",
   "execution_count": null,
   "id": "3ff789f9",
   "metadata": {},
   "outputs": [],
   "source": []
  },
  {
   "cell_type": "code",
   "execution_count": null,
   "id": "25ff161f",
   "metadata": {},
   "outputs": [],
   "source": []
  },
  {
   "cell_type": "code",
   "execution_count": null,
   "id": "1b4dd46e",
   "metadata": {},
   "outputs": [],
   "source": []
  },
  {
   "cell_type": "code",
   "execution_count": null,
   "id": "1bf27887",
   "metadata": {},
   "outputs": [],
   "source": []
  },
  {
   "cell_type": "code",
   "execution_count": null,
   "id": "d341c48d",
   "metadata": {},
   "outputs": [],
   "source": []
  },
  {
   "cell_type": "code",
   "execution_count": null,
   "id": "c7bdbe59",
   "metadata": {},
   "outputs": [],
   "source": [
    "# plot mae graph \n",
    "plot_mae(all_mae_history_1, num_epochs)"
   ]
  },
  {
   "cell_type": "code",
   "execution_count": null,
   "id": "660d5e6b",
   "metadata": {},
   "outputs": [],
   "source": []
  },
  {
   "cell_type": "code",
   "execution_count": null,
   "id": "e9e89490",
   "metadata": {},
   "outputs": [],
   "source": []
  },
  {
   "cell_type": "markdown",
   "id": "8e3e63f0",
   "metadata": {},
   "source": [
    "# Iterated K-fold on Overfit model "
   ]
  },
  {
   "cell_type": "code",
   "execution_count": null,
   "id": "f4f9adc3",
   "metadata": {},
   "outputs": [],
   "source": [
    "# create an overfit model \n",
    "overfit_lstm_model = models.Sequential()\n",
    "\n",
    "# add multiple dense layers \n",
    "overfit_lstm_model.add"
   ]
  },
  {
   "cell_type": "markdown",
   "id": "372349be",
   "metadata": {},
   "source": [
    "Just testing "
   ]
  },
  {
   "cell_type": "code",
   "execution_count": null,
   "id": "e0c35989",
   "metadata": {},
   "outputs": [],
   "source": [
    "from tensorflow.keras import models,layers"
   ]
  },
  {
   "cell_type": "code",
   "execution_count": null,
   "id": "4890ee0c",
   "metadata": {},
   "outputs": [],
   "source": [
    "num_classes = 16\n",
    "# underfit model \n",
    "underfit_model = Sequential()\n",
    "underfit_model.add(layers.Dense(num_classes, activation='softmax')) "
   ]
  },
  {
   "cell_type": "code",
   "execution_count": null,
   "id": "450d34fe",
   "metadata": {},
   "outputs": [],
   "source": [
    "# compile model\n",
    "underfit_model.compile(loss=\"categorical_crossentropy\", optimizer=\"adam\", metrics=[\"accuracy\"])"
   ]
  },
  {
   "cell_type": "code",
   "execution_count": null,
   "id": "485d9e0c",
   "metadata": {},
   "outputs": [],
   "source": [
    "# train underfit model \n",
    "result1 = underfit_model.fit(X_train_lstm_pad, \n",
    "                             y_train_lstm_onehot,\n",
    "                             epochs=10, \n",
    "                             batch_size=128)"
   ]
  },
  {
   "cell_type": "code",
   "execution_count": null,
   "id": "224c087e",
   "metadata": {},
   "outputs": [],
   "source": [
    "underfit_model.summary()"
   ]
  },
  {
   "cell_type": "markdown",
   "id": "0945a388",
   "metadata": {},
   "source": [
    "# Developing a model better than the baseline"
   ]
  },
  {
   "cell_type": "markdown",
   "id": "ed0b8189",
   "metadata": {},
   "source": [
    "## Evaluation Protocol: Iterated K-fold \n",
    "### LSTM model"
   ]
  },
  {
   "cell_type": "code",
   "execution_count": null,
   "id": "27416d9e",
   "metadata": {},
   "outputs": [],
   "source": [
    "df_clean.shape"
   ]
  },
  {
   "cell_type": "code",
   "execution_count": null,
   "id": "39b31711",
   "metadata": {},
   "outputs": [],
   "source": [
    "# split data into training and testing\n",
    "DATASET_SIZE=8675\n",
    "TRAIN_RATIO=0.8\n",
    "TEST_RATIO=0.2\n",
    "\n",
    "X = df['posts']\n",
    "y = df['type']\n",
    "\n",
    "X_train_lstm, X_test_lstm, y_train_lstm, y_test_lstm = train_test_split(df_clean['posts'],df_clean['type'], \n",
    "                                         test_size=TEST_RATIO,\n",
    "                                         random_state=0, \n",
    "                                         stratify= df.type) "
   ]
  },
  {
   "cell_type": "code",
   "execution_count": null,
   "id": "dfebb175",
   "metadata": {},
   "outputs": [],
   "source": [
    "print('X_train_lstm', X_train_lstm.shape)\n",
    "print('X_test_lstm', X_test_lstm.shape)\n",
    "print('y_train_lstm', y_train_lstm.shape)\n",
    "print('y_test_lstm', y_test_lstm.shape)"
   ]
  },
  {
   "cell_type": "code",
   "execution_count": null,
   "id": "6c86b6eb",
   "metadata": {},
   "outputs": [],
   "source": [
    "# create an instance of label encoder \n",
    "labelencoder= LabelEncoder()\n",
    "# Fit and transform the labels to numerical format\n",
    "y_train_lstm_enc = labelencoder.fit_transform(y_train_lstm)\n",
    "y_test_lstm_enc = labelencoder.transform(y_test_lstm)"
   ]
  },
  {
   "cell_type": "code",
   "execution_count": null,
   "id": "02efc4d2",
   "metadata": {},
   "outputs": [],
   "source": [
    "from keras.utils import to_categorical\n",
    "\n",
    "# One-hot encode the target labels\n",
    "y_train_lstm_onehot = to_categorical(y_train_lstm_enc)\n",
    "y_test_lstm_onehot = to_categorical(y_test_lstm_enc)"
   ]
  },
  {
   "cell_type": "code",
   "execution_count": null,
   "id": "606c6ba9",
   "metadata": {},
   "outputs": [],
   "source": [
    "from keras.preprocessing.text import Tokenizer\n",
    "max_words = 2500\n",
    "max_len = 40\n",
    "\n",
    "# ensure all sequences in a list have the same length\n",
    "def tokenize_pad_sequences(text):\n",
    "    # initialise text tokenizer\n",
    "    tokenizer = Tokenizer(num_words=max_words, filters=\"\")\n",
    "    \n",
    "    # generate word indexes\n",
    "    tokenizer.fit_on_texts(text)\n",
    "    \n",
    "    # transforms text to a sequence of integers and apply padding \n",
    "    X = tokenizer.texts_to_sequences(text)\n",
    "    X = pad_sequences(X, padding='post', maxlen=max_len) #post padding  \n",
    "    \n",
    "    # return sequences \n",
    "    return X, tokenizer"
   ]
  },
  {
   "cell_type": "code",
   "execution_count": null,
   "id": "1db17c65",
   "metadata": {},
   "outputs": [],
   "source": [
    "X_train_lstm_pad, tokenizer = tokenize_pad_sequences(X_train_lstm)\n",
    "X_test_lstm_pad = tokenizer.texts_to_sequences(X_test_lstm)\n",
    "X_test_lstm_pad = pad_sequences(X_test_lstm_pad, padding='post', maxlen=max_len)"
   ]
  },
  {
   "cell_type": "code",
   "execution_count": null,
   "id": "e794fd06",
   "metadata": {},
   "outputs": [],
   "source": []
  },
  {
   "cell_type": "code",
   "execution_count": null,
   "id": "39a36435",
   "metadata": {},
   "outputs": [],
   "source": [
    "# Define the model \n",
    "model = Sequential()\n",
    "DROPOUT = 0.1\n",
    "\n",
    "# add glove embedding \n",
    "model.add(Embedding(\n",
    "    max_words,\n",
    "    EMBEDDING_VECTOR_LENGTH,\n",
    "    input_length=max_len,\n",
    "    weights=[embedding_matrix],\n",
    "    mask_zero=True,\n",
    "    trainable=True,\n",
    "))\n",
    "\n",
    "# add LSTM layer \n",
    "model.add(LSTM(\n",
    "    EMBEDDING_VECTOR_LENGTH,\n",
    "    dropout=DROPOUT,\n",
    "    recurrent_dropout=0.1, \n",
    "    activation='softmax',\n",
    "))\n",
    "\n",
    "model.add(Dense(16, activation=\"softmax\"))  # 16 classes for MBTI types"
   ]
  },
  {
   "cell_type": "code",
   "execution_count": null,
   "id": "58f8c178",
   "metadata": {},
   "outputs": [],
   "source": [
    "# compile model\n",
    "model.compile(loss=\"categorical_crossentropy\", optimizer=\"adam\", metrics=[\"accuracy\"])\n",
    "print(model.summary())"
   ]
  },
  {
   "cell_type": "markdown",
   "id": "80d8f2ae",
   "metadata": {},
   "source": [
    "Optimizer\n",
    "\n",
    "For this project, we will be using Adam as our optimizer as it is a combination of the best properties of AdaGrad, RMSprop and momentum. \n",
    "\n",
    "In addition, Adam generally works well in training deep learning models and outperforms other adaptive techniques. "
   ]
  },
  {
   "cell_type": "markdown",
   "id": "366bf25f",
   "metadata": {},
   "source": [
    "<b> Train LSTM model </b>"
   ]
  },
  {
   "cell_type": "code",
   "execution_count": null,
   "id": "635f4f58",
   "metadata": {},
   "outputs": [],
   "source": [
    "### Preprocessing variables\n",
    "MODEL_BATCH_SIZE = 128\n",
    "EMBEDDING_VECTOR_LENGTH = 50\n",
    "\n",
    "### Learning variables\n",
    "LEARNING_RATE = 0.01\n",
    "DROPOUT = 0.1\n",
    "NUM_EPOCHS = 1\n",
    "\n",
    "### Control variables\n",
    "CROSS_VALIDATION = False\n",
    "SAMPLE = True\n",
    "WORD_CLOUD = True\n",
    "SAVE_MODEL = True\n",
    "\n",
    "# training \n",
    "model.fit(X_train_lstm_pad, \n",
    "          y_train_lstm_onehot, \n",
    "          epochs=NUM_EPOCHS, \n",
    "          batch_size=MODEL_BATCH_SIZE)"
   ]
  },
  {
   "cell_type": "markdown",
   "id": "9b6ed6d4",
   "metadata": {},
   "source": [
    "# Further improvements "
   ]
  },
  {
   "cell_type": "markdown",
   "id": "05571cae",
   "metadata": {},
   "source": [
    "# References\n",
    "\n",
    "https://stackoverflow.com/questions/53353785/difference-between-k-fold-and-iterated-k-fold-with-shuffling\n",
    "    \n",
    "    "
   ]
  },
  {
   "cell_type": "code",
   "execution_count": null,
   "id": "c746adc2",
   "metadata": {},
   "outputs": [],
   "source": []
  }
 ],
 "metadata": {
  "kernelspec": {
   "display_name": "Python 3 (ipykernel)",
   "language": "python",
   "name": "python3"
  },
  "language_info": {
   "codemirror_mode": {
    "name": "ipython",
    "version": 3
   },
   "file_extension": ".py",
   "mimetype": "text/x-python",
   "name": "python",
   "nbconvert_exporter": "python",
   "pygments_lexer": "ipython3",
   "version": "3.9.7"
  }
 },
 "nbformat": 4,
 "nbformat_minor": 5
}
