{
 "cells": [
  {
   "cell_type": "markdown",
   "id": "214b50cb",
   "metadata": {},
   "source": [
    "# Defining the problem\n",
    "In the realm of hiring and talent acquisition, understanding a candidate's personality\n",
    "traits is essential for determining their compatibility with a company's culture and job\n",
    "requirements. As reported by the New York Times, the psychometrics field is a $2\n",
    "billion dollar industry with over 2000 personality tests on the market currently. The\n",
    "Myers-Briggs Type Indicator (MBTI) is one of the most widely recognised framework\n",
    "for assessing personality types in the world, with more than 3.5 million assessments\n",
    "administered annually. It is used in 26 countries to assess employees, students,\n",
    "soldiers and potential marriage partners. \n",
    "\n",
    "This project aims to develop a predictive model that can accurately determine a person's MBTI based on their texts posted on social media platforms. The project aims to develop a tool for companies to quickly\n",
    "gain insight into the personalities of their potential hires to make informed candidate\n",
    "selection decisions, maximise the potential of their employees and better manage the\n",
    "culture of the firm.\n",
    "\n",
    "A successful implementation of such a classifier would demonstrate a strong linguistic\n",
    "basis for MBTI and potentially personality in general. Furthermore, the ability to\n",
    "produce an accurate text-based classifier has significant potential implications for the\n",
    "field of psychology itself, since the connection between natural language and\n",
    "personality type is non-trivial."
   ]
  },
  {
   "cell_type": "markdown",
   "id": "61460149",
   "metadata": {},
   "source": [
    "# Assembling the Dataset \n",
    "In this section, we will be doing the following: \n",
    "\n",
    "1. Import necessary libraries and modules\n",
    "2. Load dataset \n",
    "3. Data Cleaning \n",
    "4. Exploratory Data Analysis (EDA) "
   ]
  },
  {
   "cell_type": "markdown",
   "id": "7cae43a7",
   "metadata": {},
   "source": [
    "## 1. Import necessary libraries and modules"
   ]
  },
  {
   "cell_type": "code",
   "execution_count": 1,
   "id": "e50d85be",
   "metadata": {},
   "outputs": [
    {
     "name": "stdout",
     "output_type": "stream",
     "text": [
      "Requirement already satisfied: xgboost in /Users/suhyun/opt/anaconda3/lib/python3.9/site-packages (1.7.6)\n",
      "Requirement already satisfied: scipy in /Users/suhyun/opt/anaconda3/lib/python3.9/site-packages (from xgboost) (1.7.1)\n",
      "Requirement already satisfied: numpy in /Users/suhyun/opt/anaconda3/lib/python3.9/site-packages (from xgboost) (1.20.3)\n"
     ]
    }
   ],
   "source": [
    "!pip install xgboost\n",
    "!pip install squarify\n",
    "!python -m pip uninstall -y imbalanced-learn\n",
    "!pip install scikit-learn==0.24.2\n",
    "!pip install imblearn"
   ]
  },
  {
   "cell_type": "code",
   "execution_count": 6,
   "id": "ae573fa0",
   "metadata": {},
   "outputs": [
    {
     "name": "stderr",
     "output_type": "stream",
     "text": [
      "/Users/suhyun/opt/anaconda3/lib/python3.9/site-packages/sklearn/experimental/enable_hist_gradient_boosting.py:15: UserWarning: Since version 1.0, it is not needed to import enable_hist_gradient_boosting anymore. HistGradientBoostingClassifier and HistGradientBoostingRegressor are now stable and can be normally imported from sklearn.ensemble.\n",
      "  warnings.warn(\n",
      "2023-09-01 21:04:24.978110: I tensorflow/core/platform/cpu_feature_guard.cc:193] This TensorFlow binary is optimized with oneAPI Deep Neural Network Library (oneDNN) to use the following CPU instructions in performance-critical operations:  AVX2 FMA\n",
      "To enable them in other operations, rebuild TensorFlow with the appropriate compiler flags.\n"
     ]
    }
   ],
   "source": [
    "import pandas as pd\n",
    "import numpy as np\n",
    "import seaborn as sns\n",
    "from PIL import Image\n",
    "from sklearn.tree import DecisionTreeClassifier\n",
    "from sklearn.metrics import classification_report\n",
    "from sklearn.linear_model import LogisticRegression\n",
    "from sklearn.preprocessing import LabelEncoder\n",
    "from sklearn.feature_extraction.text import TfidfVectorizer\n",
    "from wordcloud import WordCloud\n",
    "from tqdm import tqdm\n",
    "from nltk.stem import WordNetLemmatizer\n",
    "    \n",
    "from nltk.corpus import stopwords\n",
    "\n",
    "import re\n",
    "from sklearn.model_selection import train_test_split\n",
    "from sklearn.svm import SVC,LinearSVC\n",
    "from sklearn.ensemble import RandomForestClassifier,GradientBoostingClassifier\n",
    "from xgboost import XGBClassifier\n",
    "import matplotlib.pyplot as plt\n",
    "import seaborn as sns\n",
    "from sklearn.metrics import accuracy_score,roc_auc_score,roc_curve\n",
    "from sklearn.naive_bayes import MultinomialNB\n",
    "\n",
    "from sklearn.experimental import enable_hist_gradient_boosting\n",
    "from sklearn.ensemble import HistGradientBoostingClassifier\n",
    "\n",
    "import plotly.express as px\n",
    "import warnings\n",
    "\n",
    "\n",
    "from sklearn.neighbors import KNeighborsClassifier\n",
    "import imblearn\n",
    "from imblearn.over_sampling import SMOTE\n",
    "\n",
    "from keras.wrappers.scikit_learn import KerasClassifier\n",
    "from keras.models import Sequential\n",
    "from keras.models import load_model\n",
    "from keras.layers import Dense\n",
    "from keras.layers import LSTM\n",
    "from keras.layers import Bidirectional\n",
    "from keras.layers import GRU\n",
    "from keras.layers import SimpleRNN\n",
    "from keras.layers import Embedding\n",
    "from keras.preprocessing import sequence\n",
    "from keras.preprocessing import text\n",
    "from keras.optimizers import Adam\n",
    "# outdated: from keras.preprocessing import sequence \n",
    "from keras.utils.data_utils import pad_sequences\n",
    "from tensorflow.keras.preprocessing.sequence import pad_sequences\n",
    "\n",
    "import squarify\n",
    "from sklearn.metrics import f1_score\n",
    "\n",
    "import nltk\n",
    "from nltk.stem import WordNetLemmatizer"
   ]
  },
  {
   "cell_type": "markdown",
   "id": "6f58dbdd",
   "metadata": {},
   "source": [
    "## 2. Load Dataset"
   ]
  },
  {
   "cell_type": "markdown",
   "id": "f2e75d0f",
   "metadata": {},
   "source": [
    "### Create a dataframe"
   ]
  },
  {
   "cell_type": "code",
   "execution_count": 7,
   "id": "56daded9",
   "metadata": {},
   "outputs": [
    {
     "data": {
      "text/html": [
       "<div>\n",
       "<style scoped>\n",
       "    .dataframe tbody tr th:only-of-type {\n",
       "        vertical-align: middle;\n",
       "    }\n",
       "\n",
       "    .dataframe tbody tr th {\n",
       "        vertical-align: top;\n",
       "    }\n",
       "\n",
       "    .dataframe thead th {\n",
       "        text-align: right;\n",
       "    }\n",
       "</style>\n",
       "<table border=\"1\" class=\"dataframe\">\n",
       "  <thead>\n",
       "    <tr style=\"text-align: right;\">\n",
       "      <th></th>\n",
       "      <th>type</th>\n",
       "      <th>posts</th>\n",
       "    </tr>\n",
       "  </thead>\n",
       "  <tbody>\n",
       "    <tr>\n",
       "      <th>0</th>\n",
       "      <td>INFJ</td>\n",
       "      <td>'http://www.youtube.com/watch?v=qsXHcwe3krw|||...</td>\n",
       "    </tr>\n",
       "    <tr>\n",
       "      <th>1</th>\n",
       "      <td>ENTP</td>\n",
       "      <td>'I'm finding the lack of me in these posts ver...</td>\n",
       "    </tr>\n",
       "    <tr>\n",
       "      <th>2</th>\n",
       "      <td>INTP</td>\n",
       "      <td>'Good one  _____   https://www.youtube.com/wat...</td>\n",
       "    </tr>\n",
       "    <tr>\n",
       "      <th>3</th>\n",
       "      <td>INTJ</td>\n",
       "      <td>'Dear INTP,   I enjoyed our conversation the o...</td>\n",
       "    </tr>\n",
       "    <tr>\n",
       "      <th>4</th>\n",
       "      <td>ENTJ</td>\n",
       "      <td>'You're fired.|||That's another silly misconce...</td>\n",
       "    </tr>\n",
       "  </tbody>\n",
       "</table>\n",
       "</div>"
      ],
      "text/plain": [
       "   type                                              posts\n",
       "0  INFJ  'http://www.youtube.com/watch?v=qsXHcwe3krw|||...\n",
       "1  ENTP  'I'm finding the lack of me in these posts ver...\n",
       "2  INTP  'Good one  _____   https://www.youtube.com/wat...\n",
       "3  INTJ  'Dear INTP,   I enjoyed our conversation the o...\n",
       "4  ENTJ  'You're fired.|||That's another silly misconce..."
      ]
     },
     "execution_count": 7,
     "metadata": {},
     "output_type": "execute_result"
    }
   ],
   "source": [
    "df = pd.read_csv('mbti_1.csv')\n",
    "#df = pd.read_csv('mbti_1.csv', index_col=False)\n",
    "df.head()"
   ]
  },
  {
   "cell_type": "markdown",
   "id": "b09dd8a5",
   "metadata": {},
   "source": [
    "### Understanding the structure of the dataset\n",
    "Before we start cleaning our data, we need to first understand our raw dataset so that we can determine what to clean."
   ]
  },
  {
   "cell_type": "code",
   "execution_count": null,
   "id": "7ef99bfd",
   "metadata": {},
   "outputs": [],
   "source": [
    "print(df.shape)"
   ]
  },
  {
   "cell_type": "code",
   "execution_count": null,
   "id": "a609100f",
   "metadata": {},
   "outputs": [],
   "source": [
    "# display info/data types of data \n",
    "df.info()"
   ]
  },
  {
   "cell_type": "markdown",
   "id": "f24618be",
   "metadata": {},
   "source": [
    "From the above results, we can deduce that there are:\n",
    "* 8675 data values \n",
    "* 2 Columns - Type and Posts\n",
    "* Object datatype"
   ]
  },
  {
   "cell_type": "markdown",
   "id": "9ac36af5",
   "metadata": {},
   "source": [
    "### Understanding the data"
   ]
  },
  {
   "cell_type": "markdown",
   "id": "7039e2cc",
   "metadata": {},
   "source": [
    "#### type (y data)"
   ]
  },
  {
   "cell_type": "code",
   "execution_count": null,
   "id": "2cca4882",
   "metadata": {},
   "outputs": [],
   "source": [
    "df['type']"
   ]
  },
  {
   "cell_type": "markdown",
   "id": "13891e82",
   "metadata": {},
   "source": [
    "#### Uncleaned posts (x data)"
   ]
  },
  {
   "cell_type": "code",
   "execution_count": null,
   "id": "e5e7c800",
   "metadata": {},
   "outputs": [],
   "source": [
    "df.posts[0]"
   ]
  },
  {
   "cell_type": "markdown",
   "id": "6e54240d",
   "metadata": {},
   "source": [
    "## 3. Data Cleaning\n",
    "Data cleaning is the process of fixing or removing incorrect, corrupted, incorrectly formatted, duplicate, or incomplete data within a dataset. Cleaning our dataset ensures data accuracy, reliability and quality for effective analysis and modelling. \n",
    "\n",
    "* Case Standardisation\n",
    "* Remove Stopwords\n",
    "* Remove URLs and punctuations\n",
    "* Lemmatization"
   ]
  },
  {
   "cell_type": "code",
   "execution_count": 9,
   "id": "831bf577",
   "metadata": {},
   "outputs": [],
   "source": [
    "def clean_data(x):\n",
    "    data_length=[]\n",
    "    wnl=WordNetLemmatizer()\n",
    "    cleaned_text=[]\n",
    "    stop_words = set(stopwords.words('english')) # Load stop words\n",
    "    mbti_types = [ \"ISTJ\", \"ESFJ\", \"ISTJ\",\"ISFP\",\n",
    "                  \"ESTJ\", \"ESFP\", \"ENFP\",\"ISTP\",\n",
    "                  \"INFP\", \"ESTP\", \"INTP\", \"ENTP\", \n",
    "                  \"ENFJ\", \"INTJ\", \"ENTJ\", \"INFJ\" ]\n",
    "    mbti_types = [t.lower() for t in mbti_types]\n",
    "    \n",
    "    for sent in df.posts:\n",
    "        \n",
    "        # Case Standardisation\n",
    "        sent=sent.lower()\n",
    "        \n",
    "        # Remove URLs\n",
    "        # source: Gabriel Giraldo-Wingler https://stackoverflow.com/questions/11331982/how-to-remove-any-url-within-a-string-in-python\n",
    "        sent=re.sub('(https?:\\/\\/)(\\s)*(www\\.)?(\\s)*((\\w|\\s)+\\.)*([\\w\\-\\s]+\\/)*([\\w\\-]+)((\\?)?[\\w\\s]*=\\s*[\\w\\%&]*)*',' ',sent)\n",
    "        \n",
    "        # Remove punctuations\n",
    "        sent=re.sub('[^0-9a-z]',' ',sent)\n",
    "        \n",
    "        # Remove stop words\n",
    "        sent = \" \".join([word for word in sent.split() if word not in stop_words]) \n",
    "        \n",
    "        for t in mbti_types:\n",
    "            sent = re.sub(t, '', sent)\n",
    "            \n",
    "        # Lemmatize\n",
    "        sent = wnl.lemmatize(sent) \n",
    "        \n",
    "        data_length.append(len(sent.split())) #Split data, measure length of new filtered data\n",
    "        \n",
    "        cleaned_text.append(sent)\n",
    "        \n",
    "    return cleaned_text,data_length"
   ]
  },
  {
   "cell_type": "code",
   "execution_count": 10,
   "id": "da1ac00f",
   "metadata": {},
   "outputs": [],
   "source": [
    "class Lemmatizer(object):\n",
    "    def __init__(self):\n",
    "        self.lemmatizer = WordNetLemmatizer()\n",
    "\n",
    "    def __call__(self, sentence):\n",
    "        return [self.lemmatizer.lemmatize(word) for word in sentence.split() if len(word)>2]"
   ]
  },
  {
   "cell_type": "code",
   "execution_count": 11,
   "id": "1ae0cdb6",
   "metadata": {},
   "outputs": [
    {
     "data": {
      "text/html": [
       "<div>\n",
       "<style scoped>\n",
       "    .dataframe tbody tr th:only-of-type {\n",
       "        vertical-align: middle;\n",
       "    }\n",
       "\n",
       "    .dataframe tbody tr th {\n",
       "        vertical-align: top;\n",
       "    }\n",
       "\n",
       "    .dataframe thead th {\n",
       "        text-align: right;\n",
       "    }\n",
       "</style>\n",
       "<table border=\"1\" class=\"dataframe\">\n",
       "  <thead>\n",
       "    <tr style=\"text-align: right;\">\n",
       "      <th></th>\n",
       "      <th>type</th>\n",
       "      <th>posts</th>\n",
       "    </tr>\n",
       "  </thead>\n",
       "  <tbody>\n",
       "    <tr>\n",
       "      <th>0</th>\n",
       "      <td>INFJ</td>\n",
       "      <td>jpg   moments sportscenter top ten plays prank...</td>\n",
       "    </tr>\n",
       "    <tr>\n",
       "      <th>1</th>\n",
       "      <td>ENTP</td>\n",
       "      <td>finding lack posts alarming sex boring positio...</td>\n",
       "    </tr>\n",
       "    <tr>\n",
       "      <th>2</th>\n",
       "      <td>INTP</td>\n",
       "      <td>good one course say know blessing curse absolu...</td>\n",
       "    </tr>\n",
       "    <tr>\n",
       "      <th>3</th>\n",
       "      <td>INTJ</td>\n",
       "      <td>dear  enjoyed conversation day esoteric gabbin...</td>\n",
       "    </tr>\n",
       "    <tr>\n",
       "      <th>4</th>\n",
       "      <td>ENTJ</td>\n",
       "      <td>fired another silly misconception approaching ...</td>\n",
       "    </tr>\n",
       "    <tr>\n",
       "      <th>...</th>\n",
       "      <td>...</td>\n",
       "      <td>...</td>\n",
       "    </tr>\n",
       "    <tr>\n",
       "      <th>8670</th>\n",
       "      <td>ISFP</td>\n",
       "      <td>ixfp always think cats fi doms reason especial...</td>\n",
       "    </tr>\n",
       "    <tr>\n",
       "      <th>8671</th>\n",
       "      <td>ENFP</td>\n",
       "      <td>thread already exists someplace else html post...</td>\n",
       "    </tr>\n",
       "    <tr>\n",
       "      <th>8672</th>\n",
       "      <td>INTP</td>\n",
       "      <td>many questions things would take purple pill p...</td>\n",
       "    </tr>\n",
       "    <tr>\n",
       "      <th>8673</th>\n",
       "      <td>INFP</td>\n",
       "      <td>conflicted right comes wanting children honest...</td>\n",
       "    </tr>\n",
       "    <tr>\n",
       "      <th>8674</th>\n",
       "      <td>INFP</td>\n",
       "      <td>long since personalitycafe although seem chang...</td>\n",
       "    </tr>\n",
       "  </tbody>\n",
       "</table>\n",
       "<p>8675 rows × 2 columns</p>\n",
       "</div>"
      ],
      "text/plain": [
       "      type                                              posts\n",
       "0     INFJ  jpg   moments sportscenter top ten plays prank...\n",
       "1     ENTP  finding lack posts alarming sex boring positio...\n",
       "2     INTP  good one course say know blessing curse absolu...\n",
       "3     INTJ  dear  enjoyed conversation day esoteric gabbin...\n",
       "4     ENTJ  fired another silly misconception approaching ...\n",
       "...    ...                                                ...\n",
       "8670  ISFP  ixfp always think cats fi doms reason especial...\n",
       "8671  ENFP  thread already exists someplace else html post...\n",
       "8672  INTP  many questions things would take purple pill p...\n",
       "8673  INFP  conflicted right comes wanting children honest...\n",
       "8674  INFP  long since personalitycafe although seem chang...\n",
       "\n",
       "[8675 rows x 2 columns]"
      ]
     },
     "execution_count": 11,
     "metadata": {},
     "output_type": "execute_result"
    }
   ],
   "source": [
    "df_clean = df\n",
    "df_clean.posts,df_clean_length=clean_data(df)\n",
    "df_clean"
   ]
  },
  {
   "cell_type": "markdown",
   "id": "42d641f3",
   "metadata": {},
   "source": [
    "## 4. EDA\n",
    "In this section, we will carry out EDA on the cleaned data to find meaningful information in our dataset that may be useful for our project."
   ]
  },
  {
   "cell_type": "markdown",
   "id": "59ffa32a",
   "metadata": {},
   "source": [
    "#### Cleaned data"
   ]
  },
  {
   "cell_type": "code",
   "execution_count": 12,
   "id": "6f45d790",
   "metadata": {},
   "outputs": [
    {
     "data": {
      "text/plain": [
       "'jpg   moments sportscenter top ten plays pranks life changing experience life repeat today may perc experience immerse last thing  friend posted facebook committing suicide next day rest peace hello 7 sorry hear distress natural relationship perfection time every moment existence try figure hard times times growth 84389 84390 jpg jpg welcome stuff jpg game set match prozac wellbrutin least thirty minutes moving legs mean moving sitting desk chair weed moderation maybe try edibles healthier alternative basically come three items determined type whichever types want would likely use given types cognitive functions whatnot left things moderation sims indeed video game good one note good one somewhat subjective completely promoting death given sim dear  favorite video games growing current favorite video games cool appears late sad someone everyone wait thought confidence good thing cherish time solitude b c revel within inner world whereas time workin enjoy time worry people always around yo  ladies complimentary personality well hey main social outlet xbox live conversations even verbally fatigue quickly really dig part 1 46 2 50 banned thread requires get high backyard roast eat marshmellows backyard conversing something intellectual followed massages kisses banned many b sentence could think b banned watching movies corner dunces banned health class clearly taught nothing peer pressure banned whole host reasons 1 two baby deer left right munching beetle middle 2 using blood two cavemen diary today latest happenings designated cave diary wall 3 see pokemon world  society everyone becomes optimist 49142 jpg ign com pokemon silver version dd ditto gif jpg artists artists draw idea counts forming something like signature welcome robot ranks person downed self esteem cuz avid signature artist like proud banned taking room bed ya gotta learn share roaches banned much thundering grumbling kind storm yep ahh old high school music heard ages failed public speaking class years ago sort learned could better position big part failure overloading like person mentality confirmed  way gec6m move denver area start new life'"
      ]
     },
     "execution_count": 12,
     "metadata": {},
     "output_type": "execute_result"
    }
   ],
   "source": [
    "df_clean.posts[0]"
   ]
  },
  {
   "cell_type": "markdown",
   "id": "c0109a1a",
   "metadata": {},
   "source": [
    "#### MBTI distribution in the dataset"
   ]
  },
  {
   "cell_type": "code",
   "execution_count": null,
   "id": "d0997d7f",
   "metadata": {},
   "outputs": [],
   "source": [
    "# count data for each personality type \n",
    "df['type'].value_counts()"
   ]
  },
  {
   "cell_type": "markdown",
   "id": "b4e2de42",
   "metadata": {},
   "source": [
    "#### Visualise MBTI distribution "
   ]
  },
  {
   "cell_type": "code",
   "execution_count": null,
   "id": "2938c640",
   "metadata": {},
   "outputs": [],
   "source": [
    "# visualise mbti type distribution in a count plot\n",
    "plt.figure(figsize=(15,7))\n",
    "chart = sns.countplot(x=df[\"type\"])\n",
    "chart.set(title=\"MBTI Type Distribution\")"
   ]
  },
  {
   "cell_type": "markdown",
   "id": "9ad70d94",
   "metadata": {},
   "source": [
    "We can see that the dataset is disproportionate. We will have to balance the data before feeding it into our machine learning models later in the project."
   ]
  },
  {
   "cell_type": "markdown",
   "id": "4ff23d36",
   "metadata": {},
   "source": [
    "#### 50 Most Common Words"
   ]
  },
  {
   "cell_type": "code",
   "execution_count": null,
   "id": "531830dc",
   "metadata": {},
   "outputs": [],
   "source": [
    "from collections import Counter \n",
    "words = list(df[\"posts\"].apply(lambda x: x.split()))\n",
    "words = [x for y in words for x in y]\n",
    "Counter(words).most_common(50)"
   ]
  },
  {
   "cell_type": "markdown",
   "id": "8d533d70",
   "metadata": {},
   "source": [
    "#### Wordclouds"
   ]
  },
  {
   "cell_type": "code",
   "execution_count": null,
   "id": "ca660d49",
   "metadata": {},
   "outputs": [],
   "source": [
    "fig, ax = plt.subplots(len(df_clean['type'].unique()), figsize=(15, len(df_clean['type'].unique())))\n",
    "plt.suptitle(\"Wordcloud for MBTI types\")\n",
    "k=0\n",
    "for i in df_clean['type'].unique():\n",
    "    df_4=df[df_clean['type'] == i]\n",
    "    wordcloud = WordCloud(max_words=1628, relative_scaling=1, normalize_plurals=False).generate(df_4['posts'].to_string())\n",
    "    plt.subplot(4,4,k+1)\n",
    "    plt.imshow(wordcloud, interpolation='bilinear')\n",
    "    plt.title(i)\n",
    "    \n",
    "    ax[k].axis(\"off\")\n",
    "    k+=1"
   ]
  },
  {
   "cell_type": "markdown",
   "id": "bc7f93be",
   "metadata": {},
   "source": [
    "# Choosing a measure of success\n",
    "\n",
    "## Accuracy \n",
    "\n",
    "The measure of success I have chosen to use is accuracy. Accuracy is well-suited to the specific nature of this project for several reasons.\n",
    "\n",
    "Firstly, the project involves predicting MBTI personality types. In this context, the consequences of a false positive, where the model predicts the wrong personality type, are not severe. There are no ethical implications or critical outcomes associated with such errors. False positives may result in additional work but does not carry significant adverse effects.\n",
    "\n",
    "Secondly, accuracy is an intuitive and interpretable metric for both technical and non-technical stakeholders. It provides a straightforward assessment of the model's performance by quantifying the proportion of correct predictions.\n",
    "\n",
    "Thirdly, the choice of accuracy is bolstered by the use of categorical cross-entropy as the loss function. This loss function is specifically tailored for multiclass classification tasks, aligning with our project's objective of predicting MBTI personality types."
   ]
  },
  {
   "cell_type": "markdown",
   "id": "ef90d71b",
   "metadata": {},
   "source": [
    "# Deciding on an evaluation protocol\n",
    "\n",
    "## Iterated K-Fold Cross-Validation\n",
    "\n",
    "Considering my relatively small dataset containing 8675 data and the emphasis on achieving high model accuracy, the iterated k-Fold Cross-Validation approach would be the best evaluation protocol. \n",
    "\n",
    "Given the limited dataset size, this approach minimizes the risk of overfitting, as it repeatedly assesses the model on diverse data subsets. Iterated k-Fold Cross-Validation combines the advantages of k-Fold Cross-Validation with the robustness gained from repeated iterations. This protocol partitions the dataset into k subsets, or \"folds,\" and iteratively uses each fold as a validation set while training the model on the remaining data. This process is repeated multiple times, shuffling the data differently in each iteration. This reduces the impact of variability introduced by the random splitting of data leading to a more reliable assessment of your model's ability to generalize to new, unseen data. "
   ]
  },
  {
   "cell_type": "markdown",
   "id": "25baa6ae",
   "metadata": {},
   "source": [
    "## Baseline\n",
    "\n",
    "A baseline model serves as a starting point for comparison in machine learning tasks, representing a simple or default approach to establish a performance benchmark.\n",
    "\n",
    "As there are a total of 16 distinct labels in our dataset, the percentage of accuracy is 1/16 = 0.0625 or 6.25%. \n",
    "\n",
    "We will use this value as our baseline to aim to develop a model that produces an accuracy of greater than 0.0625 in order to achieve statistical power. "
   ]
  },
  {
   "cell_type": "markdown",
   "id": "43921dae",
   "metadata": {},
   "source": [
    "# Preparing your data (for training)"
   ]
  },
  {
   "cell_type": "markdown",
   "id": "f924e412",
   "metadata": {},
   "source": [
    "### 1. Split data into train and test sets\n",
    "The dataset is divided into training and testing sets in a 80:20 ratio. The training set is used for training the model and the testing set is used as a collection of data points that will help to assess the performance of the model in generalising new, unseen data"
   ]
  },
  {
   "cell_type": "code",
   "execution_count": 19,
   "id": "36544b10",
   "metadata": {},
   "outputs": [],
   "source": [
    "X = df['posts']\n",
    "y = df['type']\n",
    "\n",
    "X_train_lstm, X_test_lstm, y_train_lstm, y_test_lstm = train_test_split(df_clean['posts'],df_clean['type'], \n",
    "                                         test_size=0.2,\n",
    "                                         random_state=0, \n",
    "                                         stratify= df.type)  "
   ]
  },
  {
   "cell_type": "markdown",
   "id": "292837d9",
   "metadata": {},
   "source": [
    "### 2. Label Encoding\n",
    "\n",
    "Machine Learning cannot interpret strings on our target values. This, we need to convert categorical data into numerical values before they can be fitted into our machine learning models. Each category is assigned a unique integer."
   ]
  },
  {
   "cell_type": "code",
   "execution_count": 20,
   "id": "e05e7c03",
   "metadata": {},
   "outputs": [],
   "source": [
    "# create an instance of label encoder \n",
    "labelencoder= LabelEncoder()\n",
    "# Fit and transform the labels to numerical format\n",
    "y_train_lstm_enc = labelencoder.fit_transform(y_train_lstm)\n",
    "y_test_lstm_enc = labelencoder.transform(y_test_lstm)"
   ]
  },
  {
   "cell_type": "markdown",
   "id": "beed602f",
   "metadata": {},
   "source": [
    "### 3. One hot encoding\n",
    "\n",
    "The model would require categorically encoded labels where each label will be turned into a 10-element vector of zeros except for a single element. This is called one-hot encoding using to_categorical where at the position in the vector that corresponds to the label will be encoded with a one in the (n+1)th position. "
   ]
  },
  {
   "cell_type": "code",
   "execution_count": 21,
   "id": "876b2705",
   "metadata": {},
   "outputs": [],
   "source": [
    "from keras.utils import to_categorical\n",
    "\n",
    "# One-hot encode the target labels\n",
    "y_train_lstm_onehot = to_categorical(y_train_lstm_enc)\n",
    "y_test_lstm_onehot = to_categorical(y_test_lstm_enc)"
   ]
  },
  {
   "cell_type": "markdown",
   "id": "e310cf8d",
   "metadata": {},
   "source": [
    "### 4. Tokenization and Padding Sequences\n",
    "Tokenization is the process of splitting text into individual words or tokens. Padded sequences are used to make all input sequences of the same length by adding padding tokens. Both are essential for processing text data with varying lengths, as most machine learning models require fixed-length input."
   ]
  },
  {
   "cell_type": "code",
   "execution_count": 22,
   "id": "b1f4447e",
   "metadata": {},
   "outputs": [],
   "source": [
    "from keras.preprocessing.text import Tokenizer\n",
    "max_words = 2500\n",
    "max_len = 40\n",
    "\n",
    "# ensure all sequences in a list have the same length\n",
    "def tokenize_pad_sequences(text):\n",
    "    # initialise text tokenizer\n",
    "    tokenizer = Tokenizer(num_words=max_words, filters=\"\")\n",
    "    \n",
    "    # generate word indexes\n",
    "    tokenizer.fit_on_texts(text)\n",
    "    \n",
    "    # transforms text to a sequence of integers and apply padding \n",
    "    X = tokenizer.texts_to_sequences(text)\n",
    "    X = pad_sequences(X, padding='post', maxlen=max_len) #post padding  \n",
    "    \n",
    "    # return sequences \n",
    "    return X, tokenizer"
   ]
  },
  {
   "cell_type": "code",
   "execution_count": 23,
   "id": "25e61a2a",
   "metadata": {},
   "outputs": [],
   "source": [
    "from keras.preprocessing.text import Tokenizer\n",
    "max_words = 2500\n",
    "max_len = 40\n",
    "\n",
    "X_train_lstm_pad, tokenizer = tokenize_pad_sequences(X_train_lstm)\n",
    "X_test_lstm_pad = tokenizer.texts_to_sequences(X_test_lstm)\n",
    "X_test_lstm_pad = pad_sequences(X_test_lstm_pad, padding='post', maxlen=max_len)"
   ]
  },
  {
   "cell_type": "markdown",
   "id": "423424fb",
   "metadata": {},
   "source": [
    "### 5. Word Embedding \n",
    "\n",
    "A word embedding is a learned representation for text where words that have the same meaning have a similar representation. It is this approach to representing words and documents that may be considered one of the key breakthroughs of deep learning on challenging natural language processing problems. \n",
    "\n",
    "We are using GloVe for this project."
   ]
  },
  {
   "cell_type": "code",
   "execution_count": 24,
   "id": "dfdb0241",
   "metadata": {},
   "outputs": [],
   "source": [
    "import os\n",
    "DATA_DIR = \"data\"\n",
    "GLOVE_PATH = os.path.join(DATA_DIR, \"glove.6B.50d.txt\")\n",
    "\n",
    "\n",
    "# load GloVe embedding \n",
    "embeddings_index = dict()\n",
    "with open(GLOVE_PATH) as f:\n",
    "    for line in f:\n",
    "        values = line.split()\n",
    "        word = values[0]\n",
    "        coefficients = np.asarray(values[1:], dtype='float32')\n",
    "        embeddings_index[word] = coefficients"
   ]
  },
  {
   "cell_type": "code",
   "execution_count": 25,
   "id": "b1a9fbfd",
   "metadata": {},
   "outputs": [],
   "source": [
    "max_words = 2500 \n",
    "EMBEDDING_VECTOR_LENGTH = 50 \n",
    "# create an embedding matrix \n",
    "embedding_matrix = np.zeros((max_words, EMBEDDING_VECTOR_LENGTH))\n",
    "for word, index in tokenizer.word_index.items():\n",
    "    if index < max_words:\n",
    "        embedding_vector = embeddings_index.get(word)\n",
    "        if embedding_vector is not None:\n",
    "            embedding_matrix[index] = embedding_vector"
   ]
  },
  {
   "cell_type": "markdown",
   "id": "2dba746b",
   "metadata": {},
   "source": [
    "### 6. Handling Imbalanced Data\n",
    "\n",
    "To handle the imbalanced data, we will be using SMOTE to balance the class distribution."
   ]
  },
  {
   "cell_type": "code",
   "execution_count": 26,
   "id": "282a496a",
   "metadata": {},
   "outputs": [],
   "source": [
    "# Instantiate the SMOTE class\n",
    "smote = SMOTE(sampling_strategy='auto', random_state=0)\n",
    "\n",
    "# Apply SMOTE to your training data\n",
    "X_train_resampled, y_train_resampled = smote.fit_resample(X_train_lstm_pad, y_train_lstm_enc)"
   ]
  },
  {
   "cell_type": "code",
   "execution_count": 27,
   "id": "24e95a2f",
   "metadata": {},
   "outputs": [
    {
     "name": "stdout",
     "output_type": "stream",
     "text": [
      "X_train_resampled (23456, 40)\n",
      "y_train_resampled (23456,)\n"
     ]
    }
   ],
   "source": [
    "print('X_train_resampled', X_train_resampled.shape)\n",
    "print('y_train_resampled', y_train_resampled.shape)"
   ]
  },
  {
   "cell_type": "markdown",
   "id": "8e26e043",
   "metadata": {},
   "source": [
    "### Helper functions to plot accuracy and loss graphs "
   ]
  },
  {
   "cell_type": "code",
   "execution_count": 28,
   "id": "1b441bd9",
   "metadata": {},
   "outputs": [],
   "source": [
    "def plot_loss(loss, val_loss):\n",
    "    plt.clf() #clear any existing figure\n",
    "    epochs = range(1, len(loss)+1) #get number of epochs\n",
    "    # Calculate the average loss over epochs\n",
    "    avg_loss = [np.mean(loss[:i]) for i in range(1, len(loss) + 1)]\n",
    "    avg_val_loss = [np.mean(val_loss[:i]) for i in range(1, len(val_loss) + 1)]\n",
    "    # assign values for each axis\n",
    "    plt.plot(epochs, avg_loss, 'bo', label=\"Loss\")\n",
    "    plt.plot(epochs, avg_val_loss, 'b', label=\"Average Validation Loss\")\n",
    "    #set a title of graph and labels of each axis\n",
    "    plt.title(\"Average Training Loss & Validation Loss\")\n",
    "    plt.xlabel('Epochs')\n",
    "    plt.ylabel('Average Loss')\n",
    "    plt.legend()\n",
    "    plt.show()    "
   ]
  },
  {
   "cell_type": "code",
   "execution_count": 29,
   "id": "8e2f16ba",
   "metadata": {},
   "outputs": [],
   "source": [
    "def plot_acc(acc, val_acc):\n",
    "    plt.clf()\n",
    "    epochs = range(1, len(acc)+1) #gets a number of epochs\n",
    "    # Calculate the average loss over epochs\n",
    "    avg_acc = [np.mean(acc[:i]) for i in range(1, len(acc) + 1)]\n",
    "    avg_val_acc = [np.mean(val_acc[:i]) for i in range(1, len(val_acc) + 1)]\n",
    "    \n",
    "    # assign values for each axis\n",
    "    plt.plot(epochs, avg_acc, 'bo', label=\"Accuracy\")\n",
    "    plt.plot(epochs, avg_val_acc, 'b', label=\"Average Validation Accuracy\")\n",
    "    #set a title of graph and labels of each axis\n",
    "    plt.title(\"Average Training Accuracy & Validation Accuracy\")\n",
    "    plt.xlabel('Epochs')\n",
    "    plt.ylabel('Average Accuracy')\n",
    "    plt.legend()\n",
    "    plt.show()     "
   ]
  },
  {
   "cell_type": "code",
   "execution_count": 30,
   "id": "815fdca5",
   "metadata": {},
   "outputs": [
    {
     "ename": "SyntaxError",
     "evalue": "invalid syntax (3319058519.py, line 1)",
     "output_type": "error",
     "traceback": [
      "\u001b[0;36m  File \u001b[0;32m\"/var/folders/tl/pjvv24r97gb_70lb57b6jp680000gn/T/ipykernel_8282/3319058519.py\"\u001b[0;36m, line \u001b[0;32m1\u001b[0m\n\u001b[0;31m    stop!\u001b[0m\n\u001b[0m        ^\u001b[0m\n\u001b[0;31mSyntaxError\u001b[0m\u001b[0;31m:\u001b[0m invalid syntax\n"
     ]
    }
   ],
   "source": [
    "stop!"
   ]
  },
  {
   "cell_type": "markdown",
   "id": "c2d157d3",
   "metadata": {},
   "source": [
    "# LSTM: Developing a model that does better than the baseline"
   ]
  },
  {
   "cell_type": "markdown",
   "id": "82e2b576",
   "metadata": {},
   "source": [
    "### LSTM \n",
    "\n",
    "(insert short explanation of LSTM)\n",
    "\n",
    "We will be applying our chosen evaluation protocol (iterated k fold validation) when training the model.\n",
    "\n",
    "Constants:  LSTM layer=128 "
   ]
  },
  {
   "cell_type": "markdown",
   "id": "88e2e6ae",
   "metadata": {},
   "source": [
    "#### Building the model\n",
    "- initialise model \n",
    "- add layers to model\n",
    "- compile model "
   ]
  },
  {
   "cell_type": "code",
   "execution_count": 31,
   "id": "7f5dd21a",
   "metadata": {},
   "outputs": [
    {
     "name": "stderr",
     "output_type": "stream",
     "text": [
      "2023-09-01 21:11:50.492462: I tensorflow/core/platform/cpu_feature_guard.cc:193] This TensorFlow binary is optimized with oneAPI Deep Neural Network Library (oneDNN) to use the following CPU instructions in performance-critical operations:  AVX2 FMA\n",
      "To enable them in other operations, rebuild TensorFlow with the appropriate compiler flags.\n"
     ]
    },
    {
     "name": "stdout",
     "output_type": "stream",
     "text": [
      "Model: \"sequential\"\n",
      "_________________________________________________________________\n",
      " Layer (type)                Output Shape              Param #   \n",
      "=================================================================\n",
      " embedding (Embedding)       (None, 40, 50)            125000    \n",
      "                                                                 \n",
      " lstm (LSTM)                 (None, 64)                29440     \n",
      "                                                                 \n",
      " dense (Dense)               (None, 16)                1040      \n",
      "                                                                 \n",
      "=================================================================\n",
      "Total params: 155,480\n",
      "Trainable params: 155,480\n",
      "Non-trainable params: 0\n",
      "_________________________________________________________________\n",
      "None\n"
     ]
    }
   ],
   "source": [
    "# Initialising the model \n",
    "underfit_lstm_model = Sequential()\n",
    "\n",
    "# Defining model: add layers \n",
    "underfit_lstm_model.add(Embedding(\n",
    "    max_words,\n",
    "    EMBEDDING_VECTOR_LENGTH,\n",
    "    input_length=max_len,\n",
    "    weights=[embedding_matrix],\n",
    "    trainable=True,\n",
    ")) #glove embedding\n",
    "underfit_lstm_model.add(LSTM(64, input_shape=(max_len, EMBEDDING_VECTOR_LENGTH))) #LSTM layer \n",
    "underfit_lstm_model.add(Dense(16, activation='softmax')) #dense layer - the last one\n",
    "\n",
    "# Compile model\n",
    "underfit_lstm_model.compile(loss=\"categorical_crossentropy\", optimizer=\"adam\", metrics=[\"accuracy\"])\n",
    "\n",
    "print(underfit_lstm_model.summary())"
   ]
  },
  {
   "cell_type": "markdown",
   "id": "f2d2b8d5",
   "metadata": {},
   "source": [
    "#### Train model with Iterated K-fold Validation"
   ]
  },
  {
   "cell_type": "code",
   "execution_count": 32,
   "id": "a826ec02",
   "metadata": {},
   "outputs": [
    {
     "name": "stdout",
     "output_type": "stream",
     "text": [
      "processing fold 0\n",
      "processing fold 1\n",
      "processing fold 2\n",
      "processing fold 3\n",
      "processing fold 4\n",
      "processing fold 0\n",
      "processing fold 1\n",
      "processing fold 2\n",
      "processing fold 3\n",
      "processing fold 4\n",
      "processing fold 0\n",
      "processing fold 1\n",
      "processing fold 2\n",
      "processing fold 3\n",
      "processing fold 4\n",
      "processing fold 0\n",
      "processing fold 1\n",
      "processing fold 2\n",
      "processing fold 3\n",
      "processing fold 4\n"
     ]
    }
   ],
   "source": [
    "import numpy as np \n",
    "from sklearn.model_selection import StratifiedKFold\n",
    "from sklearn.metrics import mean_absolute_error\n",
    "\n",
    "K=4\n",
    "num_val_samples = len(X_train_resampled)//K\n",
    "num_epochs = 1\n",
    "\n",
    "all_val_acc_1 = []\n",
    "all_val_loss_1 = []\n",
    "\n",
    "all_acc_1 = []\n",
    "all_loss_1 = []\n",
    "all_acc_history_1 = []\n",
    "all_loss_history_1 = []\n",
    "\n",
    "N_iterations=4\n",
    "N_folds=5\n",
    "        \n",
    "for i in range(N_iterations):\n",
    "    skf = StratifiedKFold(n_splits=N_folds, shuffle=True)\n",
    "    \n",
    "    for j, (train_index, val_index) in enumerate(skf.split(X_train_resampled, y_train_resampled)):\n",
    "        print('processing fold', j)\n",
    "        \n",
    "        partial_train_data = X_train_resampled[train_index]\n",
    "        val_data = X_train_resampled[val_index]\n",
    "        \n",
    "        partial_train_targets = y_train_resampled[train_index]\n",
    "        val_targets = y_train_resampled[val_index]\n",
    "        \n",
    "        # One-hot encode the target labels\n",
    "        partial_train_targets = to_categorical(partial_train_targets, num_classes=16)\n",
    "        val_targets = to_categorical(val_targets, num_classes=16)\n",
    "        \n",
    "        # Train the model (in silent mode, verbose=0)\n",
    "        underfit_lstm_model.compile(loss=\"categorical_crossentropy\", optimizer=\"adam\", metrics=[\"accuracy\"])\n",
    "        results_1 = underfit_lstm_model.fit(partial_train_data, partial_train_targets, epochs=num_epochs, batch_size=128, verbose=0, validation_data = (val_data, val_targets))\n",
    "        \n",
    "        # Evaluate the model on the validation data: loss and accuracy \n",
    "        val_loss, val_acc = underfit_lstm_model.evaluate(val_data, val_targets, verbose=0)\n",
    "        all_val_acc_1.append(val_acc)\n",
    "        all_val_loss_1.append(val_loss)\n",
    "        \n",
    "        acc = results_1.history['accuracy']\n",
    "        all_acc_1.append(acc)\n",
    "        acc_history = results_1.history['val_accuracy']\n",
    "        all_acc_history_1.append(acc_history)\n",
    "        \n",
    "        loss = results_1.history['loss']\n",
    "        all_loss_1.append(loss)\n",
    "        loss_history = results_1.history['val_loss']\n",
    "        all_loss_history_1.append(loss_history)"
   ]
  },
  {
   "cell_type": "code",
   "execution_count": 33,
   "id": "cb637d40",
   "metadata": {},
   "outputs": [
    {
     "data": {
      "image/png": "[encoded data removed]",
      "text/plain": [
       "<Figure size 432x288 with 1 Axes>"
      ]
     },
     "metadata": {
      "needs_background": "light"
     },
     "output_type": "display_data"
    }
   ],
   "source": [
    "plot_loss(all_loss_1, all_loss_history_1)"
   ]
  },
  {
   "cell_type": "code",
   "execution_count": 34,
   "id": "abf44ee0",
   "metadata": {},
   "outputs": [
    {
     "data": {
      "image/png": "[encoded data removed]",
      "text/plain": [
       "<Figure size 432x288 with 1 Axes>"
      ]
     },
     "metadata": {
      "needs_background": "light"
     },
     "output_type": "display_data"
    }
   ],
   "source": [
    "plot_acc(all_acc_1, all_acc_history_1)"
   ]
  },
  {
   "cell_type": "code",
   "execution_count": 35,
   "id": "5327ec28",
   "metadata": {},
   "outputs": [
    {
     "name": "stdout",
     "output_type": "stream",
     "text": [
      "Average Loss: 2.3830607175827025\n",
      "Average Accuracy: 0.21643864922225475\n"
     ]
    }
   ],
   "source": [
    "print(\"Average Loss:\", np.mean(all_val_loss_1))\n",
    "print(\"Average Accuracy:\", np.mean(all_val_acc_1))"
   ]
  },
  {
   "cell_type": "markdown",
   "id": "076f6b95",
   "metadata": {},
   "source": [
    "From the graphs plotted, we can observe that there is slight underfitting as the accuracy is lower below the average validation accuracy.\n",
    "\n",
    "Despite being an underfitting model, our model has an average accuracy that is higher (21.6%) than the baseline (6.25%).\n",
    "\n",
    "Now we will develop a model that overfits. "
   ]
  },
  {
   "cell_type": "markdown",
   "id": "38f6eb11",
   "metadata": {},
   "source": [
    "# LSTM: Developing a model that overfits/scaled up\n",
    "After developing a model that is able to do better than the baseline, we need to develop a model that overfits/scaled up. As the aim of this project is to create a model that stands on the line between overfitting and underfitting, we now need to cross the line to develop a model that overfits. \n",
    "\n",
    "We will be developing an overfitting model by \n",
    "1. <b>increasing the number of LSTM and dense layers</b> \n",
    "2. <b>increasing the number of epochs</b>\n",
    "3. <b>decreasing batch_size</b>\n",
    "\n",
    "Using the 'relu' (Rectified Linear Unit) activation function for intermediate dense layers and 'softmax' activation for the output layer is a common practice in deep learning for classification tasks. Here's why this combination is used:\n",
    "\n",
    "Intermediate Layers ('relu' activation): The 'relu' activation function is commonly used in intermediate layers because it introduces non-linearity to the network. This non-linearity allows the model to learn complex patterns in the data. 'relu' is computationally efficient and helps mitigate the vanishing gradient problem during training. It's effective for feature extraction and can model complex relationships in the data.\n",
    "\n",
    "Output Layer ('softmax' activation): The 'softmax' activation is typically used in the output layer for multi-class classification problems. It transforms the raw output scores of the model into probability distributions over the classes. In other words, it converts the model's final layer outputs into class probabilities, where each class gets a probability score. This is useful because it allows you to interpret the model's output as class probabilities and choose the class with the highest probability as the predicted class."
   ]
  },
  {
   "cell_type": "markdown",
   "id": "5dc93049",
   "metadata": {},
   "source": [
    "## >> batch_size = 128 <<"
   ]
  },
  {
   "cell_type": "code",
   "execution_count": 37,
   "id": "95b95b09",
   "metadata": {},
   "outputs": [
    {
     "name": "stdout",
     "output_type": "stream",
     "text": [
      "Model: \"sequential_2\"\n",
      "_________________________________________________________________\n",
      " Layer (type)                Output Shape              Param #   \n",
      "=================================================================\n",
      " embedding_2 (Embedding)     (None, 40, 50)            125000    \n",
      "                                                                 \n",
      " lstm_3 (LSTM)               (None, 40, 128)           91648     \n",
      "                                                                 \n",
      " lstm_4 (LSTM)               (None, 64)                49408     \n",
      "                                                                 \n",
      " dense_1 (Dense)             (None, 64)                4160      \n",
      "                                                                 \n",
      " dense_2 (Dense)             (None, 16)                1040      \n",
      "                                                                 \n",
      "=================================================================\n",
      "Total params: 271,256\n",
      "Trainable params: 271,256\n",
      "Non-trainable params: 0\n",
      "_________________________________________________________________\n",
      "None\n"
     ]
    }
   ],
   "source": [
    "max_len = 40\n",
    "EMBEDDING_VECTOR_LENGTH = 50\n",
    "\n",
    "# Initialising the model \n",
    "overfit_lstm_model = Sequential()\n",
    "\n",
    "# Defining model: add layers \n",
    "overfit_lstm_model.add(Embedding(\n",
    "    max_words,\n",
    "    EMBEDDING_VECTOR_LENGTH,\n",
    "    input_length=max_len,\n",
    "    weights=[embedding_matrix],\n",
    "    trainable=True,\n",
    ")) #glove embedding\n",
    "overfit_lstm_model.add(LSTM(128, input_shape=(max_len, EMBEDDING_VECTOR_LENGTH), return_sequences=True)) #LSTM layer\n",
    "overfit_lstm_model.add(LSTM(64)) \n",
    "overfit_lstm_model.add(Dense(64, activation='relu')) # Additional dense layer\n",
    "overfit_lstm_model.add(Dense(16, activation='softmax')) #dense layer - the last one\n",
    "\n",
    "\n",
    "# Compile model\n",
    "overfit_lstm_model.compile(loss=\"categorical_crossentropy\", optimizer=\"adam\", metrics=[\"accuracy\"])\n",
    "\n",
    "print(overfit_lstm_model.summary())"
   ]
  },
  {
   "cell_type": "markdown",
   "id": "cbde2a80",
   "metadata": {},
   "source": [
    "#### Train model with Iterated K-fold Validation \n",
    "The number of epochs we have used in training the neural network is very small as it takes extremely long to run the training if the number of epochs exceeds 5. In reality, the epoch number should be much higher to ensure better training. "
   ]
  },
  {
   "cell_type": "code",
   "execution_count": 38,
   "id": "8e829183",
   "metadata": {},
   "outputs": [
    {
     "name": "stdout",
     "output_type": "stream",
     "text": [
      "processing fold 0\n",
      "processing fold 1\n",
      "processing fold 2\n",
      "processing fold 3\n",
      "processing fold 4\n",
      "processing fold 0\n",
      "processing fold 1\n",
      "processing fold 2\n",
      "processing fold 3\n",
      "processing fold 4\n",
      "processing fold 0\n",
      "processing fold 1\n",
      "processing fold 2\n",
      "processing fold 3\n",
      "processing fold 4\n",
      "processing fold 0\n",
      "processing fold 1\n",
      "processing fold 2\n",
      "processing fold 3\n",
      "processing fold 4\n"
     ]
    }
   ],
   "source": [
    "import numpy as np \n",
    "from sklearn.model_selection import StratifiedKFold\n",
    "from sklearn.metrics import mean_absolute_error\n",
    "\n",
    "K=4\n",
    "num_val_samples = len(X_train_resampled)//K\n",
    "num_epochs = 5\n",
    "\n",
    "#new!\n",
    "all_val_acc_2 = []\n",
    "all_val_loss_2 = []\n",
    "\n",
    "all_acc_2 = []\n",
    "all_loss_2 = []\n",
    "all_acc_history_2 = []\n",
    "all_loss_history_2 = []\n",
    "\n",
    "N_iterations=4\n",
    "N_folds=5\n",
    "        \n",
    "for i in range(N_iterations):\n",
    "    skf = StratifiedKFold(n_splits=N_folds, shuffle=True)\n",
    "    \n",
    "    for j, (train_index, val_index) in enumerate(skf.split(X_train_resampled, y_train_resampled)):\n",
    "        print('processing fold', j)\n",
    "        \n",
    "        partial_train_data = X_train_resampled[train_index]\n",
    "        val_data = X_train_resampled[val_index]\n",
    "        \n",
    "        partial_train_targets = y_train_resampled[train_index]\n",
    "        val_targets = y_train_resampled[val_index]\n",
    "        \n",
    "        # One-hot encode the target labels\n",
    "        partial_train_targets = to_categorical(partial_train_targets, num_classes=16)\n",
    "        val_targets = to_categorical(val_targets, num_classes=16)\n",
    "        \n",
    "        # Train the model (in silent mode, verbose=0)\n",
    "        overfit_lstm_model.compile(loss=\"categorical_crossentropy\", optimizer=\"adam\", metrics=[\"accuracy\"])\n",
    "        results_2 = overfit_lstm_model.fit(partial_train_data, partial_train_targets, epochs=num_epochs, batch_size=128, verbose=0, validation_data = (val_data, val_targets))\n",
    "        \n",
    "        # Evaluate the model on the validation data: loss and accuracy \n",
    "        val_loss, val_acc = overfit_lstm_model.evaluate(val_data, val_targets, verbose=0)\n",
    "        all_val_acc_2.append(val_acc)\n",
    "        all_val_loss_2.append(val_loss)\n",
    "        \n",
    "        acc = results_2.history['accuracy']\n",
    "        all_acc_2.append(acc)\n",
    "        acc_history = results_2.history['val_accuracy']\n",
    "        all_acc_history_2.append(acc_history)\n",
    "        \n",
    "        loss = results_2.history['loss']\n",
    "        all_loss_2.append(loss)\n",
    "        loss_history = results_2.history['val_loss']\n",
    "        all_loss_history_2.append(loss_history)"
   ]
  },
  {
   "cell_type": "code",
   "execution_count": 39,
   "id": "d3a66ad8",
   "metadata": {},
   "outputs": [
    {
     "data": {
      "image/png": "[encoded data removed]",
      "text/plain": [
       "<Figure size 432x288 with 1 Axes>"
      ]
     },
     "metadata": {
      "needs_background": "light"
     },
     "output_type": "display_data"
    }
   ],
   "source": [
    "plot_loss(all_loss_2, all_loss_history_2)"
   ]
  },
  {
   "cell_type": "code",
   "execution_count": 40,
   "id": "ff12c0af",
   "metadata": {},
   "outputs": [
    {
     "data": {
      "image/png": "[encoded data removed]",
      "text/plain": [
       "<Figure size 432x288 with 1 Axes>"
      ]
     },
     "metadata": {
      "needs_background": "light"
     },
     "output_type": "display_data"
    }
   ],
   "source": [
    "plot_acc(all_acc_2, all_acc_history_2)"
   ]
  },
  {
   "cell_type": "code",
   "execution_count": 41,
   "id": "8023b01e",
   "metadata": {},
   "outputs": [
    {
     "name": "stdout",
     "output_type": "stream",
     "text": [
      "Average Loss: 0.9967752762138844\n",
      "Average Accuracy: 0.6761210460215807\n"
     ]
    }
   ],
   "source": [
    "print(\"Average Loss:\", np.mean(all_val_loss_2))\n",
    "print(\"Average Accuracy:\", np.mean(all_val_acc_2))"
   ]
  },
  {
   "cell_type": "code",
   "execution_count": 72,
   "id": "93da407e",
   "metadata": {},
   "outputs": [
    {
     "name": "stdout",
     "output_type": "stream",
     "text": [
      "Model: \"sequential_14\"\n",
      "_________________________________________________________________\n",
      " Layer (type)                Output Shape              Param #   \n",
      "=================================================================\n",
      " embedding_14 (Embedding)    (None, 40, 50)            125000    \n",
      "                                                                 \n",
      " lstm_33 (LSTM)              (None, 40, 128)           91648     \n",
      "                                                                 \n",
      " lstm_34 (LSTM)              (None, 64)                49408     \n",
      "                                                                 \n",
      " dense_29 (Dense)            (None, 64)                4160      \n",
      "                                                                 \n",
      " dense_30 (Dense)            (None, 16)                1040      \n",
      "                                                                 \n",
      "=================================================================\n",
      "Total params: 271,256\n",
      "Trainable params: 271,256\n",
      "Non-trainable params: 0\n",
      "_________________________________________________________________\n",
      "None\n"
     ]
    }
   ],
   "source": [
    "max_len = 40\n",
    "EMBEDDING_VECTOR_LENGTH = 50\n",
    "\n",
    "# Initialising the model \n",
    "overfit_lstm_model = Sequential()\n",
    "\n",
    "# Defining model: add layers \n",
    "overfit_lstm_model.add(Embedding(\n",
    "    max_words,\n",
    "    EMBEDDING_VECTOR_LENGTH,\n",
    "    input_length=max_len,\n",
    "    weights=[embedding_matrix],\n",
    "    trainable=True,\n",
    ")) #glove embedding\n",
    "overfit_lstm_model.add(LSTM(128, input_shape=(max_len, EMBEDDING_VECTOR_LENGTH), return_sequences=True)) #LSTM layer\n",
    "overfit_lstm_model.add(LSTM(64)) \n",
    "overfit_lstm_model.add(Dense(64, activation='relu')) # Additional dense layer\n",
    "overfit_lstm_model.add(Dense(16, activation='softmax')) #dense layer - the last one\n",
    "\n",
    "\n",
    "# Compile model\n",
    "overfit_lstm_model.compile(loss=\"categorical_crossentropy\", optimizer=\"adam\", metrics=[\"accuracy\"])\n",
    "\n",
    "print(overfit_lstm_model.summary())"
   ]
  },
  {
   "cell_type": "markdown",
   "id": "80e4f3e4",
   "metadata": {},
   "source": [
    "## >> batch_size = 50 <<"
   ]
  },
  {
   "cell_type": "code",
   "execution_count": 73,
   "id": "53d8f8d4",
   "metadata": {},
   "outputs": [
    {
     "name": "stdout",
     "output_type": "stream",
     "text": [
      "processing fold 0\n",
      "processing fold 1\n",
      "processing fold 2\n",
      "processing fold 3\n",
      "processing fold 4\n",
      "processing fold 0\n",
      "processing fold 1\n",
      "processing fold 2\n",
      "processing fold 3\n",
      "processing fold 4\n",
      "processing fold 0\n",
      "processing fold 1\n",
      "processing fold 2\n",
      "processing fold 3\n",
      "processing fold 4\n",
      "processing fold 0\n",
      "processing fold 1\n",
      "processing fold 2\n",
      "processing fold 3\n",
      "processing fold 4\n"
     ]
    }
   ],
   "source": [
    "import numpy as np \n",
    "from sklearn.model_selection import StratifiedKFold\n",
    "from sklearn.metrics import mean_absolute_error\n",
    "\n",
    "K=4\n",
    "num_val_samples = len(X_train_resampled)//K\n",
    "num_epochs = 5\n",
    "\n",
    "#new!\n",
    "all_val_acc_2 = []\n",
    "all_val_loss_2 = []\n",
    "\n",
    "all_acc_2 = []\n",
    "all_loss_2 = []\n",
    "all_acc_history_2 = []\n",
    "all_loss_history_2 = []\n",
    "\n",
    "N_iterations=4\n",
    "N_folds=5\n",
    "        \n",
    "for i in range(N_iterations):\n",
    "    skf = StratifiedKFold(n_splits=N_folds, shuffle=True)\n",
    "    \n",
    "    for j, (train_index, val_index) in enumerate(skf.split(X_train_resampled, y_train_resampled)):\n",
    "        print('processing fold', j)\n",
    "        \n",
    "        partial_train_data = X_train_resampled[train_index]\n",
    "        val_data = X_train_resampled[val_index]\n",
    "        \n",
    "        partial_train_targets = y_train_resampled[train_index]\n",
    "        val_targets = y_train_resampled[val_index]\n",
    "        \n",
    "        # One-hot encode the target labels\n",
    "        partial_train_targets = to_categorical(partial_train_targets, num_classes=16)\n",
    "        val_targets = to_categorical(val_targets, num_classes=16)\n",
    "        \n",
    "        # Train the model (in silent mode, verbose=0)\n",
    "        overfit_lstm_model.compile(loss=\"categorical_crossentropy\", optimizer=\"adam\", metrics=[\"accuracy\"])\n",
    "        results_2 = overfit_lstm_model.fit(partial_train_data, partial_train_targets, epochs=num_epochs, batch_size=50, verbose=0, validation_data = (val_data, val_targets))\n",
    "        \n",
    "        # Evaluate the model on the validation data: loss and accuracy \n",
    "        val_loss, val_acc = overfit_lstm_model.evaluate(val_data, val_targets, verbose=0)\n",
    "        all_val_acc_2.append(val_acc)\n",
    "        all_val_loss_2.append(val_loss)\n",
    "        \n",
    "        acc = results_2.history['accuracy']\n",
    "        all_acc_2.append(acc)\n",
    "        acc_history = results_2.history['val_accuracy']\n",
    "        all_acc_history_2.append(acc_history)\n",
    "        \n",
    "        loss = results_2.history['loss']\n",
    "        all_loss_2.append(loss)\n",
    "        loss_history = results_2.history['val_loss']\n",
    "        all_loss_history_2.append(loss_history)"
   ]
  },
  {
   "cell_type": "code",
   "execution_count": 74,
   "id": "ae59f9ec",
   "metadata": {},
   "outputs": [
    {
     "data": {
      "image/png": "[encoded data removed]",
      "text/plain": [
       "<Figure size 432x288 with 1 Axes>"
      ]
     },
     "metadata": {
      "needs_background": "light"
     },
     "output_type": "display_data"
    }
   ],
   "source": [
    "plot_loss(all_loss_2, all_loss_history_2)"
   ]
  },
  {
   "cell_type": "code",
   "execution_count": 75,
   "id": "cace97d8",
   "metadata": {},
   "outputs": [
    {
     "data": {
      "image/png": "[encoded data removed]",
      "text/plain": [
       "<Figure size 432x288 with 1 Axes>"
      ]
     },
     "metadata": {
      "needs_background": "light"
     },
     "output_type": "display_data"
    }
   ],
   "source": [
    "plot_acc(all_acc_2, all_acc_history_2)"
   ]
  },
  {
   "cell_type": "code",
   "execution_count": 76,
   "id": "46676157",
   "metadata": {},
   "outputs": [
    {
     "name": "stdout",
     "output_type": "stream",
     "text": [
      "Average Loss: 0.8718613050878048\n",
      "Average Accuracy: 0.7233157001435757\n"
     ]
    }
   ],
   "source": [
    "print(\"Average Loss:\", np.mean(all_val_loss_2))\n",
    "print(\"Average Accuracy:\", np.mean(all_val_acc_2))"
   ]
  },
  {
   "cell_type": "markdown",
   "id": "97e5b868",
   "metadata": {},
   "source": [
    "## batch_size = 10"
   ]
  },
  {
   "cell_type": "markdown",
   "id": "5b167529",
   "metadata": {},
   "source": [
    "#### Building the overfitting LSTM model\n",
    "- initialise model\n",
    "- add layers to model\n",
    "- compile model"
   ]
  },
  {
   "cell_type": "code",
   "execution_count": 81,
   "id": "ea6d941e",
   "metadata": {},
   "outputs": [
    {
     "name": "stdout",
     "output_type": "stream",
     "text": [
      "Model: \"sequential_15\"\n",
      "_________________________________________________________________\n",
      " Layer (type)                Output Shape              Param #   \n",
      "=================================================================\n",
      " embedding_15 (Embedding)    (None, 40, 50)            125000    \n",
      "                                                                 \n",
      " lstm_35 (LSTM)              (None, 40, 128)           91648     \n",
      "                                                                 \n",
      " lstm_36 (LSTM)              (None, 64)                49408     \n",
      "                                                                 \n",
      " dense_31 (Dense)            (None, 64)                4160      \n",
      "                                                                 \n",
      " dense_32 (Dense)            (None, 16)                1040      \n",
      "                                                                 \n",
      "=================================================================\n",
      "Total params: 271,256\n",
      "Trainable params: 271,256\n",
      "Non-trainable params: 0\n",
      "_________________________________________________________________\n",
      "None\n"
     ]
    }
   ],
   "source": [
    "max_len = 40\n",
    "EMBEDDING_VECTOR_LENGTH = 50\n",
    "\n",
    "# Initialising the model \n",
    "overfit_lstm_model = Sequential()\n",
    "\n",
    "# Defining model: add layers \n",
    "overfit_lstm_model.add(Embedding(\n",
    "    max_words,\n",
    "    EMBEDDING_VECTOR_LENGTH,\n",
    "    input_length=max_len,\n",
    "    weights=[embedding_matrix],\n",
    "    trainable=True,\n",
    ")) #glove embedding\n",
    "overfit_lstm_model.add(LSTM(128, input_shape=(max_len, EMBEDDING_VECTOR_LENGTH), return_sequences=True)) #LSTM layer\n",
    "overfit_lstm_model.add(LSTM(64)) \n",
    "overfit_lstm_model.add(Dense(64, activation='relu')) # Additional dense layer\n",
    "overfit_lstm_model.add(Dense(16, activation='softmax')) #dense layer - the last one\n",
    "\n",
    "\n",
    "# Compile model\n",
    "overfit_lstm_model.compile(loss=\"categorical_crossentropy\", optimizer=\"adam\", metrics=[\"accuracy\"])\n",
    "\n",
    "print(overfit_lstm_model.summary())"
   ]
  },
  {
   "cell_type": "markdown",
   "id": "89b14d93",
   "metadata": {},
   "source": [
    "#### Train model with Iterated K-fold Validation \n",
    "The number of epochs we have used in training the neural network is very small as it takes extremely long to run the training if the number of epochs exceeds 5. In reality, the epoch number should be much higher to ensure better training. "
   ]
  },
  {
   "cell_type": "code",
   "execution_count": 77,
   "id": "2e4bd48e",
   "metadata": {},
   "outputs": [
    {
     "name": "stdout",
     "output_type": "stream",
     "text": [
      "processing fold 0\n",
      "processing fold 1\n",
      "processing fold 2\n",
      "processing fold 3\n",
      "processing fold 4\n",
      "processing fold 0\n",
      "processing fold 1\n",
      "processing fold 2\n",
      "processing fold 3\n",
      "processing fold 4\n",
      "processing fold 0\n",
      "processing fold 1\n",
      "processing fold 2\n",
      "processing fold 3\n",
      "processing fold 4\n",
      "processing fold 0\n",
      "processing fold 1\n",
      "processing fold 2\n",
      "processing fold 3\n",
      "processing fold 4\n"
     ]
    }
   ],
   "source": [
    "import numpy as np \n",
    "from sklearn.model_selection import StratifiedKFold\n",
    "from sklearn.metrics import mean_absolute_error\n",
    "\n",
    "K=4\n",
    "num_val_samples = len(X_train_resampled)//K\n",
    "num_epochs = 5\n",
    "\n",
    "#new!\n",
    "all_val_acc_2 = []\n",
    "all_val_loss_2 = []\n",
    "\n",
    "all_acc_2 = []\n",
    "all_loss_2 = []\n",
    "all_acc_history_2 = []\n",
    "all_loss_history_2 = []\n",
    "\n",
    "N_iterations=4\n",
    "N_folds=5\n",
    "        \n",
    "for i in range(N_iterations):\n",
    "    skf = StratifiedKFold(n_splits=N_folds, shuffle=True)\n",
    "    \n",
    "    for j, (train_index, val_index) in enumerate(skf.split(X_train_resampled, y_train_resampled)):\n",
    "        print('processing fold', j)\n",
    "        \n",
    "        partial_train_data = X_train_resampled[train_index]\n",
    "        val_data = X_train_resampled[val_index]\n",
    "        \n",
    "        partial_train_targets = y_train_resampled[train_index]\n",
    "        val_targets = y_train_resampled[val_index]\n",
    "        \n",
    "        # One-hot encode the target labels\n",
    "        partial_train_targets = to_categorical(partial_train_targets, num_classes=16)\n",
    "        val_targets = to_categorical(val_targets, num_classes=16)\n",
    "        \n",
    "        # Train the model (in silent mode, verbose=0)\n",
    "        overfit_lstm_model.compile(loss=\"categorical_crossentropy\", optimizer=\"adam\", metrics=[\"accuracy\"])\n",
    "        results_2 = overfit_lstm_model.fit(partial_train_data, partial_train_targets, epochs=num_epochs, batch_size=10, verbose=0, validation_data = (val_data, val_targets))\n",
    "        \n",
    "        # Evaluate the model on the validation data: loss and accuracy \n",
    "        val_loss, val_acc = overfit_lstm_model.evaluate(val_data, val_targets, verbose=0)\n",
    "        all_val_acc_2.append(val_acc)\n",
    "        all_val_loss_2.append(val_loss)\n",
    "        \n",
    "        acc = results_2.history['accuracy']\n",
    "        all_acc_2.append(acc)\n",
    "        acc_history = results_2.history['val_accuracy']\n",
    "        all_acc_history_2.append(acc_history)\n",
    "        \n",
    "        loss = results_2.history['loss']\n",
    "        all_loss_2.append(loss)\n",
    "        loss_history = results_2.history['val_loss']\n",
    "        all_loss_history_2.append(loss_history)"
   ]
  },
  {
   "cell_type": "code",
   "execution_count": 79,
   "id": "e0135d8a",
   "metadata": {},
   "outputs": [
    {
     "data": {
      "image/png": "[encoded data removed]",
      "text/plain": [
       "<Figure size 432x288 with 1 Axes>"
      ]
     },
     "metadata": {
      "needs_background": "light"
     },
     "output_type": "display_data"
    }
   ],
   "source": [
    "plot_loss(all_loss_2, all_loss_history_2)"
   ]
  },
  {
   "cell_type": "code",
   "execution_count": 78,
   "id": "5df9673d",
   "metadata": {},
   "outputs": [
    {
     "data": {
      "image/png": "[encoded data removed]",
      "text/plain": [
       "<Figure size 432x288 with 1 Axes>"
      ]
     },
     "metadata": {
      "needs_background": "light"
     },
     "output_type": "display_data"
    }
   ],
   "source": [
    "plot_acc(all_acc_2, all_acc_history_2)"
   ]
  },
  {
   "cell_type": "code",
   "execution_count": 80,
   "id": "a3390c1a",
   "metadata": {},
   "outputs": [
    {
     "name": "stdout",
     "output_type": "stream",
     "text": [
      "Average Loss: 0.6029456093907356\n",
      "Average Accuracy: 0.8255579173564911\n"
     ]
    }
   ],
   "source": [
    "print(\"Average Loss:\", np.mean(all_val_loss_2))\n",
    "print(\"Average Accuracy:\", np.mean(all_val_acc_2))"
   ]
  },
  {
   "cell_type": "markdown",
   "id": "2e463ced",
   "metadata": {},
   "source": [
    "From the plotted graphs, we can see the training accuracy being significantly higher than the average validation accuracy which suggests that the model is overfitting. The average accuracy of our overfitting model is 82.6% which is almost 4 times higher than our underfitting model with an accuracy of 21.6%.\n",
    "\n",
    "Now we will start regularising the hyperparamters of our overfitting model to prevent overfitting and improve the performance of the model."
   ]
  },
  {
   "cell_type": "markdown",
   "id": "8d982f00",
   "metadata": {},
   "source": [
    "## Decreased num_epoch from 5 to 1 to speed up training but model was underfitting."
   ]
  },
  {
   "cell_type": "code",
   "execution_count": 90,
   "id": "e5290620",
   "metadata": {},
   "outputs": [
    {
     "name": "stdout",
     "output_type": "stream",
     "text": [
      "processing fold 0\n",
      "processing fold 1\n",
      "processing fold 2\n",
      "processing fold 3\n",
      "processing fold 4\n",
      "processing fold 0\n",
      "processing fold 1\n",
      "processing fold 2\n",
      "processing fold 3\n",
      "processing fold 4\n",
      "processing fold 0\n",
      "processing fold 1\n",
      "processing fold 2\n",
      "processing fold 3\n",
      "processing fold 4\n",
      "processing fold 0\n",
      "processing fold 1\n",
      "processing fold 2\n",
      "processing fold 3\n",
      "processing fold 4\n"
     ]
    }
   ],
   "source": [
    "import numpy as np \n",
    "from sklearn.model_selection import StratifiedKFold\n",
    "from sklearn.metrics import mean_absolute_error\n",
    "\n",
    "K=4\n",
    "num_val_samples = len(X_train_resampled)//K\n",
    "num_epochs = 1\n",
    "\n",
    "#new!\n",
    "all_val_acc_2 = []\n",
    "all_val_loss_2 = []\n",
    "\n",
    "all_acc_2 = []\n",
    "all_loss_2 = []\n",
    "all_acc_history_2 = []\n",
    "all_loss_history_2 = []\n",
    "\n",
    "N_iterations=4\n",
    "N_folds=5\n",
    "        \n",
    "for i in range(N_iterations):\n",
    "    skf = StratifiedKFold(n_splits=N_folds, shuffle=True)\n",
    "    \n",
    "    for j, (train_index, val_index) in enumerate(skf.split(X_train_resampled, y_train_resampled)):\n",
    "        print('processing fold', j)\n",
    "        \n",
    "        partial_train_data = X_train_resampled[train_index]\n",
    "        val_data = X_train_resampled[val_index]\n",
    "        \n",
    "        partial_train_targets = y_train_resampled[train_index]\n",
    "        val_targets = y_train_resampled[val_index]\n",
    "        \n",
    "        # One-hot encode the target labels\n",
    "        partial_train_targets = to_categorical(partial_train_targets, num_classes=16)\n",
    "        val_targets = to_categorical(val_targets, num_classes=16)\n",
    "        \n",
    "        # Train the model (in silent mode, verbose=0)\n",
    "        overfit_lstm_model.compile(loss=\"categorical_crossentropy\", optimizer=\"adam\", metrics=[\"accuracy\"])\n",
    "        results_2 = overfit_lstm_model.fit(partial_train_data, partial_train_targets, epochs=num_epochs, batch_size=10, verbose=0, validation_data = (val_data, val_targets))\n",
    "        \n",
    "        # Evaluate the model on the validation data: loss and accuracy \n",
    "        val_loss, val_acc = overfit_lstm_model.evaluate(val_data, val_targets, verbose=0)\n",
    "        all_val_acc_2.append(val_acc)\n",
    "        all_val_loss_2.append(val_loss)\n",
    "        \n",
    "        acc = results_2.history['accuracy']\n",
    "        all_acc_2.append(acc)\n",
    "        acc_history = results_2.history['val_accuracy']\n",
    "        all_acc_history_2.append(acc_history)\n",
    "        \n",
    "        loss = results_2.history['loss']\n",
    "        all_loss_2.append(loss)\n",
    "        loss_history = results_2.history['val_loss']\n",
    "        all_loss_history_2.append(loss_history)"
   ]
  },
  {
   "cell_type": "code",
   "execution_count": 91,
   "id": "e14292ca",
   "metadata": {},
   "outputs": [
    {
     "data": {
      "image/png": "[encoded data removed]",
      "text/plain": [
       "<Figure size 432x288 with 1 Axes>"
      ]
     },
     "metadata": {
      "needs_background": "light"
     },
     "output_type": "display_data"
    }
   ],
   "source": [
    "plot_acc(all_acc_2, all_acc_history_2)"
   ]
  },
  {
   "cell_type": "markdown",
   "id": "da86df45",
   "metadata": {},
   "source": [
    "# LSTM: Regularizing your model and tuning your hyperparameters\n",
    "After creating a model that overfits, we need to modify the model to increase the peformance of the model. We can do this by regularizing the model and iteratively fine tune our hyperparameters until we determine the optimal hyperparameter settings that results in the best performing machine learning model.\n",
    "\n",
    "There are many ways to regularize the model. For our project, we will be tuning:\n",
    "1. Dropout rates\n",
    "2. L1/L2 regularizers\n",
    "\n",
    "Batch Normalization will also be applied to accelerate training of the model.\n",
    "\n",
    "We will be testing different settings for the hyperparameters and compare the performances between them to determine the optimal setting for dropout and L1/L2 regularizers.\n",
    "\n",
    "Finally, we will add the hyperparameters with the optimal values we found earlier to our overfitting LSTM model to develop the final LSTM model."
   ]
  },
  {
   "cell_type": "markdown",
   "id": "1d3f66ab",
   "metadata": {},
   "source": [
    "### 1. Dropout\n",
    "\n",
    "By adding dropout layers, you introduce some randomness during training, which can help prevent the model from relying too heavily on any single feature and reduce overfitting. "
   ]
  },
  {
   "cell_type": "markdown",
   "id": "787f08a8",
   "metadata": {},
   "source": [
    "#### Build model with Dropout = 0.1"
   ]
  },
  {
   "cell_type": "code",
   "execution_count": 82,
   "id": "97c2fe72",
   "metadata": {},
   "outputs": [
    {
     "name": "stdout",
     "output_type": "stream",
     "text": [
      "Model: \"sequential_16\"\n",
      "_________________________________________________________________\n",
      " Layer (type)                Output Shape              Param #   \n",
      "=================================================================\n",
      " embedding_16 (Embedding)    (None, 40, 50)            125000    \n",
      "                                                                 \n",
      " dropout (Dropout)           (None, 40, 50)            0         \n",
      "                                                                 \n",
      " lstm_37 (LSTM)              (None, 40, 128)           91648     \n",
      "                                                                 \n",
      " lstm_38 (LSTM)              (None, 64)                49408     \n",
      "                                                                 \n",
      " dense_33 (Dense)            (None, 64)                4160      \n",
      "                                                                 \n",
      " dropout_1 (Dropout)         (None, 64)                0         \n",
      "                                                                 \n",
      " dense_34 (Dense)            (None, 16)                1040      \n",
      "                                                                 \n",
      "=================================================================\n",
      "Total params: 271,256\n",
      "Trainable params: 271,256\n",
      "Non-trainable params: 0\n",
      "_________________________________________________________________\n",
      "None\n"
     ]
    }
   ],
   "source": [
    "### DROP OUT = 0.1 ###\n",
    "\n",
    "from tensorflow.keras.layers import Dropout\n",
    "\n",
    "# Initialising the model \n",
    "lstm_model_1 = Sequential()\n",
    "\n",
    "# Defining model: add layers \n",
    "lstm_model_1.add(Embedding(\n",
    "    max_words,\n",
    "    EMBEDDING_VECTOR_LENGTH,\n",
    "    input_length=max_len,\n",
    "    weights=[embedding_matrix],\n",
    "    trainable=True,\n",
    ")) #glove embedding\n",
    "\n",
    "\n",
    "lstm_model_1.add(Dropout(0.1)) #dropout layer with 0.1 rate\n",
    "lstm_model_1.add(LSTM(128, input_shape=(max_len, EMBEDDING_VECTOR_LENGTH), return_sequences=True))\n",
    "lstm_model_1.add(LSTM(64))\n",
    "lstm_model_1.add(Dense(64, activation='relu'))\n",
    "lstm_model_1.add(Dropout(0.1))\n",
    "lstm_model_1.add(Dense(16, activation='softmax'))\n",
    "\n",
    "\n",
    "# lstm_model_1.add(LSTM(128, input_shape=(max_len, EMBEDDING_VECTOR_LENGTH))) #LSTM layer\n",
    "# lstm_model_1.add(Dropout(0.1))\n",
    "# lstm_model_1.add(LSTM(64)) # Additional dense layer\n",
    "# lstm_model_1.add(Dense(64, activation='relu')) # Additional dense layer\n",
    "# lstm_model_1.add(Dropout(0.1))\n",
    "# lstm_model_1.add(Dense(16, activation='softmax')) #dense layer - the last one\n",
    "\n",
    "\n",
    "# Compile model\n",
    "lstm_model_1.compile(loss=\"categorical_crossentropy\", optimizer=\"adam\", metrics=[\"accuracy\"])\n",
    "\n",
    "print(lstm_model_1.summary())\n"
   ]
  },
  {
   "cell_type": "markdown",
   "id": "2932d794",
   "metadata": {},
   "source": [
    "#### Train model with Dropout = 0.1"
   ]
  },
  {
   "cell_type": "code",
   "execution_count": 84,
   "id": "dd2f2edb",
   "metadata": {},
   "outputs": [
    {
     "name": "stdout",
     "output_type": "stream",
     "text": [
      "processing fold 0\n",
      "Epoch 1/5\n",
      "1877/1877 - 71s - loss: 1.4801 - accuracy: 0.5077 - val_loss: 1.2957 - val_accuracy: 0.5620 - 71s/epoch - 38ms/step\n",
      "Epoch 2/5\n",
      "1877/1877 - 71s - loss: 1.3712 - accuracy: 0.5420 - val_loss: 1.3720 - val_accuracy: 0.5332 - 71s/epoch - 38ms/step\n",
      "Epoch 3/5\n",
      "1877/1877 - 72s - loss: 1.2970 - accuracy: 0.5610 - val_loss: 1.4595 - val_accuracy: 0.5038 - 72s/epoch - 38ms/step\n",
      "Epoch 4/5\n",
      "1877/1877 - 67s - loss: 1.2071 - accuracy: 0.5923 - val_loss: 1.5900 - val_accuracy: 0.4736 - 67s/epoch - 35ms/step\n",
      "Epoch 5/5\n",
      "1877/1877 - 67s - loss: 1.1451 - accuracy: 0.6114 - val_loss: 1.7102 - val_accuracy: 0.4410 - 67s/epoch - 36ms/step\n",
      "processing fold 1\n",
      "Epoch 1/5\n",
      "1877/1877 - 75s - loss: 1.3306 - accuracy: 0.5647 - val_loss: 0.8449 - val_accuracy: 0.7470 - 75s/epoch - 40ms/step\n",
      "Epoch 2/5\n",
      "1877/1877 - 71s - loss: 1.2013 - accuracy: 0.6046 - val_loss: 0.9451 - val_accuracy: 0.6967 - 71s/epoch - 38ms/step\n",
      "Epoch 3/5\n",
      "1877/1877 - 67s - loss: 1.1236 - accuracy: 0.6255 - val_loss: 1.0466 - val_accuracy: 0.6512 - 67s/epoch - 36ms/step\n",
      "Epoch 4/5\n",
      "1877/1877 - 68s - loss: 1.0633 - accuracy: 0.6453 - val_loss: 1.1397 - val_accuracy: 0.6135 - 68s/epoch - 36ms/step\n",
      "Epoch 5/5\n",
      "1877/1877 - 70s - loss: 1.0076 - accuracy: 0.6643 - val_loss: 1.2418 - val_accuracy: 0.5886 - 70s/epoch - 38ms/step\n",
      "processing fold 2\n",
      "Epoch 1/5\n",
      "1877/1877 - 75s - loss: 1.1594 - accuracy: 0.6195 - val_loss: 0.6238 - val_accuracy: 0.8175 - 75s/epoch - 40ms/step\n",
      "Epoch 2/5\n",
      "1877/1877 - 59s - loss: 1.0502 - accuracy: 0.6525 - val_loss: 0.7210 - val_accuracy: 0.7672 - 59s/epoch - 31ms/step\n",
      "Epoch 3/5\n",
      "1877/1877 - 55s - loss: 0.9850 - accuracy: 0.6710 - val_loss: 0.7817 - val_accuracy: 0.7410 - 55s/epoch - 29ms/step\n",
      "Epoch 4/5\n",
      "1877/1877 - 63s - loss: 0.9297 - accuracy: 0.6881 - val_loss: 0.8552 - val_accuracy: 0.7161 - 63s/epoch - 33ms/step\n",
      "Epoch 5/5\n",
      "1877/1877 - 55s - loss: 0.8837 - accuracy: 0.7064 - val_loss: 0.9286 - val_accuracy: 0.6819 - 55s/epoch - 29ms/step\n",
      "processing fold 3\n",
      "Epoch 1/5\n",
      "1877/1877 - 58s - loss: 1.0242 - accuracy: 0.6614 - val_loss: 0.4717 - val_accuracy: 0.8706 - 58s/epoch - 31ms/step\n",
      "Epoch 2/5\n",
      "1877/1877 - 62s - loss: 0.9147 - accuracy: 0.6956 - val_loss: 0.5283 - val_accuracy: 0.8395 - 62s/epoch - 33ms/step\n",
      "Epoch 3/5\n",
      "1877/1877 - 65s - loss: 0.8585 - accuracy: 0.7138 - val_loss: 0.6500 - val_accuracy: 0.7887 - 65s/epoch - 35ms/step\n",
      "Epoch 4/5\n",
      "1877/1877 - 67s - loss: 0.8310 - accuracy: 0.7251 - val_loss: 0.7029 - val_accuracy: 0.7683 - 67s/epoch - 35ms/step\n",
      "Epoch 5/5\n",
      "1877/1877 - 65s - loss: 0.7791 - accuracy: 0.7391 - val_loss: 0.7897 - val_accuracy: 0.7323 - 65s/epoch - 35ms/step\n",
      "processing fold 4\n",
      "Epoch 1/5\n",
      "1877/1877 - 61s - loss: 0.9209 - accuracy: 0.6990 - val_loss: 0.3527 - val_accuracy: 0.9060 - 61s/epoch - 33ms/step\n",
      "Epoch 2/5\n",
      "1877/1877 - 64s - loss: 0.8220 - accuracy: 0.7272 - val_loss: 0.4336 - val_accuracy: 0.8738 - 64s/epoch - 34ms/step\n",
      "Epoch 3/5\n",
      "1877/1877 - 73s - loss: 0.7814 - accuracy: 0.7404 - val_loss: 0.5038 - val_accuracy: 0.8393 - 73s/epoch - 39ms/step\n",
      "Epoch 4/5\n",
      "1877/1877 - 76s - loss: 0.7452 - accuracy: 0.7540 - val_loss: 0.5756 - val_accuracy: 0.8071 - 76s/epoch - 40ms/step\n",
      "Epoch 5/5\n",
      "1877/1877 - 76s - loss: 0.7067 - accuracy: 0.7650 - val_loss: 0.6685 - val_accuracy: 0.7742 - 76s/epoch - 40ms/step\n",
      "processing fold 0\n",
      "Epoch 1/5\n",
      "1877/1877 - 86s - loss: 0.7899 - accuracy: 0.7374 - val_loss: 0.4208 - val_accuracy: 0.8757 - 86s/epoch - 46ms/step\n",
      "Epoch 2/5\n",
      "1877/1877 - 69s - loss: 0.7293 - accuracy: 0.7592 - val_loss: 0.4903 - val_accuracy: 0.8410 - 69s/epoch - 37ms/step\n",
      "Epoch 3/5\n",
      "1877/1877 - 55s - loss: 0.6722 - accuracy: 0.7788 - val_loss: 0.6021 - val_accuracy: 0.7980 - 55s/epoch - 29ms/step\n",
      "Epoch 4/5\n",
      "1877/1877 - 54s - loss: 0.6532 - accuracy: 0.7825 - val_loss: 0.6197 - val_accuracy: 0.7931 - 54s/epoch - 29ms/step\n",
      "Epoch 5/5\n",
      "1877/1877 - 54s - loss: 0.6265 - accuracy: 0.7941 - val_loss: 0.7081 - val_accuracy: 0.7581 - 54s/epoch - 29ms/step\n",
      "processing fold 1\n",
      "Epoch 1/5\n",
      "1877/1877 - 59s - loss: 0.7785 - accuracy: 0.7442 - val_loss: 0.2752 - val_accuracy: 0.9292 - 59s/epoch - 31ms/step\n",
      "Epoch 2/5\n",
      "1877/1877 - 54s - loss: 0.6859 - accuracy: 0.7771 - val_loss: 0.3449 - val_accuracy: 0.9024 - 54s/epoch - 29ms/step\n",
      "Epoch 3/5\n",
      "1877/1877 - 55s - loss: 0.6505 - accuracy: 0.7861 - val_loss: 0.4094 - val_accuracy: 0.8723 - 55s/epoch - 29ms/step\n",
      "Epoch 4/5\n",
      "1877/1877 - 56s - loss: 0.6204 - accuracy: 0.7986 - val_loss: 0.4825 - val_accuracy: 0.8433 - 56s/epoch - 30ms/step\n",
      "Epoch 5/5\n",
      "1877/1877 - 56s - loss: 0.5988 - accuracy: 0.8007 - val_loss: 0.5804 - val_accuracy: 0.8109 - 56s/epoch - 30ms/step\n",
      "processing fold 2\n",
      "Epoch 1/5\n",
      "1877/1877 - 62s - loss: 0.7274 - accuracy: 0.7642 - val_loss: 0.2258 - val_accuracy: 0.9431 - 62s/epoch - 33ms/step\n",
      "Epoch 2/5\n",
      "1877/1877 - 58s - loss: 0.6524 - accuracy: 0.7872 - val_loss: 0.2813 - val_accuracy: 0.9139 - 58s/epoch - 31ms/step\n",
      "Epoch 3/5\n",
      "1877/1877 - 81s - loss: 0.6194 - accuracy: 0.7970 - val_loss: 0.3349 - val_accuracy: 0.8975 - 81s/epoch - 43ms/step\n",
      "Epoch 4/5\n",
      "1877/1877 - 60s - loss: 0.5905 - accuracy: 0.8030 - val_loss: 0.4042 - val_accuracy: 0.8666 - 60s/epoch - 32ms/step\n",
      "Epoch 5/5\n",
      "1877/1877 - 61s - loss: 0.5596 - accuracy: 0.8135 - val_loss: 0.4453 - val_accuracy: 0.8540 - 61s/epoch - 33ms/step\n",
      "processing fold 3\n",
      "Epoch 1/5\n",
      "1877/1877 - 59s - loss: 0.6848 - accuracy: 0.7780 - val_loss: 0.1871 - val_accuracy: 0.9522 - 59s/epoch - 32ms/step\n",
      "Epoch 2/5\n",
      "1877/1877 - 59s - loss: 0.6331 - accuracy: 0.7932 - val_loss: 0.2481 - val_accuracy: 0.9343 - 59s/epoch - 32ms/step\n",
      "Epoch 3/5\n",
      "1877/1877 - 59s - loss: 0.5710 - accuracy: 0.8126 - val_loss: 0.2869 - val_accuracy: 0.9152 - 59s/epoch - 31ms/step\n",
      "Epoch 4/5\n",
      "1877/1877 - 64s - loss: 0.5478 - accuracy: 0.8205 - val_loss: 0.3326 - val_accuracy: 0.8923 - 64s/epoch - 34ms/step\n",
      "Epoch 5/5\n",
      "1877/1877 - 61s - loss: 0.5288 - accuracy: 0.8220 - val_loss: 0.4063 - val_accuracy: 0.8657 - 61s/epoch - 33ms/step\n",
      "processing fold 4\n",
      "Epoch 1/5\n",
      "1877/1877 - 73s - loss: 0.6392 - accuracy: 0.7886 - val_loss: 0.1542 - val_accuracy: 0.9640 - 73s/epoch - 39ms/step\n",
      "Epoch 2/5\n",
      "1877/1877 - 55s - loss: 0.5747 - accuracy: 0.8117 - val_loss: 0.1943 - val_accuracy: 0.9486 - 55s/epoch - 29ms/step\n",
      "Epoch 3/5\n",
      "1877/1877 - 58s - loss: 0.5503 - accuracy: 0.8182 - val_loss: 0.2373 - val_accuracy: 0.9275 - 58s/epoch - 31ms/step\n",
      "Epoch 4/5\n",
      "1877/1877 - 58s - loss: 0.5280 - accuracy: 0.8239 - val_loss: 0.2801 - val_accuracy: 0.9158 - 58s/epoch - 31ms/step\n",
      "Epoch 5/5\n",
      "1877/1877 - 59s - loss: 0.5147 - accuracy: 0.8290 - val_loss: 0.3604 - val_accuracy: 0.8840 - 59s/epoch - 31ms/step\n",
      "processing fold 0\n",
      "Epoch 1/5\n",
      "1877/1877 - 64s - loss: 0.5922 - accuracy: 0.8093 - val_loss: 0.2226 - val_accuracy: 0.9361 - 64s/epoch - 34ms/step\n",
      "Epoch 2/5\n",
      "1877/1877 - 70s - loss: 0.5279 - accuracy: 0.8254 - val_loss: 0.2578 - val_accuracy: 0.9222 - 70s/epoch - 38ms/step\n",
      "Epoch 3/5\n",
      "1877/1877 - 66s - loss: 0.5102 - accuracy: 0.8328 - val_loss: 0.2994 - val_accuracy: 0.9058 - 66s/epoch - 35ms/step\n",
      "Epoch 4/5\n",
      "1877/1877 - 60s - loss: 0.4926 - accuracy: 0.8407 - val_loss: 0.3664 - val_accuracy: 0.8755 - 60s/epoch - 32ms/step\n",
      "Epoch 5/5\n",
      "1877/1877 - 66s - loss: 0.4703 - accuracy: 0.8453 - val_loss: 0.4417 - val_accuracy: 0.8440 - 66s/epoch - 35ms/step\n",
      "processing fold 1\n",
      "Epoch 1/5\n",
      "1877/1877 - 84s - loss: 0.6045 - accuracy: 0.8042 - val_loss: 0.1285 - val_accuracy: 0.9723 - 84s/epoch - 45ms/step\n",
      "Epoch 2/5\n",
      "1877/1877 - 70s - loss: 0.5183 - accuracy: 0.8275 - val_loss: 0.1692 - val_accuracy: 0.9537 - 70s/epoch - 37ms/step\n",
      "Epoch 3/5\n",
      "1877/1877 - 73s - loss: 0.4926 - accuracy: 0.8383 - val_loss: 0.2192 - val_accuracy: 0.9343 - 73s/epoch - 39ms/step\n",
      "Epoch 4/5\n",
      "1877/1877 - 79s - loss: 0.4785 - accuracy: 0.8411 - val_loss: 0.2599 - val_accuracy: 0.9175 - 79s/epoch - 42ms/step\n",
      "Epoch 5/5\n",
      "1877/1877 - 68s - loss: 0.4537 - accuracy: 0.8521 - val_loss: 0.3338 - val_accuracy: 0.8864 - 68s/epoch - 36ms/step\n",
      "processing fold 2\n",
      "Epoch 1/5\n",
      "1877/1877 - 71s - loss: 0.5560 - accuracy: 0.8189 - val_loss: 0.1138 - val_accuracy: 0.9755 - 71s/epoch - 38ms/step\n",
      "Epoch 2/5\n",
      "1877/1877 - 77s - loss: 0.5103 - accuracy: 0.8319 - val_loss: 0.1489 - val_accuracy: 0.9621 - 77s/epoch - 41ms/step\n",
      "Epoch 3/5\n",
      "1877/1877 - 67s - loss: 0.4679 - accuracy: 0.8454 - val_loss: 0.1972 - val_accuracy: 0.9420 - 67s/epoch - 36ms/step\n",
      "Epoch 4/5\n",
      "1877/1877 - 81s - loss: 0.4515 - accuracy: 0.8497 - val_loss: 0.2573 - val_accuracy: 0.9160 - 81s/epoch - 43ms/step\n"
     ]
    },
    {
     "name": "stdout",
     "output_type": "stream",
     "text": [
      "Epoch 5/5\n",
      "1877/1877 - 73s - loss: 0.4333 - accuracy: 0.8596 - val_loss: 0.2784 - val_accuracy: 0.9062 - 73s/epoch - 39ms/step\n",
      "processing fold 3\n",
      "Epoch 1/5\n",
      "1877/1877 - 69s - loss: 0.5473 - accuracy: 0.8265 - val_loss: 0.1006 - val_accuracy: 0.9774 - 69s/epoch - 37ms/step\n",
      "Epoch 2/5\n",
      "1877/1877 - 56s - loss: 0.4884 - accuracy: 0.8416 - val_loss: 0.1335 - val_accuracy: 0.9699 - 56s/epoch - 30ms/step\n",
      "Epoch 3/5\n",
      "1877/1877 - 55s - loss: 0.4611 - accuracy: 0.8490 - val_loss: 0.1648 - val_accuracy: 0.9540 - 55s/epoch - 29ms/step\n",
      "Epoch 4/5\n",
      "1877/1877 - 68s - loss: 0.4346 - accuracy: 0.8555 - val_loss: 0.2047 - val_accuracy: 0.9339 - 68s/epoch - 36ms/step\n",
      "Epoch 5/5\n",
      "1877/1877 - 62s - loss: 0.4402 - accuracy: 0.8583 - val_loss: 0.2517 - val_accuracy: 0.9192 - 62s/epoch - 33ms/step\n",
      "processing fold 4\n",
      "Epoch 1/5\n",
      "1877/1877 - 115s - loss: 0.5268 - accuracy: 0.8302 - val_loss: 0.0864 - val_accuracy: 0.9851 - 115s/epoch - 61ms/step\n",
      "Epoch 2/5\n",
      "1877/1877 - 55s - loss: 0.4605 - accuracy: 0.8503 - val_loss: 0.1268 - val_accuracy: 0.9682 - 55s/epoch - 30ms/step\n",
      "Epoch 3/5\n",
      "1877/1877 - 62s - loss: 0.4504 - accuracy: 0.8519 - val_loss: 0.1445 - val_accuracy: 0.9593 - 62s/epoch - 33ms/step\n",
      "Epoch 4/5\n",
      "1877/1877 - 69s - loss: 0.4364 - accuracy: 0.8570 - val_loss: 0.1912 - val_accuracy: 0.9444 - 69s/epoch - 37ms/step\n",
      "Epoch 5/5\n",
      "1877/1877 - 57s - loss: 0.4033 - accuracy: 0.8676 - val_loss: 0.2344 - val_accuracy: 0.9220 - 57s/epoch - 30ms/step\n",
      "processing fold 0\n",
      "Epoch 1/5\n",
      "1877/1877 - 65s - loss: 0.4873 - accuracy: 0.8438 - val_loss: 0.1194 - val_accuracy: 0.9708 - 65s/epoch - 35ms/step\n",
      "Epoch 2/5\n",
      "1877/1877 - 86s - loss: 0.4299 - accuracy: 0.8605 - val_loss: 0.1569 - val_accuracy: 0.9533 - 86s/epoch - 46ms/step\n",
      "Epoch 3/5\n",
      "1877/1877 - 63s - loss: 0.4138 - accuracy: 0.8669 - val_loss: 0.1882 - val_accuracy: 0.9422 - 63s/epoch - 33ms/step\n",
      "Epoch 4/5\n",
      "1877/1877 - 54s - loss: 0.3978 - accuracy: 0.8710 - val_loss: 0.2688 - val_accuracy: 0.9135 - 54s/epoch - 29ms/step\n",
      "Epoch 5/5\n",
      "1877/1877 - 59s - loss: 0.3983 - accuracy: 0.8671 - val_loss: 0.2847 - val_accuracy: 0.9056 - 59s/epoch - 32ms/step\n",
      "processing fold 1\n",
      "Epoch 1/5\n",
      "1877/1877 - 62s - loss: 0.5073 - accuracy: 0.8375 - val_loss: 0.0834 - val_accuracy: 0.9829 - 62s/epoch - 33ms/step\n",
      "Epoch 2/5\n",
      "1877/1877 - 58s - loss: 0.4314 - accuracy: 0.8593 - val_loss: 0.1214 - val_accuracy: 0.9680 - 58s/epoch - 31ms/step\n",
      "Epoch 3/5\n",
      "1877/1877 - 64s - loss: 0.4166 - accuracy: 0.8617 - val_loss: 0.1487 - val_accuracy: 0.9572 - 64s/epoch - 34ms/step\n",
      "Epoch 4/5\n",
      "1877/1877 - 65s - loss: 0.4110 - accuracy: 0.8653 - val_loss: 0.1756 - val_accuracy: 0.9480 - 65s/epoch - 35ms/step\n",
      "Epoch 5/5\n",
      "1877/1877 - 61s - loss: 0.3718 - accuracy: 0.8797 - val_loss: 0.2234 - val_accuracy: 0.9305 - 61s/epoch - 33ms/step\n",
      "processing fold 2\n",
      "Epoch 1/5\n",
      "1877/1877 - 65s - loss: 0.4874 - accuracy: 0.8429 - val_loss: 0.0672 - val_accuracy: 0.9887 - 65s/epoch - 35ms/step\n",
      "Epoch 2/5\n",
      "1877/1877 - 67s - loss: 0.4163 - accuracy: 0.8634 - val_loss: 0.1019 - val_accuracy: 0.9729 - 67s/epoch - 36ms/step\n",
      "Epoch 3/5\n",
      "1877/1877 - 64s - loss: 0.4096 - accuracy: 0.8669 - val_loss: 0.1335 - val_accuracy: 0.9616 - 64s/epoch - 34ms/step\n",
      "Epoch 4/5\n",
      "1877/1877 - 62s - loss: 0.3919 - accuracy: 0.8707 - val_loss: 0.1763 - val_accuracy: 0.9495 - 62s/epoch - 33ms/step\n",
      "Epoch 5/5\n",
      "1877/1877 - 57s - loss: 0.3807 - accuracy: 0.8784 - val_loss: 0.2116 - val_accuracy: 0.9322 - 57s/epoch - 30ms/step\n",
      "processing fold 3\n",
      "Epoch 1/5\n",
      "1877/1877 - 64s - loss: 0.4657 - accuracy: 0.8503 - val_loss: 0.0602 - val_accuracy: 0.9898 - 64s/epoch - 34ms/step\n",
      "Epoch 2/5\n",
      "1877/1877 - 80s - loss: 0.4093 - accuracy: 0.8668 - val_loss: 0.1024 - val_accuracy: 0.9721 - 80s/epoch - 43ms/step\n",
      "Epoch 3/5\n",
      "1877/1877 - 65s - loss: 0.3957 - accuracy: 0.8715 - val_loss: 0.1186 - val_accuracy: 0.9685 - 65s/epoch - 34ms/step\n",
      "Epoch 4/5\n",
      "1877/1877 - 55s - loss: 0.3806 - accuracy: 0.8770 - val_loss: 0.1657 - val_accuracy: 0.9514 - 55s/epoch - 29ms/step\n",
      "Epoch 5/5\n",
      "1877/1877 - 56s - loss: 0.3768 - accuracy: 0.8782 - val_loss: 0.2125 - val_accuracy: 0.9343 - 56s/epoch - 30ms/step\n",
      "processing fold 4\n",
      "Epoch 1/5\n",
      "1877/1877 - 61s - loss: 0.4488 - accuracy: 0.8556 - val_loss: 0.0601 - val_accuracy: 0.9876 - 61s/epoch - 32ms/step\n",
      "Epoch 2/5\n",
      "1877/1877 - 56s - loss: 0.4078 - accuracy: 0.8671 - val_loss: 0.0800 - val_accuracy: 0.9825 - 56s/epoch - 30ms/step\n",
      "Epoch 3/5\n",
      "1877/1877 - 55s - loss: 0.3909 - accuracy: 0.8727 - val_loss: 0.1139 - val_accuracy: 0.9727 - 55s/epoch - 29ms/step\n",
      "Epoch 4/5\n",
      "1877/1877 - 55s - loss: 0.3726 - accuracy: 0.8784 - val_loss: 0.1371 - val_accuracy: 0.9589 - 55s/epoch - 29ms/step\n",
      "Epoch 5/5\n",
      "1877/1877 - 55s - loss: 0.3544 - accuracy: 0.8846 - val_loss: 0.1904 - val_accuracy: 0.9407 - 55s/epoch - 29ms/step\n"
     ]
    }
   ],
   "source": [
    "import numpy as np \n",
    "from sklearn.model_selection import StratifiedKFold\n",
    "from sklearn.metrics import mean_absolute_error\n",
    "\n",
    "K=4\n",
    "num_val_samples = len(X_train_resampled)//K\n",
    "num_epochs = 5\n",
    "\n",
    "#new!\n",
    "all_val_acc_3 = []\n",
    "all_val_loss_3 = []\n",
    "\n",
    "all_acc_3 = []\n",
    "all_loss_3 = []\n",
    "all_acc_history_3 = []\n",
    "all_loss_history_3 = []\n",
    "\n",
    "N_iterations=4\n",
    "N_folds=5\n",
    "        \n",
    "for i in range(N_iterations):\n",
    "    skf = StratifiedKFold(n_splits=N_folds, shuffle=True)\n",
    "    \n",
    "    for j, (train_index, val_index) in enumerate(skf.split(X_train_resampled, y_train_resampled)):\n",
    "        print('processing fold', j)\n",
    "        \n",
    "        partial_train_data = X_train_resampled[train_index]\n",
    "        val_data = X_train_resampled[val_index]\n",
    "        \n",
    "        partial_train_targets = y_train_resampled[train_index]\n",
    "        val_targets = y_train_resampled[val_index]\n",
    "        \n",
    "        # One-hot encode the target labels\n",
    "        partial_train_targets = to_categorical(partial_train_targets, num_classes=16)\n",
    "        val_targets = to_categorical(val_targets, num_classes=16)\n",
    "        \n",
    "        # Train the model \n",
    "        lstm_model_1.compile(loss=\"categorical_crossentropy\", optimizer=\"adam\", metrics=[\"accuracy\"])\n",
    "        results_3 = lstm_model_1.fit(partial_train_data, partial_train_targets, epochs=num_epochs, batch_size=10, verbose=2, validation_data = (val_data, val_targets))\n",
    "        \n",
    "        # Evaluate the model on the validation data: loss and accuracy \n",
    "        val_loss, val_acc = lstm_model_1.evaluate(val_data, val_targets, verbose=0)\n",
    "        all_val_acc_3.append(val_acc)\n",
    "        all_val_loss_3.append(val_loss)\n",
    "        \n",
    "        acc = results_3.history['accuracy']\n",
    "        all_acc_3.append(acc)\n",
    "        acc_history = results_3.history['val_accuracy']\n",
    "        all_acc_history_3.append(acc_history)\n",
    "        \n",
    "        loss = results_3.history['loss']\n",
    "        all_loss_3.append(loss)\n",
    "        loss_history = results_3.history['val_loss']\n",
    "        all_loss_history_3.append(loss_history)"
   ]
  },
  {
   "cell_type": "code",
   "execution_count": 85,
   "id": "0166e7a1",
   "metadata": {},
   "outputs": [
    {
     "data": {
      "image/png": "[encoded data removed]",
      "text/plain": [
       "<Figure size 432x288 with 1 Axes>"
      ]
     },
     "metadata": {
      "needs_background": "light"
     },
     "output_type": "display_data"
    }
   ],
   "source": [
    "plot_loss(all_loss_3, all_loss_history_3)"
   ]
  },
  {
   "cell_type": "code",
   "execution_count": 86,
   "id": "1fc8ae3c",
   "metadata": {},
   "outputs": [
    {
     "data": {
      "image/png": "[encoded data removed]",
      "text/plain": [
       "<Figure size 432x288 with 1 Axes>"
      ]
     },
     "metadata": {
      "needs_background": "light"
     },
     "output_type": "display_data"
    }
   ],
   "source": [
    "plot_acc(all_acc_3, all_acc_history_3)"
   ]
  },
  {
   "cell_type": "code",
   "execution_count": 87,
   "id": "6850b076",
   "metadata": {},
   "outputs": [
    {
     "name": "stdout",
     "output_type": "stream",
     "text": [
      "Average Loss: 0.5251037381589413\n",
      "Average Accuracy: 0.8255921095609665\n"
     ]
    }
   ],
   "source": [
    "print(\"Average Loss:\", np.mean(all_val_loss_3))\n",
    "print(\"Average Accuracy:\", np.mean(all_val_acc_3))"
   ]
  },
  {
   "cell_type": "markdown",
   "id": "2b5a6483",
   "metadata": {},
   "source": [
    "From the graphs plotted above, we can see that the training accuracy is now below the averge validation accuracy which suggest undefitting.\n",
    "\n",
    "Upon adding dropouts of 0.1, the overfitting model became underfitting. As the aim of the project is to create a model that stands on the line between overfitting and underfitting, we need to reduce the underfitting by using a dropout rate that is smaller than 0.1."
   ]
  },
  {
   "cell_type": "markdown",
   "id": "f7c6686b",
   "metadata": {},
   "source": [
    "#### Build Model with Dropout=0.07"
   ]
  },
  {
   "cell_type": "code",
   "execution_count": 92,
   "id": "f2dd1c6c",
   "metadata": {},
   "outputs": [
    {
     "name": "stdout",
     "output_type": "stream",
     "text": [
      "Model: \"sequential_18\"\n",
      "_________________________________________________________________\n",
      " Layer (type)                Output Shape              Param #   \n",
      "=================================================================\n",
      " embedding_18 (Embedding)    (None, 40, 50)            125000    \n",
      "                                                                 \n",
      " dropout_2 (Dropout)         (None, 40, 50)            0         \n",
      "                                                                 \n",
      " lstm_41 (LSTM)              (None, 40, 128)           91648     \n",
      "                                                                 \n",
      " lstm_42 (LSTM)              (None, 64)                49408     \n",
      "                                                                 \n",
      " dense_37 (Dense)            (None, 64)                4160      \n",
      "                                                                 \n",
      " dropout_3 (Dropout)         (None, 64)                0         \n",
      "                                                                 \n",
      " dense_38 (Dense)            (None, 16)                1040      \n",
      "                                                                 \n",
      "=================================================================\n",
      "Total params: 271,256\n",
      "Trainable params: 271,256\n",
      "Non-trainable params: 0\n",
      "_________________________________________________________________\n",
      "None\n"
     ]
    }
   ],
   "source": [
    "### DROP OUT = 0.07 ###\n",
    "\n",
    "from tensorflow.keras.layers import Dropout\n",
    "\n",
    "# Initialising the model \n",
    "lstm_model_2 = Sequential()\n",
    "\n",
    "# Defining model: add layers \n",
    "lstm_model_2.add(Embedding(\n",
    "    max_words,\n",
    "    EMBEDDING_VECTOR_LENGTH,\n",
    "    input_length=max_len,\n",
    "    weights=[embedding_matrix],\n",
    "    trainable=True,\n",
    ")) #glove embedding\n",
    "\n",
    "lstm_model_2.add(Dropout(0.07)) #dropout layer with 0.5 rate\n",
    "lstm_model_2.add(LSTM(128, input_shape=(max_len, EMBEDDING_VECTOR_LENGTH), return_sequences=True))\n",
    "lstm_model_2.add(LSTM(64))\n",
    "lstm_model_2.add(Dense(64, activation='relu'))\n",
    "lstm_model_2.add(Dropout(0.07))\n",
    "lstm_model_2.add(Dense(16, activation='softmax'))\n",
    "\n",
    "# Compile model\n",
    "lstm_model_2.compile(loss=\"categorical_crossentropy\", optimizer=\"adam\", metrics=[\"accuracy\"])\n",
    "\n",
    "print(lstm_model_2.summary())"
   ]
  },
  {
   "cell_type": "markdown",
   "id": "1f81e033",
   "metadata": {},
   "source": [
    "#### Train the Model with Dropout = 0.07"
   ]
  },
  {
   "cell_type": "code",
   "execution_count": 93,
   "id": "d33a17f5",
   "metadata": {},
   "outputs": [
    {
     "name": "stdout",
     "output_type": "stream",
     "text": [
      "processing fold 0\n",
      "Epoch 1/5\n",
      "1877/1877 - 71s - loss: 2.7634 - accuracy: 0.0699 - val_loss: 2.6928 - val_accuracy: 0.1002 - 71s/epoch - 38ms/step\n",
      "Epoch 2/5\n",
      "1877/1877 - 66s - loss: 2.6563 - accuracy: 0.1070 - val_loss: 2.6211 - val_accuracy: 0.1117 - 66s/epoch - 35ms/step\n",
      "Epoch 3/5\n",
      "1877/1877 - 69s - loss: 2.5939 - accuracy: 0.1160 - val_loss: 2.6282 - val_accuracy: 0.1138 - 69s/epoch - 37ms/step\n",
      "Epoch 4/5\n",
      "1877/1877 - 70s - loss: 2.5512 - accuracy: 0.1303 - val_loss: 2.5971 - val_accuracy: 0.1281 - 70s/epoch - 37ms/step\n",
      "Epoch 5/5\n",
      "1877/1877 - 69s - loss: 2.5116 - accuracy: 0.1455 - val_loss: 2.6065 - val_accuracy: 0.1296 - 69s/epoch - 37ms/step\n",
      "processing fold 1\n",
      "Epoch 1/5\n",
      "1877/1877 - 66s - loss: 2.5038 - accuracy: 0.1545 - val_loss: 2.5013 - val_accuracy: 0.1537 - 66s/epoch - 35ms/step\n",
      "Epoch 2/5\n",
      "1877/1877 - 57s - loss: 2.4547 - accuracy: 0.1700 - val_loss: 2.4840 - val_accuracy: 0.1644 - 57s/epoch - 30ms/step\n",
      "Epoch 3/5\n",
      "1877/1877 - 74s - loss: 2.3794 - accuracy: 0.1990 - val_loss: 2.5040 - val_accuracy: 0.1652 - 74s/epoch - 39ms/step\n",
      "Epoch 4/5\n",
      "1877/1877 - 91s - loss: 2.2919 - accuracy: 0.2266 - val_loss: 2.5185 - val_accuracy: 0.1633 - 91s/epoch - 48ms/step\n",
      "Epoch 5/5\n",
      "1877/1877 - 65s - loss: 2.1917 - accuracy: 0.2652 - val_loss: 2.5994 - val_accuracy: 0.1582 - 65s/epoch - 34ms/step\n",
      "processing fold 2\n",
      "Epoch 1/5\n",
      "1877/1877 - 65s - loss: 2.2210 - accuracy: 0.2653 - val_loss: 2.0677 - val_accuracy: 0.3144 - 65s/epoch - 35ms/step\n",
      "Epoch 2/5\n",
      "1877/1877 - 65s - loss: 2.0957 - accuracy: 0.3015 - val_loss: 2.0842 - val_accuracy: 0.2989 - 65s/epoch - 35ms/step\n",
      "Epoch 3/5\n",
      "1877/1877 - 67s - loss: 1.9585 - accuracy: 0.3452 - val_loss: 2.1759 - val_accuracy: 0.2746 - 67s/epoch - 35ms/step\n",
      "Epoch 4/5\n",
      "1877/1877 - 60s - loss: 1.8210 - accuracy: 0.3890 - val_loss: 2.2787 - val_accuracy: 0.2663 - 60s/epoch - 32ms/step\n",
      "Epoch 5/5\n",
      "1877/1877 - 66s - loss: 1.6904 - accuracy: 0.4359 - val_loss: 2.3767 - val_accuracy: 0.2473 - 66s/epoch - 35ms/step\n",
      "processing fold 3\n",
      "Epoch 1/5\n",
      "1877/1877 - 72s - loss: 1.8190 - accuracy: 0.4045 - val_loss: 1.4175 - val_accuracy: 0.5536 - 72s/epoch - 38ms/step\n",
      "Epoch 2/5\n",
      "1877/1877 - 63s - loss: 1.6529 - accuracy: 0.4504 - val_loss: 1.4744 - val_accuracy: 0.5204 - 63s/epoch - 33ms/step\n",
      "Epoch 3/5\n",
      "1877/1877 - 72s - loss: 1.5291 - accuracy: 0.4894 - val_loss: 1.5278 - val_accuracy: 0.4856 - 72s/epoch - 38ms/step\n",
      "Epoch 4/5\n",
      "1877/1877 - 74s - loss: 1.4051 - accuracy: 0.5283 - val_loss: 1.6249 - val_accuracy: 0.4577 - 74s/epoch - 40ms/step\n",
      "Epoch 5/5\n",
      "1877/1877 - 69s - loss: 1.3004 - accuracy: 0.5615 - val_loss: 1.7272 - val_accuracy: 0.4321 - 69s/epoch - 37ms/step\n",
      "processing fold 4\n",
      "Epoch 1/5\n",
      "1877/1877 - 59s - loss: 1.4237 - accuracy: 0.5318 - val_loss: 0.9554 - val_accuracy: 0.7178 - 59s/epoch - 31ms/step\n",
      "Epoch 2/5\n",
      "1877/1877 - 55s - loss: 1.2720 - accuracy: 0.5791 - val_loss: 1.0551 - val_accuracy: 0.6540 - 55s/epoch - 29ms/step\n",
      "Epoch 3/5\n",
      "1877/1877 - 80s - loss: 1.1790 - accuracy: 0.6080 - val_loss: 1.1070 - val_accuracy: 0.6252 - 80s/epoch - 42ms/step\n",
      "Epoch 4/5\n",
      "1877/1877 - 77s - loss: 1.0856 - accuracy: 0.6406 - val_loss: 1.2118 - val_accuracy: 0.5950 - 77s/epoch - 41ms/step\n",
      "Epoch 5/5\n",
      "1877/1877 - 69s - loss: 1.0226 - accuracy: 0.6581 - val_loss: 1.3282 - val_accuracy: 0.5551 - 69s/epoch - 37ms/step\n",
      "processing fold 0\n",
      "Epoch 1/5\n",
      "1877/1877 - 77s - loss: 1.0927 - accuracy: 0.6437 - val_loss: 0.8759 - val_accuracy: 0.7099 - 77s/epoch - 41ms/step\n",
      "Epoch 2/5\n",
      "1877/1877 - 67s - loss: 0.9702 - accuracy: 0.6761 - val_loss: 0.9780 - val_accuracy: 0.6756 - 67s/epoch - 36ms/step\n",
      "Epoch 3/5\n",
      "1877/1877 - 71s - loss: 0.8989 - accuracy: 0.7034 - val_loss: 1.0828 - val_accuracy: 0.6390 - 71s/epoch - 38ms/step\n",
      "Epoch 4/5\n",
      "1877/1877 - 61s - loss: 0.8381 - accuracy: 0.7150 - val_loss: 1.2076 - val_accuracy: 0.6070 - 61s/epoch - 33ms/step\n",
      "Epoch 5/5\n",
      "1877/1877 - 60s - loss: 0.7946 - accuracy: 0.7328 - val_loss: 1.3048 - val_accuracy: 0.5848 - 60s/epoch - 32ms/step\n",
      "processing fold 1\n",
      "Epoch 1/5\n",
      "1877/1877 - 75s - loss: 0.9919 - accuracy: 0.6807 - val_loss: 0.5258 - val_accuracy: 0.8408 - 75s/epoch - 40ms/step\n",
      "Epoch 2/5\n",
      "1877/1877 - 98s - loss: 0.8467 - accuracy: 0.7200 - val_loss: 0.6110 - val_accuracy: 0.8041 - 98s/epoch - 52ms/step\n",
      "Epoch 3/5\n",
      "1877/1877 - 58s - loss: 0.7750 - accuracy: 0.7435 - val_loss: 0.7078 - val_accuracy: 0.7636 - 58s/epoch - 31ms/step\n",
      "Epoch 4/5\n",
      "1877/1877 - 98s - loss: 0.7304 - accuracy: 0.7577 - val_loss: 0.8104 - val_accuracy: 0.7256 - 98s/epoch - 52ms/step\n",
      "Epoch 5/5\n",
      "1877/1877 - 74s - loss: 0.6954 - accuracy: 0.7634 - val_loss: 0.8916 - val_accuracy: 0.7003 - 74s/epoch - 39ms/step\n",
      "processing fold 2\n",
      "Epoch 1/5\n",
      "1877/1877 - 91s - loss: 0.8533 - accuracy: 0.7243 - val_loss: 0.3716 - val_accuracy: 0.8979 - 91s/epoch - 49ms/step\n",
      "Epoch 2/5\n",
      "1877/1877 - 83s - loss: 0.7238 - accuracy: 0.7620 - val_loss: 0.4474 - val_accuracy: 0.8548 - 83s/epoch - 44ms/step\n",
      "Epoch 3/5\n",
      "1877/1877 - 69s - loss: 0.6786 - accuracy: 0.7733 - val_loss: 0.5609 - val_accuracy: 0.8160 - 69s/epoch - 37ms/step\n",
      "Epoch 4/5\n",
      "1877/1877 - 74s - loss: 0.6441 - accuracy: 0.7860 - val_loss: 0.6486 - val_accuracy: 0.7900 - 74s/epoch - 39ms/step\n",
      "Epoch 5/5\n",
      "1877/1877 - 60s - loss: 0.6145 - accuracy: 0.7975 - val_loss: 0.7296 - val_accuracy: 0.7506 - 60s/epoch - 32ms/step\n",
      "processing fold 3\n",
      "Epoch 1/5\n",
      "1877/1877 - 73s - loss: 0.7469 - accuracy: 0.7541 - val_loss: 0.3003 - val_accuracy: 0.9147 - 73s/epoch - 39ms/step\n",
      "Epoch 2/5\n",
      "1877/1877 - 70s - loss: 0.6440 - accuracy: 0.7860 - val_loss: 0.3346 - val_accuracy: 0.8977 - 70s/epoch - 38ms/step\n",
      "Epoch 3/5\n",
      "1877/1877 - 60s - loss: 0.5926 - accuracy: 0.8015 - val_loss: 0.4157 - val_accuracy: 0.8661 - 60s/epoch - 32ms/step\n",
      "Epoch 4/5\n",
      "1877/1877 - 59s - loss: 0.5898 - accuracy: 0.8038 - val_loss: 0.4821 - val_accuracy: 0.8359 - 59s/epoch - 31ms/step\n",
      "Epoch 5/5\n",
      "1877/1877 - 55s - loss: 0.5375 - accuracy: 0.8206 - val_loss: 0.5844 - val_accuracy: 0.8013 - 55s/epoch - 29ms/step\n",
      "processing fold 4\n",
      "Epoch 1/5\n",
      "1877/1877 - 61s - loss: 0.6780 - accuracy: 0.7775 - val_loss: 0.2150 - val_accuracy: 0.9456 - 61s/epoch - 32ms/step\n",
      "Epoch 2/5\n",
      "1877/1877 - 56s - loss: 0.5924 - accuracy: 0.8023 - val_loss: 0.2663 - val_accuracy: 0.9216 - 56s/epoch - 30ms/step\n",
      "Epoch 3/5\n",
      "1877/1877 - 55s - loss: 0.5382 - accuracy: 0.8208 - val_loss: 0.3505 - val_accuracy: 0.8868 - 55s/epoch - 29ms/step\n",
      "Epoch 4/5\n",
      "1877/1877 - 57s - loss: 0.5385 - accuracy: 0.8224 - val_loss: 0.3956 - val_accuracy: 0.8685 - 57s/epoch - 30ms/step\n",
      "Epoch 5/5\n",
      "1877/1877 - 55s - loss: 0.5027 - accuracy: 0.8342 - val_loss: 0.4784 - val_accuracy: 0.8405 - 55s/epoch - 29ms/step\n",
      "processing fold 0\n",
      "Epoch 1/5\n",
      "1877/1877 - 69s - loss: 0.5798 - accuracy: 0.8106 - val_loss: 0.2817 - val_accuracy: 0.9173 - 69s/epoch - 37ms/step\n",
      "Epoch 2/5\n",
      "1877/1877 - 55s - loss: 0.5186 - accuracy: 0.8322 - val_loss: 0.3142 - val_accuracy: 0.9015 - 55s/epoch - 29ms/step\n",
      "Epoch 3/5\n",
      "1877/1877 - 56s - loss: 0.4839 - accuracy: 0.8438 - val_loss: 0.4098 - val_accuracy: 0.8630 - 56s/epoch - 30ms/step\n",
      "Epoch 4/5\n",
      "1877/1877 - 56s - loss: 0.4769 - accuracy: 0.8409 - val_loss: 0.4772 - val_accuracy: 0.8425 - 56s/epoch - 30ms/step\n",
      "Epoch 5/5\n",
      "1877/1877 - 66s - loss: 0.4561 - accuracy: 0.8507 - val_loss: 0.5499 - val_accuracy: 0.8205 - 66s/epoch - 35ms/step\n",
      "processing fold 1\n",
      "Epoch 1/5\n",
      "1877/1877 - 67s - loss: 0.5994 - accuracy: 0.8056 - val_loss: 0.1957 - val_accuracy: 0.9497 - 67s/epoch - 36ms/step\n",
      "Epoch 2/5\n",
      "1877/1877 - 56s - loss: 0.4847 - accuracy: 0.8428 - val_loss: 0.2632 - val_accuracy: 0.9171 - 56s/epoch - 30ms/step\n",
      "Epoch 3/5\n",
      "1877/1877 - 68s - loss: 0.4722 - accuracy: 0.8460 - val_loss: 0.3086 - val_accuracy: 0.8992 - 68s/epoch - 36ms/step\n",
      "Epoch 4/5\n",
      "1877/1877 - 67s - loss: 0.4519 - accuracy: 0.8500 - val_loss: 0.3460 - val_accuracy: 0.8847 - 67s/epoch - 35ms/step\n",
      "Epoch 5/5\n",
      "1877/1877 - 62s - loss: 0.4329 - accuracy: 0.8574 - val_loss: 0.4377 - val_accuracy: 0.8516 - 62s/epoch - 33ms/step\n",
      "processing fold 2\n",
      "Epoch 1/5\n",
      "1877/1877 - 67s - loss: 0.5520 - accuracy: 0.8223 - val_loss: 0.1324 - val_accuracy: 0.9680 - 67s/epoch - 36ms/step\n",
      "Epoch 2/5\n",
      "1877/1877 - 67s - loss: 0.4697 - accuracy: 0.8447 - val_loss: 0.1851 - val_accuracy: 0.9450 - 67s/epoch - 36ms/step\n",
      "Epoch 3/5\n",
      "1877/1877 - 66s - loss: 0.4368 - accuracy: 0.8539 - val_loss: 0.2498 - val_accuracy: 0.9224 - 66s/epoch - 35ms/step\n",
      "Epoch 4/5\n",
      "1877/1877 - 70s - loss: 0.4251 - accuracy: 0.8575 - val_loss: 0.2932 - val_accuracy: 0.9039 - 70s/epoch - 37ms/step\n"
     ]
    },
    {
     "name": "stdout",
     "output_type": "stream",
     "text": [
      "Epoch 5/5\n",
      "1877/1877 - 61s - loss: 0.4133 - accuracy: 0.8654 - val_loss: 0.3750 - val_accuracy: 0.8717 - 61s/epoch - 32ms/step\n",
      "processing fold 3\n",
      "Epoch 1/5\n",
      "1877/1877 - 61s - loss: 0.5101 - accuracy: 0.8351 - val_loss: 0.1361 - val_accuracy: 0.9659 - 61s/epoch - 33ms/step\n",
      "Epoch 2/5\n",
      "1877/1877 - 56s - loss: 0.4466 - accuracy: 0.8528 - val_loss: 0.1695 - val_accuracy: 0.9531 - 56s/epoch - 30ms/step\n",
      "Epoch 3/5\n",
      "1877/1877 - 58s - loss: 0.4116 - accuracy: 0.8651 - val_loss: 0.2302 - val_accuracy: 0.9265 - 58s/epoch - 31ms/step\n",
      "Epoch 4/5\n",
      "1877/1877 - 56s - loss: 0.4087 - accuracy: 0.8678 - val_loss: 0.2786 - val_accuracy: 0.9085 - 56s/epoch - 30ms/step\n",
      "Epoch 5/5\n",
      "1877/1877 - 57s - loss: 0.4010 - accuracy: 0.8663 - val_loss: 0.3627 - val_accuracy: 0.8806 - 57s/epoch - 31ms/step\n",
      "processing fold 4\n",
      "Epoch 1/5\n",
      "1877/1877 - 60s - loss: 0.4934 - accuracy: 0.8395 - val_loss: 0.1087 - val_accuracy: 0.9740 - 60s/epoch - 32ms/step\n",
      "Epoch 2/5\n",
      "1877/1877 - 56s - loss: 0.4270 - accuracy: 0.8621 - val_loss: 0.1569 - val_accuracy: 0.9589 - 56s/epoch - 30ms/step\n",
      "Epoch 3/5\n",
      "1877/1877 - 56s - loss: 0.4033 - accuracy: 0.8673 - val_loss: 0.1919 - val_accuracy: 0.9427 - 56s/epoch - 30ms/step\n",
      "Epoch 4/5\n",
      "1877/1877 - 57s - loss: 0.3877 - accuracy: 0.8713 - val_loss: 0.2493 - val_accuracy: 0.9196 - 57s/epoch - 30ms/step\n",
      "Epoch 5/5\n",
      "1877/1877 - 56s - loss: 0.3779 - accuracy: 0.8768 - val_loss: 0.3008 - val_accuracy: 0.8990 - 56s/epoch - 30ms/step\n",
      "processing fold 0\n",
      "Epoch 1/5\n",
      "1877/1877 - 62s - loss: 0.4405 - accuracy: 0.8585 - val_loss: 0.1800 - val_accuracy: 0.9486 - 62s/epoch - 33ms/step\n",
      "Epoch 2/5\n",
      "1877/1877 - 62s - loss: 0.4034 - accuracy: 0.8688 - val_loss: 0.2257 - val_accuracy: 0.9305 - 62s/epoch - 33ms/step\n",
      "Epoch 3/5\n",
      "1877/1877 - 56s - loss: 0.3771 - accuracy: 0.8743 - val_loss: 0.2740 - val_accuracy: 0.9137 - 56s/epoch - 30ms/step\n",
      "Epoch 4/5\n",
      "1877/1877 - 71s - loss: 0.3702 - accuracy: 0.8795 - val_loss: 0.3489 - val_accuracy: 0.8845 - 71s/epoch - 38ms/step\n",
      "Epoch 5/5\n",
      "1877/1877 - 60s - loss: 0.3577 - accuracy: 0.8825 - val_loss: 0.4018 - val_accuracy: 0.8672 - 60s/epoch - 32ms/step\n",
      "processing fold 1\n",
      "Epoch 1/5\n",
      "1877/1877 - 64s - loss: 0.4758 - accuracy: 0.8476 - val_loss: 0.1075 - val_accuracy: 0.9734 - 64s/epoch - 34ms/step\n",
      "Epoch 2/5\n",
      "1877/1877 - 60s - loss: 0.3998 - accuracy: 0.8674 - val_loss: 0.1378 - val_accuracy: 0.9582 - 60s/epoch - 32ms/step\n",
      "Epoch 3/5\n",
      "1877/1877 - 65s - loss: 0.3721 - accuracy: 0.8777 - val_loss: 0.1823 - val_accuracy: 0.9437 - 65s/epoch - 35ms/step\n",
      "Epoch 4/5\n",
      "1877/1877 - 58s - loss: 0.3460 - accuracy: 0.8894 - val_loss: 0.2216 - val_accuracy: 0.9267 - 58s/epoch - 31ms/step\n",
      "Epoch 5/5\n",
      "1877/1877 - 56s - loss: 0.3522 - accuracy: 0.8861 - val_loss: 0.2656 - val_accuracy: 0.9139 - 56s/epoch - 30ms/step\n",
      "processing fold 2\n",
      "Epoch 1/5\n",
      "1877/1877 - 61s - loss: 0.4499 - accuracy: 0.8543 - val_loss: 0.0887 - val_accuracy: 0.9819 - 61s/epoch - 32ms/step\n",
      "Epoch 2/5\n",
      "1877/1877 - 55s - loss: 0.3655 - accuracy: 0.8787 - val_loss: 0.1295 - val_accuracy: 0.9627 - 55s/epoch - 29ms/step\n",
      "Epoch 3/5\n",
      "1877/1877 - 56s - loss: 0.3709 - accuracy: 0.8814 - val_loss: 0.1805 - val_accuracy: 0.9469 - 56s/epoch - 30ms/step\n",
      "Epoch 4/5\n",
      "1877/1877 - 56s - loss: 0.3466 - accuracy: 0.8879 - val_loss: 0.2077 - val_accuracy: 0.9346 - 56s/epoch - 30ms/step\n",
      "Epoch 5/5\n",
      "1877/1877 - 55s - loss: 0.3379 - accuracy: 0.8908 - val_loss: 0.2588 - val_accuracy: 0.9147 - 55s/epoch - 29ms/step\n",
      "processing fold 3\n",
      "Epoch 1/5\n",
      "1877/1877 - 60s - loss: 0.4366 - accuracy: 0.8578 - val_loss: 0.0976 - val_accuracy: 0.9748 - 60s/epoch - 32ms/step\n",
      "Epoch 2/5\n",
      "1877/1877 - 56s - loss: 0.3662 - accuracy: 0.8798 - val_loss: 0.1146 - val_accuracy: 0.9708 - 56s/epoch - 30ms/step\n",
      "Epoch 3/5\n",
      "1877/1877 - 60s - loss: 0.3527 - accuracy: 0.8844 - val_loss: 0.1592 - val_accuracy: 0.9512 - 60s/epoch - 32ms/step\n",
      "Epoch 4/5\n",
      "1877/1877 - 55s - loss: 0.3426 - accuracy: 0.8909 - val_loss: 0.1780 - val_accuracy: 0.9467 - 55s/epoch - 30ms/step\n",
      "Epoch 5/5\n",
      "1877/1877 - 57s - loss: 0.3231 - accuracy: 0.8955 - val_loss: 0.2402 - val_accuracy: 0.9184 - 57s/epoch - 30ms/step\n",
      "processing fold 4\n",
      "Epoch 1/5\n",
      "1877/1877 - 60s - loss: 0.4111 - accuracy: 0.8674 - val_loss: 0.0676 - val_accuracy: 0.9864 - 60s/epoch - 32ms/step\n",
      "Epoch 2/5\n",
      "1877/1877 - 56s - loss: 0.3565 - accuracy: 0.8845 - val_loss: 0.0982 - val_accuracy: 0.9719 - 56s/epoch - 30ms/step\n",
      "Epoch 3/5\n",
      "1877/1877 - 59s - loss: 0.3446 - accuracy: 0.8866 - val_loss: 0.1379 - val_accuracy: 0.9618 - 59s/epoch - 31ms/step\n",
      "Epoch 4/5\n",
      "1877/1877 - 56s - loss: 0.3363 - accuracy: 0.8901 - val_loss: 0.1739 - val_accuracy: 0.9439 - 56s/epoch - 30ms/step\n",
      "Epoch 5/5\n",
      "1877/1877 - 54s - loss: 0.3275 - accuracy: 0.8925 - val_loss: 0.2047 - val_accuracy: 0.9326 - 54s/epoch - 29ms/step\n"
     ]
    }
   ],
   "source": [
    "import numpy as np \n",
    "from sklearn.model_selection import StratifiedKFold\n",
    "from sklearn.metrics import mean_absolute_error\n",
    "\n",
    "K=4\n",
    "num_val_samples = len(X_train_resampled)//K\n",
    "num_epochs = 5\n",
    "\n",
    "all_val_acc_4 = []\n",
    "all_val_loss_4 = []\n",
    "\n",
    "all_acc_4 = []\n",
    "all_loss_4 = []\n",
    "all_acc_history_4 = []\n",
    "all_loss_history_4 = []\n",
    "\n",
    "N_iterations=4\n",
    "N_folds=5\n",
    "        \n",
    "for i in range(N_iterations):\n",
    "    skf = StratifiedKFold(n_splits=N_folds, shuffle=True)\n",
    "    \n",
    "    for j, (train_index, val_index) in enumerate(skf.split(X_train_resampled, y_train_resampled)):\n",
    "        print('processing fold', j)\n",
    "        \n",
    "        partial_train_data = X_train_resampled[train_index]\n",
    "        val_data = X_train_resampled[val_index]\n",
    "        \n",
    "        partial_train_targets = y_train_resampled[train_index]\n",
    "        val_targets = y_train_resampled[val_index]\n",
    "        \n",
    "        # One-hot encode the target labels\n",
    "        partial_train_targets = to_categorical(partial_train_targets, num_classes=16)\n",
    "        val_targets = to_categorical(val_targets, num_classes=16)\n",
    "        \n",
    "        # Train the model \n",
    "        lstm_model_2.compile(loss=\"categorical_crossentropy\", optimizer=\"adam\", metrics=[\"accuracy\"])\n",
    "        results_4 = lstm_model_2.fit(partial_train_data, partial_train_targets, epochs=num_epochs, batch_size=10, verbose=2, validation_data = (val_data, val_targets))\n",
    "        \n",
    "        # Evaluate the model on the validation data: loss and accuracy \n",
    "        val_loss, val_acc = lstm_model_2.evaluate(val_data, val_targets, verbose=0)\n",
    "        all_val_acc_4.append(val_acc)\n",
    "        all_val_loss_4.append(val_loss)\n",
    "        \n",
    "        acc = results_4.history['accuracy']\n",
    "        all_acc_4.append(acc)\n",
    "        acc_history = results_4.history['val_accuracy']\n",
    "        all_acc_history_4.append(acc_history)\n",
    "        \n",
    "        loss = results_4.history['loss']\n",
    "        all_loss_4.append(loss)\n",
    "        loss_history = results_4.history['val_loss']\n",
    "        all_loss_history_4.append(loss_history)"
   ]
  },
  {
   "cell_type": "code",
   "execution_count": 94,
   "id": "b4cbc4c7",
   "metadata": {},
   "outputs": [
    {
     "data": {
      "image/png": "[encoded data removed]",
      "text/plain": [
       "<Figure size 432x288 with 1 Axes>"
      ]
     },
     "metadata": {
      "needs_background": "light"
     },
     "output_type": "display_data"
    }
   ],
   "source": [
    "plot_loss(all_loss_4, all_loss_history_4)"
   ]
  },
  {
   "cell_type": "code",
   "execution_count": 95,
   "id": "22cde37d",
   "metadata": {},
   "outputs": [
    {
     "data": {
      "image/png": "[encoded data removed]",
      "text/plain": [
       "<Figure size 432x288 with 1 Axes>"
      ]
     },
     "metadata": {
      "needs_background": "light"
     },
     "output_type": "display_data"
    }
   ],
   "source": [
    "plot_acc(all_acc_4, all_acc_history_4)"
   ]
  },
  {
   "cell_type": "code",
   "execution_count": 96,
   "id": "7a63c8f7",
   "metadata": {},
   "outputs": [
    {
     "name": "stdout",
     "output_type": "stream",
     "text": [
      "Average Loss: 0.9011976100504399\n",
      "Average Accuracy: 0.7035024292767048\n"
     ]
    }
   ],
   "source": [
    "print(\"Average Loss:\", np.mean(all_val_loss_4))\n",
    "print(\"Average Accuracy:\", np.mean(all_val_acc_4))"
   ]
  },
  {
   "cell_type": "markdown",
   "id": "32406334",
   "metadata": {},
   "source": [
    "The average accuracy for Dropout=0.07 (0.704) is smaller than that of Dropout=0.1(0.826).\n",
    "\n",
    "The average loss of the former (0.901) is greater than the latter (0.525).\n",
    "\n",
    "However, from the plotted graphs, we can observe that we have achieved a model with a better fit where the training and validation curves are close to one another without overfitting when Dropout rate was lowered to 0.07.\n",
    "\n",
    "Hence, we can conclude that a smaller dropout values, dropout=0.07, is better than dropout=0.1 as the former is able to generalise better to unseen data."
   ]
  },
  {
   "cell_type": "markdown",
   "id": "32112c97",
   "metadata": {},
   "source": [
    "### 2. L1/L2 Regularizers + Batch Normalization \n",
    "\n",
    "To accelerate the training, we will be adding batch normalization layers after each layer of the neural network. Batch Normalization normalizes and adds noise to the activations of the previous layer, which helps prevent overfitting and makes training more robust."
   ]
  },
  {
   "cell_type": "markdown",
   "id": "744142ab",
   "metadata": {},
   "source": [
    "#### Build the Model with L1/L2 Regularizers = 0.01"
   ]
  },
  {
   "cell_type": "code",
   "execution_count": 108,
   "id": "3c9e77e9",
   "metadata": {},
   "outputs": [
    {
     "name": "stdout",
     "output_type": "stream",
     "text": [
      "Model: \"sequential_25\"\n",
      "_________________________________________________________________\n",
      " Layer (type)                Output Shape              Param #   \n",
      "=================================================================\n",
      " embedding_25 (Embedding)    (None, 40, 50)            125000    \n",
      "                                                                 \n",
      " batch_normalization_18 (Bat  (None, 40, 50)           200       \n",
      " chNormalization)                                                \n",
      "                                                                 \n",
      " lstm_55 (LSTM)              (None, 40, 128)           91648     \n",
      "                                                                 \n",
      " batch_normalization_19 (Bat  (None, 40, 128)          512       \n",
      " chNormalization)                                                \n",
      "                                                                 \n",
      " lstm_56 (LSTM)              (None, 64)                49408     \n",
      "                                                                 \n",
      " batch_normalization_20 (Bat  (None, 64)               256       \n",
      " chNormalization)                                                \n",
      "                                                                 \n",
      " dense_45 (Dense)            (None, 64)                4160      \n",
      "                                                                 \n",
      " batch_normalization_21 (Bat  (None, 64)               256       \n",
      " chNormalization)                                                \n",
      "                                                                 \n",
      " dense_46 (Dense)            (None, 16)                1040      \n",
      "                                                                 \n",
      "=================================================================\n",
      "Total params: 272,480\n",
      "Trainable params: 271,868\n",
      "Non-trainable params: 612\n",
      "_________________________________________________________________\n",
      "None\n"
     ]
    }
   ],
   "source": [
    "from keras.layers import BatchNormalization\n",
    "from keras import regularizers\n",
    "from keras.regularizers import l1_l2\n",
    "\n",
    "\n",
    "# Initialising the model \n",
    "lstm_model_5 = Sequential()\n",
    "\n",
    "# Defining model: add layers \n",
    "lstm_model_5.add(Embedding(\n",
    "    max_words,\n",
    "    EMBEDDING_VECTOR_LENGTH,\n",
    "    input_length=max_len,\n",
    "    weights=[embedding_matrix],\n",
    "    trainable=True,\n",
    ")) #glove embedding\n",
    "\n",
    "lstm_model_5.add(BatchNormalization()) # BatchNormalization layer \n",
    "lstm_model_5.add(LSTM(128, input_shape=(max_len, EMBEDDING_VECTOR_LENGTH), return_sequences=True)) #LSTM layer\n",
    "lstm_model_5.add(BatchNormalization())\n",
    "lstm_model_5.add(LSTM(64, kernel_regularizer=regularizers.l1_l2(l1=0.01, l2=0.01)))\n",
    "lstm_model_5.add(BatchNormalization())\n",
    "lstm_model_5.add(Dense(64, activation='relu', kernel_regularizer=regularizers.l1_l2(l1=0.01, l2=0.01))) \n",
    "lstm_model_5.add(BatchNormalization())\n",
    "lstm_model_5.add(Dense(16, activation='softmax')) #dense layer - the last one\n",
    "\n",
    "# Compile model\n",
    "lstm_model_5.compile(loss=\"categorical_crossentropy\", optimizer=\"adam\", metrics=[\"accuracy\"])\n",
    "\n",
    "print(lstm_model_5.summary())"
   ]
  },
  {
   "cell_type": "markdown",
   "id": "ff2979d4",
   "metadata": {},
   "source": [
    "#### Train the Model with L1/L2 Regularizers = 0.01"
   ]
  },
  {
   "cell_type": "code",
   "execution_count": 109,
   "id": "d57344e0",
   "metadata": {},
   "outputs": [
    {
     "name": "stdout",
     "output_type": "stream",
     "text": [
      "processing fold 0\n",
      "Epoch 1/5\n",
      "1877/1877 - 91s - loss: 5.8297 - accuracy: 0.0709 - val_loss: 3.5562 - val_accuracy: 0.0693 - 91s/epoch - 48ms/step\n",
      "Epoch 2/5\n",
      "1877/1877 - 58s - loss: 3.1224 - accuracy: 0.0774 - val_loss: 2.8359 - val_accuracy: 0.0944 - 58s/epoch - 31ms/step\n",
      "Epoch 3/5\n",
      "1877/1877 - 65s - loss: 2.7609 - accuracy: 0.1049 - val_loss: 2.9251 - val_accuracy: 0.0840 - 65s/epoch - 35ms/step\n",
      "Epoch 4/5\n",
      "1877/1877 - 56s - loss: 2.7685 - accuracy: 0.1107 - val_loss: 2.7992 - val_accuracy: 0.1093 - 56s/epoch - 30ms/step\n",
      "Epoch 5/5\n",
      "1877/1877 - 60s - loss: 2.6877 - accuracy: 0.1190 - val_loss: 2.7784 - val_accuracy: 0.1083 - 60s/epoch - 32ms/step\n",
      "processing fold 1\n",
      "Epoch 1/5\n",
      "1877/1877 - 63s - loss: 2.6675 - accuracy: 0.1186 - val_loss: 2.6199 - val_accuracy: 0.1264 - 63s/epoch - 34ms/step\n",
      "Epoch 2/5\n",
      "1877/1877 - 56s - loss: 2.6293 - accuracy: 0.1258 - val_loss: 2.7296 - val_accuracy: 0.1277 - 56s/epoch - 30ms/step\n",
      "Epoch 3/5\n",
      "1877/1877 - 56s - loss: 2.6235 - accuracy: 0.1325 - val_loss: 2.6337 - val_accuracy: 0.1373 - 56s/epoch - 30ms/step\n",
      "Epoch 4/5\n",
      "1877/1877 - 56s - loss: 2.5365 - accuracy: 0.1402 - val_loss: 2.6496 - val_accuracy: 0.1200 - 56s/epoch - 30ms/step\n",
      "Epoch 5/5\n",
      "1877/1877 - 56s - loss: 2.4734 - accuracy: 0.1556 - val_loss: 2.7940 - val_accuracy: 0.1258 - 56s/epoch - 30ms/step\n",
      "processing fold 2\n",
      "Epoch 1/5\n",
      "1877/1877 - 77s - loss: 2.5038 - accuracy: 0.1565 - val_loss: 2.4086 - val_accuracy: 0.1859 - 77s/epoch - 41ms/step\n",
      "Epoch 2/5\n",
      "1877/1877 - 57s - loss: 2.4300 - accuracy: 0.1712 - val_loss: 2.4016 - val_accuracy: 0.1735 - 57s/epoch - 30ms/step\n",
      "Epoch 3/5\n",
      "1877/1877 - 57s - loss: 2.3474 - accuracy: 0.1894 - val_loss: 2.4258 - val_accuracy: 0.1641 - 57s/epoch - 30ms/step\n",
      "Epoch 4/5\n",
      "1877/1877 - 57s - loss: 2.2674 - accuracy: 0.2120 - val_loss: 2.5108 - val_accuracy: 0.1511 - 57s/epoch - 31ms/step\n",
      "Epoch 5/5\n",
      "1877/1877 - 59s - loss: 2.1896 - accuracy: 0.2344 - val_loss: 2.5705 - val_accuracy: 0.1401 - 59s/epoch - 31ms/step\n",
      "processing fold 3\n",
      "Epoch 1/5\n",
      "1877/1877 - 63s - loss: 2.2657 - accuracy: 0.2177 - val_loss: 2.0576 - val_accuracy: 0.2816 - 63s/epoch - 34ms/step\n",
      "Epoch 2/5\n",
      "1877/1877 - 57s - loss: 2.1606 - accuracy: 0.2442 - val_loss: 2.0985 - val_accuracy: 0.2556 - 57s/epoch - 30ms/step\n",
      "Epoch 3/5\n",
      "1877/1877 - 56s - loss: 2.0894 - accuracy: 0.2660 - val_loss: 2.2083 - val_accuracy: 0.2324 - 56s/epoch - 30ms/step\n",
      "Epoch 4/5\n",
      "1877/1877 - 56s - loss: 2.0118 - accuracy: 0.2854 - val_loss: 2.2725 - val_accuracy: 0.2042 - 56s/epoch - 30ms/step\n",
      "Epoch 5/5\n",
      "1877/1877 - 59s - loss: 1.9436 - accuracy: 0.3076 - val_loss: 2.3913 - val_accuracy: 0.2046 - 59s/epoch - 31ms/step\n",
      "processing fold 4\n",
      "Epoch 1/5\n",
      "1877/1877 - 64s - loss: 2.0427 - accuracy: 0.2807 - val_loss: 1.7986 - val_accuracy: 0.3652 - 64s/epoch - 34ms/step\n",
      "Epoch 2/5\n",
      "1877/1877 - 56s - loss: 1.9240 - accuracy: 0.3171 - val_loss: 1.8582 - val_accuracy: 0.3311 - 56s/epoch - 30ms/step\n",
      "Epoch 3/5\n",
      "1877/1877 - 59s - loss: 1.8466 - accuracy: 0.3379 - val_loss: 1.8855 - val_accuracy: 0.3294 - 59s/epoch - 32ms/step\n",
      "Epoch 4/5\n",
      "1877/1877 - 56s - loss: 1.8164 - accuracy: 0.3463 - val_loss: 2.0145 - val_accuracy: 0.2906 - 56s/epoch - 30ms/step\n",
      "Epoch 5/5\n",
      "1877/1877 - 56s - loss: 1.7450 - accuracy: 0.3742 - val_loss: 2.0846 - val_accuracy: 0.2833 - 56s/epoch - 30ms/step\n",
      "processing fold 0\n",
      "Epoch 1/5\n",
      "1877/1877 - 62s - loss: 1.8075 - accuracy: 0.3554 - val_loss: 1.8197 - val_accuracy: 0.3704 - 62s/epoch - 33ms/step\n",
      "Epoch 2/5\n",
      "1877/1877 - 56s - loss: 1.7274 - accuracy: 0.3808 - val_loss: 1.7307 - val_accuracy: 0.3851 - 56s/epoch - 30ms/step\n",
      "Epoch 3/5\n",
      "1877/1877 - 56s - loss: 1.6624 - accuracy: 0.4007 - val_loss: 1.9215 - val_accuracy: 0.3244 - 56s/epoch - 30ms/step\n",
      "Epoch 4/5\n",
      "1877/1877 - 56s - loss: 1.6105 - accuracy: 0.4154 - val_loss: 2.1091 - val_accuracy: 0.3225 - 56s/epoch - 30ms/step\n",
      "Epoch 5/5\n",
      "1877/1877 - 56s - loss: 1.5820 - accuracy: 0.4265 - val_loss: 1.9595 - val_accuracy: 0.3344 - 56s/epoch - 30ms/step\n",
      "processing fold 1\n",
      "Epoch 1/5\n",
      "1877/1877 - 85s - loss: 1.7125 - accuracy: 0.3966 - val_loss: 1.4851 - val_accuracy: 0.4922 - 85s/epoch - 45ms/step\n",
      "Epoch 2/5\n",
      "1877/1877 - 82s - loss: 1.6144 - accuracy: 0.4203 - val_loss: 1.4713 - val_accuracy: 0.4549 - 82s/epoch - 44ms/step\n",
      "Epoch 3/5\n",
      "1877/1877 - 64s - loss: 1.5683 - accuracy: 0.4318 - val_loss: 1.6709 - val_accuracy: 0.4038 - 64s/epoch - 34ms/step\n",
      "Epoch 4/5\n",
      "1877/1877 - 79s - loss: 1.5138 - accuracy: 0.4495 - val_loss: 1.6561 - val_accuracy: 0.4172 - 79s/epoch - 42ms/step\n",
      "Epoch 5/5\n",
      "1877/1877 - 59s - loss: 1.5197 - accuracy: 0.4517 - val_loss: 1.7691 - val_accuracy: 0.3671 - 59s/epoch - 31ms/step\n",
      "processing fold 2\n",
      "Epoch 1/5\n",
      "1877/1877 - 78s - loss: 1.6076 - accuracy: 0.4261 - val_loss: 1.3039 - val_accuracy: 0.5575 - 78s/epoch - 42ms/step\n",
      "Epoch 2/5\n",
      "1877/1877 - 77s - loss: 1.5119 - accuracy: 0.4519 - val_loss: 1.3482 - val_accuracy: 0.5197 - 77s/epoch - 41ms/step\n",
      "Epoch 3/5\n",
      "1877/1877 - 66s - loss: 1.4596 - accuracy: 0.4771 - val_loss: 1.6483 - val_accuracy: 0.4411 - 66s/epoch - 35ms/step\n",
      "Epoch 4/5\n",
      "1877/1877 - 71s - loss: 1.4328 - accuracy: 0.4803 - val_loss: 1.5916 - val_accuracy: 0.4451 - 71s/epoch - 38ms/step\n",
      "Epoch 5/5\n",
      "1877/1877 - 75s - loss: 1.4212 - accuracy: 0.4908 - val_loss: 1.5457 - val_accuracy: 0.4353 - 75s/epoch - 40ms/step\n",
      "processing fold 3\n",
      "Epoch 1/5\n",
      "1877/1877 - 72s - loss: 1.5223 - accuracy: 0.4556 - val_loss: 1.2713 - val_accuracy: 0.5528 - 72s/epoch - 39ms/step\n",
      "Epoch 2/5\n",
      "1877/1877 - 90s - loss: 1.4281 - accuracy: 0.4903 - val_loss: 1.3228 - val_accuracy: 0.5025 - 90s/epoch - 48ms/step\n",
      "Epoch 3/5\n",
      "1877/1877 - 62s - loss: 1.4025 - accuracy: 0.4926 - val_loss: 1.3401 - val_accuracy: 0.5210 - 62s/epoch - 33ms/step\n",
      "Epoch 4/5\n",
      "1877/1877 - 63s - loss: 1.3995 - accuracy: 0.4967 - val_loss: 1.4876 - val_accuracy: 0.4583 - 63s/epoch - 34ms/step\n",
      "Epoch 5/5\n",
      "1877/1877 - 60s - loss: 1.3460 - accuracy: 0.5134 - val_loss: 1.8685 - val_accuracy: 0.3771 - 60s/epoch - 32ms/step\n",
      "processing fold 4\n",
      "Epoch 1/5\n",
      "1877/1877 - 74s - loss: 1.4535 - accuracy: 0.4800 - val_loss: 1.1745 - val_accuracy: 0.5800 - 74s/epoch - 39ms/step\n",
      "Epoch 2/5\n",
      "1877/1877 - 69s - loss: 1.3684 - accuracy: 0.5083 - val_loss: 1.1875 - val_accuracy: 0.5615 - 69s/epoch - 37ms/step\n",
      "Epoch 3/5\n",
      "1877/1877 - 79s - loss: 1.3266 - accuracy: 0.5159 - val_loss: 1.2473 - val_accuracy: 0.5519 - 79s/epoch - 42ms/step\n",
      "Epoch 4/5\n",
      "1877/1877 - 86s - loss: 1.3247 - accuracy: 0.5235 - val_loss: 1.3953 - val_accuracy: 0.4980 - 86s/epoch - 46ms/step\n",
      "Epoch 5/5\n",
      "1877/1877 - 85s - loss: 1.3516 - accuracy: 0.5213 - val_loss: 1.3705 - val_accuracy: 0.4995 - 85s/epoch - 45ms/step\n",
      "processing fold 0\n",
      "Epoch 1/5\n",
      "1877/1877 - 93s - loss: 1.3759 - accuracy: 0.5070 - val_loss: 1.2524 - val_accuracy: 0.5752 - 93s/epoch - 49ms/step\n",
      "Epoch 2/5\n",
      "1877/1877 - 67s - loss: 1.3055 - accuracy: 0.5293 - val_loss: 1.3372 - val_accuracy: 0.4964 - 67s/epoch - 36ms/step\n",
      "Epoch 3/5\n",
      "1877/1877 - 70s - loss: 1.2952 - accuracy: 0.5363 - val_loss: 1.4821 - val_accuracy: 0.4840 - 70s/epoch - 37ms/step\n",
      "Epoch 4/5\n",
      "1877/1877 - 73s - loss: 1.3030 - accuracy: 0.5333 - val_loss: 1.4323 - val_accuracy: 0.4921 - 73s/epoch - 39ms/step\n",
      "Epoch 5/5\n",
      "1877/1877 - 76s - loss: 1.2598 - accuracy: 0.5466 - val_loss: 1.4665 - val_accuracy: 0.4763 - 76s/epoch - 41ms/step\n",
      "processing fold 1\n",
      "Epoch 1/5\n",
      "1877/1877 - 87s - loss: 1.3814 - accuracy: 0.5089 - val_loss: 1.2565 - val_accuracy: 0.5444 - 87s/epoch - 47ms/step\n",
      "Epoch 2/5\n",
      "1877/1877 - 86s - loss: 1.3093 - accuracy: 0.5246 - val_loss: 1.2229 - val_accuracy: 0.5438 - 86s/epoch - 46ms/step\n",
      "Epoch 3/5\n",
      "1877/1877 - 66s - loss: 1.2833 - accuracy: 0.5462 - val_loss: 1.2172 - val_accuracy: 0.5809 - 66s/epoch - 35ms/step\n",
      "Epoch 4/5\n",
      "1877/1877 - 74s - loss: 1.2845 - accuracy: 0.5445 - val_loss: 1.2753 - val_accuracy: 0.5583 - 74s/epoch - 39ms/step\n",
      "Epoch 5/5\n",
      "1877/1877 - 86s - loss: 1.2486 - accuracy: 0.5622 - val_loss: 1.3807 - val_accuracy: 0.5195 - 86s/epoch - 46ms/step\n",
      "processing fold 2\n",
      "Epoch 1/5\n",
      "1877/1877 - 70s - loss: 1.3535 - accuracy: 0.5261 - val_loss: 1.1254 - val_accuracy: 0.5926 - 70s/epoch - 37ms/step\n",
      "Epoch 2/5\n",
      "1877/1877 - 102s - loss: 1.3027 - accuracy: 0.5355 - val_loss: 1.1175 - val_accuracy: 0.5937 - 102s/epoch - 54ms/step\n",
      "Epoch 3/5\n",
      "1877/1877 - 84s - loss: 1.2491 - accuracy: 0.5533 - val_loss: 1.2092 - val_accuracy: 0.5766 - 84s/epoch - 45ms/step\n",
      "Epoch 4/5\n",
      "1877/1877 - 78s - loss: 1.2409 - accuracy: 0.5574 - val_loss: 1.2865 - val_accuracy: 0.5453 - 78s/epoch - 41ms/step\n"
     ]
    },
    {
     "name": "stdout",
     "output_type": "stream",
     "text": [
      "Epoch 5/5\n",
      "1877/1877 - 74s - loss: 1.2375 - accuracy: 0.5585 - val_loss: 1.3978 - val_accuracy: 0.4871 - 74s/epoch - 40ms/step\n",
      "processing fold 3\n",
      "Epoch 1/5\n",
      "1877/1877 - 97s - loss: 1.3214 - accuracy: 0.5365 - val_loss: 1.0378 - val_accuracy: 0.6500 - 97s/epoch - 52ms/step\n",
      "Epoch 2/5\n",
      "1877/1877 - 72s - loss: 1.2445 - accuracy: 0.5571 - val_loss: 1.1053 - val_accuracy: 0.5773 - 72s/epoch - 39ms/step\n",
      "Epoch 3/5\n",
      "1877/1877 - 75s - loss: 1.2359 - accuracy: 0.5631 - val_loss: 1.2073 - val_accuracy: 0.5609 - 75s/epoch - 40ms/step\n",
      "Epoch 4/5\n",
      "1877/1877 - 76s - loss: 1.2206 - accuracy: 0.5692 - val_loss: 1.3172 - val_accuracy: 0.5496 - 76s/epoch - 40ms/step\n",
      "Epoch 5/5\n",
      "1877/1877 - 67s - loss: 1.2144 - accuracy: 0.5703 - val_loss: 1.3215 - val_accuracy: 0.5022 - 67s/epoch - 36ms/step\n",
      "processing fold 4\n",
      "Epoch 1/5\n",
      "1877/1877 - 68s - loss: 1.3074 - accuracy: 0.5425 - val_loss: 1.0118 - val_accuracy: 0.6566 - 68s/epoch - 36ms/step\n",
      "Epoch 2/5\n",
      "1877/1877 - 63s - loss: 1.2135 - accuracy: 0.5761 - val_loss: 0.9915 - val_accuracy: 0.6504 - 63s/epoch - 33ms/step\n",
      "Epoch 3/5\n",
      "1877/1877 - 62s - loss: 1.2028 - accuracy: 0.5789 - val_loss: 1.1273 - val_accuracy: 0.6182 - 62s/epoch - 33ms/step\n",
      "Epoch 4/5\n",
      "1877/1877 - 63s - loss: 1.1911 - accuracy: 0.5821 - val_loss: 1.1550 - val_accuracy: 0.5911 - 63s/epoch - 33ms/step\n",
      "Epoch 5/5\n",
      "1877/1877 - 62s - loss: 1.1756 - accuracy: 0.5811 - val_loss: 1.2301 - val_accuracy: 0.5361 - 62s/epoch - 33ms/step\n",
      "processing fold 0\n",
      "Epoch 1/5\n",
      "1877/1877 - 67s - loss: 1.2369 - accuracy: 0.5669 - val_loss: 1.1264 - val_accuracy: 0.5757 - 67s/epoch - 36ms/step\n",
      "Epoch 2/5\n",
      "1877/1877 - 61s - loss: 1.1944 - accuracy: 0.5782 - val_loss: 1.0614 - val_accuracy: 0.6275 - 61s/epoch - 33ms/step\n",
      "Epoch 3/5\n",
      "1877/1877 - 62s - loss: 1.1678 - accuracy: 0.5865 - val_loss: 1.1387 - val_accuracy: 0.6044 - 62s/epoch - 33ms/step\n",
      "Epoch 4/5\n",
      "1877/1877 - 61s - loss: 1.1789 - accuracy: 0.5900 - val_loss: 1.2615 - val_accuracy: 0.5550 - 61s/epoch - 33ms/step\n",
      "Epoch 5/5\n",
      "1877/1877 - 183s - loss: 1.1587 - accuracy: 0.5910 - val_loss: 1.2828 - val_accuracy: 0.5554 - 183s/epoch - 98ms/step\n",
      "processing fold 1\n",
      "Epoch 1/5\n",
      "1877/1877 - 81s - loss: 1.2567 - accuracy: 0.5558 - val_loss: 1.1058 - val_accuracy: 0.5653 - 81s/epoch - 43ms/step\n",
      "Epoch 2/5\n",
      "1877/1877 - 58s - loss: 1.1877 - accuracy: 0.5850 - val_loss: 1.0393 - val_accuracy: 0.6389 - 58s/epoch - 31ms/step\n",
      "Epoch 3/5\n",
      "1877/1877 - 57s - loss: 1.1586 - accuracy: 0.5964 - val_loss: 1.2791 - val_accuracy: 0.5602 - 57s/epoch - 30ms/step\n",
      "Epoch 4/5\n",
      "1877/1877 - 63s - loss: 1.1448 - accuracy: 0.6011 - val_loss: 1.1045 - val_accuracy: 0.6080 - 63s/epoch - 33ms/step\n",
      "Epoch 5/5\n",
      "1877/1877 - 68s - loss: 1.1435 - accuracy: 0.5979 - val_loss: 1.1802 - val_accuracy: 0.5730 - 68s/epoch - 36ms/step\n",
      "processing fold 2\n",
      "Epoch 1/5\n",
      "1877/1877 - 76s - loss: 1.2237 - accuracy: 0.5748 - val_loss: 0.9884 - val_accuracy: 0.6455 - 76s/epoch - 41ms/step\n",
      "Epoch 2/5\n",
      "1877/1877 - 63s - loss: 1.1642 - accuracy: 0.5886 - val_loss: 1.0398 - val_accuracy: 0.6323 - 63s/epoch - 33ms/step\n",
      "Epoch 3/5\n",
      "1877/1877 - 68s - loss: 1.1481 - accuracy: 0.5991 - val_loss: 1.1157 - val_accuracy: 0.5980 - 68s/epoch - 36ms/step\n",
      "Epoch 4/5\n",
      "1877/1877 - 67s - loss: 1.1369 - accuracy: 0.6062 - val_loss: 1.1738 - val_accuracy: 0.5990 - 67s/epoch - 36ms/step\n",
      "Epoch 5/5\n",
      "1877/1877 - 65s - loss: 1.1283 - accuracy: 0.6029 - val_loss: 1.1451 - val_accuracy: 0.5852 - 65s/epoch - 34ms/step\n",
      "processing fold 3\n",
      "Epoch 1/5\n",
      "1877/1877 - 67s - loss: 1.2180 - accuracy: 0.5728 - val_loss: 0.9887 - val_accuracy: 0.6391 - 67s/epoch - 36ms/step\n",
      "Epoch 2/5\n",
      "1877/1877 - 59s - loss: 1.1400 - accuracy: 0.6051 - val_loss: 0.8911 - val_accuracy: 0.6956 - 59s/epoch - 31ms/step\n",
      "Epoch 3/5\n",
      "1877/1877 - 59s - loss: 1.1158 - accuracy: 0.6099 - val_loss: 0.9851 - val_accuracy: 0.6657 - 59s/epoch - 32ms/step\n",
      "Epoch 4/5\n",
      "1877/1877 - 58s - loss: 1.1321 - accuracy: 0.6017 - val_loss: 1.2763 - val_accuracy: 0.5112 - 58s/epoch - 31ms/step\n",
      "Epoch 5/5\n",
      "1877/1877 - 58s - loss: 1.1176 - accuracy: 0.6127 - val_loss: 1.1742 - val_accuracy: 0.5694 - 58s/epoch - 31ms/step\n",
      "processing fold 4\n",
      "Epoch 1/5\n",
      "1877/1877 - 82s - loss: 1.1870 - accuracy: 0.5847 - val_loss: 0.8801 - val_accuracy: 0.7118 - 82s/epoch - 43ms/step\n",
      "Epoch 2/5\n",
      "1877/1877 - 58s - loss: 1.1375 - accuracy: 0.6028 - val_loss: 1.0312 - val_accuracy: 0.6425 - 58s/epoch - 31ms/step\n",
      "Epoch 3/5\n",
      "1877/1877 - 62s - loss: 1.1140 - accuracy: 0.6194 - val_loss: 1.0575 - val_accuracy: 0.6272 - 62s/epoch - 33ms/step\n",
      "Epoch 4/5\n",
      "1877/1877 - 59s - loss: 1.1228 - accuracy: 0.6104 - val_loss: 1.1019 - val_accuracy: 0.6118 - 59s/epoch - 32ms/step\n",
      "Epoch 5/5\n",
      "1877/1877 - 59s - loss: 1.1103 - accuracy: 0.6133 - val_loss: 1.0834 - val_accuracy: 0.6250 - 59s/epoch - 32ms/step\n"
     ]
    }
   ],
   "source": [
    "import numpy as np \n",
    "from sklearn.model_selection import StratifiedKFold\n",
    "from sklearn.metrics import mean_absolute_error\n",
    "\n",
    "K=4\n",
    "num_val_samples = len(X_train_resampled)//K\n",
    "num_epochs = 5\n",
    "\n",
    "all_val_acc_7 = []\n",
    "all_val_loss_7 = []\n",
    "\n",
    "all_acc_7 = []\n",
    "all_loss_7 = []\n",
    "all_acc_history_7 = []\n",
    "all_loss_history_7 = []\n",
    "\n",
    "N_iterations=4\n",
    "N_folds=5\n",
    "        \n",
    "for i in range(N_iterations):\n",
    "    skf = StratifiedKFold(n_splits=N_folds, shuffle=True)\n",
    "    \n",
    "    for j, (train_index, val_index) in enumerate(skf.split(X_train_resampled, y_train_resampled)):\n",
    "        print('processing fold', j)\n",
    "        \n",
    "        partial_train_data = X_train_resampled[train_index]\n",
    "        val_data = X_train_resampled[val_index]\n",
    "        \n",
    "        partial_train_targets = y_train_resampled[train_index]\n",
    "        val_targets = y_train_resampled[val_index]\n",
    "        \n",
    "        # One-hot encode the target labels\n",
    "        partial_train_targets = to_categorical(partial_train_targets, num_classes=16)\n",
    "        val_targets = to_categorical(val_targets, num_classes=16)\n",
    "        \n",
    "        # Train the model \n",
    "        lstm_model_5.compile(loss=\"categorical_crossentropy\", optimizer=\"adam\", metrics=[\"accuracy\"])\n",
    "        results_7 = lstm_model_5.fit(partial_train_data, partial_train_targets, epochs=num_epochs, batch_size=10, verbose=2, validation_data = (val_data, val_targets))\n",
    "        \n",
    "        # Evaluate the model on the validation data: loss and accuracy \n",
    "        val_loss, val_acc = lstm_model_5.evaluate(val_data, val_targets, verbose=0)\n",
    "        all_val_acc_7.append(val_acc)\n",
    "        all_val_loss_7.append(val_loss)\n",
    "        \n",
    "        acc = results_7.history['accuracy']\n",
    "        all_acc_7.append(acc)\n",
    "        acc_history = results_7.history['val_accuracy']\n",
    "        all_acc_history_7.append(acc_history)\n",
    "        \n",
    "        loss = results_7.history['loss']\n",
    "        all_loss_7.append(loss)\n",
    "        loss_history = results_7.history['val_loss']\n",
    "        all_loss_history_7.append(loss_history)"
   ]
  },
  {
   "cell_type": "code",
   "execution_count": 110,
   "id": "b7dc62d8",
   "metadata": {},
   "outputs": [
    {
     "data": {
      "image/png": "[encoded data removed]",
      "text/plain": [
       "<Figure size 432x288 with 1 Axes>"
      ]
     },
     "metadata": {
      "needs_background": "light"
     },
     "output_type": "display_data"
    }
   ],
   "source": [
    "plot_loss(all_loss_7, all_loss_history_7)"
   ]
  },
  {
   "cell_type": "code",
   "execution_count": 111,
   "id": "1c7eab61",
   "metadata": {},
   "outputs": [
    {
     "data": {
      "image/png": "[encoded data removed]",
      "text/plain": [
       "<Figure size 432x288 with 1 Axes>"
      ]
     },
     "metadata": {
      "needs_background": "light"
     },
     "output_type": "display_data"
    }
   ],
   "source": [
    "plot_acc(all_acc_7, all_acc_history_7)"
   ]
  },
  {
   "cell_type": "code",
   "execution_count": 112,
   "id": "1f60b682",
   "metadata": {},
   "outputs": [
    {
     "name": "stdout",
     "output_type": "stream",
     "text": [
      "Average Loss: 1.6897206604480743\n",
      "Average Accuracy: 0.415236896276474\n"
     ]
    }
   ],
   "source": [
    "print(\"Average Loss:\", np.mean(all_val_loss_7))\n",
    "print(\"Average Accuracy:\", np.mean(all_val_acc_7))"
   ]
  },
  {
   "cell_type": "markdown",
   "id": "7d4b5b35",
   "metadata": {},
   "source": [
    "  compare between regularisers "
   ]
  },
  {
   "cell_type": "markdown",
   "id": "28a91723",
   "metadata": {},
   "source": [
    "#### Build the Model with L1/L2 Regularizers = 0.02"
   ]
  },
  {
   "cell_type": "code",
   "execution_count": null,
   "id": "72d3e9eb",
   "metadata": {},
   "outputs": [],
   "source": [
    "# from keras.layers import BatchNormalization\n",
    "# from keras import regularizers\n",
    "# from keras.regularizers import l1_l2\n",
    "\n",
    "\n",
    "# # Initialising the model \n",
    "# lstm_model_6 = Sequential()\n",
    "\n",
    "# # Defining model: add layers \n",
    "# lstm_model_6.add(Embedding(\n",
    "#     max_words,\n",
    "#     EMBEDDING_VECTOR_LENGTH,\n",
    "#     input_length=max_len,\n",
    "#     weights=[embedding_matrix],\n",
    "#     trainable=True,\n",
    "# )) #glove embedding\n",
    "\n",
    "# lstm_model_6.add(BatchNormalization()) # BatchNormalization layer \n",
    "# lstm_model_6.add(LSTM(128, input_shape=(max_len, EMBEDDING_VECTOR_LENGTH), return_sequences=True)) #LSTM layer\n",
    "# lstm_model_6.add(BatchNormalization())\n",
    "# lstm_model_6.add(LSTM(64, kernel_regularizer=regularizers.l1_l2(l1=0.01, l2=0.01)))\n",
    "# lstm_model_6.add(BatchNormalization())\n",
    "# lstm_model_6.add(Dense(64, activation='relu', kernel_regularizer=regularizers.l1_l2(l1=0.01, l2=0.01))) \n",
    "# lstm_model_6.add(BatchNormalization())\n",
    "# lstm_model_6.add(Dense(16, activation='softmax')) #dense layer - the last one\n",
    "\n",
    "# # Compile model\n",
    "# lstm_model_6.compile(loss=\"categorical_crossentropy\", optimizer=\"adam\", metrics=[\"accuracy\"])\n",
    "\n",
    "# print(lstm_model_6.summary())"
   ]
  },
  {
   "cell_type": "markdown",
   "id": "5bb66628",
   "metadata": {},
   "source": [
    "# Final LSTM Model\n",
    "\n",
    "Now that we have explored 3 different regularization methods - Dropout, L1/L2 Regularizers and Batch Normalisation and also determined the most optimal hyperparameter settings, we will develop our final model. \n",
    "\n",
    "The final model will first be trained with a partial training set before being trained on the complete set."
   ]
  },
  {
   "cell_type": "markdown",
   "id": "0c6927bd",
   "metadata": {},
   "source": [
    "#### Building the final LSTM Model"
   ]
  },
  {
   "cell_type": "code",
   "execution_count": 115,
   "id": "2f4fca73",
   "metadata": {},
   "outputs": [
    {
     "name": "stdout",
     "output_type": "stream",
     "text": [
      "Model: \"sequential_27\"\n",
      "_________________________________________________________________\n",
      " Layer (type)                Output Shape              Param #   \n",
      "=================================================================\n",
      " embedding_27 (Embedding)    (None, 40, 50)            125000    \n",
      "                                                                 \n",
      " batch_normalization_26 (Bat  (None, 40, 50)           200       \n",
      " chNormalization)                                                \n",
      "                                                                 \n",
      " lstm_59 (LSTM)              (None, 40, 128)           91648     \n",
      "                                                                 \n",
      " batch_normalization_27 (Bat  (None, 40, 128)          512       \n",
      " chNormalization)                                                \n",
      "                                                                 \n",
      " dropout_6 (Dropout)         (None, 40, 128)           0         \n",
      "                                                                 \n",
      " lstm_60 (LSTM)              (None, 64)                49408     \n",
      "                                                                 \n",
      " batch_normalization_28 (Bat  (None, 64)               256       \n",
      " chNormalization)                                                \n",
      "                                                                 \n",
      " dropout_7 (Dropout)         (None, 64)                0         \n",
      "                                                                 \n",
      " dense_49 (Dense)            (None, 64)                4160      \n",
      "                                                                 \n",
      " batch_normalization_29 (Bat  (None, 64)               256       \n",
      " chNormalization)                                                \n",
      "                                                                 \n",
      " dense_50 (Dense)            (None, 16)                1040      \n",
      "                                                                 \n",
      "=================================================================\n",
      "Total params: 272,480\n",
      "Trainable params: 271,868\n",
      "Non-trainable params: 612\n",
      "_________________________________________________________________\n",
      "None\n"
     ]
    }
   ],
   "source": [
    "from tensorflow.keras.layers import Dropout, BatchNormalization\n",
    "\n",
    "# Initialising the model \n",
    "final_lstm_model = Sequential()\n",
    "\n",
    "# Defining model: add layers \n",
    "final_lstm_model.add(Embedding(\n",
    "    max_words,\n",
    "    EMBEDDING_VECTOR_LENGTH,\n",
    "    input_length=max_len,\n",
    "    weights=[embedding_matrix],\n",
    "    trainable=True,\n",
    ")) #glove embedding\n",
    "\n",
    "final_lstm_model.add(BatchNormalization()) # BatchNormalization layer \n",
    "final_lstm_model.add(LSTM(128, input_shape=(max_len, EMBEDDING_VECTOR_LENGTH), return_sequences=True)) #LSTM layer\n",
    "final_lstm_model.add(BatchNormalization())\n",
    "final_lstm_model.add(Dropout(0.07))\n",
    "final_lstm_model.add(LSTM(64, kernel_regularizer=regularizers.l1_l2(l1=0.02, l2=0.02))) # Additional dense layer\n",
    "final_lstm_model.add(BatchNormalization())\n",
    "final_lstm_model.add(Dropout(0.07))\n",
    "final_lstm_model.add(Dense(64, activation='relu', kernel_regularizer=regularizers.l1_l2(l1=0.02, l2=0.02))) # Additional dense layer\n",
    "final_lstm_model.add(BatchNormalization())\n",
    "final_lstm_model.add(Dense(16, activation='softmax')) #dense layer - the last one\n",
    "\n",
    "# Compile model\n",
    "final_lstm_model.compile(loss=\"categorical_crossentropy\", optimizer=\"adam\", metrics=[\"accuracy\"])\n",
    "\n",
    "print(final_lstm_model.summary())"
   ]
  },
  {
   "cell_type": "markdown",
   "id": "14effd0d",
   "metadata": {},
   "source": [
    "#### Training the final LSTM Model"
   ]
  },
  {
   "cell_type": "code",
   "execution_count": 116,
   "id": "a5435681",
   "metadata": {},
   "outputs": [
    {
     "name": "stdout",
     "output_type": "stream",
     "text": [
      "processing fold 0\n",
      "Epoch 1/5\n",
      "1877/1877 - 87s - loss: 6.7133 - accuracy: 0.0763 - val_loss: 3.0218 - val_accuracy: 0.0733 - 87s/epoch - 46ms/step\n",
      "Epoch 2/5\n",
      "1877/1877 - 60s - loss: 2.8466 - accuracy: 0.1013 - val_loss: 3.2854 - val_accuracy: 0.0752 - 60s/epoch - 32ms/step\n",
      "Epoch 3/5\n",
      "1877/1877 - 59s - loss: 2.8394 - accuracy: 0.1088 - val_loss: 2.8869 - val_accuracy: 0.1098 - 59s/epoch - 32ms/step\n",
      "Epoch 4/5\n",
      "1877/1877 - 59s - loss: 2.7826 - accuracy: 0.1138 - val_loss: 2.8215 - val_accuracy: 0.1123 - 59s/epoch - 32ms/step\n",
      "Epoch 5/5\n",
      "1877/1877 - 60s - loss: 2.7456 - accuracy: 0.1183 - val_loss: 2.8485 - val_accuracy: 0.1191 - 60s/epoch - 32ms/step\n",
      "processing fold 1\n",
      "Epoch 1/5\n",
      "1877/1877 - 69s - loss: 2.7354 - accuracy: 0.1202 - val_loss: 2.6623 - val_accuracy: 0.1356 - 69s/epoch - 37ms/step\n",
      "Epoch 2/5\n",
      "1877/1877 - 60s - loss: 2.6887 - accuracy: 0.1264 - val_loss: 2.6707 - val_accuracy: 0.1328 - 60s/epoch - 32ms/step\n",
      "Epoch 3/5\n",
      "1877/1877 - 60s - loss: 2.6623 - accuracy: 0.1295 - val_loss: 2.6786 - val_accuracy: 0.1296 - 60s/epoch - 32ms/step\n",
      "Epoch 4/5\n",
      "1877/1877 - 60s - loss: 2.6129 - accuracy: 0.1363 - val_loss: 2.6899 - val_accuracy: 0.1285 - 60s/epoch - 32ms/step\n",
      "Epoch 5/5\n",
      "1877/1877 - 61s - loss: 2.5786 - accuracy: 0.1436 - val_loss: 2.6924 - val_accuracy: 0.1226 - 61s/epoch - 32ms/step\n",
      "processing fold 2\n",
      "Epoch 1/5\n",
      "1877/1877 - 65s - loss: 2.5971 - accuracy: 0.1427 - val_loss: 2.4832 - val_accuracy: 0.1699 - 65s/epoch - 34ms/step\n",
      "Epoch 2/5\n",
      "1877/1877 - 60s - loss: 2.5377 - accuracy: 0.1536 - val_loss: 2.5331 - val_accuracy: 0.1430 - 60s/epoch - 32ms/step\n",
      "Epoch 3/5\n",
      "1877/1877 - 59s - loss: 2.4858 - accuracy: 0.1622 - val_loss: 2.5173 - val_accuracy: 0.1595 - 59s/epoch - 31ms/step\n",
      "Epoch 4/5\n",
      "1877/1877 - 59s - loss: 2.4291 - accuracy: 0.1712 - val_loss: 2.5471 - val_accuracy: 0.1605 - 59s/epoch - 32ms/step\n",
      "Epoch 5/5\n",
      "1877/1877 - 59s - loss: 2.3926 - accuracy: 0.1832 - val_loss: 2.5735 - val_accuracy: 0.1418 - 59s/epoch - 32ms/step\n",
      "processing fold 3\n",
      "Epoch 1/5\n",
      "1877/1877 - 68s - loss: 2.4346 - accuracy: 0.1834 - val_loss: 2.4192 - val_accuracy: 0.1842 - 68s/epoch - 36ms/step\n",
      "Epoch 2/5\n",
      "1877/1877 - 59s - loss: 2.3610 - accuracy: 0.1941 - val_loss: 2.2429 - val_accuracy: 0.2281 - 59s/epoch - 31ms/step\n",
      "Epoch 3/5\n",
      "1877/1877 - 59s - loss: 2.3008 - accuracy: 0.2099 - val_loss: 2.3032 - val_accuracy: 0.2074 - 59s/epoch - 32ms/step\n",
      "Epoch 4/5\n",
      "1877/1877 - 59s - loss: 2.2498 - accuracy: 0.2195 - val_loss: 2.6158 - val_accuracy: 0.1541 - 59s/epoch - 31ms/step\n",
      "Epoch 5/5\n",
      "1877/1877 - 60s - loss: 2.2028 - accuracy: 0.2326 - val_loss: 2.5151 - val_accuracy: 0.1897 - 60s/epoch - 32ms/step\n",
      "processing fold 4\n",
      "Epoch 1/5\n",
      "1877/1877 - 65s - loss: 2.2496 - accuracy: 0.2262 - val_loss: 2.1315 - val_accuracy: 0.2300 - 65s/epoch - 35ms/step\n",
      "Epoch 2/5\n",
      "1877/1877 - 59s - loss: 2.1649 - accuracy: 0.2392 - val_loss: 2.0906 - val_accuracy: 0.2564 - 59s/epoch - 32ms/step\n",
      "Epoch 3/5\n",
      "1877/1877 - 60s - loss: 2.1114 - accuracy: 0.2533 - val_loss: 2.1208 - val_accuracy: 0.2507 - 60s/epoch - 32ms/step\n",
      "Epoch 4/5\n",
      "1877/1877 - 59s - loss: 2.0600 - accuracy: 0.2678 - val_loss: 2.2745 - val_accuracy: 0.2289 - 59s/epoch - 32ms/step\n",
      "Epoch 5/5\n",
      "1877/1877 - 65s - loss: 2.0245 - accuracy: 0.2769 - val_loss: 2.2734 - val_accuracy: 0.2258 - 65s/epoch - 34ms/step\n",
      "processing fold 0\n",
      "Epoch 1/5\n",
      "1877/1877 - 69s - loss: 2.0545 - accuracy: 0.2740 - val_loss: 1.9810 - val_accuracy: 0.2935 - 69s/epoch - 37ms/step\n",
      "Epoch 2/5\n",
      "1877/1877 - 59s - loss: 2.0001 - accuracy: 0.2845 - val_loss: 1.9841 - val_accuracy: 0.2879 - 59s/epoch - 31ms/step\n",
      "Epoch 3/5\n",
      "1877/1877 - 64s - loss: 1.9367 - accuracy: 0.2993 - val_loss: 2.4500 - val_accuracy: 0.2293 - 64s/epoch - 34ms/step\n",
      "Epoch 4/5\n",
      "1877/1877 - 59s - loss: 1.9070 - accuracy: 0.3118 - val_loss: 2.2388 - val_accuracy: 0.2570 - 59s/epoch - 32ms/step\n",
      "Epoch 5/5\n",
      "1877/1877 - 59s - loss: 1.8816 - accuracy: 0.3126 - val_loss: 2.3492 - val_accuracy: 0.2357 - 59s/epoch - 31ms/step\n",
      "processing fold 1\n",
      "Epoch 1/5\n",
      "1877/1877 - 68s - loss: 1.9728 - accuracy: 0.2984 - val_loss: 1.8260 - val_accuracy: 0.3496 - 68s/epoch - 36ms/step\n",
      "Epoch 2/5\n",
      "1877/1877 - 60s - loss: 1.8924 - accuracy: 0.3168 - val_loss: 1.7610 - val_accuracy: 0.3479 - 60s/epoch - 32ms/step\n",
      "Epoch 3/5\n",
      "1877/1877 - 59s - loss: 1.8514 - accuracy: 0.3230 - val_loss: 1.9370 - val_accuracy: 0.3181 - 59s/epoch - 32ms/step\n",
      "Epoch 4/5\n",
      "1877/1877 - 59s - loss: 1.8323 - accuracy: 0.3332 - val_loss: 1.9949 - val_accuracy: 0.3019 - 59s/epoch - 32ms/step\n",
      "Epoch 5/5\n",
      "1877/1877 - 61s - loss: 1.7918 - accuracy: 0.3439 - val_loss: 2.1377 - val_accuracy: 0.2628 - 61s/epoch - 32ms/step\n",
      "processing fold 2\n",
      "Epoch 1/5\n",
      "1877/1877 - 64s - loss: 1.8834 - accuracy: 0.3238 - val_loss: 1.6778 - val_accuracy: 0.3912 - 64s/epoch - 34ms/step\n",
      "Epoch 2/5\n",
      "1877/1877 - 59s - loss: 1.8013 - accuracy: 0.3412 - val_loss: 1.7112 - val_accuracy: 0.3724 - 59s/epoch - 31ms/step\n",
      "Epoch 3/5\n",
      "1877/1877 - 59s - loss: 1.7638 - accuracy: 0.3439 - val_loss: 1.8308 - val_accuracy: 0.3473 - 59s/epoch - 31ms/step\n",
      "Epoch 4/5\n",
      "1877/1877 - 60s - loss: 1.7581 - accuracy: 0.3477 - val_loss: 1.8233 - val_accuracy: 0.3458 - 60s/epoch - 32ms/step\n",
      "Epoch 5/5\n",
      "1877/1877 - 62s - loss: 1.7477 - accuracy: 0.3604 - val_loss: 1.8396 - val_accuracy: 0.3349 - 62s/epoch - 33ms/step\n",
      "processing fold 3\n",
      "Epoch 1/5\n",
      "1877/1877 - 68s - loss: 1.7999 - accuracy: 0.3527 - val_loss: 1.6593 - val_accuracy: 0.3705 - 68s/epoch - 36ms/step\n",
      "Epoch 2/5\n",
      "1877/1877 - 59s - loss: 1.7318 - accuracy: 0.3589 - val_loss: 1.6833 - val_accuracy: 0.3737 - 59s/epoch - 32ms/step\n",
      "Epoch 3/5\n",
      "1877/1877 - 59s - loss: 1.7181 - accuracy: 0.3693 - val_loss: 1.6401 - val_accuracy: 0.3965 - 59s/epoch - 32ms/step\n",
      "Epoch 4/5\n",
      "1877/1877 - 59s - loss: 1.7059 - accuracy: 0.3701 - val_loss: 1.7751 - val_accuracy: 0.3699 - 59s/epoch - 32ms/step\n",
      "Epoch 5/5\n",
      "1877/1877 - 60s - loss: 1.6890 - accuracy: 0.3808 - val_loss: 1.8246 - val_accuracy: 0.3296 - 60s/epoch - 32ms/step\n",
      "processing fold 4\n",
      "Epoch 1/5\n",
      "1877/1877 - 64s - loss: 1.7411 - accuracy: 0.3615 - val_loss: 1.6011 - val_accuracy: 0.4261 - 64s/epoch - 34ms/step\n",
      "Epoch 2/5\n",
      "1877/1877 - 59s - loss: 1.6905 - accuracy: 0.3815 - val_loss: 1.8105 - val_accuracy: 0.3206 - 59s/epoch - 32ms/step\n",
      "Epoch 3/5\n",
      "1877/1877 - 59s - loss: 1.6846 - accuracy: 0.3812 - val_loss: 1.7585 - val_accuracy: 0.3543 - 59s/epoch - 31ms/step\n",
      "Epoch 4/5\n",
      "1877/1877 - 60s - loss: 1.6516 - accuracy: 0.3893 - val_loss: 1.6439 - val_accuracy: 0.4146 - 60s/epoch - 32ms/step\n",
      "Epoch 5/5\n",
      "1877/1877 - 59s - loss: 1.6437 - accuracy: 0.4005 - val_loss: 1.6289 - val_accuracy: 0.4048 - 59s/epoch - 32ms/step\n",
      "processing fold 0\n",
      "Epoch 1/5\n",
      "1877/1877 - 64s - loss: 1.6795 - accuracy: 0.3862 - val_loss: 1.5780 - val_accuracy: 0.4175 - 64s/epoch - 34ms/step\n",
      "Epoch 2/5\n",
      "1877/1877 - 59s - loss: 1.6271 - accuracy: 0.3982 - val_loss: 1.6134 - val_accuracy: 0.4150 - 59s/epoch - 32ms/step\n",
      "Epoch 3/5\n",
      "1877/1877 - 60s - loss: 1.6057 - accuracy: 0.4057 - val_loss: 1.6783 - val_accuracy: 0.4182 - 60s/epoch - 32ms/step\n",
      "Epoch 4/5\n",
      "1877/1877 - 60s - loss: 1.5941 - accuracy: 0.4085 - val_loss: 1.6728 - val_accuracy: 0.4071 - 60s/epoch - 32ms/step\n",
      "Epoch 5/5\n",
      "1877/1877 - 67s - loss: 1.5741 - accuracy: 0.4171 - val_loss: 2.0162 - val_accuracy: 0.3031 - 67s/epoch - 36ms/step\n",
      "processing fold 1\n",
      "Epoch 1/5\n",
      "1877/1877 - 63s - loss: 1.6536 - accuracy: 0.4021 - val_loss: 1.6478 - val_accuracy: 0.3818 - 63s/epoch - 33ms/step\n",
      "Epoch 2/5\n",
      "1877/1877 - 58s - loss: 1.5995 - accuracy: 0.4071 - val_loss: 1.6704 - val_accuracy: 0.3969 - 58s/epoch - 31ms/step\n",
      "Epoch 3/5\n",
      "1877/1877 - 57s - loss: 1.5735 - accuracy: 0.4188 - val_loss: 1.6282 - val_accuracy: 0.4308 - 57s/epoch - 30ms/step\n",
      "Epoch 4/5\n",
      "1877/1877 - 64s - loss: 1.5620 - accuracy: 0.4237 - val_loss: 1.6992 - val_accuracy: 0.4106 - 64s/epoch - 34ms/step\n",
      "Epoch 5/5\n",
      "1877/1877 - 59s - loss: 1.5538 - accuracy: 0.4283 - val_loss: 1.6560 - val_accuracy: 0.4014 - 59s/epoch - 32ms/step\n",
      "processing fold 2\n",
      "Epoch 1/5\n",
      "1877/1877 - 64s - loss: 1.6110 - accuracy: 0.4128 - val_loss: 1.4303 - val_accuracy: 0.4999 - 64s/epoch - 34ms/step\n",
      "Epoch 2/5\n",
      "1877/1877 - 57s - loss: 1.5579 - accuracy: 0.4308 - val_loss: 1.4026 - val_accuracy: 0.4762 - 57s/epoch - 30ms/step\n",
      "Epoch 3/5\n",
      "1877/1877 - 57s - loss: 1.5319 - accuracy: 0.4386 - val_loss: 1.4663 - val_accuracy: 0.4660 - 57s/epoch - 31ms/step\n",
      "Epoch 4/5\n",
      "1877/1877 - 59s - loss: 1.5100 - accuracy: 0.4479 - val_loss: 1.6371 - val_accuracy: 0.4223 - 59s/epoch - 31ms/step\n"
     ]
    },
    {
     "name": "stdout",
     "output_type": "stream",
     "text": [
      "Epoch 5/5\n",
      "1877/1877 - 57s - loss: 1.5093 - accuracy: 0.4422 - val_loss: 1.6419 - val_accuracy: 0.3803 - 57s/epoch - 31ms/step\n",
      "processing fold 3\n",
      "Epoch 1/5\n",
      "1877/1877 - 62s - loss: 1.5671 - accuracy: 0.4263 - val_loss: 1.3738 - val_accuracy: 0.4848 - 62s/epoch - 33ms/step\n",
      "Epoch 2/5\n",
      "1877/1877 - 57s - loss: 1.5139 - accuracy: 0.4437 - val_loss: 1.4615 - val_accuracy: 0.4338 - 57s/epoch - 30ms/step\n",
      "Epoch 3/5\n",
      "1877/1877 - 63s - loss: 1.4998 - accuracy: 0.4479 - val_loss: 1.4358 - val_accuracy: 0.4926 - 63s/epoch - 34ms/step\n",
      "Epoch 4/5\n",
      "1877/1877 - 58s - loss: 1.4852 - accuracy: 0.4498 - val_loss: 1.4802 - val_accuracy: 0.4786 - 58s/epoch - 31ms/step\n",
      "Epoch 5/5\n",
      "1877/1877 - 64s - loss: 1.4766 - accuracy: 0.4587 - val_loss: 1.5173 - val_accuracy: 0.4547 - 64s/epoch - 34ms/step\n",
      "processing fold 4\n",
      "Epoch 1/5\n",
      "1877/1877 - 63s - loss: 1.5117 - accuracy: 0.4487 - val_loss: 1.2709 - val_accuracy: 0.5295 - 63s/epoch - 34ms/step\n",
      "Epoch 2/5\n",
      "1877/1877 - 57s - loss: 1.4826 - accuracy: 0.4619 - val_loss: 1.3619 - val_accuracy: 0.4899 - 57s/epoch - 30ms/step\n",
      "Epoch 3/5\n",
      "1877/1877 - 57s - loss: 1.4678 - accuracy: 0.4657 - val_loss: 1.5656 - val_accuracy: 0.4528 - 57s/epoch - 31ms/step\n",
      "Epoch 4/5\n",
      "1877/1877 - 58s - loss: 1.4569 - accuracy: 0.4661 - val_loss: 1.4989 - val_accuracy: 0.4818 - 58s/epoch - 31ms/step\n",
      "Epoch 5/5\n",
      "1877/1877 - 57s - loss: 1.4372 - accuracy: 0.4735 - val_loss: 1.4493 - val_accuracy: 0.4530 - 57s/epoch - 31ms/step\n",
      "processing fold 0\n",
      "Epoch 1/5\n",
      "1877/1877 - 62s - loss: 1.4904 - accuracy: 0.4590 - val_loss: 1.3292 - val_accuracy: 0.5228 - 62s/epoch - 33ms/step\n",
      "Epoch 2/5\n",
      "1877/1877 - 57s - loss: 1.4489 - accuracy: 0.4655 - val_loss: 1.4737 - val_accuracy: 0.4301 - 57s/epoch - 30ms/step\n",
      "Epoch 3/5\n",
      "1877/1877 - 57s - loss: 1.4430 - accuracy: 0.4695 - val_loss: 1.5812 - val_accuracy: 0.4474 - 57s/epoch - 30ms/step\n",
      "Epoch 4/5\n",
      "1877/1877 - 57s - loss: 1.4084 - accuracy: 0.4847 - val_loss: 1.5117 - val_accuracy: 0.4759 - 57s/epoch - 31ms/step\n",
      "Epoch 5/5\n",
      "1877/1877 - 57s - loss: 1.3984 - accuracy: 0.4907 - val_loss: 1.4866 - val_accuracy: 0.4529 - 57s/epoch - 30ms/step\n",
      "processing fold 1\n",
      "Epoch 1/5\n",
      "1877/1877 - 62s - loss: 1.4863 - accuracy: 0.4651 - val_loss: 1.2517 - val_accuracy: 0.5466 - 62s/epoch - 33ms/step\n",
      "Epoch 2/5\n",
      "1877/1877 - 57s - loss: 1.4175 - accuracy: 0.4819 - val_loss: 1.2317 - val_accuracy: 0.5530 - 57s/epoch - 30ms/step\n",
      "Epoch 3/5\n",
      "1877/1877 - 57s - loss: 1.4127 - accuracy: 0.4814 - val_loss: 1.4258 - val_accuracy: 0.4877 - 57s/epoch - 30ms/step\n",
      "Epoch 4/5\n",
      "1877/1877 - 58s - loss: 1.4119 - accuracy: 0.4794 - val_loss: 1.4158 - val_accuracy: 0.5003 - 58s/epoch - 31ms/step\n",
      "Epoch 5/5\n",
      "1877/1877 - 58s - loss: 1.3932 - accuracy: 0.4950 - val_loss: 1.5463 - val_accuracy: 0.4466 - 58s/epoch - 31ms/step\n",
      "processing fold 2\n",
      "Epoch 1/5\n",
      "1877/1877 - 63s - loss: 1.5205 - accuracy: 0.4802 - val_loss: 1.4009 - val_accuracy: 0.4922 - 63s/epoch - 34ms/step\n",
      "Epoch 2/5\n",
      "1877/1877 - 62s - loss: 1.4129 - accuracy: 0.4875 - val_loss: 1.3951 - val_accuracy: 0.4999 - 62s/epoch - 33ms/step\n",
      "Epoch 3/5\n",
      "1877/1877 - 57s - loss: 1.3919 - accuracy: 0.4940 - val_loss: 1.3815 - val_accuracy: 0.5050 - 57s/epoch - 30ms/step\n",
      "Epoch 4/5\n",
      "1877/1877 - 57s - loss: 1.3764 - accuracy: 0.4992 - val_loss: 1.4102 - val_accuracy: 0.4967 - 57s/epoch - 31ms/step\n",
      "Epoch 5/5\n",
      "1877/1877 - 58s - loss: 1.3661 - accuracy: 0.5010 - val_loss: 1.3870 - val_accuracy: 0.4786 - 58s/epoch - 31ms/step\n",
      "processing fold 3\n",
      "Epoch 1/5\n",
      "1877/1877 - 62s - loss: 1.4267 - accuracy: 0.4790 - val_loss: 1.1860 - val_accuracy: 0.5783 - 62s/epoch - 33ms/step\n",
      "Epoch 2/5\n",
      "1877/1877 - 57s - loss: 1.4089 - accuracy: 0.4880 - val_loss: 1.2340 - val_accuracy: 0.5538 - 57s/epoch - 30ms/step\n",
      "Epoch 3/5\n",
      "1877/1877 - 57s - loss: 1.3689 - accuracy: 0.4966 - val_loss: 1.2385 - val_accuracy: 0.5611 - 57s/epoch - 31ms/step\n",
      "Epoch 4/5\n",
      "1877/1877 - 59s - loss: 1.3485 - accuracy: 0.5048 - val_loss: 1.4315 - val_accuracy: 0.4811 - 59s/epoch - 31ms/step\n",
      "Epoch 5/5\n",
      "1877/1877 - 57s - loss: 1.3412 - accuracy: 0.5073 - val_loss: 1.3239 - val_accuracy: 0.5270 - 57s/epoch - 31ms/step\n",
      "processing fold 4\n",
      "Epoch 1/5\n",
      "1877/1877 - 89s - loss: 1.4009 - accuracy: 0.4874 - val_loss: 1.4441 - val_accuracy: 0.4421 - 89s/epoch - 47ms/step\n",
      "Epoch 2/5\n",
      "1877/1877 - 59s - loss: 1.3608 - accuracy: 0.4967 - val_loss: 1.1470 - val_accuracy: 0.5988 - 59s/epoch - 32ms/step\n",
      "Epoch 3/5\n",
      "1877/1877 - 58s - loss: 1.3401 - accuracy: 0.5063 - val_loss: 1.3697 - val_accuracy: 0.5157 - 58s/epoch - 31ms/step\n",
      "Epoch 4/5\n",
      "1877/1877 - 58s - loss: 1.3274 - accuracy: 0.5140 - val_loss: 1.2798 - val_accuracy: 0.5389 - 58s/epoch - 31ms/step\n",
      "Epoch 5/5\n",
      "1877/1877 - 66s - loss: 1.3220 - accuracy: 0.5131 - val_loss: 1.3796 - val_accuracy: 0.5233 - 66s/epoch - 35ms/step\n"
     ]
    }
   ],
   "source": [
    "import numpy as np \n",
    "from sklearn.model_selection import StratifiedKFold\n",
    "from sklearn.metrics import mean_absolute_error\n",
    "\n",
    "K=4\n",
    "num_val_samples = len(X_train_resampled)//K\n",
    "num_epochs = 5\n",
    "\n",
    "#new!\n",
    "all_val_acc_8 = []\n",
    "all_val_loss_8 = []\n",
    "\n",
    "all_acc_8 = []\n",
    "all_loss_8 = []\n",
    "all_acc_history_8 = []\n",
    "all_loss_history_8 = []\n",
    "\n",
    "N_iterations=4\n",
    "N_folds=5\n",
    "        \n",
    "for i in range(N_iterations):\n",
    "    skf = StratifiedKFold(n_splits=N_folds, shuffle=True)\n",
    "    \n",
    "    for j, (train_index, val_index) in enumerate(skf.split(X_train_resampled, y_train_resampled)):\n",
    "        print('processing fold', j)\n",
    "        \n",
    "        partial_train_data = X_train_resampled[train_index]\n",
    "        val_data = X_train_resampled[val_index]\n",
    "        \n",
    "        partial_train_targets = y_train_resampled[train_index]\n",
    "        val_targets = y_train_resampled[val_index]\n",
    "        \n",
    "        # One-hot encode the target labels\n",
    "        partial_train_targets = to_categorical(partial_train_targets, num_classes=16)\n",
    "        val_targets = to_categorical(val_targets, num_classes=16)\n",
    "        \n",
    "        # Train the model \n",
    "        final_lstm_model.compile(loss=\"categorical_crossentropy\", optimizer=\"adam\", metrics=[\"accuracy\"])\n",
    "        results_8 = final_lstm_model.fit(partial_train_data, partial_train_targets, epochs=num_epochs, batch_size=10, verbose=2, validation_data = (val_data, val_targets))\n",
    "        \n",
    "        # Evaluate the model on the validation data: loss and accuracy \n",
    "        val_loss, val_acc = final_lstm_model.evaluate(val_data, val_targets, verbose=0)\n",
    "        all_val_acc_8.append(val_acc)\n",
    "        all_val_loss_8.append(val_loss)\n",
    "        \n",
    "        acc = results_8.history['accuracy']\n",
    "        all_acc_8.append(acc)\n",
    "        acc_history = results_8.history['val_accuracy']\n",
    "        all_acc_history_8.append(acc_history)\n",
    "        \n",
    "        loss = results_8.history['loss']\n",
    "        all_loss_8.append(loss)\n",
    "        loss_history = results_8.history['val_loss']\n",
    "        all_loss_history_8.append(loss_history)"
   ]
  },
  {
   "cell_type": "code",
   "execution_count": 117,
   "id": "ad59f99f",
   "metadata": {},
   "outputs": [
    {
     "data": {
      "image/png": "[encoded data removed]",
      "text/plain": [
       "<Figure size 432x288 with 1 Axes>"
      ]
     },
     "metadata": {
      "needs_background": "light"
     },
     "output_type": "display_data"
    }
   ],
   "source": [
    "plot_loss(all_loss_8, all_loss_history_8)"
   ]
  },
  {
   "cell_type": "code",
   "execution_count": 118,
   "id": "164d43f1",
   "metadata": {},
   "outputs": [
    {
     "data": {
      "image/png": "[encoded data removed]",
      "text/plain": [
       "<Figure size 432x288 with 1 Axes>"
      ]
     },
     "metadata": {
      "needs_background": "light"
     },
     "output_type": "display_data"
    }
   ],
   "source": [
    "plot_loss(all_acc_8, all_acc_history_8)"
   ]
  },
  {
   "cell_type": "code",
   "execution_count": 119,
   "id": "33ac74e6",
   "metadata": {},
   "outputs": [
    {
     "name": "stdout",
     "output_type": "stream",
     "text": [
      "Average Loss: 1.9043422937393188\n",
      "Average Accuracy: 0.33938274532556534\n"
     ]
    }
   ],
   "source": [
    "print(\"Average Loss:\", np.mean(all_val_loss_8))\n",
    "print(\"Average Accuracy:\", np.mean(all_val_acc_8))"
   ]
  },
  {
   "cell_type": "code",
   "execution_count": null,
   "id": "38657bc9",
   "metadata": {},
   "outputs": [],
   "source": [
    "# from tensorflow.keras.layers import Dropout, BatchNormalization\n",
    "\n",
    "# # Initialising the model \n",
    "# lstm_final = Sequential()\n",
    "\n",
    "# # Defining model: add layers \n",
    "# lstm_final.add(Embedding(\n",
    "#     max_words,\n",
    "#     EMBEDDING_VECTOR_LENGTH,\n",
    "#     input_length=max_len,\n",
    "#     weights=[embedding_matrix],\n",
    "#     trainable=True,\n",
    "# )) #glove embedding\n",
    "\n",
    "# lstm_final.add(LSTM(64, input_shape=(max_len, EMBEDDING_VECTOR_LENGTH))) #LSTM layer\n",
    "# lstm_final.add(Dropout(0.1))\n",
    "# lstm_final.add(Dense(256, activation='relu')) \n",
    "# lstm_final.add(BatchNormalization())\n",
    "# lstm_final.add(Dense(128, activation='relu')) \n",
    "# lstm_final.add(Dropout(0.1))\n",
    "# lstm_final.add(Dense(64, activation='relu')) \n",
    "# lstm_final.add(BatchNormalization())\n",
    "# lstm_final.add(Dense(16, activation='softmax')) \n",
    "\n",
    "# # Compile model\n",
    "# lstm_final.compile(loss=\"categorical_crossentropy\", optimizer=\"adam\", metrics=[\"accuracy\"])\n",
    "\n",
    "# print(lstm_final.summary())"
   ]
  },
  {
   "cell_type": "markdown",
   "id": "382fc7ef",
   "metadata": {},
   "source": [
    "#### Training the final LSTM model with the COMPLETE training set "
   ]
  },
  {
   "cell_type": "code",
   "execution_count": 120,
   "id": "cfd37c56",
   "metadata": {},
   "outputs": [
    {
     "name": "stdout",
     "output_type": "stream",
     "text": [
      "processing fold 0\n",
      "Epoch 1/5\n",
      "2346/2346 - 98s - loss: 1.3772 - accuracy: 0.4964 - val_loss: 1.1569 - val_accuracy: 0.5716 - 98s/epoch - 42ms/step\n",
      "Epoch 2/5\n",
      "2346/2346 - 72s - loss: 1.3450 - accuracy: 0.5116 - val_loss: 1.3813 - val_accuracy: 0.4746 - 72s/epoch - 31ms/step\n",
      "Epoch 3/5\n",
      "2346/2346 - 73s - loss: 1.3353 - accuracy: 0.5114 - val_loss: 1.0845 - val_accuracy: 0.6200 - 73s/epoch - 31ms/step\n",
      "Epoch 4/5\n",
      "2346/2346 - 71s - loss: 1.3378 - accuracy: 0.5114 - val_loss: 1.1514 - val_accuracy: 0.5827 - 71s/epoch - 30ms/step\n",
      "Epoch 5/5\n",
      "2346/2346 - 71s - loss: 1.3483 - accuracy: 0.5087 - val_loss: 1.0881 - val_accuracy: 0.5972 - 71s/epoch - 30ms/step\n",
      "processing fold 1\n",
      "Epoch 1/5\n",
      "2346/2346 - 77s - loss: 1.3299 - accuracy: 0.5069 - val_loss: 1.0984 - val_accuracy: 0.6201 - 77s/epoch - 33ms/step\n",
      "Epoch 2/5\n",
      "2346/2346 - 72s - loss: 1.3414 - accuracy: 0.5084 - val_loss: 1.0961 - val_accuracy: 0.6139 - 72s/epoch - 31ms/step\n",
      "Epoch 3/5\n",
      "2346/2346 - 82s - loss: 1.3158 - accuracy: 0.5172 - val_loss: 1.0985 - val_accuracy: 0.6263 - 82s/epoch - 35ms/step\n",
      "Epoch 4/5\n",
      "2346/2346 - 75s - loss: 1.3127 - accuracy: 0.5155 - val_loss: 1.1386 - val_accuracy: 0.6195 - 75s/epoch - 32ms/step\n",
      "Epoch 5/5\n",
      "2346/2346 - 71s - loss: 1.3337 - accuracy: 0.5159 - val_loss: 1.0533 - val_accuracy: 0.6476 - 71s/epoch - 30ms/step\n",
      "processing fold 2\n",
      "Epoch 1/5\n",
      "2346/2346 - 77s - loss: 1.3154 - accuracy: 0.5179 - val_loss: 1.1924 - val_accuracy: 0.5585 - 77s/epoch - 33ms/step\n",
      "Epoch 2/5\n",
      "2346/2346 - 70s - loss: 1.3240 - accuracy: 0.5152 - val_loss: 1.0827 - val_accuracy: 0.6391 - 70s/epoch - 30ms/step\n",
      "Epoch 3/5\n",
      "2346/2346 - 71s - loss: 1.3029 - accuracy: 0.5221 - val_loss: 1.2251 - val_accuracy: 0.5285 - 71s/epoch - 30ms/step\n",
      "Epoch 4/5\n",
      "2346/2346 - 71s - loss: 1.3035 - accuracy: 0.5260 - val_loss: 1.0952 - val_accuracy: 0.6071 - 71s/epoch - 30ms/step\n",
      "Epoch 5/5\n",
      "2346/2346 - 70s - loss: 1.2997 - accuracy: 0.5205 - val_loss: 1.1837 - val_accuracy: 0.5485 - 70s/epoch - 30ms/step\n",
      "processing fold 3\n",
      "Epoch 1/5\n",
      "2346/2346 - 76s - loss: 1.3057 - accuracy: 0.5206 - val_loss: 1.2401 - val_accuracy: 0.5602 - 76s/epoch - 32ms/step\n",
      "Epoch 2/5\n",
      "2346/2346 - 72s - loss: 1.3146 - accuracy: 0.5224 - val_loss: 1.2453 - val_accuracy: 0.5363 - 72s/epoch - 31ms/step\n",
      "Epoch 3/5\n",
      "2346/2346 - 71s - loss: 1.2948 - accuracy: 0.5287 - val_loss: 1.0418 - val_accuracy: 0.6540 - 71s/epoch - 30ms/step\n",
      "Epoch 4/5\n",
      "2346/2346 - 71s - loss: 1.3037 - accuracy: 0.5275 - val_loss: 1.0405 - val_accuracy: 0.6446 - 71s/epoch - 30ms/step\n",
      "Epoch 5/5\n",
      "2346/2346 - 70s - loss: 1.2944 - accuracy: 0.5312 - val_loss: 1.0524 - val_accuracy: 0.6348 - 70s/epoch - 30ms/step\n",
      "processing fold 4\n",
      "Epoch 1/5\n",
      "2346/2346 - 76s - loss: 1.2866 - accuracy: 0.5272 - val_loss: 0.9875 - val_accuracy: 0.6747 - 76s/epoch - 33ms/step\n",
      "Epoch 2/5\n",
      "2346/2346 - 70s - loss: 1.2825 - accuracy: 0.5348 - val_loss: 1.1405 - val_accuracy: 0.5854 - 70s/epoch - 30ms/step\n",
      "Epoch 3/5\n",
      "2346/2346 - 74s - loss: 1.2752 - accuracy: 0.5350 - val_loss: 1.0777 - val_accuracy: 0.6327 - 74s/epoch - 31ms/step\n",
      "Epoch 4/5\n",
      "2346/2346 - 71s - loss: 1.2958 - accuracy: 0.5292 - val_loss: 1.0252 - val_accuracy: 0.6466 - 71s/epoch - 30ms/step\n",
      "Epoch 5/5\n",
      "2346/2346 - 71s - loss: 1.2749 - accuracy: 0.5334 - val_loss: 1.1293 - val_accuracy: 0.5596 - 71s/epoch - 30ms/step\n",
      "processing fold 0\n",
      "Epoch 1/5\n",
      "2346/2346 - 76s - loss: 1.2677 - accuracy: 0.5397 - val_loss: 1.2039 - val_accuracy: 0.5382 - 76s/epoch - 32ms/step\n",
      "Epoch 2/5\n",
      "2346/2346 - 71s - loss: 1.2558 - accuracy: 0.5382 - val_loss: 1.0465 - val_accuracy: 0.6174 - 71s/epoch - 30ms/step\n",
      "Epoch 3/5\n",
      "2346/2346 - 71s - loss: 1.2692 - accuracy: 0.5418 - val_loss: 1.2153 - val_accuracy: 0.5403 - 71s/epoch - 30ms/step\n",
      "Epoch 4/5\n",
      "2346/2346 - 73s - loss: 1.2593 - accuracy: 0.5466 - val_loss: 1.1382 - val_accuracy: 0.5789 - 73s/epoch - 31ms/step\n",
      "Epoch 5/5\n",
      "2346/2346 - 70s - loss: 1.2715 - accuracy: 0.5408 - val_loss: 1.3282 - val_accuracy: 0.5313 - 70s/epoch - 30ms/step\n",
      "processing fold 1\n",
      "Epoch 1/5\n",
      "2346/2346 - 84s - loss: 1.2640 - accuracy: 0.5384 - val_loss: 1.0904 - val_accuracy: 0.6054 - 84s/epoch - 36ms/step\n",
      "Epoch 2/5\n",
      "2346/2346 - 71s - loss: 1.2581 - accuracy: 0.5518 - val_loss: 1.0862 - val_accuracy: 0.6365 - 71s/epoch - 30ms/step\n",
      "Epoch 3/5\n",
      "2346/2346 - 70s - loss: 1.2512 - accuracy: 0.5451 - val_loss: 0.9845 - val_accuracy: 0.6455 - 70s/epoch - 30ms/step\n",
      "Epoch 4/5\n",
      "2346/2346 - 71s - loss: 1.2500 - accuracy: 0.5482 - val_loss: 1.0250 - val_accuracy: 0.6476 - 71s/epoch - 30ms/step\n",
      "Epoch 5/5\n",
      "2346/2346 - 70s - loss: 1.2480 - accuracy: 0.5480 - val_loss: 1.0038 - val_accuracy: 0.6438 - 70s/epoch - 30ms/step\n",
      "processing fold 2\n",
      "Epoch 1/5\n",
      "2346/2346 - 76s - loss: 1.2533 - accuracy: 0.5467 - val_loss: 1.0757 - val_accuracy: 0.6248 - 76s/epoch - 32ms/step\n",
      "Epoch 2/5\n",
      "2346/2346 - 70s - loss: 1.2487 - accuracy: 0.5503 - val_loss: 1.0059 - val_accuracy: 0.6544 - 70s/epoch - 30ms/step\n",
      "Epoch 3/5\n",
      "2346/2346 - 70s - loss: 1.2384 - accuracy: 0.5498 - val_loss: 0.9794 - val_accuracy: 0.6809 - 70s/epoch - 30ms/step\n",
      "Epoch 4/5\n",
      "2346/2346 - 71s - loss: 1.2275 - accuracy: 0.5571 - val_loss: 0.9834 - val_accuracy: 0.6702 - 71s/epoch - 30ms/step\n",
      "Epoch 5/5\n",
      "2346/2346 - 70s - loss: 1.2364 - accuracy: 0.5538 - val_loss: 0.9973 - val_accuracy: 0.6664 - 70s/epoch - 30ms/step\n",
      "processing fold 3\n",
      "Epoch 1/5\n",
      "2346/2346 - 76s - loss: 1.2321 - accuracy: 0.5498 - val_loss: 1.0348 - val_accuracy: 0.6687 - 76s/epoch - 32ms/step\n",
      "Epoch 2/5\n",
      "2346/2346 - 70s - loss: 1.2297 - accuracy: 0.5591 - val_loss: 0.9949 - val_accuracy: 0.6483 - 70s/epoch - 30ms/step\n",
      "Epoch 3/5\n",
      "2346/2346 - 71s - loss: 1.2266 - accuracy: 0.5601 - val_loss: 1.1672 - val_accuracy: 0.5803 - 71s/epoch - 30ms/step\n",
      "Epoch 4/5\n",
      "2346/2346 - 71s - loss: 1.2245 - accuracy: 0.5576 - val_loss: 1.0097 - val_accuracy: 0.6410 - 71s/epoch - 30ms/step\n",
      "Epoch 5/5\n",
      "2346/2346 - 71s - loss: 1.2293 - accuracy: 0.5580 - val_loss: 1.1789 - val_accuracy: 0.5788 - 71s/epoch - 30ms/step\n",
      "processing fold 4\n",
      "Epoch 1/5\n",
      "2346/2346 - 76s - loss: 1.2158 - accuracy: 0.5614 - val_loss: 1.0065 - val_accuracy: 0.6557 - 76s/epoch - 32ms/step\n",
      "Epoch 2/5\n",
      "2346/2346 - 70s - loss: 1.2250 - accuracy: 0.5654 - val_loss: 0.9369 - val_accuracy: 0.6954 - 70s/epoch - 30ms/step\n",
      "Epoch 3/5\n",
      "2346/2346 - 72s - loss: 1.2315 - accuracy: 0.5643 - val_loss: 0.9615 - val_accuracy: 0.6864 - 72s/epoch - 31ms/step\n",
      "Epoch 4/5\n",
      "2346/2346 - 71s - loss: 1.2002 - accuracy: 0.5717 - val_loss: 1.0649 - val_accuracy: 0.5928 - 71s/epoch - 30ms/step\n",
      "Epoch 5/5\n",
      "2346/2346 - 76s - loss: 1.2072 - accuracy: 0.5660 - val_loss: 0.9534 - val_accuracy: 0.7129 - 76s/epoch - 33ms/step\n",
      "processing fold 0\n",
      "Epoch 1/5\n",
      "2346/2346 - 76s - loss: 1.1909 - accuracy: 0.5784 - val_loss: 1.1597 - val_accuracy: 0.5686 - 76s/epoch - 32ms/step\n",
      "Epoch 2/5\n",
      "2346/2346 - 71s - loss: 1.2053 - accuracy: 0.5774 - val_loss: 0.9860 - val_accuracy: 0.6705 - 71s/epoch - 30ms/step\n",
      "Epoch 3/5\n",
      "2346/2346 - 71s - loss: 1.1978 - accuracy: 0.5750 - val_loss: 0.9815 - val_accuracy: 0.6905 - 71s/epoch - 30ms/step\n",
      "Epoch 4/5\n",
      "2346/2346 - 71s - loss: 1.2116 - accuracy: 0.5732 - val_loss: 0.9932 - val_accuracy: 0.6460 - 71s/epoch - 30ms/step\n",
      "Epoch 5/5\n",
      "2346/2346 - 71s - loss: 1.1979 - accuracy: 0.5802 - val_loss: 0.9180 - val_accuracy: 0.6971 - 71s/epoch - 30ms/step\n",
      "processing fold 1\n",
      "Epoch 1/5\n",
      "2346/2346 - 76s - loss: 1.1910 - accuracy: 0.5761 - val_loss: 0.9254 - val_accuracy: 0.7007 - 76s/epoch - 32ms/step\n",
      "Epoch 2/5\n",
      "2346/2346 - 73s - loss: 1.1866 - accuracy: 0.5816 - val_loss: 0.9950 - val_accuracy: 0.6664 - 73s/epoch - 31ms/step\n",
      "Epoch 3/5\n",
      "2346/2346 - 71s - loss: 1.1904 - accuracy: 0.5853 - val_loss: 1.0463 - val_accuracy: 0.6357 - 71s/epoch - 30ms/step\n",
      "Epoch 4/5\n",
      "2346/2346 - 71s - loss: 1.1852 - accuracy: 0.5832 - val_loss: 1.0029 - val_accuracy: 0.6544 - 71s/epoch - 30ms/step\n",
      "Epoch 5/5\n",
      "2346/2346 - 71s - loss: 1.1779 - accuracy: 0.5894 - val_loss: 1.0058 - val_accuracy: 0.6478 - 71s/epoch - 30ms/step\n",
      "processing fold 2\n",
      "Epoch 1/5\n",
      "2346/2346 - 76s - loss: 1.1767 - accuracy: 0.5869 - val_loss: 1.1157 - val_accuracy: 0.5760 - 76s/epoch - 33ms/step\n",
      "Epoch 2/5\n",
      "2346/2346 - 74s - loss: 1.1857 - accuracy: 0.5880 - val_loss: 1.0148 - val_accuracy: 0.6436 - 74s/epoch - 31ms/step\n",
      "Epoch 3/5\n",
      "2346/2346 - 71s - loss: 1.1689 - accuracy: 0.5901 - val_loss: 0.9370 - val_accuracy: 0.6875 - 71s/epoch - 30ms/step\n",
      "Epoch 4/5\n",
      "2346/2346 - 71s - loss: 1.1726 - accuracy: 0.5917 - val_loss: 0.8661 - val_accuracy: 0.7197 - 71s/epoch - 30ms/step\n"
     ]
    },
    {
     "name": "stdout",
     "output_type": "stream",
     "text": [
      "Epoch 5/5\n",
      "2346/2346 - 71s - loss: 1.1525 - accuracy: 0.6013 - val_loss: 1.0991 - val_accuracy: 0.6135 - 71s/epoch - 30ms/step\n",
      "processing fold 3\n",
      "Epoch 1/5\n",
      "2346/2346 - 78s - loss: 1.1605 - accuracy: 0.5971 - val_loss: 1.0820 - val_accuracy: 0.6476 - 78s/epoch - 33ms/step\n",
      "Epoch 2/5\n",
      "2346/2346 - 71s - loss: 1.1614 - accuracy: 0.5974 - val_loss: 1.0257 - val_accuracy: 0.6365 - 71s/epoch - 30ms/step\n",
      "Epoch 3/5\n",
      "2346/2346 - 73s - loss: 1.1563 - accuracy: 0.5985 - val_loss: 1.4360 - val_accuracy: 0.5125 - 73s/epoch - 31ms/step\n",
      "Epoch 4/5\n",
      "2346/2346 - 93s - loss: 1.1649 - accuracy: 0.6001 - val_loss: 0.9391 - val_accuracy: 0.6941 - 93s/epoch - 40ms/step\n",
      "Epoch 5/5\n",
      "2346/2346 - 99s - loss: 1.1552 - accuracy: 0.6036 - val_loss: 1.0111 - val_accuracy: 0.6491 - 99s/epoch - 42ms/step\n",
      "processing fold 4\n",
      "Epoch 1/5\n",
      "2346/2346 - 81s - loss: 1.1378 - accuracy: 0.6022 - val_loss: 0.9052 - val_accuracy: 0.7131 - 81s/epoch - 34ms/step\n",
      "Epoch 2/5\n",
      "2346/2346 - 72s - loss: 1.1497 - accuracy: 0.5996 - val_loss: 0.8939 - val_accuracy: 0.7073 - 72s/epoch - 31ms/step\n",
      "Epoch 3/5\n",
      "2346/2346 - 71s - loss: 1.1365 - accuracy: 0.6045 - val_loss: 0.9671 - val_accuracy: 0.6845 - 71s/epoch - 30ms/step\n",
      "Epoch 4/5\n",
      "2346/2346 - 71s - loss: 1.1317 - accuracy: 0.6113 - val_loss: 1.0586 - val_accuracy: 0.6071 - 71s/epoch - 30ms/step\n",
      "Epoch 5/5\n",
      "2346/2346 - 71s - loss: 1.1376 - accuracy: 0.6097 - val_loss: 1.0909 - val_accuracy: 0.5828 - 71s/epoch - 30ms/step\n",
      "processing fold 0\n",
      "Epoch 1/5\n",
      "2346/2346 - 81s - loss: 1.1415 - accuracy: 0.6014 - val_loss: 0.9267 - val_accuracy: 0.6969 - 81s/epoch - 34ms/step\n",
      "Epoch 2/5\n",
      "2346/2346 - 76s - loss: 1.1200 - accuracy: 0.6159 - val_loss: 0.9557 - val_accuracy: 0.6899 - 76s/epoch - 32ms/step\n",
      "Epoch 3/5\n",
      "2346/2346 - 79s - loss: 1.1108 - accuracy: 0.6179 - val_loss: 0.8274 - val_accuracy: 0.7485 - 79s/epoch - 34ms/step\n",
      "Epoch 4/5\n",
      "2346/2346 - 71s - loss: 1.1190 - accuracy: 0.6182 - val_loss: 0.9705 - val_accuracy: 0.6752 - 71s/epoch - 30ms/step\n",
      "Epoch 5/5\n",
      "2346/2346 - 77s - loss: 1.1226 - accuracy: 0.6125 - val_loss: 0.9305 - val_accuracy: 0.6982 - 77s/epoch - 33ms/step\n",
      "processing fold 1\n",
      "Epoch 1/5\n",
      "2346/2346 - 77s - loss: 1.1163 - accuracy: 0.6178 - val_loss: 0.9522 - val_accuracy: 0.6717 - 77s/epoch - 33ms/step\n",
      "Epoch 2/5\n",
      "2346/2346 - 70s - loss: 1.1100 - accuracy: 0.6163 - val_loss: 0.8442 - val_accuracy: 0.7521 - 70s/epoch - 30ms/step\n",
      "Epoch 3/5\n",
      "2346/2346 - 71s - loss: 1.1271 - accuracy: 0.6191 - val_loss: 0.8366 - val_accuracy: 0.7393 - 71s/epoch - 30ms/step\n",
      "Epoch 4/5\n",
      "2346/2346 - 71s - loss: 1.0932 - accuracy: 0.6184 - val_loss: 0.8675 - val_accuracy: 0.7203 - 71s/epoch - 30ms/step\n",
      "Epoch 5/5\n",
      "2346/2346 - 71s - loss: 1.1044 - accuracy: 0.6257 - val_loss: 0.8643 - val_accuracy: 0.7427 - 71s/epoch - 30ms/step\n",
      "processing fold 2\n",
      "Epoch 1/5\n",
      "2346/2346 - 76s - loss: 1.1104 - accuracy: 0.6188 - val_loss: 0.8256 - val_accuracy: 0.7589 - 76s/epoch - 32ms/step\n",
      "Epoch 2/5\n",
      "2346/2346 - 80s - loss: 1.1005 - accuracy: 0.6209 - val_loss: 0.9546 - val_accuracy: 0.6553 - 80s/epoch - 34ms/step\n",
      "Epoch 3/5\n",
      "2346/2346 - 115s - loss: 1.1034 - accuracy: 0.6242 - val_loss: 0.9839 - val_accuracy: 0.6500 - 115s/epoch - 49ms/step\n",
      "Epoch 4/5\n",
      "2346/2346 - 99s - loss: 1.1009 - accuracy: 0.6256 - val_loss: 0.8186 - val_accuracy: 0.7333 - 99s/epoch - 42ms/step\n",
      "Epoch 5/5\n",
      "2346/2346 - 95s - loss: 1.0959 - accuracy: 0.6286 - val_loss: 0.8140 - val_accuracy: 0.7668 - 95s/epoch - 40ms/step\n",
      "processing fold 3\n",
      "Epoch 1/5\n",
      "2346/2346 - 119s - loss: 1.0959 - accuracy: 0.6308 - val_loss: 0.8304 - val_accuracy: 0.7384 - 119s/epoch - 51ms/step\n",
      "Epoch 2/5\n",
      "2346/2346 - 114s - loss: 1.0937 - accuracy: 0.6272 - val_loss: 0.8553 - val_accuracy: 0.7122 - 114s/epoch - 49ms/step\n",
      "Epoch 3/5\n",
      "2346/2346 - 116s - loss: 1.0986 - accuracy: 0.6259 - val_loss: 0.9229 - val_accuracy: 0.7073 - 116s/epoch - 50ms/step\n",
      "Epoch 4/5\n",
      "2346/2346 - 82s - loss: 1.0858 - accuracy: 0.6376 - val_loss: 0.8277 - val_accuracy: 0.7416 - 82s/epoch - 35ms/step\n",
      "Epoch 5/5\n",
      "2346/2346 - 77s - loss: 1.0850 - accuracy: 0.6365 - val_loss: 0.7991 - val_accuracy: 0.7789 - 77s/epoch - 33ms/step\n",
      "processing fold 4\n",
      "Epoch 1/5\n",
      "2346/2346 - 95s - loss: 1.0842 - accuracy: 0.6390 - val_loss: 0.9910 - val_accuracy: 0.6783 - 95s/epoch - 41ms/step\n",
      "Epoch 2/5\n",
      "2346/2346 - 84s - loss: 1.0753 - accuracy: 0.6432 - val_loss: 0.8503 - val_accuracy: 0.7380 - 84s/epoch - 36ms/step\n",
      "Epoch 3/5\n",
      "2346/2346 - 92s - loss: 1.0768 - accuracy: 0.6405 - val_loss: 0.8503 - val_accuracy: 0.7740 - 92s/epoch - 39ms/step\n",
      "Epoch 4/5\n",
      "2346/2346 - 88s - loss: 1.0839 - accuracy: 0.6395 - val_loss: 0.8822 - val_accuracy: 0.7244 - 88s/epoch - 37ms/step\n",
      "Epoch 5/5\n",
      "2346/2346 - 91s - loss: 1.0769 - accuracy: 0.6415 - val_loss: 0.7936 - val_accuracy: 0.7798 - 91s/epoch - 39ms/step\n"
     ]
    }
   ],
   "source": [
    "import numpy as np \n",
    "from sklearn.model_selection import StratifiedKFold\n",
    "from sklearn.metrics import mean_absolute_error\n",
    "\n",
    "K=4\n",
    "num_val_samples = len(X_train_resampled)//K\n",
    "num_epochs = 5\n",
    "\n",
    "all_val_acc_9 = []\n",
    "all_val_loss_9 = []\n",
    "\n",
    "all_acc_9 = []\n",
    "all_loss_9 = []\n",
    "all_acc_history_9 = []\n",
    "all_loss_history_9 = []\n",
    "\n",
    "N_iterations=4\n",
    "N_folds=5\n",
    "        \n",
    "for i in range(N_iterations):\n",
    "    skf = StratifiedKFold(n_splits=N_folds, shuffle=True)\n",
    "    \n",
    "    for j, (train_index, val_index) in enumerate(skf.split(X_train_resampled, y_train_resampled)):\n",
    "        print('processing fold', j)\n",
    "        \n",
    "        partial_train_data = X_train_resampled[train_index]\n",
    "        val_data = X_train_resampled[val_index]\n",
    "        \n",
    "        partial_train_targets = y_train_resampled[train_index]\n",
    "        val_targets = y_train_resampled[val_index]\n",
    "        \n",
    "        # One-hot encode the target labels\n",
    "        partial_train_targets = to_categorical(partial_train_targets, num_classes=16)\n",
    "        val_targets = to_categorical(val_targets, num_classes=16)\n",
    "        \n",
    "        # Train the model \n",
    "        final_lstm_model.compile(loss=\"categorical_crossentropy\", optimizer=\"adam\", metrics=[\"accuracy\"])\n",
    "        final_lstm_model.fit(np.concatenate([partial_train_data, val_data]), np.concatenate([partial_train_targets, val_targets]), epochs=num_epochs, batch_size=10, verbose=2, validation_data = (val_data, val_targets))        \n",
    "        "
   ]
  },
  {
   "cell_type": "code",
   "execution_count": 122,
   "id": "5e7411fc",
   "metadata": {},
   "outputs": [
    {
     "name": "stdout",
     "output_type": "stream",
     "text": [
      "55/55 [==============================] - 1s 21ms/step - loss: 6.8226 - accuracy: 0.1170\n"
     ]
    }
   ],
   "source": [
    "test_loss, test_acc = final_lstm_model.evaluate(X_test_lstm_pad,\n",
    "                                          y_test_lstm_onehot)"
   ]
  },
  {
   "cell_type": "markdown",
   "id": "a2c46853",
   "metadata": {},
   "source": [
    "From the results above, we can see that the accuracy of the model is not very high. 13.8% "
   ]
  },
  {
   "cell_type": "markdown",
   "id": "2813fdb3",
   "metadata": {},
   "source": [
    "#### Building the final model with only dropout=0.07"
   ]
  },
  {
   "cell_type": "code",
   "execution_count": 123,
   "id": "62a22f74",
   "metadata": {},
   "outputs": [
    {
     "name": "stdout",
     "output_type": "stream",
     "text": [
      "Model: \"sequential_28\"\n",
      "_________________________________________________________________\n",
      " Layer (type)                Output Shape              Param #   \n",
      "=================================================================\n",
      " embedding_28 (Embedding)    (None, 40, 50)            125000    \n",
      "                                                                 \n",
      " dropout_8 (Dropout)         (None, 40, 50)            0         \n",
      "                                                                 \n",
      " lstm_61 (LSTM)              (None, 40, 128)           91648     \n",
      "                                                                 \n",
      " lstm_62 (LSTM)              (None, 64)                49408     \n",
      "                                                                 \n",
      " dense_51 (Dense)            (None, 64)                4160      \n",
      "                                                                 \n",
      " dropout_9 (Dropout)         (None, 64)                0         \n",
      "                                                                 \n",
      " dense_52 (Dense)            (None, 16)                1040      \n",
      "                                                                 \n",
      "=================================================================\n",
      "Total params: 271,256\n",
      "Trainable params: 271,256\n",
      "Non-trainable params: 0\n",
      "_________________________________________________________________\n",
      "None\n"
     ]
    }
   ],
   "source": [
    "### DROP OUT = 0.07 ###\n",
    "\n",
    "from tensorflow.keras.layers import Dropout\n",
    "\n",
    "# Initialising the model \n",
    "lstm_model_2 = Sequential()\n",
    "\n",
    "# Defining model: add layers \n",
    "lstm_model_2.add(Embedding(\n",
    "    max_words,\n",
    "    EMBEDDING_VECTOR_LENGTH,\n",
    "    input_length=max_len,\n",
    "    weights=[embedding_matrix],\n",
    "    trainable=True,\n",
    ")) #glove embedding\n",
    "\n",
    "lstm_model_2.add(Dropout(0.07)) #dropout layer with 0.5 rate\n",
    "lstm_model_2.add(LSTM(128, input_shape=(max_len, EMBEDDING_VECTOR_LENGTH), return_sequences=True))\n",
    "lstm_model_2.add(LSTM(64))\n",
    "lstm_model_2.add(Dense(64, activation='relu'))\n",
    "lstm_model_2.add(Dropout(0.07))\n",
    "lstm_model_2.add(Dense(16, activation='softmax'))\n",
    "\n",
    "# Compile model\n",
    "lstm_model_2.compile(loss=\"categorical_crossentropy\", optimizer=\"adam\", metrics=[\"accuracy\"])\n",
    "\n",
    "print(lstm_model_2.summary())"
   ]
  },
  {
   "cell_type": "markdown",
   "id": "83ddf61e",
   "metadata": {},
   "source": [
    "#### Training dropout=0.07 lstm model with complete training set"
   ]
  },
  {
   "cell_type": "code",
   "execution_count": null,
   "id": "0609568a",
   "metadata": {},
   "outputs": [
    {
     "name": "stdout",
     "output_type": "stream",
     "text": [
      "processing fold 0\n",
      "Epoch 1/5\n",
      "2346/2346 - 105s - loss: 2.7455 - accuracy: 0.0796 - val_loss: 2.6461 - val_accuracy: 0.1076 - 105s/epoch - 45ms/step\n",
      "Epoch 2/5\n",
      "2346/2346 - 83s - loss: 2.6256 - accuracy: 0.1117 - val_loss: 2.5661 - val_accuracy: 0.1360 - 83s/epoch - 35ms/step\n",
      "Epoch 3/5\n",
      "2346/2346 - 72s - loss: 2.5671 - accuracy: 0.1295 - val_loss: 2.5079 - val_accuracy: 0.1488 - 72s/epoch - 31ms/step\n",
      "Epoch 4/5\n",
      "2346/2346 - 71s - loss: 2.5198 - accuracy: 0.1496 - val_loss: 2.4432 - val_accuracy: 0.1795 - 71s/epoch - 30ms/step\n",
      "Epoch 5/5\n",
      "2346/2346 - 71s - loss: 2.4520 - accuracy: 0.1770 - val_loss: 2.3569 - val_accuracy: 0.2202 - 71s/epoch - 30ms/step\n",
      "processing fold 1\n",
      "Epoch 1/5\n",
      "2346/2346 - 89s - loss: 2.3671 - accuracy: 0.2086 - val_loss: 2.2334 - val_accuracy: 0.2528 - 89s/epoch - 38ms/step\n",
      "Epoch 2/5\n",
      "2346/2346 - 73s - loss: 2.2716 - accuracy: 0.2390 - val_loss: 2.1050 - val_accuracy: 0.3055 - 73s/epoch - 31ms/step\n",
      "Epoch 3/5\n",
      "2346/2346 - 72s - loss: 2.1589 - accuracy: 0.2760 - val_loss: 1.9548 - val_accuracy: 0.3488 - 72s/epoch - 31ms/step\n",
      "Epoch 4/5\n",
      "2346/2346 - 72s - loss: 2.0340 - accuracy: 0.3175 - val_loss: 1.7816 - val_accuracy: 0.4127 - 72s/epoch - 31ms/step\n",
      "Epoch 5/5\n",
      "2346/2346 - 72s - loss: 1.8992 - accuracy: 0.3617 - val_loss: 1.6223 - val_accuracy: 0.4609 - 72s/epoch - 31ms/step\n",
      "processing fold 2\n",
      "Epoch 1/5\n",
      "2346/2346 - 77s - loss: 1.7595 - accuracy: 0.4105 - val_loss: 1.4557 - val_accuracy: 0.5340 - 77s/epoch - 33ms/step\n",
      "Epoch 2/5\n",
      "2346/2346 - 70s - loss: 1.6367 - accuracy: 0.4483 - val_loss: 1.3050 - val_accuracy: 0.5809 - 70s/epoch - 30ms/step\n",
      "Epoch 3/5\n"
     ]
    }
   ],
   "source": [
    "import numpy as np \n",
    "from sklearn.model_selection import StratifiedKFold\n",
    "from sklearn.metrics import mean_absolute_error\n",
    "\n",
    "K=4\n",
    "num_val_samples = len(X_train_resampled)//K\n",
    "num_epochs = 5\n",
    "\n",
    "all_val_acc_10 = []\n",
    "all_val_loss_10 = []\n",
    "\n",
    "all_acc_10 = []\n",
    "all_loss_10 = []\n",
    "all_acc_history_10 = []\n",
    "all_loss_history_10 = []\n",
    "\n",
    "N_iterations=4\n",
    "N_folds=5\n",
    "        \n",
    "for i in range(N_iterations):\n",
    "    skf = StratifiedKFold(n_splits=N_folds, shuffle=True)\n",
    "    \n",
    "    for j, (train_index, val_index) in enumerate(skf.split(X_train_resampled, y_train_resampled)):\n",
    "        print('processing fold', j)\n",
    "        \n",
    "        partial_train_data = X_train_resampled[train_index]\n",
    "        val_data = X_train_resampled[val_index]\n",
    "        \n",
    "        partial_train_targets = y_train_resampled[train_index]\n",
    "        val_targets = y_train_resampled[val_index]\n",
    "        \n",
    "        # One-hot encode the target labels\n",
    "        partial_train_targets = to_categorical(partial_train_targets, num_classes=16)\n",
    "        val_targets = to_categorical(val_targets, num_classes=16)\n",
    "        \n",
    "        # Train the model \n",
    "        lstm_model_2.compile(loss=\"categorical_crossentropy\", optimizer=\"adam\", metrics=[\"accuracy\"])\n",
    "        lstm_model_2.fit(np.concatenate([partial_train_data, val_data]), np.concatenate([partial_train_targets, val_targets]), epochs=num_epochs, batch_size=10, verbose=2, validation_data = (val_data, val_targets))        \n",
    "        "
   ]
  },
  {
   "cell_type": "code",
   "execution_count": null,
   "id": "2f2a0504",
   "metadata": {},
   "outputs": [],
   "source": [
    "test_loss2, test_acc2 = lstm_model_2.evaluate(X_test_lstm_pad,\n",
    "                                          y_test_lstm_onehot)"
   ]
  },
  {
   "cell_type": "code",
   "execution_count": null,
   "id": "5a34fd41",
   "metadata": {},
   "outputs": [],
   "source": [
    "######################################    IGNORE FROM HERE    #####################################"
   ]
  },
  {
   "cell_type": "markdown",
   "id": "80d8f2ae",
   "metadata": {},
   "source": [
    "Optimizer\n",
    "\n",
    "For this project, we will be using Adam as our optimizer as it is a combination of the best properties of AdaGrad, RMSprop and momentum. \n",
    "\n",
    "In addition, Adam generally works well in training deep learning models and outperforms other adaptive techniques. "
   ]
  },
  {
   "cell_type": "markdown",
   "id": "9b6ed6d4",
   "metadata": {},
   "source": [
    "# Further improvements "
   ]
  },
  {
   "cell_type": "markdown",
   "id": "05571cae",
   "metadata": {},
   "source": [
    "# References\n",
    "\n",
    "https://stackoverflow.com/questions/53353785/difference-between-k-fold-and-iterated-k-fold-with-shuffling\n",
    "    \n",
    "    "
   ]
  },
  {
   "cell_type": "code",
   "execution_count": null,
   "id": "c746adc2",
   "metadata": {},
   "outputs": [],
   "source": []
  }
 ],
 "metadata": {
  "kernelspec": {
   "display_name": "Python 3 (ipykernel)",
   "language": "python",
   "name": "python3"
  },
  "language_info": {
   "codemirror_mode": {
    "name": "ipython",
    "version": 3
   },
   "file_extension": ".py",
   "mimetype": "text/x-python",
   "name": "python",
   "nbconvert_exporter": "python",
   "pygments_lexer": "ipython3",
   "version": "3.9.7"
  }
 },
 "nbformat": 4,
 "nbformat_minor": 5
}
